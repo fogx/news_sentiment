{
 "cells": [
  {
   "cell_type": "code",
   "execution_count": 14,
   "metadata": {
    "collapsed": true
   },
   "outputs": [],
   "source": [
    "import pandas as pd\n",
    "from utils.utils import get_project_root\n",
    "import matplotlib.pyplot as plt\n",
    "%matplotlib inline\n",
    "import seaborn as sns"
   ]
  },
  {
   "cell_type": "code",
   "execution_count": 5,
   "outputs": [
    {
     "data": {
      "text/plain": "                                           description  \\\n0    Die Essayistin und Schriftstellerin Joan Didio...   \n1    Heute schon Pigs Pigs Pigs Pigs Pigs Pigs Pigs...   \n2    Auf einer neuen Dating-Seite suchen Einsame, d...   \n3    Drehungen eines Unbelehrbaren: Nach Kritik an ...   \n4    Der Ethikrat befürwortet mehrheitlich eine all...   \n..                                                 ...   \n989  Das James Webb-Weltraumteleskop ist nach lan...   \n990  Das James Webb-Teleskop ist erfolgreich ins ...   \n991  Eine Studie des Universitätsklinikums Hamburg-...   \n992  Nach gut 30 Jahren Planung war es so weit: Ein...   \n993  Sind Raketenwissenschaftler und Hirnchirurgen ...   \n\n                                              filename  \\\n0    aktuell_feuilleton_buecher_autoren_schriftstel...   \n1    aktuell_feuilleton_buecher_rezensionen_sachbuc...   \n2    aktuell_feuilleton_dating-seite-fuer-impfgegne...   \n3    aktuell_feuilleton_debatten_frank-ulrich-montg...   \n4    aktuell_feuilleton_debatten_impfpflicht-jetzt-...   \n..                                                 ...   \n989  wissenschaft_video235866470_Hubble-Nachfolger-...   \n990  wissenschaft_video235869636_Weltraum-Teleskop-...   \n991  wissenschaft_video236043420_Studie-aus-Hamburg...   \n992  wissenschaft_weltall_james-webb-weltraumtelesk...   \n993  wissen_wissenschaft-raketen-hirnchirurgie-spra...   \n\n                                                 title  \\\n0    Schriftstellerin Joan Didion mit 87 Jahren ges...   \n1                 J.R. Moores' Buch Electric Wizards   \n2    Dating-Seite für Impfgegner: Die ungeimpfte Liebe   \n3    Frank Ulrich Montgomery verteidigt seine Richt...   \n4     Impfpflicht jetzt? Wir müssen miteinander reden!   \n..                                                 ...   \n989  Hubble-Nachfolger: Diese Fragen soll das Webb-...   \n990  Weltraum-Teleskop James Webb: Astronaut Walt...   \n991  Studie aus Hamburg: Organschäden auch bei mild...   \n992  James-Webb-Weltraumteleskop ist ins All gestartet   \n993                                Verklärte Forschung   \n\n                                            title_page  \\\n0    Schriftstellerin Joan Didion mit 87 Jahren ges...   \n1                 J.R. Moores' Buch Electric Wizards   \n2    Dating-Seite für Impfgegner: Die ungeimpfte Liebe   \n3    Frank Ulrich Montgomery verteidigt seine Richt...   \n4     Impfpflicht jetzt? Wir müssen miteinander reden!   \n..                                                 ...   \n989  Hubble-Nachfolger: Diese Fragen soll das Webb-...   \n990  Weltraum-Teleskop James Webb: Astronaut Walt...   \n991  Studie aus Hamburg: Organschäden auch bei mild...   \n992  James-Webb-Weltraumteleskop ist ins All gestar...   \n993               Verklärte Forschung - Wissen - SZ.de   \n\n                                             title_rss  \\\n0    Schriftstellerin Joan Didion mit 87 Jahren ges...   \n1                 J.R. Moores' Buch Electric Wizards   \n2    Unterwegs auf Impffrei:Love: Die ungeimpfte Liebe   \n3    Montgomerys Mätzchen: Ihr seid ja nur eifersüc...   \n4    Impfpflicht oder nicht: Wir müssen miteinander...   \n..                                                 ...   \n989  James Webb-Teleskop  Hubble-Nachfolger ins ...   \n990                    Da kann noch viel schiefgehen   \n991        Organschäden auch bei mildem Corona-Verlauf   \n992  James-Webb-Weltraumteleskop ist ins All gestartet   \n993   Wissenschaft: Überflieger sind auch nur Menschen   \n\n                                             text_main  \n0    Die Essayistin und Schriftstellerin Joan Didio...  \n1    Heute schon Pigs Pigs Pigs Pigs Pigs Pigs Pigs...  \n2    Die Menschen wollen lieben. Selbst die, die ha...  \n3    Ungern möchte man stören bei dem langen Lauf z...  \n4    Als am 1. Januar 2019 Heribert Prantl in seine...  \n..                                                 ...  \n989  Das James Webb-Weltraumteleskop ist nach lan...  \n990  Das James Webb-Teleskop ist erfolgreich ins ...  \n991  Eine Studie des Universitätsklinikums Hamburg-...  \n992  »Hubble«-Nachfolger Weltraumteleskop »James We...  \n993  Raketen, hier ein H-2A-Modell beim Start in Ja...  \n\n[994 rows x 6 columns]",
      "text/html": "<div>\n<style scoped>\n    .dataframe tbody tr th:only-of-type {\n        vertical-align: middle;\n    }\n\n    .dataframe tbody tr th {\n        vertical-align: top;\n    }\n\n    .dataframe thead th {\n        text-align: right;\n    }\n</style>\n<table border=\"1\" class=\"dataframe\">\n  <thead>\n    <tr style=\"text-align: right;\">\n      <th></th>\n      <th>description</th>\n      <th>filename</th>\n      <th>title</th>\n      <th>title_page</th>\n      <th>title_rss</th>\n      <th>text_main</th>\n    </tr>\n  </thead>\n  <tbody>\n    <tr>\n      <th>0</th>\n      <td>Die Essayistin und Schriftstellerin Joan Didio...</td>\n      <td>aktuell_feuilleton_buecher_autoren_schriftstel...</td>\n      <td>Schriftstellerin Joan Didion mit 87 Jahren ges...</td>\n      <td>Schriftstellerin Joan Didion mit 87 Jahren ges...</td>\n      <td>Schriftstellerin Joan Didion mit 87 Jahren ges...</td>\n      <td>Die Essayistin und Schriftstellerin Joan Didio...</td>\n    </tr>\n    <tr>\n      <th>1</th>\n      <td>Heute schon Pigs Pigs Pigs Pigs Pigs Pigs Pigs...</td>\n      <td>aktuell_feuilleton_buecher_rezensionen_sachbuc...</td>\n      <td>J.R. Moores' Buch Electric Wizards</td>\n      <td>J.R. Moores' Buch Electric Wizards</td>\n      <td>J.R. Moores' Buch Electric Wizards</td>\n      <td>Heute schon Pigs Pigs Pigs Pigs Pigs Pigs Pigs...</td>\n    </tr>\n    <tr>\n      <th>2</th>\n      <td>Auf einer neuen Dating-Seite suchen Einsame, d...</td>\n      <td>aktuell_feuilleton_dating-seite-fuer-impfgegne...</td>\n      <td>Dating-Seite für Impfgegner: Die ungeimpfte Liebe</td>\n      <td>Dating-Seite für Impfgegner: Die ungeimpfte Liebe</td>\n      <td>Unterwegs auf Impffrei:Love: Die ungeimpfte Liebe</td>\n      <td>Die Menschen wollen lieben. Selbst die, die ha...</td>\n    </tr>\n    <tr>\n      <th>3</th>\n      <td>Drehungen eines Unbelehrbaren: Nach Kritik an ...</td>\n      <td>aktuell_feuilleton_debatten_frank-ulrich-montg...</td>\n      <td>Frank Ulrich Montgomery verteidigt seine Richt...</td>\n      <td>Frank Ulrich Montgomery verteidigt seine Richt...</td>\n      <td>Montgomerys Mätzchen: Ihr seid ja nur eifersüc...</td>\n      <td>Ungern möchte man stören bei dem langen Lauf z...</td>\n    </tr>\n    <tr>\n      <th>4</th>\n      <td>Der Ethikrat befürwortet mehrheitlich eine all...</td>\n      <td>aktuell_feuilleton_debatten_impfpflicht-jetzt-...</td>\n      <td>Impfpflicht jetzt? Wir müssen miteinander reden!</td>\n      <td>Impfpflicht jetzt? Wir müssen miteinander reden!</td>\n      <td>Impfpflicht oder nicht: Wir müssen miteinander...</td>\n      <td>Als am 1. Januar 2019 Heribert Prantl in seine...</td>\n    </tr>\n    <tr>\n      <th>...</th>\n      <td>...</td>\n      <td>...</td>\n      <td>...</td>\n      <td>...</td>\n      <td>...</td>\n      <td>...</td>\n    </tr>\n    <tr>\n      <th>989</th>\n      <td>Das James Webb-Weltraumteleskop ist nach lan...</td>\n      <td>wissenschaft_video235866470_Hubble-Nachfolger-...</td>\n      <td>Hubble-Nachfolger: Diese Fragen soll das Webb-...</td>\n      <td>Hubble-Nachfolger: Diese Fragen soll das Webb-...</td>\n      <td>James Webb-Teleskop  Hubble-Nachfolger ins ...</td>\n      <td>Das James Webb-Weltraumteleskop ist nach lan...</td>\n    </tr>\n    <tr>\n      <th>990</th>\n      <td>Das James Webb-Teleskop ist erfolgreich ins ...</td>\n      <td>wissenschaft_video235869636_Weltraum-Teleskop-...</td>\n      <td>Weltraum-Teleskop James Webb: Astronaut Walt...</td>\n      <td>Weltraum-Teleskop James Webb: Astronaut Walt...</td>\n      <td>Da kann noch viel schiefgehen</td>\n      <td>Das James Webb-Teleskop ist erfolgreich ins ...</td>\n    </tr>\n    <tr>\n      <th>991</th>\n      <td>Eine Studie des Universitätsklinikums Hamburg-...</td>\n      <td>wissenschaft_video236043420_Studie-aus-Hamburg...</td>\n      <td>Studie aus Hamburg: Organschäden auch bei mild...</td>\n      <td>Studie aus Hamburg: Organschäden auch bei mild...</td>\n      <td>Organschäden auch bei mildem Corona-Verlauf</td>\n      <td>Eine Studie des Universitätsklinikums Hamburg-...</td>\n    </tr>\n    <tr>\n      <th>992</th>\n      <td>Nach gut 30 Jahren Planung war es so weit: Ein...</td>\n      <td>wissenschaft_weltall_james-webb-weltraumtelesk...</td>\n      <td>James-Webb-Weltraumteleskop ist ins All gestartet</td>\n      <td>James-Webb-Weltraumteleskop ist ins All gestar...</td>\n      <td>James-Webb-Weltraumteleskop ist ins All gestartet</td>\n      <td>»Hubble«-Nachfolger Weltraumteleskop »James We...</td>\n    </tr>\n    <tr>\n      <th>993</th>\n      <td>Sind Raketenwissenschaftler und Hirnchirurgen ...</td>\n      <td>wissen_wissenschaft-raketen-hirnchirurgie-spra...</td>\n      <td>Verklärte Forschung</td>\n      <td>Verklärte Forschung - Wissen - SZ.de</td>\n      <td>Wissenschaft: Überflieger sind auch nur Menschen</td>\n      <td>Raketen, hier ein H-2A-Modell beim Start in Ja...</td>\n    </tr>\n  </tbody>\n</table>\n<p>994 rows × 6 columns</p>\n</div>"
     },
     "execution_count": 5,
     "metadata": {},
     "output_type": "execute_result"
    }
   ],
   "source": [
    "path_to_data = get_project_root() / \"data\"\n",
    "df = pd.read_csv(path_to_data / \"df.csv\")\n",
    "# turn date columns into datetime format\n",
    "df[df.loc[:, df.columns.str.contains(\"date\")].columns] = df.loc[:, df.columns.str.contains(\"date\")].apply(\n",
    "    pd.to_datetime)\n",
    "# turn language and source_domain into categoricals\n",
    "df[[\"language\", \"source_domain\"]] = df[[\"language\", \"source_domain\"]].astype(\"category\")\n",
    "# convert text-columns into text (from object\n",
    "df[[\"description\", \"filename\", \"title\", \"title_page\", \"title_rss\", \"text_main\"]].astype(\"str\")"
   ],
   "metadata": {
    "collapsed": false,
    "pycharm": {
     "name": "#%%\n"
    }
   }
  },
  {
   "cell_type": "code",
   "execution_count": 12,
   "outputs": [
    {
     "name": "stdout",
     "output_type": "stream",
     "text": [
      "2022-01-08 12:03:57,660 loading file C:\\Users\\LeonWolf\\.flair\\models\\ner-german-large\\6b8de9edd73722050be2547acf64c037b2df833c6e8f0e88934de08385e26c1e.4b0797effcc6ebb1889d5d29784b97f0a099c1569b319d87d7c387e44e2bba48\n"
     ]
    },
    {
     "data": {
      "text/plain": "                                                 title  \\\n0    Schriftstellerin Joan Didion mit 87 Jahren ges...   \n1                 J.R. Moores' Buch \"Electric Wizards\"   \n2    Dating-Seite für Impfgegner: Die ungeimpfte Liebe   \n3    Frank Ulrich Montgomery verteidigt seine Richt...   \n4     Impfpflicht jetzt? Wir müssen miteinander reden!   \n..                                                 ...   \n989  Hubble-Nachfolger: Diese Fragen soll das Webb-...   \n990  Weltraum-Teleskop \"James Webb\": Astronaut Walt...   \n991  Studie aus Hamburg: Organschäden auch bei mild...   \n992  James-Webb-Weltraumteleskop ist ins All gestartet   \n993                                Verklärte Forschung   \n\n                                        title_entities  \\\n0    [{'text': 'Schriftstellerin Joan Didion mit 87...   \n1    [{'text': 'J.R. Moores' Buch „Electric Wizards...   \n2    [{'text': 'Dating-Seite für Impfgegner: Die un...   \n3    [{'text': 'Frank Ulrich Montgomery verteidigt ...   \n4    [{'text': 'Impfpflicht jetzt? Wir müssen mitei...   \n..                                                 ...   \n989  [{'text': 'Hubble-Nachfolger: Diese Fragen sol...   \n990  [{'text': 'Weltraum-Teleskop „James Webb“: Ast...   \n991  [{'text': 'Studie aus Hamburg: Organschäden au...   \n992  [{'text': 'James-Webb-Weltraumteleskop ist ins...   \n993  [{'text': 'Verklärte Forschung', 'labels': [],...   \n\n                                           description  \\\n0    Die Essayistin und Schriftstellerin Joan Didio...   \n1    Heute schon Pigs Pigs Pigs Pigs Pigs Pigs Pigs...   \n2    Auf einer neuen Dating-Seite suchen Einsame, d...   \n3    Drehungen eines Unbelehrbaren: Nach Kritik an ...   \n4    Der Ethikrat befürwortet mehrheitlich eine all...   \n..                                                 ...   \n989  Das \"James Webb\"-Weltraumteleskop ist nach lan...   \n990  Das \"James Webb\"-Teleskop ist erfolgreich ins ...   \n991  Eine Studie des Universitätsklinikums Hamburg-...   \n992  Nach gut 30 Jahren Planung war es so weit: Ein...   \n993  Sind Raketenwissenschaftler und Hirnchirurgen ...   \n\n                                  description_entities  \\\n0    [{'text': 'Die Essayistin und Schriftstellerin...   \n1    [{'text': 'Heute schon Pigs Pigs Pigs Pigs Pig...   \n2    [{'text': 'Auf einer neuen Dating-Seite suchen...   \n3    [{'text': 'Drehungen eines Unbelehrbaren: Nach...   \n4    [{'text': 'Der Ethikrat befürwortet mehrheitli...   \n..                                                 ...   \n989  [{'text': 'Das „James Webb“-Weltraumteleskop i...   \n990  [{'text': 'Das „James Webb“-Teleskop ist erfol...   \n991  [{'text': 'Eine Studie des Universitätskliniku...   \n992  [{'text': 'Nach gut 30 Jahren Planung war es s...   \n993  [{'text': 'Sind Raketenwissenschaftler und Hir...   \n\n                                             text_main  \\\n0    Die Essayistin und Schriftstellerin Joan Didio...   \n1    Heute schon Pigs Pigs Pigs Pigs Pigs Pigs Pigs...   \n2    Die Menschen wollen lieben. Selbst die, die ha...   \n3    Ungern möchte man stören bei dem langen Lauf z...   \n4    Als am 1. Januar 2019 Heribert Prantl in seine...   \n..                                                 ...   \n989  Das \"James Webb\"-Weltraumteleskop ist nach lan...   \n990  Das \"James Webb\"-Teleskop ist erfolgreich ins ...   \n991  Eine Studie des Universitätsklinikums Hamburg-...   \n992  »Hubble«-Nachfolger Weltraumteleskop »James We...   \n993  Raketen, hier ein H-2A-Modell beim Start in Ja...   \n\n                                    text_main_entities  \n0    [{'text': 'Die Essayistin und Schriftstellerin...  \n1    [{'text': 'Heute schon Pigs Pigs Pigs Pigs Pig...  \n2    [{'text': 'Die Menschen wollen lieben. Selbst ...  \n3    [{'text': 'Ungern möchte man stören bei dem la...  \n4    [{'text': 'Als am 1. Januar 2019 Heribert Pran...  \n..                                                 ...  \n989  [{'text': 'Das „James Webb“-Weltraumteleskop i...  \n990  [{'text': 'Das „James Webb“-Teleskop ist erfol...  \n991  [{'text': 'Eine Studie des Universitätskliniku...  \n992  [{'text': '»Hubble«-Nachfolger Weltraumtelesko...  \n993  [{'text': 'Raketen, hier ein H-2A-Modell beim ...  \n\n[994 rows x 6 columns]",
      "text/html": "<div>\n<style scoped>\n    .dataframe tbody tr th:only-of-type {\n        vertical-align: middle;\n    }\n\n    .dataframe tbody tr th {\n        vertical-align: top;\n    }\n\n    .dataframe thead th {\n        text-align: right;\n    }\n</style>\n<table border=\"1\" class=\"dataframe\">\n  <thead>\n    <tr style=\"text-align: right;\">\n      <th></th>\n      <th>title</th>\n      <th>title_entities</th>\n      <th>description</th>\n      <th>description_entities</th>\n      <th>text_main</th>\n      <th>text_main_entities</th>\n    </tr>\n  </thead>\n  <tbody>\n    <tr>\n      <th>0</th>\n      <td>Schriftstellerin Joan Didion mit 87 Jahren ges...</td>\n      <td>[{'text': 'Schriftstellerin Joan Didion mit 87...</td>\n      <td>Die Essayistin und Schriftstellerin Joan Didio...</td>\n      <td>[{'text': 'Die Essayistin und Schriftstellerin...</td>\n      <td>Die Essayistin und Schriftstellerin Joan Didio...</td>\n      <td>[{'text': 'Die Essayistin und Schriftstellerin...</td>\n    </tr>\n    <tr>\n      <th>1</th>\n      <td>J.R. Moores' Buch \"Electric Wizards\"</td>\n      <td>[{'text': 'J.R. Moores' Buch „Electric Wizards...</td>\n      <td>Heute schon Pigs Pigs Pigs Pigs Pigs Pigs Pigs...</td>\n      <td>[{'text': 'Heute schon Pigs Pigs Pigs Pigs Pig...</td>\n      <td>Heute schon Pigs Pigs Pigs Pigs Pigs Pigs Pigs...</td>\n      <td>[{'text': 'Heute schon Pigs Pigs Pigs Pigs Pig...</td>\n    </tr>\n    <tr>\n      <th>2</th>\n      <td>Dating-Seite für Impfgegner: Die ungeimpfte Liebe</td>\n      <td>[{'text': 'Dating-Seite für Impfgegner: Die un...</td>\n      <td>Auf einer neuen Dating-Seite suchen Einsame, d...</td>\n      <td>[{'text': 'Auf einer neuen Dating-Seite suchen...</td>\n      <td>Die Menschen wollen lieben. Selbst die, die ha...</td>\n      <td>[{'text': 'Die Menschen wollen lieben. Selbst ...</td>\n    </tr>\n    <tr>\n      <th>3</th>\n      <td>Frank Ulrich Montgomery verteidigt seine Richt...</td>\n      <td>[{'text': 'Frank Ulrich Montgomery verteidigt ...</td>\n      <td>Drehungen eines Unbelehrbaren: Nach Kritik an ...</td>\n      <td>[{'text': 'Drehungen eines Unbelehrbaren: Nach...</td>\n      <td>Ungern möchte man stören bei dem langen Lauf z...</td>\n      <td>[{'text': 'Ungern möchte man stören bei dem la...</td>\n    </tr>\n    <tr>\n      <th>4</th>\n      <td>Impfpflicht jetzt? Wir müssen miteinander reden!</td>\n      <td>[{'text': 'Impfpflicht jetzt? Wir müssen mitei...</td>\n      <td>Der Ethikrat befürwortet mehrheitlich eine all...</td>\n      <td>[{'text': 'Der Ethikrat befürwortet mehrheitli...</td>\n      <td>Als am 1. Januar 2019 Heribert Prantl in seine...</td>\n      <td>[{'text': 'Als am 1. Januar 2019 Heribert Pran...</td>\n    </tr>\n    <tr>\n      <th>...</th>\n      <td>...</td>\n      <td>...</td>\n      <td>...</td>\n      <td>...</td>\n      <td>...</td>\n      <td>...</td>\n    </tr>\n    <tr>\n      <th>989</th>\n      <td>Hubble-Nachfolger: Diese Fragen soll das Webb-...</td>\n      <td>[{'text': 'Hubble-Nachfolger: Diese Fragen sol...</td>\n      <td>Das \"James Webb\"-Weltraumteleskop ist nach lan...</td>\n      <td>[{'text': 'Das „James Webb“-Weltraumteleskop i...</td>\n      <td>Das \"James Webb\"-Weltraumteleskop ist nach lan...</td>\n      <td>[{'text': 'Das „James Webb“-Weltraumteleskop i...</td>\n    </tr>\n    <tr>\n      <th>990</th>\n      <td>Weltraum-Teleskop \"James Webb\": Astronaut Walt...</td>\n      <td>[{'text': 'Weltraum-Teleskop „James Webb“: Ast...</td>\n      <td>Das \"James Webb\"-Teleskop ist erfolgreich ins ...</td>\n      <td>[{'text': 'Das „James Webb“-Teleskop ist erfol...</td>\n      <td>Das \"James Webb\"-Teleskop ist erfolgreich ins ...</td>\n      <td>[{'text': 'Das „James Webb“-Teleskop ist erfol...</td>\n    </tr>\n    <tr>\n      <th>991</th>\n      <td>Studie aus Hamburg: Organschäden auch bei mild...</td>\n      <td>[{'text': 'Studie aus Hamburg: Organschäden au...</td>\n      <td>Eine Studie des Universitätsklinikums Hamburg-...</td>\n      <td>[{'text': 'Eine Studie des Universitätskliniku...</td>\n      <td>Eine Studie des Universitätsklinikums Hamburg-...</td>\n      <td>[{'text': 'Eine Studie des Universitätskliniku...</td>\n    </tr>\n    <tr>\n      <th>992</th>\n      <td>James-Webb-Weltraumteleskop ist ins All gestartet</td>\n      <td>[{'text': 'James-Webb-Weltraumteleskop ist ins...</td>\n      <td>Nach gut 30 Jahren Planung war es so weit: Ein...</td>\n      <td>[{'text': 'Nach gut 30 Jahren Planung war es s...</td>\n      <td>»Hubble«-Nachfolger Weltraumteleskop »James We...</td>\n      <td>[{'text': '»Hubble«-Nachfolger Weltraumtelesko...</td>\n    </tr>\n    <tr>\n      <th>993</th>\n      <td>Verklärte Forschung</td>\n      <td>[{'text': 'Verklärte Forschung', 'labels': [],...</td>\n      <td>Sind Raketenwissenschaftler und Hirnchirurgen ...</td>\n      <td>[{'text': 'Sind Raketenwissenschaftler und Hir...</td>\n      <td>Raketen, hier ein H-2A-Modell beim Start in Ja...</td>\n      <td>[{'text': 'Raketen, hier ein H-2A-Modell beim ...</td>\n    </tr>\n  </tbody>\n</table>\n<p>994 rows × 6 columns</p>\n</div>"
     },
     "execution_count": 12,
     "metadata": {},
     "output_type": "execute_result"
    }
   ],
   "source": [
    "import math\n",
    "from flair.data import Sentence\n",
    "from flair.models import SequenceTagger\n",
    "\n",
    "# load tagger\n",
    "# WARNING - 2.24 GB model size!\n",
    "tagger = SequenceTagger.load(\"flair/ner-german-large\")\n",
    "articles = {\"texts\": df[[\"title\", \"title_page\", \"title_rss\", \"description\", \"text_main\"]]}\n",
    "entities = []\n",
    "for article in [x[1] for x in articles[\"texts\"].iterrows()]:\n",
    "    entity = {}\n",
    "    for k in [\"title\", \"description\", \"text_main\"]:\n",
    "        try:\n",
    "            entity[k] = str(article[k]).replace(\"\\x84\", '\"').replace(\"\\x93\", '\"')\n",
    "            chunks = [article[k]]\n",
    "            if len(article[k]) > 512:\n",
    "                # brute-force chunk the article\n",
    "                chunks = [article[k][512 * (x - 1):512 * x] for x in range(1, math.ceil(len(article[k]) / 512))]\n",
    "            chunks_ner = []\n",
    "            for chunk in chunks:\n",
    "                sentence = Sentence(chunk)\n",
    "                tagger.predict(sentence)\n",
    "                chunks_ner.append(sentence.to_dict(tag_type='ner'))\n",
    "            entity[k + \"_entities\"] = chunks_ner\n",
    "        except:\n",
    "            pass\n",
    "    entities.append(entity)\n",
    "ent = pd.DataFrame(entities)\n",
    "# ent.to_csv(\"entities.csv\")\n",
    "ent"
   ],
   "metadata": {
    "collapsed": false,
    "pycharm": {
     "name": "#%%\n"
    }
   }
  },
  {
   "cell_type": "code",
   "execution_count": 13,
   "outputs": [],
   "source": [
    "ent.to_csv(\"entities.csv\")"
   ],
   "metadata": {
    "collapsed": false,
    "pycharm": {
     "name": "#%%\n"
    }
   }
  },
  {
   "cell_type": "code",
   "execution_count": 11,
   "outputs": [
    {
     "data": {
      "text/plain": "[{'text': 'Die Essayistin und Schriftstellerin Joan Didion ist gestorben. Sie gehörte zu den wichtigsten Vertretern des amerikanischen „New Journalism“. Die Essayistin und Schriftstellerin Joan Didion ist tot. Sie starb am Donnerstag im Alter von 87 Jahren in ihrem Haus in Manhattan, wie ihr Verleger mitteilte. Didion schenkte dem amerikanischen Roman einen unverwechselbaren Ton. Neben Tom Wolfe, Truman Capote und Norman Mailer gehörte sie zu den berühmtesten Vertretern des „New Journalism“, einer radikal subjektiven,',\n  'labels': [],\n  'entities': [{'text': 'Joan Didion',\n    'start_pos': 36,\n    'end_pos': 47,\n    'labels': [PER (1.0)]},\n   {'text': 'Joan Didion',\n    'start_pos': 178,\n    'end_pos': 189,\n    'labels': [PER (1.0)]},\n   {'text': 'Manhattan',\n    'start_pos': 263,\n    'end_pos': 272,\n    'labels': [LOC (1.0)]},\n   {'text': 'Didion', 'start_pos': 302, 'end_pos': 308, 'labels': [PER (1.0)]},\n   {'text': 'Tom Wolfe',\n    'start_pos': 378,\n    'end_pos': 387,\n    'labels': [PER (1.0)]},\n   {'text': 'Truman Capote',\n    'start_pos': 389,\n    'end_pos': 402,\n    'labels': [PER (1.0)]},\n   {'text': 'Norman Mailer',\n    'start_pos': 407,\n    'end_pos': 420,\n    'labels': [PER (1.0)]}]},\n {'text': ' manchmal rauen, sehr offenen Art des Berichtens. Didion wurde 1934 in Sacramento geboren. Ihr Vater arbeitete für die US-Armee und die Familie zog häufig um, hauptsächlich innerhalb Kaliforniens. Didion studierte in Berkeley und zog dann nach New York, wo sie ihren späteren Ehemann, den Autor John Gregory Dunne kennenlernte. Ihre journalistische Arbeit begann sie in den sechziger Jahren. Sie schrieb für die „Vogue“, wurde zunehmend politischer, beschäftigte sich mit der Hippiebewegung, mit emanzipatorische',\n  'labels': [],\n  'entities': [{'text': 'Didion',\n    'start_pos': 50,\n    'end_pos': 56,\n    'labels': [PER (1.0)]},\n   {'text': 'Sacramento',\n    'start_pos': 71,\n    'end_pos': 81,\n    'labels': [LOC (1.0)]},\n   {'text': 'US-Armee',\n    'start_pos': 119,\n    'end_pos': 127,\n    'labels': [ORG (0.9999)]},\n   {'text': 'Kaliforniens',\n    'start_pos': 183,\n    'end_pos': 195,\n    'labels': [LOC (1.0)]},\n   {'text': 'Didion', 'start_pos': 197, 'end_pos': 203, 'labels': [PER (1.0)]},\n   {'text': 'Berkeley',\n    'start_pos': 217,\n    'end_pos': 225,\n    'labels': [LOC (0.9623)]},\n   {'text': 'New York',\n    'start_pos': 244,\n    'end_pos': 252,\n    'labels': [LOC (1.0)]},\n   {'text': 'John Gregory Dunne',\n    'start_pos': 295,\n    'end_pos': 313,\n    'labels': [PER (1.0)]},\n   {'text': 'Vogue',\n    'start_pos': 413,\n    'end_pos': 418,\n    'labels': [ORG (1.0)]}]},\n {'text': 'n Strömungen, besuchte Filmpremieren und begleitete Wahlkämpfe. Oft zog es sie an Orte der Unruhe, über die sie zeitgeschichtlich aufschlussreiche Essays schrieb. Die Erzählerin war immer wieder eine aktive Protagonistin ihrer Geschichten. In „Spiel dein Spiel“ beschäftigte sie sich schonungslos mit der radikalen Konsumgesellschaft Kaliforniens. In ihrem Essayband „Das Weiße Album“, in dem sie Kalifornien immer wieder als „weltweite Hauptstadt der Paranoia“ bezeichnete, beschrieb sie einen Aufenthalt in ein',\n  'labels': [],\n  'entities': [{'text': 'Spiel dein Spiel',\n    'start_pos': 244,\n    'end_pos': 260,\n    'labels': [MISC (0.9999)]},\n   {'text': 'Kaliforniens',\n    'start_pos': 334,\n    'end_pos': 346,\n    'labels': [LOC (1.0)]},\n   {'text': 'Das Weiße Album',\n    'start_pos': 368,\n    'end_pos': 383,\n    'labels': [MISC (1.0)]},\n   {'text': 'Kalifornien',\n    'start_pos': 397,\n    'end_pos': 408,\n    'labels': [LOC (1.0)]}]},\n {'text': 'er Klinik für psychisch Kranke in Santa Monica. Mehr zum Thema 1/ In den Siebziger Jahren lebte sie mit ihrem Mann im kalifornischen Malibu, schrieb Kolumnen, Romane und Drehbücher. Nach dem Tod Dunnes, mit dem sie beinahe vierzig Jahre zusammen war, begann sie, ihre Trauer und ihren Schmerz brutal offen zu beschreiben und zu analysieren. „Das Jahr des magischen Denkens“ (2005), in dem sie den Tod ihres Gefährten und die lebensbedrohende Krankheit ihrer Adoptivtochter literarisch verarbeitete, gewann den Na',\n  'labels': [],\n  'entities': [{'text': 'Santa Monica',\n    'start_pos': 34,\n    'end_pos': 46,\n    'labels': [LOC (1.0)]},\n   {'text': 'Malibu', 'start_pos': 133, 'end_pos': 139, 'labels': [LOC (1.0)]},\n   {'text': 'Dunnes', 'start_pos': 195, 'end_pos': 201, 'labels': [PER (1.0)]},\n   {'text': 'Das Jahr des magischen Denkens',\n    'start_pos': 342,\n    'end_pos': 372,\n    'labels': [MISC (0.9996)]}]},\n {'text': 'tional Book Award und gehört zu den bekanntesten ihrer Werke. Ihre Texte verstrickten oft Erinnerungen, Beobachtungen und Analysen miteinander, und ihre schreiberische Kraft wurde gemeinhin auch für das gepriesen, was nicht gesagt oder beschrieben, sondern subtil, beinahe beiläufig aufgezeigt wurde. Ihr Blick auf die Wirklichkeit war skeptisch. Ihre letzten Jahre verbrachte Didion in New York. Sie war an Parkinson erkrankt. „Joan war eine brillante Beobachterin und Zuhörerin, die weise und subtil Wahrheiten',\n  'labels': [],\n  'entities': [{'text': 'tional Book Award',\n    'start_pos': 0,\n    'end_pos': 17,\n    'labels': [MISC (0.9493)]},\n   {'text': 'Didion', 'start_pos': 377, 'end_pos': 383, 'labels': [PER (1.0)]},\n   {'text': 'New York',\n    'start_pos': 387,\n    'end_pos': 395,\n    'labels': [LOC (1.0)]},\n   {'text': 'Parkinson',\n    'start_pos': 408,\n    'end_pos': 417,\n    'labels': [MISC (0.9985)]},\n   {'text': 'Joan', 'start_pos': 429, 'end_pos': 433, 'labels': [PER (1.0)]}]}]"
     },
     "execution_count": 11,
     "metadata": {},
     "output_type": "execute_result"
    }
   ],
   "source": [
    "ent[\"text_main_entities\"][0]"
   ],
   "metadata": {
    "collapsed": false,
    "pycharm": {
     "name": "#%%\n"
    }
   }
  }
 ],
 "metadata": {
  "kernelspec": {
   "display_name": "Python 3",
   "language": "python",
   "name": "python3"
  },
  "language_info": {
   "codemirror_mode": {
    "name": "ipython",
    "version": 2
   },
   "file_extension": ".py",
   "mimetype": "text/x-python",
   "name": "python",
   "nbconvert_exporter": "python",
   "pygments_lexer": "ipython2",
   "version": "2.7.6"
  }
 },
 "nbformat": 4,
 "nbformat_minor": 0
}