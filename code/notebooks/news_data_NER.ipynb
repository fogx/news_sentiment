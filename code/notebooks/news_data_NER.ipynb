{
 "cells": [
  {
   "cell_type": "code",
   "execution_count": 9,
   "metadata": {
    "collapsed": true
   },
   "outputs": [],
   "source": [
    "import re\n",
    "import numpy as np\n",
    "import pandas as pd\n",
    "from utils.utils import get_project_root\n",
    "import matplotlib.pyplot as plt\n",
    "import seaborn as sns\n",
    "\n",
    "%matplotlib inline\n"
   ]
  },
  {
   "cell_type": "code",
   "execution_count": 10,
   "outputs": [
    {
     "data": {
      "text/plain": "                                            description  \\\n0     Die Essayistin und Schriftstellerin Joan Didio...   \n1     Heute schon Pigs Pigs Pigs Pigs Pigs Pigs Pigs...   \n2     Auf einer neuen Dating-Seite suchen Einsame, d...   \n3     Drehungen eines Unbelehrbaren: Nach Kritik an ...   \n4     Der Ethikrat befürwortet mehrheitlich eine all...   \n...                                                 ...   \n1252  Das \"James Webb\"-Teleskop ist erfolgreich ins ...   \n1253  Eine Studie des Universitätsklinikums Hamburg-...   \n1254  Von Französisch-Guayana ins All: Das Weltraumt...   \n1255  Nach gut 30 Jahren Planung war es so weit: Ein...   \n1256  Sind Raketenwissenschaftler und Hirnchirurgen ...   \n\n                                               filename  \\\n0     aktuell_feuilleton_buecher_autoren_schriftstel...   \n1     aktuell_feuilleton_buecher_rezensionen_sachbuc...   \n2     aktuell_feuilleton_dating-seite-fuer-impfgegne...   \n3     aktuell_feuilleton_debatten_frank-ulrich-montg...   \n4     aktuell_feuilleton_debatten_impfpflicht-jetzt-...   \n...                                                 ...   \n1252  wissenschaft_video235869636_Weltraum-Teleskop-...   \n1253  wissenschaft_video236043420_Studie-aus-Hamburg...   \n1254  wissenschaft_weltall_james-webb-startet-seine-...   \n1255  wissenschaft_weltall_james-webb-weltraumtelesk...   \n1256  wissen_wissenschaft-raketen-hirnchirurgie-spra...   \n\n                                                  title  \\\n0     Schriftstellerin Joan Didion mit 87 Jahren ges...   \n1                  J.R. Moores' Buch \"Electric Wizards\"   \n2     Dating-Seite für Impfgegner: Die ungeimpfte Liebe   \n3     Frank Ulrich Montgomery verteidigt seine Richt...   \n4      Impfpflicht jetzt? Wir müssen miteinander reden!   \n...                                                 ...   \n1252  Weltraum-Teleskop \"James Webb\": Astronaut Walt...   \n1253  Studie aus Hamburg: Organschäden auch bei mild...   \n1254                 \"James Webb\" startet seine Mission   \n1255  James-Webb-Weltraumteleskop ist ins All gestartet   \n1256                                Verklärte Forschung   \n\n                                             title_page  \\\n0     Schriftstellerin Joan Didion mit 87 Jahren ges...   \n1                  J.R. Moores' Buch \"Electric Wizards\"   \n2     Dating-Seite für Impfgegner: Die ungeimpfte Liebe   \n3     Frank Ulrich Montgomery verteidigt seine Richt...   \n4      Impfpflicht jetzt? Wir müssen miteinander reden!   \n...                                                 ...   \n1252  Weltraum-Teleskop \"James Webb\": Astronaut Walt...   \n1253  Studie aus Hamburg: Organschäden auch bei mild...   \n1254   »James Webb« startet seine Mission - DER SPIEGEL   \n1255  James-Webb-Weltraumteleskop ist ins All gestar...   \n1256               Verklärte Forschung - Wissen - SZ.de   \n\n                                              title_rss  \\\n0     Schriftstellerin Joan Didion mit 87 Jahren ges...   \n1                  J.R. Moores' Buch \"Electric Wizards\"   \n2     Unterwegs auf Impffrei:Love: Die ungeimpfte Liebe   \n3     Montgomerys Mätzchen: Ihr seid ja nur eifersüc...   \n4     Impfpflicht oder nicht: Wir müssen miteinander...   \n...                                                 ...   \n1252                    \"Da kann noch viel schiefgehen\"   \n1253        Organschäden auch bei mildem Corona-Verlauf   \n1254                 »James Webb« startet seine Mission   \n1255  James-Webb-Weltraumteleskop ist ins All gestartet   \n1256   Wissenschaft: Überflieger sind auch nur Menschen   \n\n                                              text_main  \n0     Die Essayistin und Schriftstellerin Joan Didio...  \n1     Heute schon Pigs Pigs Pigs Pigs Pigs Pigs Pigs...  \n2     Die Menschen wollen lieben. Selbst die, die ha...  \n3     Ungern möchte man stören bei dem langen Lauf z...  \n4     Als am 1. Januar 2019 Heribert Prantl in seine...  \n...                                                 ...  \n1252  Das \"James Webb\"-Teleskop ist erfolgreich ins ...  \n1253  Eine Studie des Universitätsklinikums Hamburg-...  \n1254                                                nan  \n1255  »Hubble«-Nachfolger Weltraumteleskop »James We...  \n1256  Raketen, hier ein H-2A-Modell beim Start in Ja...  \n\n[1257 rows x 6 columns]",
      "text/html": "<div>\n<style scoped>\n    .dataframe tbody tr th:only-of-type {\n        vertical-align: middle;\n    }\n\n    .dataframe tbody tr th {\n        vertical-align: top;\n    }\n\n    .dataframe thead th {\n        text-align: right;\n    }\n</style>\n<table border=\"1\" class=\"dataframe\">\n  <thead>\n    <tr style=\"text-align: right;\">\n      <th></th>\n      <th>description</th>\n      <th>filename</th>\n      <th>title</th>\n      <th>title_page</th>\n      <th>title_rss</th>\n      <th>text_main</th>\n    </tr>\n  </thead>\n  <tbody>\n    <tr>\n      <th>0</th>\n      <td>Die Essayistin und Schriftstellerin Joan Didio...</td>\n      <td>aktuell_feuilleton_buecher_autoren_schriftstel...</td>\n      <td>Schriftstellerin Joan Didion mit 87 Jahren ges...</td>\n      <td>Schriftstellerin Joan Didion mit 87 Jahren ges...</td>\n      <td>Schriftstellerin Joan Didion mit 87 Jahren ges...</td>\n      <td>Die Essayistin und Schriftstellerin Joan Didio...</td>\n    </tr>\n    <tr>\n      <th>1</th>\n      <td>Heute schon Pigs Pigs Pigs Pigs Pigs Pigs Pigs...</td>\n      <td>aktuell_feuilleton_buecher_rezensionen_sachbuc...</td>\n      <td>J.R. Moores' Buch \"Electric Wizards\"</td>\n      <td>J.R. Moores' Buch \"Electric Wizards\"</td>\n      <td>J.R. Moores' Buch \"Electric Wizards\"</td>\n      <td>Heute schon Pigs Pigs Pigs Pigs Pigs Pigs Pigs...</td>\n    </tr>\n    <tr>\n      <th>2</th>\n      <td>Auf einer neuen Dating-Seite suchen Einsame, d...</td>\n      <td>aktuell_feuilleton_dating-seite-fuer-impfgegne...</td>\n      <td>Dating-Seite für Impfgegner: Die ungeimpfte Liebe</td>\n      <td>Dating-Seite für Impfgegner: Die ungeimpfte Liebe</td>\n      <td>Unterwegs auf Impffrei:Love: Die ungeimpfte Liebe</td>\n      <td>Die Menschen wollen lieben. Selbst die, die ha...</td>\n    </tr>\n    <tr>\n      <th>3</th>\n      <td>Drehungen eines Unbelehrbaren: Nach Kritik an ...</td>\n      <td>aktuell_feuilleton_debatten_frank-ulrich-montg...</td>\n      <td>Frank Ulrich Montgomery verteidigt seine Richt...</td>\n      <td>Frank Ulrich Montgomery verteidigt seine Richt...</td>\n      <td>Montgomerys Mätzchen: Ihr seid ja nur eifersüc...</td>\n      <td>Ungern möchte man stören bei dem langen Lauf z...</td>\n    </tr>\n    <tr>\n      <th>4</th>\n      <td>Der Ethikrat befürwortet mehrheitlich eine all...</td>\n      <td>aktuell_feuilleton_debatten_impfpflicht-jetzt-...</td>\n      <td>Impfpflicht jetzt? Wir müssen miteinander reden!</td>\n      <td>Impfpflicht jetzt? Wir müssen miteinander reden!</td>\n      <td>Impfpflicht oder nicht: Wir müssen miteinander...</td>\n      <td>Als am 1. Januar 2019 Heribert Prantl in seine...</td>\n    </tr>\n    <tr>\n      <th>...</th>\n      <td>...</td>\n      <td>...</td>\n      <td>...</td>\n      <td>...</td>\n      <td>...</td>\n      <td>...</td>\n    </tr>\n    <tr>\n      <th>1252</th>\n      <td>Das \"James Webb\"-Teleskop ist erfolgreich ins ...</td>\n      <td>wissenschaft_video235869636_Weltraum-Teleskop-...</td>\n      <td>Weltraum-Teleskop \"James Webb\": Astronaut Walt...</td>\n      <td>Weltraum-Teleskop \"James Webb\": Astronaut Walt...</td>\n      <td>\"Da kann noch viel schiefgehen\"</td>\n      <td>Das \"James Webb\"-Teleskop ist erfolgreich ins ...</td>\n    </tr>\n    <tr>\n      <th>1253</th>\n      <td>Eine Studie des Universitätsklinikums Hamburg-...</td>\n      <td>wissenschaft_video236043420_Studie-aus-Hamburg...</td>\n      <td>Studie aus Hamburg: Organschäden auch bei mild...</td>\n      <td>Studie aus Hamburg: Organschäden auch bei mild...</td>\n      <td>Organschäden auch bei mildem Corona-Verlauf</td>\n      <td>Eine Studie des Universitätsklinikums Hamburg-...</td>\n    </tr>\n    <tr>\n      <th>1254</th>\n      <td>Von Französisch-Guayana ins All: Das Weltraumt...</td>\n      <td>wissenschaft_weltall_james-webb-startet-seine-...</td>\n      <td>\"James Webb\" startet seine Mission</td>\n      <td>»James Webb« startet seine Mission - DER SPIEGEL</td>\n      <td>»James Webb« startet seine Mission</td>\n      <td>nan</td>\n    </tr>\n    <tr>\n      <th>1255</th>\n      <td>Nach gut 30 Jahren Planung war es so weit: Ein...</td>\n      <td>wissenschaft_weltall_james-webb-weltraumtelesk...</td>\n      <td>James-Webb-Weltraumteleskop ist ins All gestartet</td>\n      <td>James-Webb-Weltraumteleskop ist ins All gestar...</td>\n      <td>James-Webb-Weltraumteleskop ist ins All gestartet</td>\n      <td>»Hubble«-Nachfolger Weltraumteleskop »James We...</td>\n    </tr>\n    <tr>\n      <th>1256</th>\n      <td>Sind Raketenwissenschaftler und Hirnchirurgen ...</td>\n      <td>wissen_wissenschaft-raketen-hirnchirurgie-spra...</td>\n      <td>Verklärte Forschung</td>\n      <td>Verklärte Forschung - Wissen - SZ.de</td>\n      <td>Wissenschaft: Überflieger sind auch nur Menschen</td>\n      <td>Raketen, hier ein H-2A-Modell beim Start in Ja...</td>\n    </tr>\n  </tbody>\n</table>\n<p>1257 rows × 6 columns</p>\n</div>"
     },
     "execution_count": 10,
     "metadata": {},
     "output_type": "execute_result"
    }
   ],
   "source": [
    "path_to_data = get_project_root() / \"data\"\n",
    "df = pd.read_csv(path_to_data / \"df.csv\")\n",
    "# turn date columns into datetime format\n",
    "df[df.loc[:, df.columns.str.contains(\"date\")].columns] = df.loc[:, df.columns.str.contains(\"date\")].apply(\n",
    "    pd.to_datetime)\n",
    "# turn language and source_domain into categoricals\n",
    "df[[\"language\", \"source_domain\"]] = df[[\"language\", \"source_domain\"]].astype(\"category\")\n",
    "# convert text-columns into text (from object\n",
    "df[[\"description\", \"filename\", \"title\", \"title_page\", \"title_rss\", \"text_main\"]].astype(\"str\")"
   ],
   "metadata": {
    "collapsed": false,
    "pycharm": {
     "name": "#%%\n"
    }
   }
  },
  {
   "cell_type": "code",
   "execution_count": 1,
   "outputs": [
    {
     "name": "stdout",
     "output_type": "stream",
     "text": [
      "2022-01-09 18:42:33,223 loading file C:\\Users\\LeonWolf\\.flair\\models\\ner-german-large\\6b8de9edd73722050be2547acf64c037b2df833c6e8f0e88934de08385e26c1e.4b0797effcc6ebb1889d5d29784b97f0a099c1569b319d87d7c387e44e2bba48\n"
     ]
    },
    {
     "ename": "NameError",
     "evalue": "name 'df' is not defined",
     "output_type": "error",
     "traceback": [
      "\u001B[1;31m---------------------------------------------------------------------------\u001B[0m",
      "\u001B[1;31mNameError\u001B[0m                                 Traceback (most recent call last)",
      "\u001B[1;32m~\\AppData\\Local\\Temp/ipykernel_16732/2167112727.py\u001B[0m in \u001B[0;36m<module>\u001B[1;34m\u001B[0m\n\u001B[0;32m      6\u001B[0m \u001B[1;31m# WARNING - 2.24 GB model size!\u001B[0m\u001B[1;33m\u001B[0m\u001B[1;33m\u001B[0m\u001B[0m\n\u001B[0;32m      7\u001B[0m \u001B[0mtagger\u001B[0m \u001B[1;33m=\u001B[0m \u001B[0mSequenceTagger\u001B[0m\u001B[1;33m.\u001B[0m\u001B[0mload\u001B[0m\u001B[1;33m(\u001B[0m\u001B[1;34m\"flair/ner-german-large\"\u001B[0m\u001B[1;33m)\u001B[0m\u001B[1;33m\u001B[0m\u001B[1;33m\u001B[0m\u001B[0m\n\u001B[1;32m----> 8\u001B[1;33m \u001B[0marticles\u001B[0m \u001B[1;33m=\u001B[0m \u001B[1;33m{\u001B[0m\u001B[1;34m\"texts\"\u001B[0m\u001B[1;33m:\u001B[0m \u001B[0mdf\u001B[0m\u001B[1;33m[\u001B[0m\u001B[1;33m[\u001B[0m\u001B[1;34m\"title\"\u001B[0m\u001B[1;33m,\u001B[0m \u001B[1;34m\"title_page\"\u001B[0m\u001B[1;33m,\u001B[0m \u001B[1;34m\"title_rss\"\u001B[0m\u001B[1;33m,\u001B[0m \u001B[1;34m\"description\"\u001B[0m\u001B[1;33m,\u001B[0m \u001B[1;34m\"text_main\"\u001B[0m\u001B[1;33m]\u001B[0m\u001B[1;33m]\u001B[0m\u001B[1;33m}\u001B[0m\u001B[1;33m\u001B[0m\u001B[1;33m\u001B[0m\u001B[0m\n\u001B[0m\u001B[0;32m      9\u001B[0m \u001B[0mentities\u001B[0m \u001B[1;33m=\u001B[0m \u001B[1;33m[\u001B[0m\u001B[1;33m]\u001B[0m\u001B[1;33m\u001B[0m\u001B[1;33m\u001B[0m\u001B[0m\n\u001B[0;32m     10\u001B[0m \u001B[1;32mfor\u001B[0m \u001B[0marticle\u001B[0m \u001B[1;32min\u001B[0m \u001B[1;33m[\u001B[0m\u001B[0mx\u001B[0m\u001B[1;33m[\u001B[0m\u001B[1;36m1\u001B[0m\u001B[1;33m]\u001B[0m \u001B[1;32mfor\u001B[0m \u001B[0mx\u001B[0m \u001B[1;32min\u001B[0m \u001B[0marticles\u001B[0m\u001B[1;33m[\u001B[0m\u001B[1;34m\"texts\"\u001B[0m\u001B[1;33m]\u001B[0m\u001B[1;33m.\u001B[0m\u001B[0miterrows\u001B[0m\u001B[1;33m(\u001B[0m\u001B[1;33m)\u001B[0m\u001B[1;33m]\u001B[0m\u001B[1;33m:\u001B[0m\u001B[1;33m\u001B[0m\u001B[1;33m\u001B[0m\u001B[0m\n",
      "\u001B[1;31mNameError\u001B[0m: name 'df' is not defined"
     ]
    }
   ],
   "source": [
    "import math\n",
    "from flair.data import Sentence\n",
    "from flair.models import SequenceTagger\n",
    "\n",
    "# load tagger\n",
    "# WARNING - 2.24 GB model size!\n",
    "tagger = SequenceTagger.load(\"flair/ner-german-large\")\n",
    "article_columns = [\"title\", \"title_page\", \"title_rss\", \"description\", \"text_main\"]\n",
    "articles = {\"texts\": df[article_columns]}\n",
    "entities = []\n",
    "for article in [x[1] for x in articles[\"texts\"].iterrows()]:\n",
    "    entity = {}\n",
    "    for k in article_columns:\n",
    "        try:\n",
    "            entity[k] = str(article[k]).replace(\"\\x84\", '\"').replace(\"\\x93\", '\"')\n",
    "            chunks = [article[k]]\n",
    "            if len(article[k]) > 512:\n",
    "                # brute-force chunk the article\n",
    "                chunks = [article[k][512 * (x - 1):512 * x] for x in range(1, math.ceil(len(article[k]) / 512))]\n",
    "            chunks_ner = []\n",
    "            for chunk in chunks:\n",
    "                sentence = Sentence(chunk)\n",
    "                tagger.predict(sentence)\n",
    "                chunks_ner.append(sentence.to_dict(tag_type='ner'))\n",
    "            entity[k + \"_entities\"] = chunks_ner\n",
    "        except:\n",
    "            pass\n",
    "    entities.append(entity)\n",
    "ent = pd.DataFrame(entities)\n",
    "ent.to_csv(\"entities.csv\", index=False)\n",
    "ent"
   ],
   "metadata": {
    "collapsed": false,
    "pycharm": {
     "name": "#%%\n"
    }
   }
  },
  {
   "cell_type": "code",
   "execution_count": 11,
   "outputs": [],
   "source": [
    "df_ent = pd.read_csv(path_to_data / \"entities.csv\")"
   ],
   "metadata": {
    "collapsed": false,
    "pycharm": {
     "name": "#%%\n"
    }
   }
  },
  {
   "cell_type": "code",
   "execution_count": 12,
   "outputs": [
    {
     "data": {
      "text/plain": "                                               title  \\\n0  Schriftstellerin Joan Didion mit 87 Jahren ges...   \n\n                                          title_page  \\\n0  Schriftstellerin Joan Didion mit 87 Jahren ges...   \n\n                                           title_rss  \\\n0  Schriftstellerin Joan Didion mit 87 Jahren ges...   \n\n                                         description  \\\n0  Die Essayistin und Schriftstellerin Joan Didio...   \n\n                                           text_main language source_domain  \\\n0  Die Essayistin und Schriftstellerin Joan Didio...       de   www.faz.net   \n\n                                            filename  \\\n0  aktuell_feuilleton_buecher_autoren_schriftstel...   \n\n                                                 url  \\\n0  https://www.faz.net/aktuell/feuilleton/buecher...   \n\n                                           image_url  ...  \\\n0  https://media1.faz.net/ppmedia/aktuell/8915247...  ...   \n\n              author_3        author_4      author_5           author_6  \\\n0  Joachim Müller-Jung  Maja Brankovic  Dyrk Scherff  Friedrich Schmidt   \n\n        author_7    author_8 author_9 author_10 author_11 author_12  \n0  Gerald Felber  Kim Maurus      NaN       NaN       NaN       NaN  \n\n[1 rows x 32 columns]",
      "text/html": "<div>\n<style scoped>\n    .dataframe tbody tr th:only-of-type {\n        vertical-align: middle;\n    }\n\n    .dataframe tbody tr th {\n        vertical-align: top;\n    }\n\n    .dataframe thead th {\n        text-align: right;\n    }\n</style>\n<table border=\"1\" class=\"dataframe\">\n  <thead>\n    <tr style=\"text-align: right;\">\n      <th></th>\n      <th>title</th>\n      <th>title_page</th>\n      <th>title_rss</th>\n      <th>description</th>\n      <th>text_main</th>\n      <th>language</th>\n      <th>source_domain</th>\n      <th>filename</th>\n      <th>url</th>\n      <th>image_url</th>\n      <th>...</th>\n      <th>author_3</th>\n      <th>author_4</th>\n      <th>author_5</th>\n      <th>author_6</th>\n      <th>author_7</th>\n      <th>author_8</th>\n      <th>author_9</th>\n      <th>author_10</th>\n      <th>author_11</th>\n      <th>author_12</th>\n    </tr>\n  </thead>\n  <tbody>\n    <tr>\n      <th>0</th>\n      <td>Schriftstellerin Joan Didion mit 87 Jahren ges...</td>\n      <td>Schriftstellerin Joan Didion mit 87 Jahren ges...</td>\n      <td>Schriftstellerin Joan Didion mit 87 Jahren ges...</td>\n      <td>Die Essayistin und Schriftstellerin Joan Didio...</td>\n      <td>Die Essayistin und Schriftstellerin Joan Didio...</td>\n      <td>de</td>\n      <td>www.faz.net</td>\n      <td>aktuell_feuilleton_buecher_autoren_schriftstel...</td>\n      <td>https://www.faz.net/aktuell/feuilleton/buecher...</td>\n      <td>https://media1.faz.net/ppmedia/aktuell/8915247...</td>\n      <td>...</td>\n      <td>Joachim Müller-Jung</td>\n      <td>Maja Brankovic</td>\n      <td>Dyrk Scherff</td>\n      <td>Friedrich Schmidt</td>\n      <td>Gerald Felber</td>\n      <td>Kim Maurus</td>\n      <td>NaN</td>\n      <td>NaN</td>\n      <td>NaN</td>\n      <td>NaN</td>\n    </tr>\n  </tbody>\n</table>\n<p>1 rows × 32 columns</p>\n</div>"
     },
     "execution_count": 12,
     "metadata": {},
     "output_type": "execute_result"
    }
   ],
   "source": [
    "df_j = df.join(df_ent[[x for x in df_ent.columns if \"entities\" in x]])\n",
    "df.head(1)"
   ],
   "metadata": {
    "collapsed": false,
    "pycharm": {
     "name": "#%%\n"
    }
   }
  },
  {
   "cell_type": "code",
   "execution_count": 13,
   "outputs": [],
   "source": [
    "entity_columns = [x for x in df_ent.columns if \"entities\" in x]\n",
    "org_dict = {}\n",
    "for entity in entity_columns:\n",
    "    ent_list = []\n",
    "    for x in [x for x in df_j[entity]]:\n",
    "        try:\n",
    "            tmp = re.sub(\"'labels': \\[(\\w{3,4}) \\((\\d+\\.?\\d*)\\)]\", \"'\\g<1>': \\g<2>\", x)\n",
    "            tmp = eval(tmp)\n",
    "            tmp_list = [y for x in tmp for y in x[\"entities\"]]\n",
    "        except:\n",
    "            tmp_list = []\n",
    "        ent_list.append(tmp_list)\n",
    "    org_list = []\n",
    "    for x in ent_list:\n",
    "        tmp_list = []\n",
    "        for y in x:\n",
    "            if \"ORG\" in y:\n",
    "                tmp_list.append(y[\"text\"].strip())\n",
    "        org_list.append(tmp_list)\n",
    "    org_dict[entity] = org_list"
   ],
   "metadata": {
    "collapsed": false,
    "pycharm": {
     "name": "#%%\n"
    }
   }
  },
  {
   "cell_type": "code",
   "execution_count": 18,
   "outputs": [],
   "source": [
    "df_j = df_j.join(pd.DataFrame(pd.Series(org_dict[\"title_entities\"]).to_list()).add_prefix(\"org_\").fillna(value=np.nan))"
   ],
   "metadata": {
    "collapsed": false,
    "pycharm": {
     "name": "#%%\n"
    }
   }
  },
  {
   "cell_type": "code",
   "execution_count": 19,
   "outputs": [
    {
     "name": "stdout",
     "output_type": "stream",
     "text": [
      "<class 'pandas.core.frame.DataFrame'>\n",
      "RangeIndex: 1257 entries, 0 to 1256\n",
      "Data columns (total 37 columns):\n",
      " #   Column                Non-Null Count  Dtype         \n",
      "---  ------                --------------  -----         \n",
      " 0   title                 1257 non-null   object        \n",
      " 1   title_page            1257 non-null   object        \n",
      " 2   title_rss             1257 non-null   object        \n",
      " 3   description           1257 non-null   object        \n",
      " 4   text_main             932 non-null    object        \n",
      " 5   language              1257 non-null   category      \n",
      " 6   source_domain         1257 non-null   category      \n",
      " 7   filename              1257 non-null   object        \n",
      " 8   url                   1257 non-null   object        \n",
      " 9   image_url             1257 non-null   object        \n",
      " 10  category_0            1257 non-null   object        \n",
      " 11  category_1            914 non-null    object        \n",
      " 12  category_2            412 non-null    object        \n",
      " 13  category_3            71 non-null     object        \n",
      " 14  category_4            13 non-null     object        \n",
      " 15  date_download         1257 non-null   datetime64[ns]\n",
      " 16  date_modify           1257 non-null   datetime64[ns]\n",
      " 17  date_publish          1251 non-null   datetime64[ns]\n",
      " 18  authors               1257 non-null   object        \n",
      " 19  author_0              987 non-null    object        \n",
      " 20  author_1              492 non-null    object        \n",
      " 21  author_2              308 non-null    object        \n",
      " 22  author_3              274 non-null    object        \n",
      " 23  author_4              232 non-null    object        \n",
      " 24  author_5              166 non-null    object        \n",
      " 25  author_6              144 non-null    object        \n",
      " 26  author_7              123 non-null    object        \n",
      " 27  author_8              99 non-null     object        \n",
      " 28  author_9              72 non-null     object        \n",
      " 29  author_10             33 non-null     object        \n",
      " 30  author_11             17 non-null     object        \n",
      " 31  author_12             4 non-null      object        \n",
      " 32  title_entities        994 non-null    object        \n",
      " 33  description_entities  994 non-null    object        \n",
      " 34  text_main_entities    993 non-null    object        \n",
      " 35  org_0                 177 non-null    object        \n",
      " 36  org_1                 16 non-null     object        \n",
      "dtypes: category(2), datetime64[ns](3), object(32)\n",
      "memory usage: 346.8+ KB\n"
     ]
    }
   ],
   "source": [
    "df_j.info()"
   ],
   "metadata": {
    "collapsed": false,
    "pycharm": {
     "name": "#%%\n"
    }
   }
  },
  {
   "cell_type": "code",
   "execution_count": 20,
   "outputs": [],
   "source": [
    "df_j.to_csv(path_to_data / \"df_entities.csv\", index=False)"
   ],
   "metadata": {
    "collapsed": false,
    "pycharm": {
     "name": "#%%\n"
    }
   }
  },
  {
   "cell_type": "code",
   "execution_count": 141,
   "outputs": [
    {
     "name": "stdout",
     "output_type": "stream",
     "text": [
      "5\n"
     ]
    }
   ],
   "source": [
    "# list of entities - summed up\n",
    "\n",
    "body_ent = [x for x in df_j[[x for x in df_ent.columns if \"entities\" in x]][\"title_entities\"]]\n",
    "body_ent_list = []\n",
    "for x in body_ent:\n",
    "    tmp = re.sub(\"'labels': \\[(\\w{3,4}) \\((\\d+\\.?\\d*)\\)]\", \"'\\g<1>': \\g<2>\", x)\n",
    "    tmp = eval(tmp)\n",
    "    tmp_list = [y for x in tmp for y in x[\"entities\"]]\n",
    "    body_ent_list.append(tmp_list)\n",
    "body_org_list = {}\n",
    "for x in body_ent_list:\n",
    "    for y in x:\n",
    "        if \"ORG\" in y:\n",
    "            if y[\"text\"] == \"SWR\":\n",
    "                print(5)\n",
    "            if y[\"text\"] in body_org_list:\n",
    "                body_org_list[y[\"text\"].strip()] += 1\n",
    "            else:\n",
    "                body_org_list[y[\"text\"].strip()] = 1\n",
    "body_org_dict = dict(sorted(body_org_list.items(), key=lambda item: item[1], reverse=True))"
   ],
   "metadata": {
    "collapsed": false,
    "pycharm": {
     "name": "#%%\n"
    }
   }
  }
 ],
 "metadata": {
  "kernelspec": {
   "display_name": "Python 3",
   "language": "python",
   "name": "python3"
  },
  "language_info": {
   "codemirror_mode": {
    "name": "ipython",
    "version": 2
   },
   "file_extension": ".py",
   "mimetype": "text/x-python",
   "name": "python",
   "nbconvert_exporter": "python",
   "pygments_lexer": "ipython2",
   "version": "2.7.6"
  }
 },
 "nbformat": 4,
 "nbformat_minor": 0
}