{
 "cells": [
  {
   "cell_type": "code",
   "execution_count": 1,
   "metadata": {
    "collapsed": true
   },
   "outputs": [],
   "source": [
    "import glob\n",
    "import re\n",
    "\n",
    "import pandas as pd\n",
    "from utils.utils import get_project_root\n",
    "import numpy as np"
   ]
  },
  {
   "cell_type": "code",
   "execution_count": 2,
   "outputs": [],
   "source": [
    "# get all file names\n",
    "p = get_project_root()\n",
    "path = get_project_root() / \"data/raw/json\"\n",
    "files = glob.glob(f\"{path}/**.json\")\n",
    "path_to_data = get_project_root() / \"data\""
   ],
   "metadata": {
    "collapsed": false,
    "pycharm": {
     "name": "#%%\n"
    }
   }
  },
  {
   "cell_type": "code",
   "execution_count": 3,
   "outputs": [],
   "source": [
    "# create a dataframe from it\n",
    "dfs = []  # an empty list to store the data frames\n",
    "errs = []\n",
    "for file in files:\n",
    "    try:\n",
    "        data = pd.read_json(file, lines=True, encoding=\"iso-8859-1\")  # read data frame from json file\n",
    "        dfs.append(data)  # append the data frame to the list\n",
    "    except Exception as e:\n",
    "        # these are incomplete files -> parsing failed at some point during save\n",
    "        errs.append((file, e))\n",
    "\n",
    "df_original = pd.concat(dfs, ignore_index=True)"
   ],
   "metadata": {
    "collapsed": false,
    "pycharm": {
     "name": "#%%\n"
    }
   }
  },
  {
   "cell_type": "code",
   "execution_count": 9,
   "outputs": [
    {
     "name": "stderr",
     "output_type": "stream",
     "text": [
      "C:\\Users\\LeonWolf\\AppData\\Local\\Temp/ipykernel_3944/2173991852.py:29: DeprecationWarning: The default dtype for empty Series will be 'object' instead of 'float64' in a future version. Specify a dtype explicitly to silence this warning.\n",
      "  df = df.join(df[\"authors\"].apply(lambda authors: pd.Series(\n"
     ]
    },
    {
     "data": {
      "text/plain": "                                                  title  \\\n0     Schriftstellerin Joan Didion mit 87 Jahren ges...   \n1                  J.R. Moores' Buch \"Electric Wizards\"   \n2     Dating-Seite für Impfgegner: Die ungeimpfte Liebe   \n3     Frank Ulrich Montgomery verteidigt seine Richt...   \n4      Impfpflicht jetzt? Wir müssen miteinander reden!   \n...                                                 ...   \n1467  Weltraum-Teleskop \"James Webb\": Astronaut Walt...   \n1468  Studie aus Hamburg: Organschäden auch bei mild...   \n1469                 \"James Webb\" startet seine Mission   \n1470  James-Webb-Weltraumteleskop ist ins All gestartet   \n1471                                Verklärte Forschung   \n\n                                             title_page  \\\n0     Schriftstellerin Joan Didion mit 87 Jahren ges...   \n1                  J.R. Moores' Buch \"Electric Wizards\"   \n2     Dating-Seite für Impfgegner: Die ungeimpfte Liebe   \n3     Frank Ulrich Montgomery verteidigt seine Richt...   \n4      Impfpflicht jetzt? Wir müssen miteinander reden!   \n...                                                 ...   \n1467  Weltraum-Teleskop \"James Webb\": Astronaut Walt...   \n1468  Studie aus Hamburg: Organschäden auch bei mild...   \n1469   »James Webb« startet seine Mission - DER SPIEGEL   \n1470  James-Webb-Weltraumteleskop ist ins All gestar...   \n1471               Verklärte Forschung - Wissen - SZ.de   \n\n                                              title_rss  \\\n0     Schriftstellerin Joan Didion mit 87 Jahren ges...   \n1                  J.R. Moores' Buch \"Electric Wizards\"   \n2     Unterwegs auf Impffrei:Love: Die ungeimpfte Liebe   \n3     Montgomerys Mätzchen: Ihr seid ja nur eifersüc...   \n4     Impfpflicht oder nicht: Wir müssen miteinander...   \n...                                                 ...   \n1467                    \"Da kann noch viel schiefgehen\"   \n1468        Organschäden auch bei mildem Corona-Verlauf   \n1469                 »James Webb« startet seine Mission   \n1470  James-Webb-Weltraumteleskop ist ins All gestartet   \n1471   Wissenschaft: Überflieger sind auch nur Menschen   \n\n                                            description  \\\n0     Die Essayistin und Schriftstellerin Joan Didio...   \n1     Heute schon Pigs Pigs Pigs Pigs Pigs Pigs Pigs...   \n2     Auf einer neuen Dating-Seite suchen Einsame, d...   \n3     Drehungen eines Unbelehrbaren: Nach Kritik an ...   \n4     Der Ethikrat befürwortet mehrheitlich eine all...   \n...                                                 ...   \n1467  Das \"James Webb\"-Teleskop ist erfolgreich ins ...   \n1468  Eine Studie des Universitätsklinikums Hamburg-...   \n1469  Von Französisch-Guayana ins All: Das Weltraumt...   \n1470  Nach gut 30 Jahren Planung war es so weit: Ein...   \n1471  Sind Raketenwissenschaftler und Hirnchirurgen ...   \n\n                                              text_main language  \\\n0     Die Essayistin und Schriftstellerin Joan Didio...       de   \n1     Heute schon Pigs Pigs Pigs Pigs Pigs Pigs Pigs...       de   \n2     Die Menschen wollen lieben. Selbst die, die ha...       de   \n3     Ungern möchte man stören bei dem langen Lauf z...       de   \n4     Als am 1. Januar 2019 Heribert Prantl in seine...       de   \n...                                                 ...      ...   \n1467  Das \"James Webb\"-Teleskop ist erfolgreich ins ...       de   \n1468  Eine Studie des Universitätsklinikums Hamburg-...       de   \n1469                                                NaN       de   \n1470  »Hubble«-Nachfolger Weltraumteleskop »James We...       de   \n1471  Raketen, hier ein H-2A-Modell beim Start in Ja...       de   \n\n            source_domain                                           filename  \\\n0             www.faz.net  aktuell_feuilleton_buecher_autoren_schriftstel...   \n1             www.faz.net  aktuell_feuilleton_buecher_rezensionen_sachbuc...   \n2             www.faz.net  aktuell_feuilleton_dating-seite-fuer-impfgegne...   \n3             www.faz.net  aktuell_feuilleton_debatten_frank-ulrich-montg...   \n4             www.faz.net  aktuell_feuilleton_debatten_impfpflicht-jetzt-...   \n...                   ...                                                ...   \n1467          www.welt.de  wissenschaft_video235869636_Weltraum-Teleskop-...   \n1468          www.welt.de  wissenschaft_video236043420_Studie-aus-Hamburg...   \n1469       www.spiegel.de  wissenschaft_weltall_james-webb-startet-seine-...   \n1470       www.spiegel.de  wissenschaft_weltall_james-webb-weltraumtelesk...   \n1471  rss.sueddeutsche.de  wissen_wissenschaft-raketen-hirnchirurgie-spra...   \n\n                                                    url  \\\n0     https://www.faz.net/aktuell/feuilleton/buecher...   \n1     https://www.faz.net/aktuell/feuilleton/buecher...   \n2     https://www.faz.net/aktuell/feuilleton/dating-...   \n3     https://www.faz.net/aktuell/feuilleton/debatte...   \n4     https://www.faz.net/aktuell/feuilleton/debatte...   \n...                                                 ...   \n1467  https://www.welt.de/wissenschaft/video23586963...   \n1468  https://www.welt.de/wissenschaft/video23604342...   \n1469  https://www.spiegel.de/wissenschaft/weltall/ja...   \n1470  https://www.spiegel.de/wissenschaft/weltall/ja...   \n1471  https://www.sueddeutsche.de/wissen/wissenschaf...   \n\n                                              image_url  ...  \\\n0     https://media1.faz.net/ppmedia/aktuell/8915247...  ...   \n1     https://media1.faz.net/ppmedia/aktuell/1167631...  ...   \n2     https://media1.faz.net/ppmedia/aktuell/1238540...  ...   \n3     https://media1.faz.net/ppmedia/aktuell/politik...  ...   \n4     https://media1.faz.net/ppmedia/aktuell/wissen/...  ...   \n...                                                 ...  ...   \n1467  https://img.welt.de/img/wissenschaft/mobile235...  ...   \n1468  https://img.welt.de/img/regionales/hamburg/mob...  ...   \n1469  https://cdn.prod.www.spiegel.de/images/8036b4a...  ...   \n1470  https://cdn.prod.www.spiegel.de/images/282f97c...  ...   \n1471  https://www.sueddeutsche.de/image/sz.1.5494700...  ...   \n\n                                author_3               author_4  \\\n0                    Joachim Müller-Jung         Maja Brankovic   \n1                 Ernst-Ludwig Winnacker  Peter-Philipp Schmitt   \n2                             Jan Hauser                    NaN   \n3                       Helene Bubrowski         Gregor Brunner   \n4     Institut Für Demoskopie Allensbach          Oliver Georgi   \n...                                  ...                    ...   \n1467                                 NaN                    NaN   \n1468                                 NaN                    NaN   \n1469                                 NaN                    NaN   \n1470                                 NaN                    NaN   \n1471                                 NaN                    NaN   \n\n                 author_5           author_6       author_7       author_8  \\\n0            Dyrk Scherff  Friedrich Schmidt  Gerald Felber     Kim Maurus   \n1     Christiane Pöhlmann       Georg Imdahl            NaN            NaN   \n2                     NaN                NaN            NaN            NaN   \n3                Grafiken    Oliver Schlömer   Eckart Lohse  Markus Wehner   \n4                     NaN                NaN            NaN            NaN   \n...                   ...                ...            ...            ...   \n1467                  NaN                NaN            NaN            NaN   \n1468                  NaN                NaN            NaN            NaN   \n1469                  NaN                NaN            NaN            NaN   \n1470                  NaN                NaN            NaN            NaN   \n1471                  NaN                NaN            NaN            NaN   \n\n             author_9      author_10 author_11 author_12  \n0                 NaN            NaN       NaN       NaN  \n1                 NaN            NaN       NaN       NaN  \n2                 NaN            NaN       NaN       NaN  \n3     Michaela Wiegel  Thomas Geiger       NaN       NaN  \n4                 NaN            NaN       NaN       NaN  \n...               ...            ...       ...       ...  \n1467              NaN            NaN       NaN       NaN  \n1468              NaN            NaN       NaN       NaN  \n1469              NaN            NaN       NaN       NaN  \n1470              NaN            NaN       NaN       NaN  \n1471              NaN            NaN       NaN       NaN  \n\n[1257 rows x 32 columns]",
      "text/html": "<div>\n<style scoped>\n    .dataframe tbody tr th:only-of-type {\n        vertical-align: middle;\n    }\n\n    .dataframe tbody tr th {\n        vertical-align: top;\n    }\n\n    .dataframe thead th {\n        text-align: right;\n    }\n</style>\n<table border=\"1\" class=\"dataframe\">\n  <thead>\n    <tr style=\"text-align: right;\">\n      <th></th>\n      <th>title</th>\n      <th>title_page</th>\n      <th>title_rss</th>\n      <th>description</th>\n      <th>text_main</th>\n      <th>language</th>\n      <th>source_domain</th>\n      <th>filename</th>\n      <th>url</th>\n      <th>image_url</th>\n      <th>...</th>\n      <th>author_3</th>\n      <th>author_4</th>\n      <th>author_5</th>\n      <th>author_6</th>\n      <th>author_7</th>\n      <th>author_8</th>\n      <th>author_9</th>\n      <th>author_10</th>\n      <th>author_11</th>\n      <th>author_12</th>\n    </tr>\n  </thead>\n  <tbody>\n    <tr>\n      <th>0</th>\n      <td>Schriftstellerin Joan Didion mit 87 Jahren ges...</td>\n      <td>Schriftstellerin Joan Didion mit 87 Jahren ges...</td>\n      <td>Schriftstellerin Joan Didion mit 87 Jahren ges...</td>\n      <td>Die Essayistin und Schriftstellerin Joan Didio...</td>\n      <td>Die Essayistin und Schriftstellerin Joan Didio...</td>\n      <td>de</td>\n      <td>www.faz.net</td>\n      <td>aktuell_feuilleton_buecher_autoren_schriftstel...</td>\n      <td>https://www.faz.net/aktuell/feuilleton/buecher...</td>\n      <td>https://media1.faz.net/ppmedia/aktuell/8915247...</td>\n      <td>...</td>\n      <td>Joachim Müller-Jung</td>\n      <td>Maja Brankovic</td>\n      <td>Dyrk Scherff</td>\n      <td>Friedrich Schmidt</td>\n      <td>Gerald Felber</td>\n      <td>Kim Maurus</td>\n      <td>NaN</td>\n      <td>NaN</td>\n      <td>NaN</td>\n      <td>NaN</td>\n    </tr>\n    <tr>\n      <th>1</th>\n      <td>J.R. Moores' Buch \"Electric Wizards\"</td>\n      <td>J.R. Moores' Buch \"Electric Wizards\"</td>\n      <td>J.R. Moores' Buch \"Electric Wizards\"</td>\n      <td>Heute schon Pigs Pigs Pigs Pigs Pigs Pigs Pigs...</td>\n      <td>Heute schon Pigs Pigs Pigs Pigs Pigs Pigs Pigs...</td>\n      <td>de</td>\n      <td>www.faz.net</td>\n      <td>aktuell_feuilleton_buecher_rezensionen_sachbuc...</td>\n      <td>https://www.faz.net/aktuell/feuilleton/buecher...</td>\n      <td>https://media1.faz.net/ppmedia/aktuell/1167631...</td>\n      <td>...</td>\n      <td>Ernst-Ludwig Winnacker</td>\n      <td>Peter-Philipp Schmitt</td>\n      <td>Christiane Pöhlmann</td>\n      <td>Georg Imdahl</td>\n      <td>NaN</td>\n      <td>NaN</td>\n      <td>NaN</td>\n      <td>NaN</td>\n      <td>NaN</td>\n      <td>NaN</td>\n    </tr>\n    <tr>\n      <th>2</th>\n      <td>Dating-Seite für Impfgegner: Die ungeimpfte Liebe</td>\n      <td>Dating-Seite für Impfgegner: Die ungeimpfte Liebe</td>\n      <td>Unterwegs auf Impffrei:Love: Die ungeimpfte Liebe</td>\n      <td>Auf einer neuen Dating-Seite suchen Einsame, d...</td>\n      <td>Die Menschen wollen lieben. Selbst die, die ha...</td>\n      <td>de</td>\n      <td>www.faz.net</td>\n      <td>aktuell_feuilleton_dating-seite-fuer-impfgegne...</td>\n      <td>https://www.faz.net/aktuell/feuilleton/dating-...</td>\n      <td>https://media1.faz.net/ppmedia/aktuell/1238540...</td>\n      <td>...</td>\n      <td>Jan Hauser</td>\n      <td>NaN</td>\n      <td>NaN</td>\n      <td>NaN</td>\n      <td>NaN</td>\n      <td>NaN</td>\n      <td>NaN</td>\n      <td>NaN</td>\n      <td>NaN</td>\n      <td>NaN</td>\n    </tr>\n    <tr>\n      <th>3</th>\n      <td>Frank Ulrich Montgomery verteidigt seine Richt...</td>\n      <td>Frank Ulrich Montgomery verteidigt seine Richt...</td>\n      <td>Montgomerys Mätzchen: Ihr seid ja nur eifersüc...</td>\n      <td>Drehungen eines Unbelehrbaren: Nach Kritik an ...</td>\n      <td>Ungern möchte man stören bei dem langen Lauf z...</td>\n      <td>de</td>\n      <td>www.faz.net</td>\n      <td>aktuell_feuilleton_debatten_frank-ulrich-montg...</td>\n      <td>https://www.faz.net/aktuell/feuilleton/debatte...</td>\n      <td>https://media1.faz.net/ppmedia/aktuell/politik...</td>\n      <td>...</td>\n      <td>Helene Bubrowski</td>\n      <td>Gregor Brunner</td>\n      <td>Grafiken</td>\n      <td>Oliver Schlömer</td>\n      <td>Eckart Lohse</td>\n      <td>Markus Wehner</td>\n      <td>Michaela Wiegel</td>\n      <td>Thomas Geiger</td>\n      <td>NaN</td>\n      <td>NaN</td>\n    </tr>\n    <tr>\n      <th>4</th>\n      <td>Impfpflicht jetzt? Wir müssen miteinander reden!</td>\n      <td>Impfpflicht jetzt? Wir müssen miteinander reden!</td>\n      <td>Impfpflicht oder nicht: Wir müssen miteinander...</td>\n      <td>Der Ethikrat befürwortet mehrheitlich eine all...</td>\n      <td>Als am 1. Januar 2019 Heribert Prantl in seine...</td>\n      <td>de</td>\n      <td>www.faz.net</td>\n      <td>aktuell_feuilleton_debatten_impfpflicht-jetzt-...</td>\n      <td>https://www.faz.net/aktuell/feuilleton/debatte...</td>\n      <td>https://media1.faz.net/ppmedia/aktuell/wissen/...</td>\n      <td>...</td>\n      <td>Institut Für Demoskopie Allensbach</td>\n      <td>Oliver Georgi</td>\n      <td>NaN</td>\n      <td>NaN</td>\n      <td>NaN</td>\n      <td>NaN</td>\n      <td>NaN</td>\n      <td>NaN</td>\n      <td>NaN</td>\n      <td>NaN</td>\n    </tr>\n    <tr>\n      <th>...</th>\n      <td>...</td>\n      <td>...</td>\n      <td>...</td>\n      <td>...</td>\n      <td>...</td>\n      <td>...</td>\n      <td>...</td>\n      <td>...</td>\n      <td>...</td>\n      <td>...</td>\n      <td>...</td>\n      <td>...</td>\n      <td>...</td>\n      <td>...</td>\n      <td>...</td>\n      <td>...</td>\n      <td>...</td>\n      <td>...</td>\n      <td>...</td>\n      <td>...</td>\n      <td>...</td>\n    </tr>\n    <tr>\n      <th>1467</th>\n      <td>Weltraum-Teleskop \"James Webb\": Astronaut Walt...</td>\n      <td>Weltraum-Teleskop \"James Webb\": Astronaut Walt...</td>\n      <td>\"Da kann noch viel schiefgehen\"</td>\n      <td>Das \"James Webb\"-Teleskop ist erfolgreich ins ...</td>\n      <td>Das \"James Webb\"-Teleskop ist erfolgreich ins ...</td>\n      <td>de</td>\n      <td>www.welt.de</td>\n      <td>wissenschaft_video235869636_Weltraum-Teleskop-...</td>\n      <td>https://www.welt.de/wissenschaft/video23586963...</td>\n      <td>https://img.welt.de/img/wissenschaft/mobile235...</td>\n      <td>...</td>\n      <td>NaN</td>\n      <td>NaN</td>\n      <td>NaN</td>\n      <td>NaN</td>\n      <td>NaN</td>\n      <td>NaN</td>\n      <td>NaN</td>\n      <td>NaN</td>\n      <td>NaN</td>\n      <td>NaN</td>\n    </tr>\n    <tr>\n      <th>1468</th>\n      <td>Studie aus Hamburg: Organschäden auch bei mild...</td>\n      <td>Studie aus Hamburg: Organschäden auch bei mild...</td>\n      <td>Organschäden auch bei mildem Corona-Verlauf</td>\n      <td>Eine Studie des Universitätsklinikums Hamburg-...</td>\n      <td>Eine Studie des Universitätsklinikums Hamburg-...</td>\n      <td>de</td>\n      <td>www.welt.de</td>\n      <td>wissenschaft_video236043420_Studie-aus-Hamburg...</td>\n      <td>https://www.welt.de/wissenschaft/video23604342...</td>\n      <td>https://img.welt.de/img/regionales/hamburg/mob...</td>\n      <td>...</td>\n      <td>NaN</td>\n      <td>NaN</td>\n      <td>NaN</td>\n      <td>NaN</td>\n      <td>NaN</td>\n      <td>NaN</td>\n      <td>NaN</td>\n      <td>NaN</td>\n      <td>NaN</td>\n      <td>NaN</td>\n    </tr>\n    <tr>\n      <th>1469</th>\n      <td>\"James Webb\" startet seine Mission</td>\n      <td>»James Webb« startet seine Mission - DER SPIEGEL</td>\n      <td>»James Webb« startet seine Mission</td>\n      <td>Von Französisch-Guayana ins All: Das Weltraumt...</td>\n      <td>NaN</td>\n      <td>de</td>\n      <td>www.spiegel.de</td>\n      <td>wissenschaft_weltall_james-webb-startet-seine-...</td>\n      <td>https://www.spiegel.de/wissenschaft/weltall/ja...</td>\n      <td>https://cdn.prod.www.spiegel.de/images/8036b4a...</td>\n      <td>...</td>\n      <td>NaN</td>\n      <td>NaN</td>\n      <td>NaN</td>\n      <td>NaN</td>\n      <td>NaN</td>\n      <td>NaN</td>\n      <td>NaN</td>\n      <td>NaN</td>\n      <td>NaN</td>\n      <td>NaN</td>\n    </tr>\n    <tr>\n      <th>1470</th>\n      <td>James-Webb-Weltraumteleskop ist ins All gestartet</td>\n      <td>James-Webb-Weltraumteleskop ist ins All gestar...</td>\n      <td>James-Webb-Weltraumteleskop ist ins All gestartet</td>\n      <td>Nach gut 30 Jahren Planung war es so weit: Ein...</td>\n      <td>»Hubble«-Nachfolger Weltraumteleskop »James We...</td>\n      <td>de</td>\n      <td>www.spiegel.de</td>\n      <td>wissenschaft_weltall_james-webb-weltraumtelesk...</td>\n      <td>https://www.spiegel.de/wissenschaft/weltall/ja...</td>\n      <td>https://cdn.prod.www.spiegel.de/images/282f97c...</td>\n      <td>...</td>\n      <td>NaN</td>\n      <td>NaN</td>\n      <td>NaN</td>\n      <td>NaN</td>\n      <td>NaN</td>\n      <td>NaN</td>\n      <td>NaN</td>\n      <td>NaN</td>\n      <td>NaN</td>\n      <td>NaN</td>\n    </tr>\n    <tr>\n      <th>1471</th>\n      <td>Verklärte Forschung</td>\n      <td>Verklärte Forschung - Wissen - SZ.de</td>\n      <td>Wissenschaft: Überflieger sind auch nur Menschen</td>\n      <td>Sind Raketenwissenschaftler und Hirnchirurgen ...</td>\n      <td>Raketen, hier ein H-2A-Modell beim Start in Ja...</td>\n      <td>de</td>\n      <td>rss.sueddeutsche.de</td>\n      <td>wissen_wissenschaft-raketen-hirnchirurgie-spra...</td>\n      <td>https://www.sueddeutsche.de/wissen/wissenschaf...</td>\n      <td>https://www.sueddeutsche.de/image/sz.1.5494700...</td>\n      <td>...</td>\n      <td>NaN</td>\n      <td>NaN</td>\n      <td>NaN</td>\n      <td>NaN</td>\n      <td>NaN</td>\n      <td>NaN</td>\n      <td>NaN</td>\n      <td>NaN</td>\n      <td>NaN</td>\n      <td>NaN</td>\n    </tr>\n  </tbody>\n</table>\n<p>1257 rows × 32 columns</p>\n</div>"
     },
     "execution_count": 9,
     "metadata": {},
     "output_type": "execute_result"
    }
   ],
   "source": [
    "# drop local_path\n",
    "df = df_original.drop(\"local_path\", axis=1)\n",
    "# drop english articles\n",
    "df = df[df['language'] == \"de\"]\n",
    "# drop duplicates\n",
    "df.drop_duplicates(subset=[\"filename\", \"title\"])\n",
    "# turn date columns into datetime format\n",
    "df[df.loc[:, df.columns.str.contains(\"date\")].columns] = df.loc[:, df.columns.str.contains(\"date\")].apply(\n",
    "    pd.to_datetime)\n",
    "# turn language and source_domain into categoricals\n",
    "df[[\"language\", \"source_domain\"]] = df[[\"language\", \"source_domain\"]].astype(\"category\")\n",
    "# convert text-columns into text (from object) and remove white spaces\n",
    "df[[\"description\", \"filename\", \"title\", \"title_page\", \"title_rss\", \"text_main\"]].astype(\"string\").apply(\n",
    "    lambda x: x.str.strip())\n",
    "df.head()\n",
    "# TODO unternehmen suchen\n",
    "# apple? microsoft?\n",
    "\n",
    "# spiegel paywall blocked many concurrent calls -> remove body texts on these\n",
    "df.loc[df['text_main'].str.contains(\"Freier Zugang zu allen Artikeln\", na=False), [\"text_main\"]] = np.NaN\n",
    "df.loc[df['text_main'].str.contains(\"Zugang wird gerade auf einem anderen Gerät genutzt\", na=False), [\n",
    "    \"text_main\"]] = np.NaN\n",
    "\n",
    "# clean \\x und andere ungültige zeichen\n",
    "df = df.replace('\\x84', '\"', regex=True)\n",
    "df = df.replace('\\x93', '\"', regex=True)\n",
    "\n",
    "# split authors into individual columns\n",
    "df = df.join(df[\"authors\"].apply(lambda authors: pd.Series(\n",
    "    [author.strip() for auth_string in authors for author in re.split(\"und\", auth_string, flags=re.I)])).add_prefix(\n",
    "    \"author_\"))\n",
    "# split categories\n",
    "df = df.join(df[\"filename\"].apply(lambda row: pd.Series(row.split(\"_\")[:-1])).add_prefix(\"category_\"))\n",
    "# group and re-sort columns\n",
    "column_names = [x for x in df.columns]\n",
    "title_columns = [x for x in df.columns if \"title\" in x]\n",
    "text_columns = [\"description\", \"text_main\"]\n",
    "misc_columns = ['language', \"source_domain\", 'filename', 'url', 'image_url']\n",
    "author_columns = [x for x in df.columns if \"author\" in x]\n",
    "category_columns = [x for x in df.columns if \"category\" in x]\n",
    "date_columns = [x for x in df.columns if \"date\" in x]\n",
    "df = df[title_columns + text_columns + misc_columns + category_columns + date_columns + author_columns]\n",
    "df\n"
   ],
   "metadata": {
    "collapsed": false,
    "pycharm": {
     "name": "#%%\n"
    }
   }
  },
  {
   "cell_type": "code",
   "execution_count": 10,
   "outputs": [],
   "source": [
    "df.to_csv(path_to_data / \"df.csv\", index=False)"
   ],
   "metadata": {
    "collapsed": false,
    "pycharm": {
     "name": "#%%\n"
    }
   }
  },
  {
   "cell_type": "code",
   "execution_count": 11,
   "outputs": [
    {
     "name": "stdout",
     "output_type": "stream",
     "text": [
      "<class 'pandas.core.frame.DataFrame'>\n",
      "Int64Index: 1257 entries, 0 to 1471\n",
      "Data columns (total 32 columns):\n",
      " #   Column         Non-Null Count  Dtype         \n",
      "---  ------         --------------  -----         \n",
      " 0   title          1257 non-null   object        \n",
      " 1   title_page     1257 non-null   object        \n",
      " 2   title_rss      1257 non-null   object        \n",
      " 3   description    1257 non-null   object        \n",
      " 4   text_main      932 non-null    object        \n",
      " 5   language       1257 non-null   category      \n",
      " 6   source_domain  1257 non-null   category      \n",
      " 7   filename       1257 non-null   object        \n",
      " 8   url            1257 non-null   object        \n",
      " 9   image_url      1257 non-null   object        \n",
      " 10  category_0     1257 non-null   object        \n",
      " 11  category_1     914 non-null    object        \n",
      " 12  category_2     412 non-null    object        \n",
      " 13  category_3     71 non-null     object        \n",
      " 14  category_4     13 non-null     object        \n",
      " 15  date_download  1257 non-null   datetime64[ns]\n",
      " 16  date_modify    1257 non-null   datetime64[ns]\n",
      " 17  date_publish   1251 non-null   datetime64[ns]\n",
      " 18  authors        1257 non-null   object        \n",
      " 19  author_0       987 non-null    object        \n",
      " 20  author_1       492 non-null    object        \n",
      " 21  author_2       309 non-null    object        \n",
      " 22  author_3       274 non-null    object        \n",
      " 23  author_4       234 non-null    object        \n",
      " 24  author_5       170 non-null    object        \n",
      " 25  author_6       146 non-null    object        \n",
      " 26  author_7       125 non-null    object        \n",
      " 27  author_8       102 non-null    object        \n",
      " 28  author_9       76 non-null     object        \n",
      " 29  author_10      36 non-null     object        \n",
      " 30  author_11      18 non-null     object        \n",
      " 31  author_12      4 non-null      object        \n",
      "dtypes: category(2), datetime64[ns](3), object(27)\n",
      "memory usage: 339.6+ KB\n"
     ]
    }
   ],
   "source": [
    "df.info()"
   ],
   "metadata": {
    "collapsed": false,
    "pycharm": {
     "name": "#%%\n"
    }
   }
  },
  {
   "cell_type": "code",
   "execution_count": 12,
   "outputs": [],
   "source": [
    "# generate DB with only wirtschaft categories\n",
    "df_entities = pd.read_csv(path_to_data / \"df_entities.csv\")\n",
    "query = \"(category_0=='wirtschaft' or category_1=='wirtschaft' or category_2=='wirtschaft' or category_3=='wirtschaft' or category_4=='wirtschaft') and text_main.notna()\"\n",
    "df_wirtschaft = df_entities.query(query)\n",
    "df_wirtschaft.to_csv(path_to_data / \"df_wirtschaft.csv\", index=False)"
   ],
   "metadata": {
    "collapsed": false,
    "pycharm": {
     "name": "#%%\n"
    }
   }
  }
 ],
 "metadata": {
  "kernelspec": {
   "display_name": "Python 3",
   "language": "python",
   "name": "python3"
  },
  "language_info": {
   "codemirror_mode": {
    "name": "ipython",
    "version": 2
   },
   "file_extension": ".py",
   "mimetype": "text/x-python",
   "name": "python",
   "nbconvert_exporter": "python",
   "pygments_lexer": "ipython2",
   "version": "2.7.6"
  }
 },
 "nbformat": 4,
 "nbformat_minor": 0
}