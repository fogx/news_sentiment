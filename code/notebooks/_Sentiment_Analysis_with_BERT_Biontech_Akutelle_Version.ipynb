{
 "cells": [
  {
   "cell_type": "markdown",
   "metadata": {
    "id": "HK3nJ_C6kSuB"
   },
   "source": [
    "# NLP Project Sentiment Analysis with BERT\n",
    "## Biontech data December 2021\n",
    "\n",
    "Label description:\n",
    "* 0: positive sentiment\n",
    "* 1: negative sentiment\n",
    "* None: no label"
   ]
  },
  {
   "cell_type": "markdown",
   "metadata": {
    "id": "KkVsHkI6EWEh"
   },
   "source": [
    "## Setup"
   ]
  },
  {
   "cell_type": "code",
   "execution_count": 1,
   "metadata": {
    "executionInfo": {
     "elapsed": 18233,
     "status": "ok",
     "timestamp": 1642421665824,
     "user": {
      "displayName": "Jule Schüttler",
      "photoUrl": "https://lh3.googleusercontent.com/a/default-user=s64",
      "userId": "08966339081108686012"
     },
     "user_tz": -60
    },
    "id": "-07Z6JhMWQXS"
   },
   "outputs": [],
   "source": [
    "!pip install transformers --quiet\n",
    "!pip install datasets --quiet\n",
    "!pip install tensorflow --quiet \n",
    "!pip install sklearn --quiet\n",
    "!pip install tensorflow-addons --quiet"
   ]
  },
  {
   "cell_type": "code",
   "execution_count": 2,
   "metadata": {
    "executionInfo": {
     "elapsed": 4518,
     "status": "ok",
     "timestamp": 1642421670324,
     "user": {
      "displayName": "Jule Schüttler",
      "photoUrl": "https://lh3.googleusercontent.com/a/default-user=s64",
      "userId": "08966339081108686012"
     },
     "user_tz": -60
    },
    "id": "OLbCb71GWtJS"
   },
   "outputs": [],
   "source": [
    "from datasets import Dataset, DatasetDict, Features, Value, ClassLabel\n",
    "import os\n",
    "import pandas as pd\n",
    "import numpy as np\n",
    "import matplotlib.pyplot as plt\n",
    "import tensorflow as tf\n",
    "import tensorflow_addons as tfa\n",
    "from tensorflow.keras.optimizers.schedules import PolynomialDecay\n",
    "from tensorflow.keras.optimizers import Adam\n",
    "from transformers import AutoTokenizer, DataCollatorWithPadding, TFAutoModelForSequenceClassification\n",
    "from sklearn.metrics import confusion_matrix\n",
    "from huggingface_hub import notebook_login\n",
    "from transformers.keras_callbacks import PushToHubCallback\n",
    "from transformers import create_optimizer\n",
    "from tensorflow.keras.callbacks import ModelCheckpoint\n",
    "import time\n"
   ]
  },
  {
   "cell_type": "code",
   "execution_count": 3,
   "metadata": {
    "colab": {
     "base_uri": "https://localhost:8080/"
    },
    "executionInfo": {
     "elapsed": 1501,
     "status": "ok",
     "timestamp": 1642421671819,
     "user": {
      "displayName": "Jule Schüttler",
      "photoUrl": "https://lh3.googleusercontent.com/a/default-user=s64",
      "userId": "08966339081108686012"
     },
     "user_tz": -60
    },
    "id": "XcW_14TOmLOL",
    "outputId": "eb31d0a1-d980-4594-d05a-b74ecff4fc54"
   },
   "outputs": [],
   "source": [
    "\n",
    "os.chdir(r\"\\Users\\JSchuettler\\OneDrive - Universität St.Gallen\\Courses\\WS 21\\NLP with Transformers\")\n",
    "root_dir = os.getcwd()\n"
   ]
  },
  {
   "cell_type": "code",
   "execution_count": 4,
   "metadata": {
    "executionInfo": {
     "elapsed": 27,
     "status": "ok",
     "timestamp": 1642421671820,
     "user": {
      "displayName": "Jule Schüttler",
      "photoUrl": "https://lh3.googleusercontent.com/a/default-user=s64",
      "userId": "08966339081108686012"
     },
     "user_tz": -60
    },
    "id": "l4Zo5ZyrE57j"
   },
   "outputs": [],
   "source": [
    "# To use the data I import it as a pandas data frame\n",
    "dataset = pd.read_csv('Biontech.csv')"
   ]
  },
  {
   "cell_type": "markdown",
   "metadata": {
    "id": "xipO0OG5ze4l"
   },
   "source": [
    "## Explore the data"
   ]
  },
  {
   "cell_type": "markdown",
   "metadata": {
    "id": "9UnpXcDPEfSw"
   },
   "source": [
    "###Plots and Data"
   ]
  },
  {
   "cell_type": "code",
   "execution_count": 200,
   "metadata": {
    "colab": {
     "base_uri": "https://localhost:8080/",
     "height": 143
    },
    "executionInfo": {
     "elapsed": 27,
     "status": "ok",
     "timestamp": 1642421671821,
     "user": {
      "displayName": "Jule Schüttler",
      "photoUrl": "https://lh3.googleusercontent.com/a/default-user=s64",
      "userId": "08966339081108686012"
     },
     "user_tz": -60
    },
    "id": "x6DrvUCsz5CF",
    "outputId": "12a692be-4baa-44ff-e687-e13566d0db0d"
   },
   "outputs": [
    {
     "data": {
      "text/html": [
       "<div>\n",
       "<style scoped>\n",
       "    .dataframe tbody tr th:only-of-type {\n",
       "        vertical-align: middle;\n",
       "    }\n",
       "\n",
       "    .dataframe tbody tr th {\n",
       "        vertical-align: top;\n",
       "    }\n",
       "\n",
       "    .dataframe thead th {\n",
       "        text-align: right;\n",
       "    }\n",
       "</style>\n",
       "<table border=\"1\" class=\"dataframe\">\n",
       "  <thead>\n",
       "    <tr style=\"text-align: right;\">\n",
       "      <th></th>\n",
       "      <th>created_at</th>\n",
       "      <th>id</th>\n",
       "      <th>username</th>\n",
       "      <th>name</th>\n",
       "      <th>user_id</th>\n",
       "      <th>body</th>\n",
       "      <th>basic_sentiment</th>\n",
       "    </tr>\n",
       "  </thead>\n",
       "  <tbody>\n",
       "    <tr>\n",
       "      <th>0</th>\n",
       "      <td>2021-12-31 23:57:27+00:00</td>\n",
       "      <td>422497650</td>\n",
       "      <td>hoyasaxa1978</td>\n",
       "      <td>hoyasaxa1978</td>\n",
       "      <td>819540</td>\n",
       "      <td>$AAPL  🍏 In the “final second” of the Close, 8...</td>\n",
       "      <td>0.0</td>\n",
       "    </tr>\n",
       "    <tr>\n",
       "      <th>1</th>\n",
       "      <td>2021-12-31 23:51:08+00:00</td>\n",
       "      <td>422496711</td>\n",
       "      <td>InsiderFinance</td>\n",
       "      <td>InsiderFinance_io</td>\n",
       "      <td>4012623</td>\n",
       "      <td>Sweep Options Activity: $AAPL is the #1 ticker...</td>\n",
       "      <td>NaN</td>\n",
       "    </tr>\n",
       "    <tr>\n",
       "      <th>2</th>\n",
       "      <td>2021-12-31 23:48:33+00:00</td>\n",
       "      <td>422496310</td>\n",
       "      <td>OptionsQueenTrader</td>\n",
       "      <td>Malika</td>\n",
       "      <td>5498543</td>\n",
       "      <td>$SPY next year we will go low real low. Expect...</td>\n",
       "      <td>1.0</td>\n",
       "    </tr>\n",
       "  </tbody>\n",
       "</table>\n",
       "</div>"
      ],
      "text/plain": [
       "                  created_at         id            username  \\\n",
       "0  2021-12-31 23:57:27+00:00  422497650        hoyasaxa1978   \n",
       "1  2021-12-31 23:51:08+00:00  422496711      InsiderFinance   \n",
       "2  2021-12-31 23:48:33+00:00  422496310  OptionsQueenTrader   \n",
       "\n",
       "                name  user_id  \\\n",
       "0       hoyasaxa1978   819540   \n",
       "1  InsiderFinance_io  4012623   \n",
       "2             Malika  5498543   \n",
       "\n",
       "                                                body  basic_sentiment  \n",
       "0  $AAPL  🍏 In the “final second” of the Close, 8...              0.0  \n",
       "1  Sweep Options Activity: $AAPL is the #1 ticker...              NaN  \n",
       "2  $SPY next year we will go low real low. Expect...              1.0  "
      ]
     },
     "execution_count": 200,
     "metadata": {},
     "output_type": "execute_result"
    }
   ],
   "source": [
    "dataset.head(3)"
   ]
  },
  {
   "cell_type": "code",
   "execution_count": 201,
   "metadata": {
    "colab": {
     "base_uri": "https://localhost:8080/"
    },
    "executionInfo": {
     "elapsed": 34,
     "status": "ok",
     "timestamp": 1642421672100,
     "user": {
      "displayName": "Jule Schüttler",
      "photoUrl": "https://lh3.googleusercontent.com/a/default-user=s64",
      "userId": "08966339081108686012"
     },
     "user_tz": -60
    },
    "id": "ff8RmwTs0CWR",
    "outputId": "dd201cec-3c2e-40b7-f6e2-56aebf260fba"
   },
   "outputs": [
    {
     "data": {
      "text/plain": [
       "Index(['created_at', 'id', 'username', 'name', 'user_id', 'body',\n",
       "       'basic_sentiment'],\n",
       "      dtype='object')"
      ]
     },
     "execution_count": 201,
     "metadata": {},
     "output_type": "execute_result"
    }
   ],
   "source": [
    "dataset.columns\n"
   ]
  },
  {
   "cell_type": "code",
   "execution_count": 202,
   "metadata": {
    "colab": {
     "base_uri": "https://localhost:8080/"
    },
    "executionInfo": {
     "elapsed": 28,
     "status": "ok",
     "timestamp": 1642421672101,
     "user": {
      "displayName": "Jule Schüttler",
      "photoUrl": "https://lh3.googleusercontent.com/a/default-user=s64",
      "userId": "08966339081108686012"
     },
     "user_tz": -60
    },
    "id": "QvbBhl250oW8",
    "outputId": "24b884da-670f-4f7f-b63a-4887be02d9e2"
   },
   "outputs": [
    {
     "name": "stdout",
     "output_type": "stream",
     "text": [
      "$AAPL someone told me Apple will announce Apple car in September 2022, is it true? Will Apple stock price drop after that just like when they announce the new iPhone every year?\n"
     ]
    }
   ],
   "source": [
    "#Look at tweets\n",
    "print(dataset['body'][3])"
   ]
  },
  {
   "cell_type": "code",
   "execution_count": 203,
   "metadata": {
    "executionInfo": {
     "elapsed": 25,
     "status": "ok",
     "timestamp": 1642421672102,
     "user": {
      "displayName": "Jule Schüttler",
      "photoUrl": "https://lh3.googleusercontent.com/a/default-user=s64",
      "userId": "08966339081108686012"
     },
     "user_tz": -60
    },
    "id": "UyVcEsVQ1rYS"
   },
   "outputs": [],
   "source": [
    "# Make a histogramm of the labels\n",
    "#sns.countplot(dataset['basic_sentiment'],label='Count')\n",
    "#label imbalance\n",
    "#stratified train test split (Verteilung beider labels sollte in splitted datasets das gleiche Verhältnis haben) sklearn function hat das\n",
    "#when training the model there is a parameter \"importance/weights\" (tensor flow bei model.fit classweight oder sample_weigth)\n",
    "#Bei evaluierung nicht accuracy wählen!  confusion matrix  anschauen (F1 score, F beta score, precision recall)"
   ]
  },
  {
   "cell_type": "code",
   "execution_count": 204,
   "metadata": {
    "colab": {
     "base_uri": "https://localhost:8080/"
    },
    "executionInfo": {
     "elapsed": 25,
     "status": "ok",
     "timestamp": 1642421672102,
     "user": {
      "displayName": "Jule Schüttler",
      "photoUrl": "https://lh3.googleusercontent.com/a/default-user=s64",
      "userId": "08966339081108686012"
     },
     "user_tz": -60
    },
    "id": "S2oAxVe64PFt",
    "outputId": "962d09db-79a1-4ccc-f9a3-64a5f715263e"
   },
   "outputs": [
    {
     "data": {
      "text/plain": [
       "count    47521.000000\n",
       "mean        95.721681\n",
       "std        109.907828\n",
       "min          5.000000\n",
       "25%         33.000000\n",
       "50%         62.000000\n",
       "75%        118.000000\n",
       "max       2390.000000\n",
       "Name: length, dtype: float64"
      ]
     },
     "execution_count": 204,
     "metadata": {},
     "output_type": "execute_result"
    }
   ],
   "source": [
    "#Length of the tweets\n",
    "#generate an additional column that contains the length of the tweets\n",
    "dataset['length']=dataset['body'].apply(len)\n",
    "dataset['length'].describe()"
   ]
  },
  {
   "cell_type": "code",
   "execution_count": 205,
   "metadata": {
    "colab": {
     "base_uri": "https://localhost:8080/"
    },
    "executionInfo": {
     "elapsed": 22,
     "status": "ok",
     "timestamp": 1642421672103,
     "user": {
      "displayName": "Jule Schüttler",
      "photoUrl": "https://lh3.googleusercontent.com/a/default-user=s64",
      "userId": "08966339081108686012"
     },
     "user_tz": -60
    },
    "id": "zM3Q3Ps75T8D",
    "outputId": "ef0e23e8-b703-4184-b8a2-4c15e8f6b512"
   },
   "outputs": [
    {
     "name": "stdout",
     "output_type": "stream",
     "text": [
      "$AAPL\n",
      "@Jimmyboy29 $AAPL missed last earnings on 10l/28, and is up 21% since then, trollboy. 🍏📈 \n",
      " \n",
      "https://finance.yahoo.com/quote/AAPL/chart?p=AAPL#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\n"
     ]
    }
   ],
   "source": [
    "#shortest tweet\n",
    "print(dataset[dataset['length']==5]['body'].iloc[0])\n",
    "#longest tweet\n",
    "print(dataset[dataset['length']==2390]['body'].iloc[0])"
   ]
  },
  {
   "cell_type": "code",
   "execution_count": 206,
   "metadata": {
    "colab": {
     "base_uri": "https://localhost:8080/",
     "height": 282
    },
    "executionInfo": {
     "elapsed": 270,
     "status": "ok",
     "timestamp": 1642421672356,
     "user": {
      "displayName": "Jule Schüttler",
      "photoUrl": "https://lh3.googleusercontent.com/a/default-user=s64",
      "userId": "08966339081108686012"
     },
     "user_tz": -60
    },
    "id": "QUyxD3xh6Gh5",
    "outputId": "1912d2de-4057-4e17-f3a6-a4f7ab8b1ee8"
   },
   "outputs": [
    {
     "data": {
      "text/plain": [
       "<AxesSubplot:ylabel='Frequency'>"
      ]
     },
     "execution_count": 206,
     "metadata": {},
     "output_type": "execute_result"
    },
    {
     "data": {
      "image/png": "[encoded data removed]",
      "text/plain": [
       "<Figure size 432x288 with 1 Axes>"
      ]
     },
     "metadata": {
      "needs_background": "light"
     },
     "output_type": "display_data"
    }
   ],
   "source": [
    "#histogramm of tweet length\n",
    "dataset['length'].plot(bins=100,kind='hist',range = [0,1100])"
   ]
  },
  {
   "cell_type": "markdown",
   "metadata": {
    "id": "R30by2Bo8ITa"
   },
   "source": [
    "###Create a WordCloud"
   ]
  },
  {
   "cell_type": "code",
   "execution_count": 207,
   "metadata": {
    "executionInfo": {
     "elapsed": 10,
     "status": "ok",
     "timestamp": 1642421672599,
     "user": {
      "displayName": "Jule Schüttler",
      "photoUrl": "https://lh3.googleusercontent.com/a/default-user=s64",
      "userId": "08966339081108686012"
     },
     "user_tz": -60
    },
    "id": "UExEc2Zn7DSs"
   },
   "outputs": [],
   "source": [
    "#Postitive labels\n",
    "positive = dataset[dataset['basic_sentiment']==0]\n",
    "negative = dataset[dataset['basic_sentiment']== 1]\n",
    "\n",
    "#Turn all tweets into one string \n",
    "sentences = dataset['body'].tolist() #turns the tweet column into a list\n",
    "len(sentences) # list has same length as number of tweets\n",
    "sentences_as_one_string = \"\".join(sentences) # turns all sequences into one string\n",
    "\n",
    "sentences_positive = positive['body'].tolist() #turns the tweet column into a list # list has same length as number of tweets\n",
    "sentences_as_one_string_positive = \"\".join(sentences_positive) # turns all sequences into one string\n",
    "\n",
    "sentences_negative = negative['body'].tolist() #turns the tweet column into a list # list has same length as number of tweets\n",
    "sentences_as_one_string_negative = \"\".join(sentences_negative) # turns all sequences into one string\n"
   ]
  },
  {
   "cell_type": "code",
   "execution_count": 208,
   "metadata": {
    "colab": {
     "base_uri": "https://localhost:8080/",
     "height": 0
    },
    "executionInfo": {
     "elapsed": 8941,
     "status": "ok",
     "timestamp": 1642421681533,
     "user": {
      "displayName": "Jule Schüttler",
      "photoUrl": "https://lh3.googleusercontent.com/a/default-user=s64",
      "userId": "08966339081108686012"
     },
     "user_tz": -60
    },
    "id": "MtZpTsw48MsT",
    "outputId": "f4b80d9f-c05b-463e-8efe-aa71edd618c8"
   },
   "outputs": [
    {
     "name": "stdout",
     "output_type": "stream",
     "text": [
      "Collecting WordCloud\n",
      "  Using cached wordcloud-1.8.1.tar.gz (220 kB)\n",
      "Requirement already satisfied: numpy>=1.6.1 in c:\\users\\jschuettler\\anaconda3\\lib\\site-packages (from WordCloud) (1.20.3)\n",
      "Requirement already satisfied: pillow in c:\\users\\jschuettler\\anaconda3\\lib\\site-packages (from WordCloud) (8.4.0)\n",
      "Requirement already satisfied: matplotlib in c:\\users\\jschuettler\\anaconda3\\lib\\site-packages (from WordCloud) (3.4.3)\n",
      "Requirement already satisfied: kiwisolver>=1.0.1 in c:\\users\\jschuettler\\anaconda3\\lib\\site-packages (from matplotlib->WordCloud) (1.3.1)\n",
      "Requirement already satisfied: python-dateutil>=2.7 in c:\\users\\jschuettler\\anaconda3\\lib\\site-packages (from matplotlib->WordCloud) (2.8.2)\n",
      "Requirement already satisfied: pyparsing>=2.2.1 in c:\\users\\jschuettler\\anaconda3\\lib\\site-packages (from matplotlib->WordCloud) (3.0.4)\n",
      "Requirement already satisfied: cycler>=0.10 in c:\\users\\jschuettler\\anaconda3\\lib\\site-packages (from matplotlib->WordCloud) (0.10.0)\n",
      "Requirement already satisfied: six in c:\\users\\jschuettler\\anaconda3\\lib\\site-packages (from cycler>=0.10->matplotlib->WordCloud) (1.16.0)\n",
      "Building wheels for collected packages: WordCloud\n",
      "  Building wheel for WordCloud (setup.py): started\n",
      "  Building wheel for WordCloud (setup.py): finished with status 'error'\n",
      "  Running setup.py clean for WordCloud\n",
      "Failed to build WordCloud\n",
      "Installing collected packages: WordCloud\n",
      "    Running setup.py install for WordCloud: started\n",
      "    Running setup.py install for WordCloud: finished with status 'error'\n"
     ]
    },
    {
     "name": "stderr",
     "output_type": "stream",
     "text": [
      "  ERROR: Command errored out with exit status 1:\n",
      "   command: 'C:\\Users\\JSchuettler\\Anaconda3\\python.exe' -u -c 'import io, os, sys, setuptools, tokenize; sys.argv[0] = '\"'\"'C:\\\\Users\\\\JSchuettler\\\\AppData\\\\Local\\\\Temp\\\\pip-install-q0b8se57\\\\wordcloud_6c92cd3341ed4d729948a13ea3fb25c1\\\\setup.py'\"'\"'; __file__='\"'\"'C:\\\\Users\\\\JSchuettler\\\\AppData\\\\Local\\\\Temp\\\\pip-install-q0b8se57\\\\wordcloud_6c92cd3341ed4d729948a13ea3fb25c1\\\\setup.py'\"'\"';f = getattr(tokenize, '\"'\"'open'\"'\"', open)(__file__) if os.path.exists(__file__) else io.StringIO('\"'\"'from setuptools import setup; setup()'\"'\"');code = f.read().replace('\"'\"'\\r\\n'\"'\"', '\"'\"'\\n'\"'\"');f.close();exec(compile(code, __file__, '\"'\"'exec'\"'\"'))' bdist_wheel -d 'C:\\Users\\JSchuettler\\AppData\\Local\\Temp\\pip-wheel-eawew15k'\n",
      "       cwd: C:\\Users\\JSchuettler\\AppData\\Local\\Temp\\pip-install-q0b8se57\\wordcloud_6c92cd3341ed4d729948a13ea3fb25c1\\\n",
      "  Complete output (20 lines):\n",
      "  running bdist_wheel\n",
      "  running build\n",
      "  running build_py\n",
      "  creating build\n",
      "  creating build\\lib.win-amd64-3.9\n",
      "  creating build\\lib.win-amd64-3.9\\wordcloud\n",
      "  copying wordcloud\\color_from_image.py -> build\\lib.win-amd64-3.9\\wordcloud\n",
      "  copying wordcloud\\tokenization.py -> build\\lib.win-amd64-3.9\\wordcloud\n",
      "  copying wordcloud\\wordcloud.py -> build\\lib.win-amd64-3.9\\wordcloud\n",
      "  copying wordcloud\\wordcloud_cli.py -> build\\lib.win-amd64-3.9\\wordcloud\n",
      "  copying wordcloud\\_version.py -> build\\lib.win-amd64-3.9\\wordcloud\n",
      "  copying wordcloud\\__init__.py -> build\\lib.win-amd64-3.9\\wordcloud\n",
      "  copying wordcloud\\__main__.py -> build\\lib.win-amd64-3.9\\wordcloud\n",
      "  copying wordcloud\\stopwords -> build\\lib.win-amd64-3.9\\wordcloud\n",
      "  copying wordcloud\\DroidSansMono.ttf -> build\\lib.win-amd64-3.9\\wordcloud\n",
      "  UPDATING build\\lib.win-amd64-3.9\\wordcloud/_version.py\n",
      "  set build\\lib.win-amd64-3.9\\wordcloud/_version.py to '1.8.1'\n",
      "  running build_ext\n",
      "  building 'wordcloud.query_integral_image' extension\n",
      "  error: Microsoft Visual C++ 14.0 or greater is required. Get it with \"Microsoft C++ Build Tools\": https://visualstudio.microsoft.com/visual-cpp-build-tools/\n",
      "  ----------------------------------------\n",
      "  ERROR: Failed building wheel for WordCloud\n",
      "    ERROR: Command errored out with exit status 1:\n",
      "     command: 'C:\\Users\\JSchuettler\\Anaconda3\\python.exe' -u -c 'import io, os, sys, setuptools, tokenize; sys.argv[0] = '\"'\"'C:\\\\Users\\\\JSchuettler\\\\AppData\\\\Local\\\\Temp\\\\pip-install-q0b8se57\\\\wordcloud_6c92cd3341ed4d729948a13ea3fb25c1\\\\setup.py'\"'\"'; __file__='\"'\"'C:\\\\Users\\\\JSchuettler\\\\AppData\\\\Local\\\\Temp\\\\pip-install-q0b8se57\\\\wordcloud_6c92cd3341ed4d729948a13ea3fb25c1\\\\setup.py'\"'\"';f = getattr(tokenize, '\"'\"'open'\"'\"', open)(__file__) if os.path.exists(__file__) else io.StringIO('\"'\"'from setuptools import setup; setup()'\"'\"');code = f.read().replace('\"'\"'\\r\\n'\"'\"', '\"'\"'\\n'\"'\"');f.close();exec(compile(code, __file__, '\"'\"'exec'\"'\"'))' install --record 'C:\\Users\\JSchuettler\\AppData\\Local\\Temp\\pip-record-whqkjuj_\\install-record.txt' --single-version-externally-managed --compile --install-headers 'C:\\Users\\JSchuettler\\Anaconda3\\Include\\WordCloud'\n",
      "         cwd: C:\\Users\\JSchuettler\\AppData\\Local\\Temp\\pip-install-q0b8se57\\wordcloud_6c92cd3341ed4d729948a13ea3fb25c1\\\n",
      "    Complete output (20 lines):\n",
      "    running install\n",
      "    running build\n",
      "    running build_py\n",
      "    creating build\n",
      "    creating build\\lib.win-amd64-3.9\n",
      "    creating build\\lib.win-amd64-3.9\\wordcloud\n",
      "    copying wordcloud\\color_from_image.py -> build\\lib.win-amd64-3.9\\wordcloud\n",
      "    copying wordcloud\\tokenization.py -> build\\lib.win-amd64-3.9\\wordcloud\n",
      "    copying wordcloud\\wordcloud.py -> build\\lib.win-amd64-3.9\\wordcloud\n",
      "    copying wordcloud\\wordcloud_cli.py -> build\\lib.win-amd64-3.9\\wordcloud\n",
      "    copying wordcloud\\_version.py -> build\\lib.win-amd64-3.9\\wordcloud\n",
      "    copying wordcloud\\__init__.py -> build\\lib.win-amd64-3.9\\wordcloud\n",
      "    copying wordcloud\\__main__.py -> build\\lib.win-amd64-3.9\\wordcloud\n",
      "    copying wordcloud\\stopwords -> build\\lib.win-amd64-3.9\\wordcloud\n",
      "    copying wordcloud\\DroidSansMono.ttf -> build\\lib.win-amd64-3.9\\wordcloud\n",
      "    UPDATING build\\lib.win-amd64-3.9\\wordcloud/_version.py\n",
      "    set build\\lib.win-amd64-3.9\\wordcloud/_version.py to '1.8.1'\n",
      "    running build_ext\n",
      "    building 'wordcloud.query_integral_image' extension\n",
      "    error: Microsoft Visual C++ 14.0 or greater is required. Get it with \"Microsoft C++ Build Tools\": https://visualstudio.microsoft.com/visual-cpp-build-tools/\n",
      "    ----------------------------------------\n",
      "ERROR: Command errored out with exit status 1: 'C:\\Users\\JSchuettler\\Anaconda3\\python.exe' -u -c 'import io, os, sys, setuptools, tokenize; sys.argv[0] = '\"'\"'C:\\\\Users\\\\JSchuettler\\\\AppData\\\\Local\\\\Temp\\\\pip-install-q0b8se57\\\\wordcloud_6c92cd3341ed4d729948a13ea3fb25c1\\\\setup.py'\"'\"'; __file__='\"'\"'C:\\\\Users\\\\JSchuettler\\\\AppData\\\\Local\\\\Temp\\\\pip-install-q0b8se57\\\\wordcloud_6c92cd3341ed4d729948a13ea3fb25c1\\\\setup.py'\"'\"';f = getattr(tokenize, '\"'\"'open'\"'\"', open)(__file__) if os.path.exists(__file__) else io.StringIO('\"'\"'from setuptools import setup; setup()'\"'\"');code = f.read().replace('\"'\"'\\r\\n'\"'\"', '\"'\"'\\n'\"'\"');f.close();exec(compile(code, __file__, '\"'\"'exec'\"'\"'))' install --record 'C:\\Users\\JSchuettler\\AppData\\Local\\Temp\\pip-record-whqkjuj_\\install-record.txt' --single-version-externally-managed --compile --install-headers 'C:\\Users\\JSchuettler\\Anaconda3\\Include\\WordCloud' Check the logs for full command output.\n"
     ]
    },
    {
     "ename": "ModuleNotFoundError",
     "evalue": "No module named 'wordcloud'",
     "output_type": "error",
     "traceback": [
      "\u001B[1;31m---------------------------------------------------------------------------\u001B[0m",
      "\u001B[1;31mModuleNotFoundError\u001B[0m                       Traceback (most recent call last)",
      "\u001B[1;32mC:\\Users\\JSCHUE~1\\AppData\\Local\\Temp/ipykernel_17432/2809381472.py\u001B[0m in \u001B[0;36m<module>\u001B[1;34m\u001B[0m\n\u001B[0;32m      1\u001B[0m \u001B[0mget_ipython\u001B[0m\u001B[1;33m(\u001B[0m\u001B[1;33m)\u001B[0m\u001B[1;33m.\u001B[0m\u001B[0msystem\u001B[0m\u001B[1;33m(\u001B[0m\u001B[1;34m'pip install WordCloud'\u001B[0m\u001B[1;33m)\u001B[0m\u001B[1;33m\u001B[0m\u001B[1;33m\u001B[0m\u001B[0m\n\u001B[1;32m----> 2\u001B[1;33m \u001B[1;32mfrom\u001B[0m \u001B[0mwordcloud\u001B[0m \u001B[1;32mimport\u001B[0m \u001B[0mWordCloud\u001B[0m\u001B[1;33m\u001B[0m\u001B[1;33m\u001B[0m\u001B[0m\n\u001B[0m\u001B[0;32m      3\u001B[0m \u001B[1;32mimport\u001B[0m \u001B[0mmatplotlib\u001B[0m\u001B[1;33m.\u001B[0m\u001B[0mpyplot\u001B[0m \u001B[1;32mas\u001B[0m \u001B[0mplt\u001B[0m\u001B[1;33m\u001B[0m\u001B[1;33m\u001B[0m\u001B[0m\n\u001B[0;32m      4\u001B[0m \u001B[1;33m\u001B[0m\u001B[0m\n\u001B[0;32m      5\u001B[0m \u001B[0mplt\u001B[0m\u001B[1;33m.\u001B[0m\u001B[0mfigure\u001B[0m\u001B[1;33m(\u001B[0m\u001B[0mfigsize\u001B[0m \u001B[1;33m=\u001B[0m\u001B[1;33m(\u001B[0m\u001B[1;36m20\u001B[0m\u001B[1;33m,\u001B[0m\u001B[1;36m20\u001B[0m\u001B[1;33m)\u001B[0m\u001B[1;33m)\u001B[0m\u001B[1;33m\u001B[0m\u001B[1;33m\u001B[0m\u001B[0m\n",
      "\u001B[1;31mModuleNotFoundError\u001B[0m: No module named 'wordcloud'"
     ]
    }
   ],
   "source": [
    "!pip install WordCloud\n",
    "from wordcloud import WordCloud\n",
    "import matplotlib.pyplot as plt\n",
    "\n",
    "plt.figure(figsize =(20,20))\n",
    "plt.imshow(WordCloud().generate(sentences_as_one_string))"
   ]
  },
  {
   "cell_type": "code",
   "execution_count": null,
   "metadata": {
    "colab": {
     "base_uri": "https://localhost:8080/",
     "height": 0
    },
    "executionInfo": {
     "elapsed": 2535,
     "status": "ok",
     "timestamp": 1642421684048,
     "user": {
      "displayName": "Jule Schüttler",
      "photoUrl": "https://lh3.googleusercontent.com/a/default-user=s64",
      "userId": "08966339081108686012"
     },
     "user_tz": -60
    },
    "id": "kk05e3aS-XjC",
    "outputId": "455627ff-9f42-4fde-ba1b-de77093ed56a"
   },
   "outputs": [],
   "source": [
    "#postive WordCloud\n",
    "plt.figure(figsize =(20,20))\n",
    "plt.imshow(WordCloud().generate(sentences_as_one_string_positive))"
   ]
  },
  {
   "cell_type": "code",
   "execution_count": null,
   "metadata": {
    "colab": {
     "base_uri": "https://localhost:8080/",
     "height": 0
    },
    "executionInfo": {
     "elapsed": 1779,
     "status": "ok",
     "timestamp": 1642421685807,
     "user": {
      "displayName": "Jule Schüttler",
      "photoUrl": "https://lh3.googleusercontent.com/a/default-user=s64",
      "userId": "08966339081108686012"
     },
     "user_tz": -60
    },
    "id": "OZR5Nfla-ig1",
    "outputId": "d6e078d7-e1d7-469a-e5e0-a8bc77ec74e0"
   },
   "outputs": [],
   "source": [
    "#negative WordCloud\n",
    "plt.figure(figsize =(20,20))\n",
    "plt.imshow(WordCloud().generate(sentences_as_one_string_negative))"
   ]
  },
  {
   "cell_type": "markdown",
   "metadata": {
    "id": "7f-vwlYjVGLc"
   },
   "source": [
    "## Data Preprocessing \n",
    "All unlabeled rows are dropped. \n",
    "I further delete all columns except for body (which contains the tweet) and basic sentiment which corresponds to the label."
   ]
  },
  {
   "cell_type": "code",
   "execution_count": 5,
   "metadata": {
    "colab": {
     "base_uri": "https://localhost:8080/"
    },
    "executionInfo": {
     "elapsed": 59,
     "status": "ok",
     "timestamp": 1642421685808,
     "user": {
      "displayName": "Jule Schüttler",
      "photoUrl": "https://lh3.googleusercontent.com/a/default-user=s64",
      "userId": "08966339081108686012"
     },
     "user_tz": -60
    },
    "id": "2dfZHxqHyAWb",
    "outputId": "6d54cdec-45f2-4f46-e616-6b6bd3827e4a"
   },
   "outputs": [
    {
     "data": {
      "text/plain": [
       "body               object\n",
       "basic_sentiment     int32\n",
       "dtype: object"
      ]
     },
     "execution_count": 5,
     "metadata": {},
     "output_type": "execute_result"
    }
   ],
   "source": [
    "dataset = dataset[['body','basic_sentiment']]\n",
    "dataset = dataset.dropna()\n",
    "dataset['basic_sentiment'] = dataset['basic_sentiment'].astype(int)\n",
    "dataset.dtypes"
   ]
  },
  {
   "cell_type": "code",
   "execution_count": 6,
   "metadata": {
    "colab": {
     "base_uri": "https://localhost:8080/"
    },
    "executionInfo": {
     "elapsed": 58,
     "status": "ok",
     "timestamp": 1642421685810,
     "user": {
      "displayName": "Jule Schüttler",
      "photoUrl": "https://lh3.googleusercontent.com/a/default-user=s64",
      "userId": "08966339081108686012"
     },
     "user_tz": -60
    },
    "id": "1nukTkQBxY-y",
    "outputId": "eb40c127-efcc-483d-bb10-13ee097321f6"
   },
   "outputs": [
    {
     "name": "stdout",
     "output_type": "stream",
     "text": [
      "(3980, 2)\n"
     ]
    }
   ],
   "source": [
    "#dataset = dataset[:70]\n",
    "print(dataset.shape)"
   ]
  },
  {
   "cell_type": "markdown",
   "metadata": {
    "id": "zVPgFJvYwvwb"
   },
   "source": [
    "# Calculate the class weights "
   ]
  },
  {
   "cell_type": "code",
   "execution_count": 7,
   "metadata": {
    "colab": {
     "base_uri": "https://localhost:8080/"
    },
    "executionInfo": {
     "elapsed": 55,
     "status": "ok",
     "timestamp": 1642421685811,
     "user": {
      "displayName": "Jule Schüttler",
      "photoUrl": "https://lh3.googleusercontent.com/a/default-user=s64",
      "userId": "08966339081108686012"
     },
     "user_tz": -60
    },
    "id": "xA6YqH9wZ1BJ",
    "outputId": "9ba63bac-5870-4dd7-cb78-1c8a44f1f0d5"
   },
   "outputs": [
    {
     "name": "stdout",
     "output_type": "stream",
     "text": [
      "positive sentiment (class 0): 3833 \n",
      " negatives sentiment (class 1): 147 (3.69% of total)\n",
      "\n"
     ]
    }
   ],
   "source": [
    "pos, neg= np.bincount(dataset['basic_sentiment'])\n",
    "total = pos+neg\n",
    "print('positive sentiment (class 0):', pos,'\\n negatives sentiment (class 1):',neg, '({:.2f}% of total)\\n'.format(\n",
    "     100 * neg / total))\n"
   ]
  },
  {
   "cell_type": "code",
   "execution_count": 8,
   "metadata": {
    "colab": {
     "base_uri": "https://localhost:8080/"
    },
    "executionInfo": {
     "elapsed": 53,
     "status": "ok",
     "timestamp": 1642421685812,
     "user": {
      "displayName": "Jule Schüttler",
      "photoUrl": "https://lh3.googleusercontent.com/a/default-user=s64",
      "userId": "08966339081108686012"
     },
     "user_tz": -60
    },
    "id": "aaY1fEWKwt8L",
    "outputId": "1a1fc623-c298-4e8a-e771-b11f7c7a9547"
   },
   "outputs": [
    {
     "name": "stdout",
     "output_type": "stream",
     "text": [
      "Weight for class 0 (positives sentiment): 0.52\n",
      "Weight for class 1 (negatives sentiment): 13.54\n"
     ]
    }
   ],
   "source": [
    "weight_for_0 = (1 / pos) * (total / 2.0)\n",
    "weight_for_1 = (1 / neg) * (total / 2.0)\n",
    "\n",
    "class_weight = {0: weight_for_0, 1: weight_for_1}\n",
    "\n",
    "print('Weight for class 0 (positives sentiment): {:.2f}'.format(weight_for_0))\n",
    "print('Weight for class 1 (negatives sentiment): {:.2f}'.format(weight_for_1))\n"
   ]
  },
  {
   "cell_type": "markdown",
   "metadata": {
    "id": "Cqna3ESc3Otr"
   },
   "source": [
    "# Create a dataset.Dataset from pandas df"
   ]
  },
  {
   "cell_type": "code",
   "execution_count": 9,
   "metadata": {
    "executionInfo": {
     "elapsed": 51,
     "status": "ok",
     "timestamp": 1642421685813,
     "user": {
      "displayName": "Jule Schüttler",
      "photoUrl": "https://lh3.googleusercontent.com/a/default-user=s64",
      "userId": "08966339081108686012"
     },
     "user_tz": -60
    },
    "id": "6MwIOT7aHfT9"
   },
   "outputs": [],
   "source": [
    "# create huggingface/ arrow dataset from pandas df\n",
    "dataset = Dataset.from_pandas(dataset).remove_columns(\"__index_level_0__\")\n"
   ]
  },
  {
   "cell_type": "code",
   "execution_count": 10,
   "metadata": {
    "colab": {
     "base_uri": "https://localhost:8080/",
     "height": 84,
     "referenced_widgets": [
      "165153e1e49844e9882a445d5a5e8bf1",
      "a79241cb74724313a48333dee7eeedef",
      "9ba05a4a689a4579963f41a75dfee9bb",
      "2b5447e525a545afae9336825ff77bba",
      "4201f46e7d3d4946aacd33aae46d1d6c",
      "56752e42dc0a4871b7b057b9fd47ca5f",
      "140ef4362d23448c99e8e2e1a2aac919",
      "abc2ba48e695487da81a98b8f91912f9",
      "14e894900df345cbb66419a711fbf9f0",
      "2bf6cf63488245e2bd88cbe390cfd0cc",
      "85f8360fe4c8417b8047d21c417e285e"
     ]
    },
    "executionInfo": {
     "elapsed": 51,
     "status": "ok",
     "timestamp": 1642421685814,
     "user": {
      "displayName": "Jule Schüttler",
      "photoUrl": "https://lh3.googleusercontent.com/a/default-user=s64",
      "userId": "08966339081108686012"
     },
     "user_tz": -60
    },
    "id": "cP9RzCFu_08Q",
    "outputId": "cc6f0707-a800-4e26-fa80-765a63ee8e48"
   },
   "outputs": [
    {
     "name": "stdout",
     "output_type": "stream",
     "text": [
      "before:  {'body': Value(dtype='string', id=None), 'basic_sentiment': Value(dtype='int32', id=None)}\n"
     ]
    },
    {
     "data": {
      "application/vnd.jupyter.widget-view+json": {
       "model_id": "46d4852d1472476e8172e310533ecc06",
       "version_major": 2,
       "version_minor": 0
      },
      "text/plain": [
       "Casting the dataset:   0%|          | 0/1 [00:00<?, ?ba/s]"
      ]
     },
     "metadata": {},
     "output_type": "display_data"
    },
    {
     "name": "stdout",
     "output_type": "stream",
     "text": [
      "after:  {'body': Value(dtype='string', id=None), 'basic_sentiment': ClassLabel(num_classes=2, names=['negative', 'positive'], names_file=None, id=None)}\n"
     ]
    }
   ],
   "source": [
    "print(\"before: \",dataset.features)\n",
    "# add labels to sentiment scores for better readability\n",
    "feat_sentiment = ClassLabel(num_classes = 2,names=[\"negative\", \"positive\"])\n",
    "dataset = dataset.cast_column(\"basic_sentiment\", feat_sentiment)\n",
    "print(\"after: \", dataset.features)"
   ]
  },
  {
   "cell_type": "code",
   "execution_count": 11,
   "metadata": {
    "colab": {
     "base_uri": "https://localhost:8080/"
    },
    "executionInfo": {
     "elapsed": 40,
     "status": "ok",
     "timestamp": 1642421685815,
     "user": {
      "displayName": "Jule Schüttler",
      "photoUrl": "https://lh3.googleusercontent.com/a/default-user=s64",
      "userId": "08966339081108686012"
     },
     "user_tz": -60
    },
    "id": "7bkxXVAA1wxb",
    "outputId": "3658d768-86f4-45e4-d5c4-eb04f1abdabf"
   },
   "outputs": [],
   "source": [
    "#Split into training and test data\n",
    "dataset_split = dataset.train_test_split(test_size=0.1) # to apply train_test_split I need to have a dataset not a datasetDict object \n",
    "train_data = dataset_split['train']\n",
    "test_data = dataset_split['test']\n",
    "\n",
    "#Split training data into training and validation data\n",
    "train_data_split = train_data.train_test_split(test_size=1/9)\n",
    "train_data = train_data_split['train']\n",
    "validation_data = train_data_split['test']\n"
   ]
  },
  {
   "cell_type": "code",
   "execution_count": 12,
   "metadata": {},
   "outputs": [
    {
     "name": "stdout",
     "output_type": "stream",
     "text": [
      "DatasetDict({\n",
      "    train: Dataset({\n",
      "        features: ['body', 'basic_sentiment'],\n",
      "        num_rows: 3184\n",
      "    })\n",
      "    validation: Dataset({\n",
      "        features: ['body', 'basic_sentiment'],\n",
      "        num_rows: 398\n",
      "    })\n",
      "    test: Dataset({\n",
      "        features: ['body', 'basic_sentiment'],\n",
      "        num_rows: 398\n",
      "    })\n",
      "})\n"
     ]
    },
    {
     "data": {
      "text/plain": [
       "{'body': Value(dtype='string', id=None),\n",
       " 'basic_sentiment': ClassLabel(num_classes=2, names=['negative', 'positive'], names_file=None, id=None)}"
      ]
     },
     "execution_count": 12,
     "metadata": {},
     "output_type": "execute_result"
    }
   ],
   "source": [
    "dataset = DatasetDict({\n",
    "    'train': train_data,\n",
    "    'validation': validation_data,\n",
    "    'test': test_data\n",
    "})\n",
    "\n",
    "print(dataset)\n",
    "dataset['train'].features"
   ]
  },
  {
   "cell_type": "markdown",
   "metadata": {
    "id": "3BHkNx1dsLt2"
   },
   "source": [
    "### Check distribution of labels wihtin the random subsamples and calculate the classweights\n",
    "\n",
    "\n",
    "\n"
   ]
  },
  {
   "cell_type": "code",
   "execution_count": 13,
   "metadata": {
    "colab": {
     "base_uri": "https://localhost:8080/"
    },
    "executionInfo": {
     "elapsed": 36,
     "status": "ok",
     "timestamp": 1642421685817,
     "user": {
      "displayName": "Jule Schüttler",
      "photoUrl": "https://lh3.googleusercontent.com/a/default-user=s64",
      "userId": "08966339081108686012"
     },
     "user_tz": -60
    },
    "id": "2NFaZvnK2KcK",
    "outputId": "05082714-7bb9-4f78-a5e9-0099810bc8f7"
   },
   "outputs": [
    {
     "name": "stdout",
     "output_type": "stream",
     "text": [
      "positive sentiment (class 0): 3061 \n",
      " negatives sentiment (class 1): 123 (3.69% of total)\n",
      "\n"
     ]
    }
   ],
   "source": [
    "pos_train, neg_train = np.bincount(dataset['train']['basic_sentiment'])\n",
    "print('positive sentiment (class 0):', pos_train,'\\n negatives sentiment (class 1):',neg_train, '({:.2f}% of total)\\n'.format(\n",
    "     100 * neg / total))"
   ]
  },
  {
   "cell_type": "code",
   "execution_count": 14,
   "metadata": {
    "colab": {
     "base_uri": "https://localhost:8080/"
    },
    "executionInfo": {
     "elapsed": 32,
     "status": "ok",
     "timestamp": 1642421685818,
     "user": {
      "displayName": "Jule Schüttler",
      "photoUrl": "https://lh3.googleusercontent.com/a/default-user=s64",
      "userId": "08966339081108686012"
     },
     "user_tz": -60
    },
    "id": "SO2lq3DOvrfd",
    "outputId": "9ce43183-e4c7-4ef8-bff0-e913f59b4515"
   },
   "outputs": [
    {
     "name": "stdout",
     "output_type": "stream",
     "text": [
      "positive sentiment (class 0): 385 \n",
      " negatives sentiment (class 1): 13 (3.69% of total)\n",
      "\n"
     ]
    }
   ],
   "source": [
    "pos_valid, neg_valid = np.bincount(dataset['validation']['basic_sentiment'])\n",
    "print('positive sentiment (class 0):', pos_valid,'\\n negatives sentiment (class 1):',neg_valid, '({:.2f}% of total)\\n'.format(\n",
    "     100 * neg / total))\n"
   ]
  },
  {
   "cell_type": "markdown",
   "metadata": {
    "id": "sXrQBqGi3B3t"
   },
   "source": [
    "## Tokenization"
   ]
  },
  {
   "cell_type": "code",
   "execution_count": 15,
   "metadata": {
    "executionInfo": {
     "elapsed": 2598,
     "status": "ok",
     "timestamp": 1642421688390,
     "user": {
      "displayName": "Jule Schüttler",
      "photoUrl": "https://lh3.googleusercontent.com/a/default-user=s64",
      "userId": "08966339081108686012"
     },
     "user_tz": -60
    },
    "id": "4Lh8ALODzqhW"
   },
   "outputs": [],
   "source": [
    "checkpoint = 'distilbert-base-uncased'\n",
    "tokenizer = AutoTokenizer.from_pretrained(checkpoint)"
   ]
  },
  {
   "cell_type": "code",
   "execution_count": 16,
   "metadata": {
    "colab": {
     "base_uri": "https://localhost:8080/"
    },
    "executionInfo": {
     "elapsed": 30,
     "status": "ok",
     "timestamp": 1642421688395,
     "user": {
      "displayName": "Jule Schüttler",
      "photoUrl": "https://lh3.googleusercontent.com/a/default-user=s64",
      "userId": "08966339081108686012"
     },
     "user_tz": -60
    },
    "id": "72JOvANlhsN7",
    "outputId": "e1bcd4e2-5b44-4d00-e2e4-13d8bf6db2a7"
   },
   "outputs": [
    {
     "name": "stdout",
     "output_type": "stream",
     "text": [
      "example: $BNTX just a question…..whilst we in dead zone… \n",
      "where are your tests coming from? \n",
      "yesterday no tests available….today they appear like magic at local pharmacy.  Both old test and new test manufactured in China…. \n",
      "packaged and distributed from Germany.  yet another emergency drop from the EU?  Thank you!\n",
      "tokenization of the example: {'input_ids': [101, 1002, 24869, 2102, 2595, 2074, 1037, 3160, 1529, 1012, 1012, 5819, 2057, 1999, 2757, 4224, 1529, 2073, 2024, 2115, 5852, 2746, 2013, 1029, 7483, 2053, 5852, 2800, 1529, 1012, 2651, 2027, 3711, 2066, 3894, 2012, 2334, 13882, 1012, 2119, 2214, 3231, 1998, 2047, 3231, 7609, 1999, 2859, 1529, 1012, 21972, 1998, 5500, 2013, 2762, 1012, 2664, 2178, 5057, 4530, 2013, 1996, 7327, 1029, 4067, 2017, 999, 102], 'attention_mask': [1, 1, 1, 1, 1, 1, 1, 1, 1, 1, 1, 1, 1, 1, 1, 1, 1, 1, 1, 1, 1, 1, 1, 1, 1, 1, 1, 1, 1, 1, 1, 1, 1, 1, 1, 1, 1, 1, 1, 1, 1, 1, 1, 1, 1, 1, 1, 1, 1, 1, 1, 1, 1, 1, 1, 1, 1, 1, 1, 1, 1, 1, 1, 1, 1, 1, 1, 1]}\n",
      "decode tokenization: [CLS] $ bntx just a question ….. whilst we in dead zone … where are your tests coming from? yesterday no tests available …. today they appear like magic at local pharmacy. both old test and new test manufactured in china …. packaged and distributed from germany. yet another emergency drop from the eu? thank you! [SEP]\n"
     ]
    }
   ],
   "source": [
    "# demonstrate tokenization\n",
    "print('example:',dataset['train']['body'][0])\n",
    "print('tokenization of the example:',tokenizer(dataset['train']['body'][0]))  #warum bekomme ich keine token_type_ids?\n",
    "print('decode tokenization:',tokenizer.decode(tokenizer(dataset['train']['body'][0])['input_ids']))"
   ]
  },
  {
   "cell_type": "code",
   "execution_count": 17,
   "metadata": {
    "colab": {
     "base_uri": "https://localhost:8080/",
     "height": 445,
     "referenced_widgets": [
      "d6a34897776444dcb56bbbbb63050a83",
      "a3891a7441ce4deda7241931bcb305cb",
      "fefd7fff1050446687cabb72f3e41e71",
      "d5e19923379e4161945050b7ae34615f",
      "b2cf2e62ee70449990350400e15895d8",
      "26538d58defc4c01a3c59b0af83bbbed",
      "7f780cff8fe4460682a5b3ba4c989481",
      "8b7afaf79b8b4f5d9d3e66389f185b81",
      "bad6b25df3b1452a8559a33809d41533",
      "4ac5b761187844a9a371c464fee0f085",
      "333fe2ad61d3433a89e4507f2aa2ca79",
      "ea9e68b3b9484da38aacceaf768b8ad9",
      "1c982982be6546fe8c0e107d1cdd4e18",
      "f2cd2750149a47cbaf98375c38d6193a",
      "a82f6de4b12d4443964dff081165bbdb",
      "ece9cfc398534cfdb8499947b0ca9fe6",
      "862ecf78a3f3428890d356a73677db88",
      "6483c60a2ea7414db572ba55f8976dcb",
      "38ac2840facb4544b99356a7f1693b51",
      "c7702b0980a545c8938b7b4f3cc2894a",
      "de4a053fe6a24d508c1653ab45f84bdf",
      "fe266a1454e64882bf83a4018c2d5b68",
      "1cca3d3d36f6448c99de88814985515f",
      "8c630da1c0fe4570abc24b97fd4fd756",
      "bcf03542e70e417aa632cc5f93cdfc48",
      "19549a28a6644bc98167c0cd26d98099",
      "7e8c94ee16144e04b7e2a7fd042e34d1",
      "42be6419f1284390935d71f19c34f639",
      "63e3055a46e14d44b4e690966d3d242d",
      "f8b060ae36924efcae62ad3b33029469",
      "c8f56ec733034e5093a55dfc4dafa902",
      "809b3f24668c4d1098921f97597a11cc",
      "788824047ab847f38940df3115deb900"
     ]
    },
    "executionInfo": {
     "elapsed": 489,
     "status": "ok",
     "timestamp": 1642421688859,
     "user": {
      "displayName": "Jule Schüttler",
      "photoUrl": "https://lh3.googleusercontent.com/a/default-user=s64",
      "userId": "08966339081108686012"
     },
     "user_tz": -60
    },
    "id": "_XdYDdoGheuF",
    "outputId": "4a263486-ef8d-493f-837d-d7e24e16a97a"
   },
   "outputs": [
    {
     "data": {
      "application/vnd.jupyter.widget-view+json": {
       "model_id": "8a7fdb4becd94bd3b3ccc50392b4b4b6",
       "version_major": 2,
       "version_minor": 0
      },
      "text/plain": [
       "  0%|          | 0/4 [00:00<?, ?ba/s]"
      ]
     },
     "metadata": {},
     "output_type": "display_data"
    },
    {
     "data": {
      "application/vnd.jupyter.widget-view+json": {
       "model_id": "54710768477144c4b97716e02c681ff0",
       "version_major": 2,
       "version_minor": 0
      },
      "text/plain": [
       "  0%|          | 0/1 [00:00<?, ?ba/s]"
      ]
     },
     "metadata": {},
     "output_type": "display_data"
    },
    {
     "data": {
      "application/vnd.jupyter.widget-view+json": {
       "model_id": "56d5345b5e3142528089d5ded0dbc927",
       "version_major": 2,
       "version_minor": 0
      },
      "text/plain": [
       "  0%|          | 0/1 [00:00<?, ?ba/s]"
      ]
     },
     "metadata": {},
     "output_type": "display_data"
    },
    {
     "name": "stdout",
     "output_type": "stream",
     "text": [
      "DatasetDict({\n",
      "    train: Dataset({\n",
      "        features: ['attention_mask', 'basic_sentiment', 'body', 'input_ids'],\n",
      "        num_rows: 3184\n",
      "    })\n",
      "    validation: Dataset({\n",
      "        features: ['attention_mask', 'basic_sentiment', 'body', 'input_ids'],\n",
      "        num_rows: 398\n",
      "    })\n",
      "    test: Dataset({\n",
      "        features: ['attention_mask', 'basic_sentiment', 'body', 'input_ids'],\n",
      "        num_rows: 398\n",
      "    })\n",
      "})\n",
      "example: $BNTX just a question…..whilst we in dead zone… \n",
      "where are your tests coming from? \n",
      "yesterday no tests available….today they appear like magic at local pharmacy.  Both old test and new test manufactured in China…. \n",
      "packaged and distributed from Germany.  yet another emergency drop from the EU?  Thank you! \n",
      "tokenized example: [101, 1002, 24869, 2102, 2595, 2074, 1037, 3160, 1529, 1012, 1012, 5819, 2057, 1999, 2757, 4224, 1529, 2073, 2024, 2115, 5852, 2746, 2013, 1029, 7483, 2053, 5852, 2800, 1529, 1012, 2651, 2027, 3711, 2066, 3894, 2012, 2334, 13882, 1012, 2119, 2214, 3231, 1998, 2047, 3231, 7609, 1999, 2859, 1529, 1012, 21972, 1998, 5500, 2013, 2762, 1012, 2664, 2178, 5057, 4530, 2013, 1996, 7327, 1029, 4067, 2017, 999, 102, 0, 0, 0, 0, 0, 0, 0, 0, 0, 0, 0, 0, 0, 0, 0, 0, 0, 0, 0, 0, 0, 0, 0, 0, 0, 0, 0, 0, 0, 0, 0, 0, 0, 0, 0, 0, 0, 0, 0, 0, 0, 0, 0, 0, 0, 0, 0, 0, 0, 0, 0, 0, 0, 0, 0, 0, 0, 0, 0, 0, 0, 0, 0, 0, 0, 0, 0, 0, 0, 0, 0, 0, 0, 0, 0, 0, 0, 0, 0, 0, 0, 0, 0, 0, 0, 0, 0, 0, 0, 0, 0, 0, 0, 0, 0, 0, 0, 0, 0, 0, 0, 0, 0, 0, 0, 0, 0, 0, 0, 0, 0, 0, 0, 0, 0, 0, 0, 0, 0, 0, 0, 0, 0, 0, 0, 0, 0, 0, 0, 0, 0, 0, 0, 0, 0, 0, 0, 0, 0, 0, 0, 0, 0, 0, 0, 0, 0, 0, 0, 0, 0, 0, 0, 0, 0, 0, 0, 0, 0, 0, 0, 0, 0, 0, 0, 0, 0, 0, 0, 0, 0, 0, 0, 0, 0, 0, 0, 0, 0, 0, 0, 0, 0, 0, 0, 0, 0, 0, 0, 0, 0, 0, 0, 0, 0, 0, 0, 0, 0, 0, 0, 0, 0, 0, 0, 0, 0, 0, 0, 0, 0, 0, 0, 0, 0, 0, 0, 0, 0, 0, 0, 0, 0, 0, 0, 0, 0, 0, 0, 0, 0, 0, 0, 0, 0, 0, 0, 0, 0, 0, 0, 0, 0, 0, 0, 0, 0, 0, 0, 0, 0, 0, 0, 0, 0, 0, 0, 0, 0, 0, 0, 0, 0, 0, 0, 0, 0, 0, 0, 0, 0, 0, 0, 0, 0, 0, 0, 0, 0, 0, 0, 0, 0, 0, 0, 0, 0, 0, 0, 0, 0, 0, 0, 0, 0, 0, 0, 0, 0, 0, 0, 0, 0, 0, 0, 0, 0, 0, 0, 0, 0, 0, 0, 0, 0, 0, 0, 0, 0, 0, 0, 0, 0, 0, 0, 0, 0, 0, 0, 0, 0, 0, 0, 0, 0, 0, 0, 0, 0, 0, 0, 0, 0, 0, 0, 0, 0, 0, 0, 0, 0, 0, 0, 0, 0, 0, 0, 0, 0, 0, 0, 0, 0, 0, 0, 0, 0, 0, 0, 0, 0, 0, 0, 0, 0, 0, 0, 0, 0, 0, 0, 0, 0, 0, 0, 0, 0, 0, 0, 0, 0, 0, 0, 0, 0, 0, 0, 0, 0, 0, 0, 0, 0, 0, 0, 0, 0, 0, 0, 0, 0, 0, 0, 0, 0, 0, 0, 0, 0, 0, 0, 0, 0, 0, 0, 0, 0, 0, 0, 0, 0, 0, 0, 0, 0, 0, 0, 0, 0, 0, 0, 0, 0, 0]\n",
      "example: $BNTX @Witstock @ManuB I don&#39;t think $PFE is officially making those claims. \n",
      "Guess it is just their PR department and talking heads at CNBC etc. trying to earn their keep. \n",
      "tokenized example: [101, 1002, 24869, 2102, 2595, 1030, 25433, 17406, 1030, 2158, 12083, 1045, 2123, 1004, 1001, 4464, 1025, 1056, 2228, 1002, 1052, 7959, 2003, 3985, 2437, 2216, 4447, 1012, 3984, 2009, 2003, 2074, 2037, 10975, 2533, 1998, 3331, 4641, 2012, 27166, 9818, 4385, 1012, 2667, 2000, 7796, 2037, 2562, 1012, 102, 0, 0, 0, 0, 0, 0, 0, 0, 0, 0, 0, 0, 0, 0, 0, 0, 0, 0, 0, 0, 0, 0, 0, 0, 0, 0, 0, 0, 0, 0, 0, 0, 0, 0, 0, 0, 0, 0, 0, 0, 0, 0, 0, 0, 0, 0, 0, 0, 0, 0, 0, 0, 0, 0, 0, 0, 0, 0, 0, 0, 0, 0, 0, 0, 0, 0, 0, 0, 0, 0, 0, 0, 0, 0, 0, 0, 0, 0, 0, 0, 0, 0, 0, 0, 0, 0, 0, 0, 0, 0, 0, 0, 0, 0, 0, 0, 0, 0, 0, 0, 0, 0, 0, 0, 0, 0, 0, 0, 0, 0, 0, 0, 0, 0, 0, 0, 0, 0, 0, 0, 0, 0, 0, 0, 0, 0, 0, 0, 0, 0, 0, 0, 0, 0, 0, 0, 0, 0, 0, 0, 0, 0, 0, 0, 0, 0, 0, 0, 0, 0, 0, 0, 0, 0, 0, 0, 0, 0, 0, 0, 0, 0, 0, 0, 0, 0, 0, 0, 0, 0, 0, 0, 0, 0, 0, 0, 0, 0, 0, 0, 0, 0, 0, 0, 0, 0, 0, 0, 0, 0, 0, 0, 0, 0, 0, 0, 0, 0, 0, 0, 0, 0, 0, 0, 0, 0, 0, 0, 0, 0, 0, 0, 0, 0, 0, 0, 0, 0, 0, 0, 0, 0, 0, 0, 0, 0, 0, 0, 0, 0, 0, 0, 0, 0, 0, 0, 0, 0, 0, 0, 0, 0, 0, 0, 0, 0, 0, 0, 0, 0, 0, 0, 0, 0, 0, 0, 0, 0, 0, 0, 0, 0, 0, 0, 0, 0, 0, 0, 0, 0, 0, 0, 0, 0, 0, 0, 0, 0, 0, 0, 0, 0, 0, 0, 0, 0, 0, 0, 0, 0, 0, 0, 0, 0, 0, 0, 0, 0, 0, 0, 0, 0, 0, 0, 0, 0, 0, 0, 0, 0, 0, 0, 0, 0, 0, 0, 0, 0, 0, 0, 0, 0, 0, 0, 0, 0, 0, 0, 0, 0, 0, 0, 0, 0, 0, 0, 0, 0, 0, 0, 0, 0, 0, 0, 0, 0, 0, 0, 0, 0, 0, 0, 0, 0, 0, 0, 0, 0, 0, 0, 0, 0, 0, 0, 0, 0, 0, 0, 0, 0, 0, 0, 0, 0, 0, 0, 0, 0, 0, 0, 0, 0, 0, 0, 0, 0, 0, 0, 0, 0, 0, 0, 0, 0, 0, 0, 0, 0, 0, 0, 0, 0, 0, 0, 0, 0, 0, 0, 0, 0, 0, 0, 0, 0, 0, 0, 0, 0, 0, 0, 0, 0, 0, 0, 0, 0, 0, 0, 0, 0, 0, 0, 0, 0, 0, 0, 0, 0, 0, 0, 0, 0, 0, 0, 0, 0, 0, 0, 0, 0, 0, 0, 0, 0, 0, 0, 0, 0, 0, 0, 0, 0]\n"
     ]
    }
   ],
   "source": [
    "# apply a tokenizer function\n",
    "def tokenize_function(dat):\n",
    "   return tokenizer(dat[\"body\"], truncation=True, padding = 'max_length')\n",
    "\n",
    "tokenized_dataset = dataset.map(tokenize_function, batched = True)\n",
    "print(tokenized_dataset)\n",
    "\n",
    "print('example:',tokenized_dataset['train']['body'][0],'\\ntokenized example:',tokenized_dataset['train']['input_ids'][0])\n",
    "print('example:',tokenized_dataset['validation']['body'][0],'\\ntokenized example:',tokenized_dataset['validation']['input_ids'][0])\n",
    "# since padding is equal to max_length there are 0 added"
   ]
  },
  {
   "cell_type": "markdown",
   "metadata": {
    "id": "cCRwAWjJnvPH"
   },
   "source": [
    "To train the model with the tokenized dataset it needs further modification.\n",
    "* rename label column to labels which is expected by in BertForSequenceClassifiaction\n",
    "* make dataset.Dataset to tensors\n",
    "* filter the columns needed as model input [input_id, token_type_ids, attention_mask]"
   ]
  },
  {
   "cell_type": "code",
   "execution_count": 18,
   "metadata": {
    "colab": {
     "base_uri": "https://localhost:8080/",
     "height": 469,
     "referenced_widgets": [
      "3c9c201b10624af48247f90679150598",
      "db4243ffa7f748d78f7e8ef36337f8b8",
      "921980d741404de59e042d34626d9891",
      "58ab2c0588ee4fd4b24c807c9255a2a9",
      "258d71e6a2fe468f83e4e523305de06a",
      "5007ef8389484cf892e485328a564a58",
      "09132399afa94abc8ad6aa120f59c74b",
      "1dc5da3aef6247d2bd85c793e4bb3da5",
      "ebfcbe0b6d0d40ba8448ac292d6ad423",
      "d1a933c1a52a462eacfd2eb4679bb525",
      "4192f7573b62474597fef6d1ea1acfef",
      "fe68b7f5b9ff46979faf66fe1742b989",
      "35d80e92d3b44432b98bfd484e2fb134",
      "38db3d9033294062928f27cea604c976",
      "d1a8a6f68b0e47a691dd40389c1b0745",
      "95df839e285d443abcfd9bb1f894ec4e",
      "bc96047979ca47bdba0dd1f48b26a7ee",
      "555ef0a3333f4299abe3e13cd3926e2e",
      "52cb770d33054244b81e20f1d3ff23a3",
      "7d799f7846d44218833315d8ab822ed8",
      "afcedb766f0a4b9e8bbab4702e97fd18",
      "2d393254e6554961bd08e8450f7698a4",
      "18d822e256c3405c8f4505c23e514943",
      "159b65c0e9654781a856e3fbf9a16574",
      "3172f8b624c04fbcbbf35ea9a8d44cb0",
      "8ba6405daf7142ccbd5df41286adfe1d",
      "aab04bdec8f2490d9c28f7f5288c378d",
      "fdc33cd0ec574e5ca20995e7468aebd6",
      "7a1c85b2c1b74bb88f95abb4dc7d8b88",
      "ec47ea1885554528bafe639a32dca38e",
      "48a7cb5a386b4559bb0be7cb9e5b899d",
      "29391cc498da4fafb165b1c015e94178",
      "248d8b2b7fd04559b0a1a1e8d35fc317",
      "2263dbf1c8814e57abd9b6b5fde730f7",
      "0f72199c60a6422189e9c7bee347e688",
      "d9348ef317c94f869604a9a7ed24f5b3",
      "611a973d07634c79a60003f8639d86d7",
      "c10273802f974318a56831d1cf80e09a",
      "61623e5ca8da45379a26c425cdb0d244",
      "c3aea3f1886a4040893a261c9b5f2810",
      "4e925080f9314bbe9729becab3f2fe68",
      "744ed61e75a3447390c80045c6d1a0e0",
      "074b203b1e514844919c92362371d800",
      "fb688cc4b8b44d24ac4030e75ef34b26",
      "6fe03599528f4970b47e803afb0ac715",
      "677161bbbae1413ab29f6ba3ac6667aa",
      "e174b88e674745fb8476db51740d2572",
      "a492ae6914ac40c0b6a948adcdfa0c22",
      "88aae77459b8471bb054cf7d23fbb125",
      "728f9a6185e1412d8f76702579eb758d",
      "edac2784fbd146198612676c34a5ee8b",
      "7b54e2759c7b464293c8f267099847e2",
      "879389d715334d619f58432f2c1d982d",
      "0b16ed663c2e4bdbbdf92f61406492c7",
      "1249f9b56060491ea697be2a93c9971e",
      "e445eeda389c4c1fb29145af0d50c522",
      "37065efd08154058b5260737f2e0abd9",
      "a0a934bd85c74d25abc212e75b561dd8",
      "99691720e9cb422f93046e00c224cf87",
      "84fb53407bad47ad8de5b81c382071e0",
      "386a0a4df54e43d690ed3fe241a8fc89",
      "62693854b7444e58b4687d9be8c7f05f",
      "c5a5ddb1ac944f7091d865233f28c074",
      "2cafc5676c6e419e870a495204208318",
      "9f2197de3be74ccc97e7ab26e0d91a61",
      "58f34bd372c74c48b765490e822c231b"
     ]
    },
    "executionInfo": {
     "elapsed": 1013,
     "status": "ok",
     "timestamp": 1642421689864,
     "user": {
      "displayName": "Jule Schüttler",
      "photoUrl": "https://lh3.googleusercontent.com/a/default-user=s64",
      "userId": "08966339081108686012"
     },
     "user_tz": -60
    },
    "id": "XGM8k-vAm8on",
    "outputId": "1651d311-7d52-428e-e009-011ec5d4b6c6"
   },
   "outputs": [
    {
     "data": {
      "application/vnd.jupyter.widget-view+json": {
       "model_id": "6b85edb120ee4f2b873d4ad6e767c847",
       "version_major": 2,
       "version_minor": 0
      },
      "text/plain": [
       "  0%|          | 0/4 [00:00<?, ?ba/s]"
      ]
     },
     "metadata": {},
     "output_type": "display_data"
    },
    {
     "data": {
      "application/vnd.jupyter.widget-view+json": {
       "model_id": "d522c2d6a62643128c8972dadff7681b",
       "version_major": 2,
       "version_minor": 0
      },
      "text/plain": [
       "  0%|          | 0/1 [00:00<?, ?ba/s]"
      ]
     },
     "metadata": {},
     "output_type": "display_data"
    },
    {
     "data": {
      "application/vnd.jupyter.widget-view+json": {
       "model_id": "c69dde1a20ae48ef9d7034663f3a812f",
       "version_major": 2,
       "version_minor": 0
      },
      "text/plain": [
       "  0%|          | 0/1 [00:00<?, ?ba/s]"
      ]
     },
     "metadata": {},
     "output_type": "display_data"
    },
    {
     "data": {
      "application/vnd.jupyter.widget-view+json": {
       "model_id": "6979ce78374a4d918088d576f9568c19",
       "version_major": 2,
       "version_minor": 0
      },
      "text/plain": [
       "  0%|          | 0/4 [00:00<?, ?ba/s]"
      ]
     },
     "metadata": {},
     "output_type": "display_data"
    },
    {
     "data": {
      "application/vnd.jupyter.widget-view+json": {
       "model_id": "e1fb0a9ebd024da6a3ee85edd7c2d41f",
       "version_major": 2,
       "version_minor": 0
      },
      "text/plain": [
       "  0%|          | 0/1 [00:00<?, ?ba/s]"
      ]
     },
     "metadata": {},
     "output_type": "display_data"
    },
    {
     "data": {
      "application/vnd.jupyter.widget-view+json": {
       "model_id": "568d7d3ce78644b08c4a2ddb0028997a",
       "version_major": 2,
       "version_minor": 0
      },
      "text/plain": [
       "  0%|          | 0/1 [00:00<?, ?ba/s]"
      ]
     },
     "metadata": {},
     "output_type": "display_data"
    },
    {
     "name": "stdout",
     "output_type": "stream",
     "text": [
      "DatasetDict({\n",
      "    train: Dataset({\n",
      "        features: ['attention_mask', 'basic_sentiment', 'body', 'input_ids', 'labels'],\n",
      "        num_rows: 3184\n",
      "    })\n",
      "    validation: Dataset({\n",
      "        features: ['attention_mask', 'basic_sentiment', 'body', 'input_ids', 'labels'],\n",
      "        num_rows: 398\n",
      "    })\n",
      "    test: Dataset({\n",
      "        features: ['attention_mask', 'basic_sentiment', 'body', 'input_ids', 'labels'],\n",
      "        num_rows: 398\n",
      "    })\n",
      "})\n",
      "[0, 0, 0, 0, 0, 0, 0, 0, 0, 0] [0, 0, 0, 0, 0, 0, 0, 0, 0, 0]\n"
     ]
    }
   ],
   "source": [
    "#rename the label column\n",
    "#dataset = tokenized_dataset.map(lambda x: {'labels': x['basic_sentiment']}, batched=True)\n",
    "tokenized_dataset = tokenized_dataset.map(lambda x: {'labels': x['basic_sentiment']}, batched= True)\n",
    "dataset = tokenized_dataset.map(lambda x: {'labels': x['basic_sentiment']}, batched= True) # batched true make it faster \n",
    "\n",
    "print(dataset)\n",
    "#print(tf_dataset['train']['basic_sentiment'][:10],tf_dataset['train']['labels'][:10])\n",
    "print(dataset['train']['basic_sentiment'][:10],dataset['train']['labels'][:10])"
   ]
  },
  {
   "cell_type": "code",
   "execution_count": 19,
   "metadata": {
    "colab": {
     "base_uri": "https://localhost:8080/"
    },
    "executionInfo": {
     "elapsed": 14,
     "status": "ok",
     "timestamp": 1642421689865,
     "user": {
      "displayName": "Jule Schüttler",
      "photoUrl": "https://lh3.googleusercontent.com/a/default-user=s64",
      "userId": "08966339081108686012"
     },
     "user_tz": -60
    },
    "id": "by6JrYD4w3fC",
    "outputId": "7dc8f970-ac8b-4e98-a289-6978bccf8611"
   },
   "outputs": [
    {
     "name": "stdout",
     "output_type": "stream",
     "text": [
      "({'input_ids': <tf.Tensor: shape=(16, 512), dtype=int64, numpy=\n",
      "array([[  101,  1002, 24869, ...,     0,     0,     0],\n",
      "       [  101,  1002, 28848, ...,     0,     0,     0],\n",
      "       [  101,  1002, 24869, ...,     0,     0,     0],\n",
      "       ...,\n",
      "       [  101,  1002, 28848, ...,     0,     0,     0],\n",
      "       [  101,  1002, 24869, ...,     0,     0,     0],\n",
      "       [  101,  1002, 24869, ...,     0,     0,     0]], dtype=int64)>, 'attention_mask': <tf.Tensor: shape=(16, 512), dtype=int64, numpy=\n",
      "array([[1, 1, 1, ..., 0, 0, 0],\n",
      "       [1, 1, 1, ..., 0, 0, 0],\n",
      "       [1, 1, 1, ..., 0, 0, 0],\n",
      "       ...,\n",
      "       [1, 1, 1, ..., 0, 0, 0],\n",
      "       [1, 1, 1, ..., 0, 0, 0],\n",
      "       [1, 1, 1, ..., 0, 0, 0]], dtype=int64)>}, <tf.Tensor: shape=(16,), dtype=int64, numpy=array([0, 0, 0, 0, 0, 0, 0, 0, 0, 0, 0, 0, 0, 0, 0, 0], dtype=int64)>)\n"
     ]
    }
   ],
   "source": [
    "dataset['train'].set_format(type='tensorflow', columns=['input_ids', 'attention_mask', 'labels']) #shuffle = True\n",
    "features_train = {x: dataset['train'][x] for x in ['input_ids', 'attention_mask']}\n",
    "tfdataset_train = tf.data.Dataset.from_tensor_slices((features_train, dataset['train'][\"labels\"])).batch(16)\n",
    "print(next(iter(tfdataset_train)))\n",
    "\n",
    "#tfdataset_train.element_spec  #look at dataframe\n",
    "\n",
    "dataset['validation'].set_format(type='tensorflow', columns=['input_ids', 'attention_mask', 'labels']) #shuffle = False\n",
    "features_validation = {x: dataset['validation'][x] for x in ['input_ids', 'attention_mask']}\n",
    "tfdataset_validation = tf.data.Dataset.from_tensor_slices((features_validation, dataset['validation'][\"labels\"])).batch(16)\n",
    "#next(iter(tfdataset_validation))\n",
    "\n",
    "dataset['test'].set_format(type='tensorflow', columns=['input_ids', 'attention_mask', 'labels'])\n",
    "features_test = {x: dataset['test'][x] for x in ['input_ids', 'attention_mask']}\n",
    "tfdataset_test = tf.data.Dataset.from_tensor_slices((features_test, dataset['test'][\"labels\"])).batch(16)\n",
    "#next(iter(tfdataset_test))\n"
   ]
  },
  {
   "cell_type": "code",
   "execution_count": 20,
   "metadata": {
    "executionInfo": {
     "elapsed": 434,
     "status": "ok",
     "timestamp": 1642421690293,
     "user": {
      "displayName": "Jule Schüttler",
      "photoUrl": "https://lh3.googleusercontent.com/a/default-user=s64",
      "userId": "08966339081108686012"
     },
     "user_tz": -60
    },
    "id": "-dsGP0YSneQh"
   },
   "outputs": [],
   "source": [
    "#in the following the column body is removed since it is a string and not needed anymore (information is in 'input ids')\n",
    "data_collator = DataCollatorWithPadding(tokenizer=tokenizer, return_tensors='tf')\n",
    "\n",
    "tf_train_dataset = tokenized_dataset['train'].to_tf_dataset(\n",
    "    columns=[\"input_ids\", 'attention_mask'],\n",
    "    label_cols= [\"basic_sentiment\"],\n",
    "    shuffle = True,\n",
    "    collate_fn = data_collator,\n",
    "    batch_size = 16\n",
    ")\n",
    "tf_validation_dataset = tokenized_dataset['validation'].to_tf_dataset(\n",
    "    columns=[\"input_ids\",'attention_mask'],\n",
    "    label_cols= [\"basic_sentiment\"],\n",
    "    shuffle = False,\n",
    "    collate_fn = data_collator,\n",
    "    batch_size = 16\n",
    ")"
   ]
  },
  {
   "cell_type": "markdown",
   "metadata": {
    "id": "8XKX-FZDoC3l"
   },
   "source": [
    "# Model Fine Tuning"
   ]
  },
  {
   "cell_type": "markdown",
   "metadata": {},
   "source": [
    "### Setup model checkpoints callback"
   ]
  },
  {
   "cell_type": "code",
   "execution_count": 25,
   "metadata": {},
   "outputs": [],
   "source": [
    "name_model = 'BERT_Biontech'\n",
    "checkpoint_cb = tf.keras.callbacks.ModelCheckpoint(\n",
    "    filepath = os.path.join(root_dir,'checkpoints_Biontech',time.strftime(\"%m_%d-%H_%M\"),name_model),\n",
    "    monitor='val_sparse_categorical_accuracy',\n",
    "    save_best_only=True,\n",
    "    save_weights_only=True,\n",
    "    mode='max',\n",
    "    save_freq='epoch')"
   ]
  },
  {
   "cell_type": "markdown",
   "metadata": {},
   "source": [
    "### Setup TensorFlow Callback"
   ]
  },
  {
   "cell_type": "code",
   "execution_count": 22,
   "metadata": {
    "executionInfo": {
     "elapsed": 11,
     "status": "ok",
     "timestamp": 1642421690294,
     "user": {
      "displayName": "Jule Schüttler",
      "photoUrl": "https://lh3.googleusercontent.com/a/default-user=s64",
      "userId": "08966339081108686012"
     },
     "user_tz": -60
    },
    "id": "Wof8fVoOBlK8"
   },
   "outputs": [],
   "source": [
    "#create a tensorboard folder where all the files from training are saved\n",
    "# create a checkpoint folder for checkpoints\n",
    "\n",
    "#def create_and_set_working_directory(make_folder):\n",
    "  # check if your project folder exists. if not, it will be created.\n",
    " # if os.path.isdir(root_dir + make_folder) == False:\n",
    "  #  os.mkdir(root_dir + make_folder)\n",
    "   # print(root_dir + make_folder + ' did not exist but was created.')\n",
    "\n",
    "  # change the OS to use your project folder as the working directory\n",
    " # os.chdir(root_dir + make_folder)\n",
    "\n",
    "  # create a test file to make sure it shows up in the right place\n",
    "  # !touch 'new_file_in_working_directory.txt'\n",
    "  # print('\\nYour working directory was changed to ' + root_dir + project_folder + \n",
    "        # \"\\n\\nAn empty text file was created there. You can also run !pwd to confirm the current working directory.\" )\n",
    "\n",
    "\n",
    "\n",
    "\n"
   ]
  },
  {
   "cell_type": "code",
   "execution_count": 23,
   "metadata": {
    "executionInfo": {
     "elapsed": 11,
     "status": "ok",
     "timestamp": 1642421690295,
     "user": {
      "displayName": "Jule Schüttler",
      "photoUrl": "https://lh3.googleusercontent.com/a/default-user=s64",
      "userId": "08966339081108686012"
     },
     "user_tz": -60
    },
    "id": "PIu2YHmDDtO1"
   },
   "outputs": [],
   "source": [
    "#create_and_set_working_directory('/tensorboard')\n",
    "#root_logdir = os.path.join(os.curdir, \"logs\")\n",
    "#def get_run_logdir(name: str = \"\"):\n",
    "#  import time\n",
    "#  run_id = time.strftime(\"%m_%d-%H_%M\")\n",
    "#  run_name = run_id + name\n",
    "#  return os.path.join(root_dir,'logs', run_name)"
   ]
  },
  {
   "cell_type": "code",
   "execution_count": 24,
   "metadata": {
    "colab": {
     "base_uri": "https://localhost:8080/"
    },
    "executionInfo": {
     "elapsed": 11,
     "status": "ok",
     "timestamp": 1642421690295,
     "user": {
      "displayName": "Jule Schüttler",
      "photoUrl": "https://lh3.googleusercontent.com/a/default-user=s64",
      "userId": "08966339081108686012"
     },
     "user_tz": -60
    },
    "id": "GFVtVSLnV-EH",
    "outputId": "b6db7380-167b-4e35-a684-e7c3efa21aad"
   },
   "outputs": [],
   "source": [
    "#print(get_run_logdir('try'))"
   ]
  },
  {
   "cell_type": "markdown",
   "metadata": {
    "id": "vXZgcbMhEbVn"
   },
   "source": [
    "## Load the model"
   ]
  },
  {
   "cell_type": "code",
   "execution_count": 26,
   "metadata": {
    "colab": {
     "base_uri": "https://localhost:8080/"
    },
    "executionInfo": {
     "elapsed": 3285,
     "status": "ok",
     "timestamp": 1642421693575,
     "user": {
      "displayName": "Jule Schüttler",
      "photoUrl": "https://lh3.googleusercontent.com/a/default-user=s64",
      "userId": "08966339081108686012"
     },
     "user_tz": -60
    },
    "id": "Nw2DHXCeOO_o",
    "outputId": "c5d49eb9-ee64-4c68-8dcd-24d1d6bcc844"
   },
   "outputs": [
    {
     "name": "stderr",
     "output_type": "stream",
     "text": [
      "Some layers from the model checkpoint at distilbert-base-uncased were not used when initializing TFDistilBertForSequenceClassification: ['activation_13', 'vocab_layer_norm', 'vocab_transform', 'vocab_projector']\n",
      "- This IS expected if you are initializing TFDistilBertForSequenceClassification from the checkpoint of a model trained on another task or with another architecture (e.g. initializing a BertForSequenceClassification model from a BertForPreTraining model).\n",
      "- This IS NOT expected if you are initializing TFDistilBertForSequenceClassification from the checkpoint of a model that you expect to be exactly identical (initializing a BertForSequenceClassification model from a BertForSequenceClassification model).\n",
      "Some layers of TFDistilBertForSequenceClassification were not initialized from the model checkpoint at distilbert-base-uncased and are newly initialized: ['classifier', 'dropout_19', 'pre_classifier']\n",
      "You should probably TRAIN this model on a down-stream task to be able to use it for predictions and inference.\n"
     ]
    }
   ],
   "source": [
    "# create model - since this is a bert model, it will use\n",
    "model = TFAutoModelForSequenceClassification.from_pretrained(checkpoint)\n"
   ]
  },
  {
   "cell_type": "code",
   "execution_count": 27,
   "metadata": {
    "colab": {
     "base_uri": "https://localhost:8080/"
    },
    "executionInfo": {
     "elapsed": 18,
     "status": "ok",
     "timestamp": 1642421693576,
     "user": {
      "displayName": "Jule Schüttler",
      "photoUrl": "https://lh3.googleusercontent.com/a/default-user=s64",
      "userId": "08966339081108686012"
     },
     "user_tz": -60
    },
    "id": "Ibg1Ih8TgISj",
    "outputId": "69230c3f-c770-40e8-ab66-bda6586a30cc"
   },
   "outputs": [
    {
     "name": "stdout",
     "output_type": "stream",
     "text": [
      "2\n",
      "None\n"
     ]
    }
   ],
   "source": [
    "print(model.config.num_labels)\n",
    "print(model.config.problem_type)"
   ]
  },
  {
   "cell_type": "code",
   "execution_count": 28,
   "metadata": {
    "executionInfo": {
     "elapsed": 14,
     "status": "ok",
     "timestamp": 1642421693578,
     "user": {
      "displayName": "Jule Schüttler",
      "photoUrl": "https://lh3.googleusercontent.com/a/default-user=s64",
      "userId": "08966339081108686012"
     },
     "user_tz": -60
    },
    "id": "KEzbq6wCf8_E"
   },
   "outputs": [],
   "source": [
    "num_epochs = 3\n",
    "num_train_steps = len(tfdataset_train)*num_epochs   #len(tfdataset_train) is equal to rows in train_data divided by batch size\n",
    "optimizer, schedule = create_optimizer(\n",
    "    init_lr=5e-5,\n",
    "    num_warmup_steps=0,\n",
    "    num_train_steps=num_train_steps,\n",
    "    weight_decay_rate=0.01,\n",
    ")\n"
   ]
  },
  {
   "cell_type": "code",
   "execution_count": 29,
   "metadata": {},
   "outputs": [
    {
     "data": {
      "text/plain": [
       "597"
      ]
     },
     "execution_count": 29,
     "metadata": {},
     "output_type": "execute_result"
    }
   ],
   "source": [
    "num_train_steps"
   ]
  },
  {
   "cell_type": "code",
   "execution_count": 30,
   "metadata": {
    "colab": {
     "base_uri": "https://localhost:8080/",
     "height": 293
    },
    "executionInfo": {
     "elapsed": 527,
     "status": "ok",
     "timestamp": 1642421694092,
     "user": {
      "displayName": "Jule Schüttler",
      "photoUrl": "https://lh3.googleusercontent.com/a/default-user=s64",
      "userId": "08966339081108686012"
     },
     "user_tz": -60
    },
    "id": "gkJvzRBe7zpA",
    "outputId": "07d4c02b-1a37-4c3e-f9cf-f0b2d97e6fb6"
   },
   "outputs": [
    {
     "data": {
      "text/plain": [
       "[<matplotlib.lines.Line2D at 0x2dcd19add00>]"
      ]
     },
     "execution_count": 30,
     "metadata": {},
     "output_type": "execute_result"
    },
    {
     "data": {
      "image/png": "[encoded data removed]",
      "text/plain": [
       "<Figure size 432x288 with 1 Axes>"
      ]
     },
     "metadata": {
      "needs_background": "light"
     },
     "output_type": "display_data"
    }
   ],
   "source": [
    "plt.plot([schedule(n) for n in range(num_train_steps)])"
   ]
  },
  {
   "cell_type": "code",
   "execution_count": 230,
   "metadata": {
    "executionInfo": {
     "elapsed": 15,
     "status": "ok",
     "timestamp": 1642421694094,
     "user": {
      "displayName": "Jule Schüttler",
      "photoUrl": "https://lh3.googleusercontent.com/a/default-user=s64",
      "userId": "08966339081108686012"
     },
     "user_tz": -60
    },
    "id": "jzjwbt4Y4LuG"
   },
   "outputs": [],
   "source": [
    "#loss function\n",
    "loss_fn = tf.keras.losses.SparseCategoricalCrossentropy(reduction='auto', from_logits=True)\n",
    "# epoch, lr scheduler and optimizer\n",
    "model.compile(optimizer=optimizer, loss=loss_fn, metrics=[tf.keras.metrics.SparseCategoricalAccuracy()])\n"
   ]
  },
  {
   "cell_type": "code",
   "execution_count": null,
   "metadata": {
    "colab": {
     "base_uri": "https://localhost:8080/"
    },
    "id": "yFOJQR7Mgs66",
    "outputId": "83c35254-c318-43f4-e01b-694244e2095e"
   },
   "outputs": [
    {
     "name": "stdout",
     "output_type": "stream",
     "text": [
      "Epoch 1/3\n",
      "   6/1252 [..............................] - ETA: 7:37:23 - loss: 0.6777 - sparse_categorical_accuracy: 0.6875"
     ]
    }
   ],
   "source": [
    "name_log = 'BERT_Biontech'\n",
    "tensorboard_cb = tf.keras.callbacks.TensorBoard(log_dir = os.path.join(root_dir,'tensorboard','logs_Biontech',time.strftime(\"%m_%d-%H_%M\"),name_log), write_graph=True)\n",
    "history = model.fit(tfdataset_train,validation_data= tfdataset_validation, epochs=3, class_weight = class_weight, callbacks=[tensorboard_cb,checkpoint_cb])"
   ]
  },
  {
   "cell_type": "code",
   "execution_count": 196,
   "metadata": {
    "id": "yknSVmUv26_9",
    "scrolled": true
   },
   "outputs": [
    {
     "data": {
      "text/plain": [
       "{'loss': [0.5976101756095886, 0.6012696027755737, 0.6005991101264954],\n",
       " 'sparse_categorical_accuracy': [0.8571428656578064,\n",
       "  0.8928571343421936,\n",
       "  0.9285714030265808],\n",
       " 'val_loss': [0.6646782755851746, 0.6646782755851746, 0.6646782755851746],\n",
       " 'val_sparse_categorical_accuracy': [0.8571428656578064,\n",
       "  0.8571428656578064,\n",
       "  0.8571428656578064]}"
      ]
     },
     "execution_count": 196,
     "metadata": {},
     "output_type": "execute_result"
    }
   ],
   "source": [
    "history.history"
   ]
  },
  {
   "cell_type": "code",
   "execution_count": 197,
   "metadata": {
    "id": "zatLH_2ugCxB",
    "scrolled": true
   },
   "outputs": [
    {
     "data": {
      "text/plain": [
       "Reusing TensorBoard on port 6006 (pid 13688), started 0:22:57 ago. (Use '!kill 13688' to kill it.)"
      ]
     },
     "metadata": {},
     "output_type": "display_data"
    },
    {
     "data": {
      "text/html": [
       "\n",
       "      <iframe id=\"tensorboard-frame-99e85fe2884baff5\" width=\"100%\" height=\"800\" frameborder=\"0\">\n",
       "      </iframe>\n",
       "      <script>\n",
       "        (function() {\n",
       "          const frame = document.getElementById(\"tensorboard-frame-99e85fe2884baff5\");\n",
       "          const url = new URL(\"/\", window.location);\n",
       "          const port = 6006;\n",
       "          if (port) {\n",
       "            url.port = port;\n",
       "          }\n",
       "          frame.src = url;\n",
       "        })();\n",
       "      </script>\n",
       "    "
      ],
      "text/plain": [
       "<IPython.core.display.HTML object>"
      ]
     },
     "metadata": {},
     "output_type": "display_data"
    }
   ],
   "source": [
    "#Inpsect model on tensorboard\n",
    "%reload_ext tensorboard\n",
    "%tensorboard --logdir=./logs"
   ]
  },
  {
   "cell_type": "markdown",
   "metadata": {
    "id": "-Z3yTnv-Ejxj"
   },
   "source": [
    "## Predictions"
   ]
  },
  {
   "cell_type": "code",
   "execution_count": 94,
   "metadata": {
    "id": "sHF-qfFPFb8e"
   },
   "outputs": [],
   "source": [
    "pred = np.array(model.predict(tfdataset_test)['logits'])\n",
    "probabilities = np.array(tf.nn.softmax(pred))\n",
    "class_pred = np.array(np.argmax(probabilities, axis = 1))"
   ]
  },
  {
   "cell_type": "code",
   "execution_count": 95,
   "metadata": {
    "id": "hrYxZypF3goj"
   },
   "outputs": [
    {
     "name": "stdout",
     "output_type": "stream",
     "text": [
      "[[-0.63435155  0.31172195]\n",
      " [ 0.30372134 -0.22592731]\n",
      " [-0.23194493  0.15245272]\n",
      " [ 0.23885989 -0.19893216]]\n",
      "[[0.27967516 0.7203249 ]\n",
      " [0.62940115 0.37059882]\n",
      " [0.4050667  0.59493333]\n",
      " [0.6077328  0.3922672 ]]\n",
      "[1 0 1 0]\n"
     ]
    }
   ],
   "source": [
    "print(pred[:4])\n",
    "print(probabilities[:4])\n",
    "print(class_pred[:4])"
   ]
  },
  {
   "cell_type": "code",
   "execution_count": 96,
   "metadata": {
    "id": "emosHHQr41uc"
   },
   "outputs": [],
   "source": [
    "# correct test labels \n",
    "y_test = np.array(test_data['basic_sentiment'])\n"
   ]
  },
  {
   "cell_type": "markdown",
   "metadata": {
    "id": "Q4eLPfz4fa_c"
   },
   "source": [
    "## Accuracy "
   ]
  },
  {
   "cell_type": "code",
   "execution_count": 97,
   "metadata": {
    "id": "xOF11iZu42P8"
   },
   "outputs": [
    {
     "name": "stdout",
     "output_type": "stream",
     "text": [
      "[[29  7]\n",
      " [10  4]]\n"
     ]
    }
   ],
   "source": [
    "#generate confusion matrix\n",
    "cf_matrix = confusion_matrix(y_test,class_pred)\n",
    "print(cf_matrix)\n"
   ]
  },
  {
   "cell_type": "code",
   "execution_count": 98,
   "metadata": {
    "id": "9B_iktwj42lS"
   },
   "outputs": [
    {
     "data": {
      "text/plain": [
       "[Text(0, 0.5, 'postive'), Text(0, 1.5, 'negative')]"
      ]
     },
     "execution_count": 98,
     "metadata": {},
     "output_type": "execute_result"
    },
    {
     "data": {
      "image/png": "[encoded data removed]",
      "text/plain": [
       "<Figure size 432x288 with 2 Axes>"
      ]
     },
     "metadata": {
      "needs_background": "light"
     },
     "output_type": "display_data"
    }
   ],
   "source": [
    "#create a heatmap\n",
    "import seaborn as sns\n",
    "ax = sns.heatmap(cf_matrix, annot=True, cmap = 'Blues')\n",
    "ax.set_title('Confusion matrix')\n",
    "ax.set_xlabel('Predicted values')\n",
    "ax.set_ylabel('Actual Values')\n",
    "ax.xaxis.set_ticklabels(['positive','negative'])\n",
    "ax.yaxis.set_ticklabels(['postive','negative'])"
   ]
  },
  {
   "cell_type": "code",
   "execution_count": null,
   "metadata": {
    "id": "CHTP-el7kq_K"
   },
   "outputs": [],
   "source": [
    "type(y_test)"
   ]
  },
  {
   "cell_type": "code",
   "execution_count": null,
   "metadata": {
    "id": "AD3m70Av43Au"
   },
   "outputs": [],
   "source": [
    "metric = tfa.metrics.F1Score(num_classes=2, threshold=None)\n",
    "metric.update_state(y_test, probabilities)\n",
    "#result = metric.result()\n",
    "#result.numpy()"
   ]
  }
 ],
 "metadata": {
  "accelerator": "GPU",
  "colab": {
   "collapsed_sections": [
    "R30by2Bo8ITa"
   ],
   "name": " Sentiment_Analysis_with_BERT_- APPLE.ipynb",
   "provenance": [
    {
     "file_id": "1_9_LenXWYOEsosvd3ndaEwZHPeWbNpjp",
     "timestamp": 1642342065682
    }
   ]
  },
  "kernelspec": {
   "display_name": "Python 3 (ipykernel)",
   "language": "python",
   "name": "python3"
  },
  "language_info": {
   "codemirror_mode": {
    "name": "ipython",
    "version": 3
   },
   "file_extension": ".py",
   "mimetype": "text/x-python",
   "name": "python",
   "nbconvert_exporter": "python",
   "pygments_lexer": "ipython3",
   "version": "3.9.7"
  },
  "widgets": {
   "application/vnd.jupyter.widget-state+json": {
    "074b203b1e514844919c92362371d800": {
     "model_module": "@jupyter-widgets/controls",
     "model_module_version": "1.5.0",
     "model_name": "DescriptionStyleModel",
     "state": {
      "_model_module": "@jupyter-widgets/controls",
      "_model_module_version": "1.5.0",
      "_model_name": "DescriptionStyleModel",
      "_view_count": null,
      "_view_module": "@jupyter-widgets/base",
      "_view_module_version": "1.2.0",
      "_view_name": "StyleView",
      "description_width": ""
     }
    },
    "09132399afa94abc8ad6aa120f59c74b": {
     "model_module": "@jupyter-widgets/base",
     "model_module_version": "1.2.0",
     "model_name": "LayoutModel",
     "state": {
      "_model_module": "@jupyter-widgets/base",
      "_model_module_version": "1.2.0",
      "_model_name": "LayoutModel",
      "_view_count": null,
      "_view_module": "@jupyter-widgets/base",
      "_view_module_version": "1.2.0",
      "_view_name": "LayoutView",
      "align_content": null,
      "align_items": null,
      "align_self": null,
      "border": null,
      "bottom": null,
      "display": null,
      "flex": null,
      "flex_flow": null,
      "grid_area": null,
      "grid_auto_columns": null,
      "grid_auto_flow": null,
      "grid_auto_rows": null,
      "grid_column": null,
      "grid_gap": null,
      "grid_row": null,
      "grid_template_areas": null,
      "grid_template_columns": null,
      "grid_template_rows": null,
      "height": null,
      "justify_content": null,
      "justify_items": null,
      "left": null,
      "margin": null,
      "max_height": null,
      "max_width": null,
      "min_height": null,
      "min_width": null,
      "object_fit": null,
      "object_position": null,
      "order": null,
      "overflow": null,
      "overflow_x": null,
      "overflow_y": null,
      "padding": null,
      "right": null,
      "top": null,
      "visibility": null,
      "width": null
     }
    },
    "0b16ed663c2e4bdbbdf92f61406492c7": {
     "model_module": "@jupyter-widgets/controls",
     "model_module_version": "1.5.0",
     "model_name": "DescriptionStyleModel",
     "state": {
      "_model_module": "@jupyter-widgets/controls",
      "_model_module_version": "1.5.0",
      "_model_name": "DescriptionStyleModel",
      "_view_count": null,
      "_view_module": "@jupyter-widgets/base",
      "_view_module_version": "1.2.0",
      "_view_name": "StyleView",
      "description_width": ""
     }
    },
    "0f72199c60a6422189e9c7bee347e688": {
     "model_module": "@jupyter-widgets/base",
     "model_module_version": "1.2.0",
     "model_name": "LayoutModel",
     "state": {
      "_model_module": "@jupyter-widgets/base",
      "_model_module_version": "1.2.0",
      "_model_name": "LayoutModel",
      "_view_count": null,
      "_view_module": "@jupyter-widgets/base",
      "_view_module_version": "1.2.0",
      "_view_name": "LayoutView",
      "align_content": null,
      "align_items": null,
      "align_self": null,
      "border": null,
      "bottom": null,
      "display": null,
      "flex": null,
      "flex_flow": null,
      "grid_area": null,
      "grid_auto_columns": null,
      "grid_auto_flow": null,
      "grid_auto_rows": null,
      "grid_column": null,
      "grid_gap": null,
      "grid_row": null,
      "grid_template_areas": null,
      "grid_template_columns": null,
      "grid_template_rows": null,
      "height": null,
      "justify_content": null,
      "justify_items": null,
      "left": null,
      "margin": null,
      "max_height": null,
      "max_width": null,
      "min_height": null,
      "min_width": null,
      "object_fit": null,
      "object_position": null,
      "order": null,
      "overflow": null,
      "overflow_x": null,
      "overflow_y": null,
      "padding": null,
      "right": null,
      "top": null,
      "visibility": null,
      "width": null
     }
    },
    "1249f9b56060491ea697be2a93c9971e": {
     "model_module": "@jupyter-widgets/base",
     "model_module_version": "1.2.0",
     "model_name": "LayoutModel",
     "state": {
      "_model_module": "@jupyter-widgets/base",
      "_model_module_version": "1.2.0",
      "_model_name": "LayoutModel",
      "_view_count": null,
      "_view_module": "@jupyter-widgets/base",
      "_view_module_version": "1.2.0",
      "_view_name": "LayoutView",
      "align_content": null,
      "align_items": null,
      "align_self": null,
      "border": null,
      "bottom": null,
      "display": null,
      "flex": null,
      "flex_flow": null,
      "grid_area": null,
      "grid_auto_columns": null,
      "grid_auto_flow": null,
      "grid_auto_rows": null,
      "grid_column": null,
      "grid_gap": null,
      "grid_row": null,
      "grid_template_areas": null,
      "grid_template_columns": null,
      "grid_template_rows": null,
      "height": null,
      "justify_content": null,
      "justify_items": null,
      "left": null,
      "margin": null,
      "max_height": null,
      "max_width": null,
      "min_height": null,
      "min_width": null,
      "object_fit": null,
      "object_position": null,
      "order": null,
      "overflow": null,
      "overflow_x": null,
      "overflow_y": null,
      "padding": null,
      "right": null,
      "top": null,
      "visibility": null,
      "width": null
     }
    },
    "140ef4362d23448c99e8e2e1a2aac919": {
     "model_module": "@jupyter-widgets/base",
     "model_module_version": "1.2.0",
     "model_name": "LayoutModel",
     "state": {
      "_model_module": "@jupyter-widgets/base",
      "_model_module_version": "1.2.0",
      "_model_name": "LayoutModel",
      "_view_count": null,
      "_view_module": "@jupyter-widgets/base",
      "_view_module_version": "1.2.0",
      "_view_name": "LayoutView",
      "align_content": null,
      "align_items": null,
      "align_self": null,
      "border": null,
      "bottom": null,
      "display": null,
      "flex": null,
      "flex_flow": null,
      "grid_area": null,
      "grid_auto_columns": null,
      "grid_auto_flow": null,
      "grid_auto_rows": null,
      "grid_column": null,
      "grid_gap": null,
      "grid_row": null,
      "grid_template_areas": null,
      "grid_template_columns": null,
      "grid_template_rows": null,
      "height": null,
      "justify_content": null,
      "justify_items": null,
      "left": null,
      "margin": null,
      "max_height": null,
      "max_width": null,
      "min_height": null,
      "min_width": null,
      "object_fit": null,
      "object_position": null,
      "order": null,
      "overflow": null,
      "overflow_x": null,
      "overflow_y": null,
      "padding": null,
      "right": null,
      "top": null,
      "visibility": null,
      "width": null
     }
    },
    "14e894900df345cbb66419a711fbf9f0": {
     "model_module": "@jupyter-widgets/base",
     "model_module_version": "1.2.0",
     "model_name": "LayoutModel",
     "state": {
      "_model_module": "@jupyter-widgets/base",
      "_model_module_version": "1.2.0",
      "_model_name": "LayoutModel",
      "_view_count": null,
      "_view_module": "@jupyter-widgets/base",
      "_view_module_version": "1.2.0",
      "_view_name": "LayoutView",
      "align_content": null,
      "align_items": null,
      "align_self": null,
      "border": null,
      "bottom": null,
      "display": null,
      "flex": null,
      "flex_flow": null,
      "grid_area": null,
      "grid_auto_columns": null,
      "grid_auto_flow": null,
      "grid_auto_rows": null,
      "grid_column": null,
      "grid_gap": null,
      "grid_row": null,
      "grid_template_areas": null,
      "grid_template_columns": null,
      "grid_template_rows": null,
      "height": null,
      "justify_content": null,
      "justify_items": null,
      "left": null,
      "margin": null,
      "max_height": null,
      "max_width": null,
      "min_height": null,
      "min_width": null,
      "object_fit": null,
      "object_position": null,
      "order": null,
      "overflow": null,
      "overflow_x": null,
      "overflow_y": null,
      "padding": null,
      "right": null,
      "top": null,
      "visibility": null,
      "width": null
     }
    },
    "159b65c0e9654781a856e3fbf9a16574": {
     "model_module": "@jupyter-widgets/base",
     "model_module_version": "1.2.0",
     "model_name": "LayoutModel",
     "state": {
      "_model_module": "@jupyter-widgets/base",
      "_model_module_version": "1.2.0",
      "_model_name": "LayoutModel",
      "_view_count": null,
      "_view_module": "@jupyter-widgets/base",
      "_view_module_version": "1.2.0",
      "_view_name": "LayoutView",
      "align_content": null,
      "align_items": null,
      "align_self": null,
      "border": null,
      "bottom": null,
      "display": null,
      "flex": null,
      "flex_flow": null,
      "grid_area": null,
      "grid_auto_columns": null,
      "grid_auto_flow": null,
      "grid_auto_rows": null,
      "grid_column": null,
      "grid_gap": null,
      "grid_row": null,
      "grid_template_areas": null,
      "grid_template_columns": null,
      "grid_template_rows": null,
      "height": null,
      "justify_content": null,
      "justify_items": null,
      "left": null,
      "margin": null,
      "max_height": null,
      "max_width": null,
      "min_height": null,
      "min_width": null,
      "object_fit": null,
      "object_position": null,
      "order": null,
      "overflow": null,
      "overflow_x": null,
      "overflow_y": null,
      "padding": null,
      "right": null,
      "top": null,
      "visibility": null,
      "width": null
     }
    },
    "165153e1e49844e9882a445d5a5e8bf1": {
     "model_module": "@jupyter-widgets/controls",
     "model_module_version": "1.5.0",
     "model_name": "HBoxModel",
     "state": {
      "_dom_classes": [],
      "_model_module": "@jupyter-widgets/controls",
      "_model_module_version": "1.5.0",
      "_model_name": "HBoxModel",
      "_view_count": null,
      "_view_module": "@jupyter-widgets/controls",
      "_view_module_version": "1.5.0",
      "_view_name": "HBoxView",
      "box_style": "",
      "children": [
       "IPY_MODEL_9ba05a4a689a4579963f41a75dfee9bb",
       "IPY_MODEL_2b5447e525a545afae9336825ff77bba",
       "IPY_MODEL_4201f46e7d3d4946aacd33aae46d1d6c"
      ],
      "layout": "IPY_MODEL_a79241cb74724313a48333dee7eeedef"
     }
    },
    "18d822e256c3405c8f4505c23e514943": {
     "model_module": "@jupyter-widgets/controls",
     "model_module_version": "1.5.0",
     "model_name": "HBoxModel",
     "state": {
      "_dom_classes": [],
      "_model_module": "@jupyter-widgets/controls",
      "_model_module_version": "1.5.0",
      "_model_name": "HBoxModel",
      "_view_count": null,
      "_view_module": "@jupyter-widgets/controls",
      "_view_module_version": "1.5.0",
      "_view_name": "HBoxView",
      "box_style": "",
      "children": [
       "IPY_MODEL_3172f8b624c04fbcbbf35ea9a8d44cb0",
       "IPY_MODEL_8ba6405daf7142ccbd5df41286adfe1d",
       "IPY_MODEL_aab04bdec8f2490d9c28f7f5288c378d"
      ],
      "layout": "IPY_MODEL_159b65c0e9654781a856e3fbf9a16574"
     }
    },
    "19549a28a6644bc98167c0cd26d98099": {
     "model_module": "@jupyter-widgets/controls",
     "model_module_version": "1.5.0",
     "model_name": "FloatProgressModel",
     "state": {
      "_dom_classes": [],
      "_model_module": "@jupyter-widgets/controls",
      "_model_module_version": "1.5.0",
      "_model_name": "FloatProgressModel",
      "_view_count": null,
      "_view_module": "@jupyter-widgets/controls",
      "_view_module_version": "1.5.0",
      "_view_name": "ProgressView",
      "bar_style": "success",
      "description": "",
      "description_tooltip": null,
      "layout": "IPY_MODEL_c8f56ec733034e5093a55dfc4dafa902",
      "max": 1,
      "min": 0,
      "orientation": "horizontal",
      "style": "IPY_MODEL_f8b060ae36924efcae62ad3b33029469",
      "value": 1
     }
    },
    "1c982982be6546fe8c0e107d1cdd4e18": {
     "model_module": "@jupyter-widgets/base",
     "model_module_version": "1.2.0",
     "model_name": "LayoutModel",
     "state": {
      "_model_module": "@jupyter-widgets/base",
      "_model_module_version": "1.2.0",
      "_model_name": "LayoutModel",
      "_view_count": null,
      "_view_module": "@jupyter-widgets/base",
      "_view_module_version": "1.2.0",
      "_view_name": "LayoutView",
      "align_content": null,
      "align_items": null,
      "align_self": null,
      "border": null,
      "bottom": null,
      "display": null,
      "flex": null,
      "flex_flow": null,
      "grid_area": null,
      "grid_auto_columns": null,
      "grid_auto_flow": null,
      "grid_auto_rows": null,
      "grid_column": null,
      "grid_gap": null,
      "grid_row": null,
      "grid_template_areas": null,
      "grid_template_columns": null,
      "grid_template_rows": null,
      "height": null,
      "justify_content": null,
      "justify_items": null,
      "left": null,
      "margin": null,
      "max_height": null,
      "max_width": null,
      "min_height": null,
      "min_width": null,
      "object_fit": null,
      "object_position": null,
      "order": null,
      "overflow": null,
      "overflow_x": null,
      "overflow_y": null,
      "padding": null,
      "right": null,
      "top": null,
      "visibility": null,
      "width": null
     }
    },
    "1cca3d3d36f6448c99de88814985515f": {
     "model_module": "@jupyter-widgets/controls",
     "model_module_version": "1.5.0",
     "model_name": "HBoxModel",
     "state": {
      "_dom_classes": [],
      "_model_module": "@jupyter-widgets/controls",
      "_model_module_version": "1.5.0",
      "_model_name": "HBoxModel",
      "_view_count": null,
      "_view_module": "@jupyter-widgets/controls",
      "_view_module_version": "1.5.0",
      "_view_name": "HBoxView",
      "box_style": "",
      "children": [
       "IPY_MODEL_bcf03542e70e417aa632cc5f93cdfc48",
       "IPY_MODEL_19549a28a6644bc98167c0cd26d98099",
       "IPY_MODEL_7e8c94ee16144e04b7e2a7fd042e34d1"
      ],
      "layout": "IPY_MODEL_8c630da1c0fe4570abc24b97fd4fd756"
     }
    },
    "1dc5da3aef6247d2bd85c793e4bb3da5": {
     "model_module": "@jupyter-widgets/controls",
     "model_module_version": "1.5.0",
     "model_name": "ProgressStyleModel",
     "state": {
      "_model_module": "@jupyter-widgets/controls",
      "_model_module_version": "1.5.0",
      "_model_name": "ProgressStyleModel",
      "_view_count": null,
      "_view_module": "@jupyter-widgets/base",
      "_view_module_version": "1.2.0",
      "_view_name": "StyleView",
      "bar_color": null,
      "description_width": ""
     }
    },
    "2263dbf1c8814e57abd9b6b5fde730f7": {
     "model_module": "@jupyter-widgets/controls",
     "model_module_version": "1.5.0",
     "model_name": "HBoxModel",
     "state": {
      "_dom_classes": [],
      "_model_module": "@jupyter-widgets/controls",
      "_model_module_version": "1.5.0",
      "_model_name": "HBoxModel",
      "_view_count": null,
      "_view_module": "@jupyter-widgets/controls",
      "_view_module_version": "1.5.0",
      "_view_name": "HBoxView",
      "box_style": "",
      "children": [
       "IPY_MODEL_d9348ef317c94f869604a9a7ed24f5b3",
       "IPY_MODEL_611a973d07634c79a60003f8639d86d7",
       "IPY_MODEL_c10273802f974318a56831d1cf80e09a"
      ],
      "layout": "IPY_MODEL_0f72199c60a6422189e9c7bee347e688"
     }
    },
    "248d8b2b7fd04559b0a1a1e8d35fc317": {
     "model_module": "@jupyter-widgets/base",
     "model_module_version": "1.2.0",
     "model_name": "LayoutModel",
     "state": {
      "_model_module": "@jupyter-widgets/base",
      "_model_module_version": "1.2.0",
      "_model_name": "LayoutModel",
      "_view_count": null,
      "_view_module": "@jupyter-widgets/base",
      "_view_module_version": "1.2.0",
      "_view_name": "LayoutView",
      "align_content": null,
      "align_items": null,
      "align_self": null,
      "border": null,
      "bottom": null,
      "display": null,
      "flex": null,
      "flex_flow": null,
      "grid_area": null,
      "grid_auto_columns": null,
      "grid_auto_flow": null,
      "grid_auto_rows": null,
      "grid_column": null,
      "grid_gap": null,
      "grid_row": null,
      "grid_template_areas": null,
      "grid_template_columns": null,
      "grid_template_rows": null,
      "height": null,
      "justify_content": null,
      "justify_items": null,
      "left": null,
      "margin": null,
      "max_height": null,
      "max_width": null,
      "min_height": null,
      "min_width": null,
      "object_fit": null,
      "object_position": null,
      "order": null,
      "overflow": null,
      "overflow_x": null,
      "overflow_y": null,
      "padding": null,
      "right": null,
      "top": null,
      "visibility": null,
      "width": null
     }
    },
    "258d71e6a2fe468f83e4e523305de06a": {
     "model_module": "@jupyter-widgets/controls",
     "model_module_version": "1.5.0",
     "model_name": "HTMLModel",
     "state": {
      "_dom_classes": [],
      "_model_module": "@jupyter-widgets/controls",
      "_model_module_version": "1.5.0",
      "_model_name": "HTMLModel",
      "_view_count": null,
      "_view_module": "@jupyter-widgets/controls",
      "_view_module_version": "1.5.0",
      "_view_name": "HTMLView",
      "description": "",
      "description_tooltip": null,
      "layout": "IPY_MODEL_4192f7573b62474597fef6d1ea1acfef",
      "placeholder": "​",
      "style": "IPY_MODEL_d1a933c1a52a462eacfd2eb4679bb525",
      "value": " 1/1 [00:00&lt;00:00,  4.46ba/s]"
     }
    },
    "26538d58defc4c01a3c59b0af83bbbed": {
     "model_module": "@jupyter-widgets/controls",
     "model_module_version": "1.5.0",
     "model_name": "DescriptionStyleModel",
     "state": {
      "_model_module": "@jupyter-widgets/controls",
      "_model_module_version": "1.5.0",
      "_model_name": "DescriptionStyleModel",
      "_view_count": null,
      "_view_module": "@jupyter-widgets/base",
      "_view_module_version": "1.2.0",
      "_view_name": "StyleView",
      "description_width": ""
     }
    },
    "29391cc498da4fafb165b1c015e94178": {
     "model_module": "@jupyter-widgets/controls",
     "model_module_version": "1.5.0",
     "model_name": "DescriptionStyleModel",
     "state": {
      "_model_module": "@jupyter-widgets/controls",
      "_model_module_version": "1.5.0",
      "_model_name": "DescriptionStyleModel",
      "_view_count": null,
      "_view_module": "@jupyter-widgets/base",
      "_view_module_version": "1.2.0",
      "_view_name": "StyleView",
      "description_width": ""
     }
    },
    "2b5447e525a545afae9336825ff77bba": {
     "model_module": "@jupyter-widgets/controls",
     "model_module_version": "1.5.0",
     "model_name": "FloatProgressModel",
     "state": {
      "_dom_classes": [],
      "_model_module": "@jupyter-widgets/controls",
      "_model_module_version": "1.5.0",
      "_model_name": "FloatProgressModel",
      "_view_count": null,
      "_view_module": "@jupyter-widgets/controls",
      "_view_module_version": "1.5.0",
      "_view_name": "ProgressView",
      "bar_style": "success",
      "description": "",
      "description_tooltip": null,
      "layout": "IPY_MODEL_14e894900df345cbb66419a711fbf9f0",
      "max": 1,
      "min": 0,
      "orientation": "horizontal",
      "style": "IPY_MODEL_abc2ba48e695487da81a98b8f91912f9",
      "value": 1
     }
    },
    "2bf6cf63488245e2bd88cbe390cfd0cc": {
     "model_module": "@jupyter-widgets/controls",
     "model_module_version": "1.5.0",
     "model_name": "DescriptionStyleModel",
     "state": {
      "_model_module": "@jupyter-widgets/controls",
      "_model_module_version": "1.5.0",
      "_model_name": "DescriptionStyleModel",
      "_view_count": null,
      "_view_module": "@jupyter-widgets/base",
      "_view_module_version": "1.2.0",
      "_view_name": "StyleView",
      "description_width": ""
     }
    },
    "2cafc5676c6e419e870a495204208318": {
     "model_module": "@jupyter-widgets/base",
     "model_module_version": "1.2.0",
     "model_name": "LayoutModel",
     "state": {
      "_model_module": "@jupyter-widgets/base",
      "_model_module_version": "1.2.0",
      "_model_name": "LayoutModel",
      "_view_count": null,
      "_view_module": "@jupyter-widgets/base",
      "_view_module_version": "1.2.0",
      "_view_name": "LayoutView",
      "align_content": null,
      "align_items": null,
      "align_self": null,
      "border": null,
      "bottom": null,
      "display": null,
      "flex": null,
      "flex_flow": null,
      "grid_area": null,
      "grid_auto_columns": null,
      "grid_auto_flow": null,
      "grid_auto_rows": null,
      "grid_column": null,
      "grid_gap": null,
      "grid_row": null,
      "grid_template_areas": null,
      "grid_template_columns": null,
      "grid_template_rows": null,
      "height": null,
      "justify_content": null,
      "justify_items": null,
      "left": null,
      "margin": null,
      "max_height": null,
      "max_width": null,
      "min_height": null,
      "min_width": null,
      "object_fit": null,
      "object_position": null,
      "order": null,
      "overflow": null,
      "overflow_x": null,
      "overflow_y": null,
      "padding": null,
      "right": null,
      "top": null,
      "visibility": null,
      "width": null
     }
    },
    "2d393254e6554961bd08e8450f7698a4": {
     "model_module": "@jupyter-widgets/base",
     "model_module_version": "1.2.0",
     "model_name": "LayoutModel",
     "state": {
      "_model_module": "@jupyter-widgets/base",
      "_model_module_version": "1.2.0",
      "_model_name": "LayoutModel",
      "_view_count": null,
      "_view_module": "@jupyter-widgets/base",
      "_view_module_version": "1.2.0",
      "_view_name": "LayoutView",
      "align_content": null,
      "align_items": null,
      "align_self": null,
      "border": null,
      "bottom": null,
      "display": null,
      "flex": null,
      "flex_flow": null,
      "grid_area": null,
      "grid_auto_columns": null,
      "grid_auto_flow": null,
      "grid_auto_rows": null,
      "grid_column": null,
      "grid_gap": null,
      "grid_row": null,
      "grid_template_areas": null,
      "grid_template_columns": null,
      "grid_template_rows": null,
      "height": null,
      "justify_content": null,
      "justify_items": null,
      "left": null,
      "margin": null,
      "max_height": null,
      "max_width": null,
      "min_height": null,
      "min_width": null,
      "object_fit": null,
      "object_position": null,
      "order": null,
      "overflow": null,
      "overflow_x": null,
      "overflow_y": null,
      "padding": null,
      "right": null,
      "top": null,
      "visibility": null,
      "width": null
     }
    },
    "3172f8b624c04fbcbbf35ea9a8d44cb0": {
     "model_module": "@jupyter-widgets/controls",
     "model_module_version": "1.5.0",
     "model_name": "HTMLModel",
     "state": {
      "_dom_classes": [],
      "_model_module": "@jupyter-widgets/controls",
      "_model_module_version": "1.5.0",
      "_model_name": "HTMLModel",
      "_view_count": null,
      "_view_module": "@jupyter-widgets/controls",
      "_view_module_version": "1.5.0",
      "_view_name": "HTMLView",
      "description": "",
      "description_tooltip": null,
      "layout": "IPY_MODEL_7a1c85b2c1b74bb88f95abb4dc7d8b88",
      "placeholder": "​",
      "style": "IPY_MODEL_fdc33cd0ec574e5ca20995e7468aebd6",
      "value": "100%"
     }
    },
    "333fe2ad61d3433a89e4507f2aa2ca79": {
     "model_module": "@jupyter-widgets/base",
     "model_module_version": "1.2.0",
     "model_name": "LayoutModel",
     "state": {
      "_model_module": "@jupyter-widgets/base",
      "_model_module_version": "1.2.0",
      "_model_name": "LayoutModel",
      "_view_count": null,
      "_view_module": "@jupyter-widgets/base",
      "_view_module_version": "1.2.0",
      "_view_name": "LayoutView",
      "align_content": null,
      "align_items": null,
      "align_self": null,
      "border": null,
      "bottom": null,
      "display": null,
      "flex": null,
      "flex_flow": null,
      "grid_area": null,
      "grid_auto_columns": null,
      "grid_auto_flow": null,
      "grid_auto_rows": null,
      "grid_column": null,
      "grid_gap": null,
      "grid_row": null,
      "grid_template_areas": null,
      "grid_template_columns": null,
      "grid_template_rows": null,
      "height": null,
      "justify_content": null,
      "justify_items": null,
      "left": null,
      "margin": null,
      "max_height": null,
      "max_width": null,
      "min_height": null,
      "min_width": null,
      "object_fit": null,
      "object_position": null,
      "order": null,
      "overflow": null,
      "overflow_x": null,
      "overflow_y": null,
      "padding": null,
      "right": null,
      "top": null,
      "visibility": null,
      "width": null
     }
    },
    "35d80e92d3b44432b98bfd484e2fb134": {
     "model_module": "@jupyter-widgets/base",
     "model_module_version": "1.2.0",
     "model_name": "LayoutModel",
     "state": {
      "_model_module": "@jupyter-widgets/base",
      "_model_module_version": "1.2.0",
      "_model_name": "LayoutModel",
      "_view_count": null,
      "_view_module": "@jupyter-widgets/base",
      "_view_module_version": "1.2.0",
      "_view_name": "LayoutView",
      "align_content": null,
      "align_items": null,
      "align_self": null,
      "border": null,
      "bottom": null,
      "display": null,
      "flex": null,
      "flex_flow": null,
      "grid_area": null,
      "grid_auto_columns": null,
      "grid_auto_flow": null,
      "grid_auto_rows": null,
      "grid_column": null,
      "grid_gap": null,
      "grid_row": null,
      "grid_template_areas": null,
      "grid_template_columns": null,
      "grid_template_rows": null,
      "height": null,
      "justify_content": null,
      "justify_items": null,
      "left": null,
      "margin": null,
      "max_height": null,
      "max_width": null,
      "min_height": null,
      "min_width": null,
      "object_fit": null,
      "object_position": null,
      "order": null,
      "overflow": null,
      "overflow_x": null,
      "overflow_y": null,
      "padding": null,
      "right": null,
      "top": null,
      "visibility": null,
      "width": null
     }
    },
    "37065efd08154058b5260737f2e0abd9": {
     "model_module": "@jupyter-widgets/base",
     "model_module_version": "1.2.0",
     "model_name": "LayoutModel",
     "state": {
      "_model_module": "@jupyter-widgets/base",
      "_model_module_version": "1.2.0",
      "_model_name": "LayoutModel",
      "_view_count": null,
      "_view_module": "@jupyter-widgets/base",
      "_view_module_version": "1.2.0",
      "_view_name": "LayoutView",
      "align_content": null,
      "align_items": null,
      "align_self": null,
      "border": null,
      "bottom": null,
      "display": null,
      "flex": null,
      "flex_flow": null,
      "grid_area": null,
      "grid_auto_columns": null,
      "grid_auto_flow": null,
      "grid_auto_rows": null,
      "grid_column": null,
      "grid_gap": null,
      "grid_row": null,
      "grid_template_areas": null,
      "grid_template_columns": null,
      "grid_template_rows": null,
      "height": null,
      "justify_content": null,
      "justify_items": null,
      "left": null,
      "margin": null,
      "max_height": null,
      "max_width": null,
      "min_height": null,
      "min_width": null,
      "object_fit": null,
      "object_position": null,
      "order": null,
      "overflow": null,
      "overflow_x": null,
      "overflow_y": null,
      "padding": null,
      "right": null,
      "top": null,
      "visibility": null,
      "width": null
     }
    },
    "386a0a4df54e43d690ed3fe241a8fc89": {
     "model_module": "@jupyter-widgets/controls",
     "model_module_version": "1.5.0",
     "model_name": "DescriptionStyleModel",
     "state": {
      "_model_module": "@jupyter-widgets/controls",
      "_model_module_version": "1.5.0",
      "_model_name": "DescriptionStyleModel",
      "_view_count": null,
      "_view_module": "@jupyter-widgets/base",
      "_view_module_version": "1.2.0",
      "_view_name": "StyleView",
      "description_width": ""
     }
    },
    "38ac2840facb4544b99356a7f1693b51": {
     "model_module": "@jupyter-widgets/controls",
     "model_module_version": "1.5.0",
     "model_name": "ProgressStyleModel",
     "state": {
      "_model_module": "@jupyter-widgets/controls",
      "_model_module_version": "1.5.0",
      "_model_name": "ProgressStyleModel",
      "_view_count": null,
      "_view_module": "@jupyter-widgets/base",
      "_view_module_version": "1.2.0",
      "_view_name": "StyleView",
      "bar_color": null,
      "description_width": ""
     }
    },
    "38db3d9033294062928f27cea604c976": {
     "model_module": "@jupyter-widgets/controls",
     "model_module_version": "1.5.0",
     "model_name": "HTMLModel",
     "state": {
      "_dom_classes": [],
      "_model_module": "@jupyter-widgets/controls",
      "_model_module_version": "1.5.0",
      "_model_name": "HTMLModel",
      "_view_count": null,
      "_view_module": "@jupyter-widgets/controls",
      "_view_module_version": "1.5.0",
      "_view_name": "HTMLView",
      "description": "",
      "description_tooltip": null,
      "layout": "IPY_MODEL_555ef0a3333f4299abe3e13cd3926e2e",
      "placeholder": "​",
      "style": "IPY_MODEL_bc96047979ca47bdba0dd1f48b26a7ee",
      "value": "100%"
     }
    },
    "3c9c201b10624af48247f90679150598": {
     "model_module": "@jupyter-widgets/controls",
     "model_module_version": "1.5.0",
     "model_name": "HBoxModel",
     "state": {
      "_dom_classes": [],
      "_model_module": "@jupyter-widgets/controls",
      "_model_module_version": "1.5.0",
      "_model_name": "HBoxModel",
      "_view_count": null,
      "_view_module": "@jupyter-widgets/controls",
      "_view_module_version": "1.5.0",
      "_view_name": "HBoxView",
      "box_style": "",
      "children": [
       "IPY_MODEL_921980d741404de59e042d34626d9891",
       "IPY_MODEL_58ab2c0588ee4fd4b24c807c9255a2a9",
       "IPY_MODEL_258d71e6a2fe468f83e4e523305de06a"
      ],
      "layout": "IPY_MODEL_db4243ffa7f748d78f7e8ef36337f8b8"
     }
    },
    "4192f7573b62474597fef6d1ea1acfef": {
     "model_module": "@jupyter-widgets/base",
     "model_module_version": "1.2.0",
     "model_name": "LayoutModel",
     "state": {
      "_model_module": "@jupyter-widgets/base",
      "_model_module_version": "1.2.0",
      "_model_name": "LayoutModel",
      "_view_count": null,
      "_view_module": "@jupyter-widgets/base",
      "_view_module_version": "1.2.0",
      "_view_name": "LayoutView",
      "align_content": null,
      "align_items": null,
      "align_self": null,
      "border": null,
      "bottom": null,
      "display": null,
      "flex": null,
      "flex_flow": null,
      "grid_area": null,
      "grid_auto_columns": null,
      "grid_auto_flow": null,
      "grid_auto_rows": null,
      "grid_column": null,
      "grid_gap": null,
      "grid_row": null,
      "grid_template_areas": null,
      "grid_template_columns": null,
      "grid_template_rows": null,
      "height": null,
      "justify_content": null,
      "justify_items": null,
      "left": null,
      "margin": null,
      "max_height": null,
      "max_width": null,
      "min_height": null,
      "min_width": null,
      "object_fit": null,
      "object_position": null,
      "order": null,
      "overflow": null,
      "overflow_x": null,
      "overflow_y": null,
      "padding": null,
      "right": null,
      "top": null,
      "visibility": null,
      "width": null
     }
    },
    "4201f46e7d3d4946aacd33aae46d1d6c": {
     "model_module": "@jupyter-widgets/controls",
     "model_module_version": "1.5.0",
     "model_name": "HTMLModel",
     "state": {
      "_dom_classes": [],
      "_model_module": "@jupyter-widgets/controls",
      "_model_module_version": "1.5.0",
      "_model_name": "HTMLModel",
      "_view_count": null,
      "_view_module": "@jupyter-widgets/controls",
      "_view_module_version": "1.5.0",
      "_view_name": "HTMLView",
      "description": "",
      "description_tooltip": null,
      "layout": "IPY_MODEL_85f8360fe4c8417b8047d21c417e285e",
      "placeholder": "​",
      "style": "IPY_MODEL_2bf6cf63488245e2bd88cbe390cfd0cc",
      "value": " 1/1 [00:00&lt;00:00, 15.75ba/s]"
     }
    },
    "42be6419f1284390935d71f19c34f639": {
     "model_module": "@jupyter-widgets/controls",
     "model_module_version": "1.5.0",
     "model_name": "DescriptionStyleModel",
     "state": {
      "_model_module": "@jupyter-widgets/controls",
      "_model_module_version": "1.5.0",
      "_model_name": "DescriptionStyleModel",
      "_view_count": null,
      "_view_module": "@jupyter-widgets/base",
      "_view_module_version": "1.2.0",
      "_view_name": "StyleView",
      "description_width": ""
     }
    },
    "48a7cb5a386b4559bb0be7cb9e5b899d": {
     "model_module": "@jupyter-widgets/base",
     "model_module_version": "1.2.0",
     "model_name": "LayoutModel",
     "state": {
      "_model_module": "@jupyter-widgets/base",
      "_model_module_version": "1.2.0",
      "_model_name": "LayoutModel",
      "_view_count": null,
      "_view_module": "@jupyter-widgets/base",
      "_view_module_version": "1.2.0",
      "_view_name": "LayoutView",
      "align_content": null,
      "align_items": null,
      "align_self": null,
      "border": null,
      "bottom": null,
      "display": null,
      "flex": null,
      "flex_flow": null,
      "grid_area": null,
      "grid_auto_columns": null,
      "grid_auto_flow": null,
      "grid_auto_rows": null,
      "grid_column": null,
      "grid_gap": null,
      "grid_row": null,
      "grid_template_areas": null,
      "grid_template_columns": null,
      "grid_template_rows": null,
      "height": null,
      "justify_content": null,
      "justify_items": null,
      "left": null,
      "margin": null,
      "max_height": null,
      "max_width": null,
      "min_height": null,
      "min_width": null,
      "object_fit": null,
      "object_position": null,
      "order": null,
      "overflow": null,
      "overflow_x": null,
      "overflow_y": null,
      "padding": null,
      "right": null,
      "top": null,
      "visibility": null,
      "width": null
     }
    },
    "4ac5b761187844a9a371c464fee0f085": {
     "model_module": "@jupyter-widgets/controls",
     "model_module_version": "1.5.0",
     "model_name": "DescriptionStyleModel",
     "state": {
      "_model_module": "@jupyter-widgets/controls",
      "_model_module_version": "1.5.0",
      "_model_name": "DescriptionStyleModel",
      "_view_count": null,
      "_view_module": "@jupyter-widgets/base",
      "_view_module_version": "1.2.0",
      "_view_name": "StyleView",
      "description_width": ""
     }
    },
    "4e925080f9314bbe9729becab3f2fe68": {
     "model_module": "@jupyter-widgets/controls",
     "model_module_version": "1.5.0",
     "model_name": "ProgressStyleModel",
     "state": {
      "_model_module": "@jupyter-widgets/controls",
      "_model_module_version": "1.5.0",
      "_model_name": "ProgressStyleModel",
      "_view_count": null,
      "_view_module": "@jupyter-widgets/base",
      "_view_module_version": "1.2.0",
      "_view_name": "StyleView",
      "bar_color": null,
      "description_width": ""
     }
    },
    "5007ef8389484cf892e485328a564a58": {
     "model_module": "@jupyter-widgets/controls",
     "model_module_version": "1.5.0",
     "model_name": "DescriptionStyleModel",
     "state": {
      "_model_module": "@jupyter-widgets/controls",
      "_model_module_version": "1.5.0",
      "_model_name": "DescriptionStyleModel",
      "_view_count": null,
      "_view_module": "@jupyter-widgets/base",
      "_view_module_version": "1.2.0",
      "_view_name": "StyleView",
      "description_width": ""
     }
    },
    "52cb770d33054244b81e20f1d3ff23a3": {
     "model_module": "@jupyter-widgets/controls",
     "model_module_version": "1.5.0",
     "model_name": "ProgressStyleModel",
     "state": {
      "_model_module": "@jupyter-widgets/controls",
      "_model_module_version": "1.5.0",
      "_model_name": "ProgressStyleModel",
      "_view_count": null,
      "_view_module": "@jupyter-widgets/base",
      "_view_module_version": "1.2.0",
      "_view_name": "StyleView",
      "bar_color": null,
      "description_width": ""
     }
    },
    "555ef0a3333f4299abe3e13cd3926e2e": {
     "model_module": "@jupyter-widgets/base",
     "model_module_version": "1.2.0",
     "model_name": "LayoutModel",
     "state": {
      "_model_module": "@jupyter-widgets/base",
      "_model_module_version": "1.2.0",
      "_model_name": "LayoutModel",
      "_view_count": null,
      "_view_module": "@jupyter-widgets/base",
      "_view_module_version": "1.2.0",
      "_view_name": "LayoutView",
      "align_content": null,
      "align_items": null,
      "align_self": null,
      "border": null,
      "bottom": null,
      "display": null,
      "flex": null,
      "flex_flow": null,
      "grid_area": null,
      "grid_auto_columns": null,
      "grid_auto_flow": null,
      "grid_auto_rows": null,
      "grid_column": null,
      "grid_gap": null,
      "grid_row": null,
      "grid_template_areas": null,
      "grid_template_columns": null,
      "grid_template_rows": null,
      "height": null,
      "justify_content": null,
      "justify_items": null,
      "left": null,
      "margin": null,
      "max_height": null,
      "max_width": null,
      "min_height": null,
      "min_width": null,
      "object_fit": null,
      "object_position": null,
      "order": null,
      "overflow": null,
      "overflow_x": null,
      "overflow_y": null,
      "padding": null,
      "right": null,
      "top": null,
      "visibility": null,
      "width": null
     }
    },
    "56752e42dc0a4871b7b057b9fd47ca5f": {
     "model_module": "@jupyter-widgets/controls",
     "model_module_version": "1.5.0",
     "model_name": "DescriptionStyleModel",
     "state": {
      "_model_module": "@jupyter-widgets/controls",
      "_model_module_version": "1.5.0",
      "_model_name": "DescriptionStyleModel",
      "_view_count": null,
      "_view_module": "@jupyter-widgets/base",
      "_view_module_version": "1.2.0",
      "_view_name": "StyleView",
      "description_width": ""
     }
    },
    "58ab2c0588ee4fd4b24c807c9255a2a9": {
     "model_module": "@jupyter-widgets/controls",
     "model_module_version": "1.5.0",
     "model_name": "FloatProgressModel",
     "state": {
      "_dom_classes": [],
      "_model_module": "@jupyter-widgets/controls",
      "_model_module_version": "1.5.0",
      "_model_name": "FloatProgressModel",
      "_view_count": null,
      "_view_module": "@jupyter-widgets/controls",
      "_view_module_version": "1.5.0",
      "_view_name": "ProgressView",
      "bar_style": "success",
      "description": "",
      "description_tooltip": null,
      "layout": "IPY_MODEL_ebfcbe0b6d0d40ba8448ac292d6ad423",
      "max": 1,
      "min": 0,
      "orientation": "horizontal",
      "style": "IPY_MODEL_1dc5da3aef6247d2bd85c793e4bb3da5",
      "value": 1
     }
    },
    "58f34bd372c74c48b765490e822c231b": {
     "model_module": "@jupyter-widgets/base",
     "model_module_version": "1.2.0",
     "model_name": "LayoutModel",
     "state": {
      "_model_module": "@jupyter-widgets/base",
      "_model_module_version": "1.2.0",
      "_model_name": "LayoutModel",
      "_view_count": null,
      "_view_module": "@jupyter-widgets/base",
      "_view_module_version": "1.2.0",
      "_view_name": "LayoutView",
      "align_content": null,
      "align_items": null,
      "align_self": null,
      "border": null,
      "bottom": null,
      "display": null,
      "flex": null,
      "flex_flow": null,
      "grid_area": null,
      "grid_auto_columns": null,
      "grid_auto_flow": null,
      "grid_auto_rows": null,
      "grid_column": null,
      "grid_gap": null,
      "grid_row": null,
      "grid_template_areas": null,
      "grid_template_columns": null,
      "grid_template_rows": null,
      "height": null,
      "justify_content": null,
      "justify_items": null,
      "left": null,
      "margin": null,
      "max_height": null,
      "max_width": null,
      "min_height": null,
      "min_width": null,
      "object_fit": null,
      "object_position": null,
      "order": null,
      "overflow": null,
      "overflow_x": null,
      "overflow_y": null,
      "padding": null,
      "right": null,
      "top": null,
      "visibility": null,
      "width": null
     }
    },
    "611a973d07634c79a60003f8639d86d7": {
     "model_module": "@jupyter-widgets/controls",
     "model_module_version": "1.5.0",
     "model_name": "FloatProgressModel",
     "state": {
      "_dom_classes": [],
      "_model_module": "@jupyter-widgets/controls",
      "_model_module_version": "1.5.0",
      "_model_name": "FloatProgressModel",
      "_view_count": null,
      "_view_module": "@jupyter-widgets/controls",
      "_view_module_version": "1.5.0",
      "_view_name": "ProgressView",
      "bar_style": "success",
      "description": "",
      "description_tooltip": null,
      "layout": "IPY_MODEL_744ed61e75a3447390c80045c6d1a0e0",
      "max": 1,
      "min": 0,
      "orientation": "horizontal",
      "style": "IPY_MODEL_4e925080f9314bbe9729becab3f2fe68",
      "value": 1
     }
    },
    "61623e5ca8da45379a26c425cdb0d244": {
     "model_module": "@jupyter-widgets/controls",
     "model_module_version": "1.5.0",
     "model_name": "DescriptionStyleModel",
     "state": {
      "_model_module": "@jupyter-widgets/controls",
      "_model_module_version": "1.5.0",
      "_model_name": "DescriptionStyleModel",
      "_view_count": null,
      "_view_module": "@jupyter-widgets/base",
      "_view_module_version": "1.2.0",
      "_view_name": "StyleView",
      "description_width": ""
     }
    },
    "62693854b7444e58b4687d9be8c7f05f": {
     "model_module": "@jupyter-widgets/base",
     "model_module_version": "1.2.0",
     "model_name": "LayoutModel",
     "state": {
      "_model_module": "@jupyter-widgets/base",
      "_model_module_version": "1.2.0",
      "_model_name": "LayoutModel",
      "_view_count": null,
      "_view_module": "@jupyter-widgets/base",
      "_view_module_version": "1.2.0",
      "_view_name": "LayoutView",
      "align_content": null,
      "align_items": null,
      "align_self": null,
      "border": null,
      "bottom": null,
      "display": null,
      "flex": null,
      "flex_flow": null,
      "grid_area": null,
      "grid_auto_columns": null,
      "grid_auto_flow": null,
      "grid_auto_rows": null,
      "grid_column": null,
      "grid_gap": null,
      "grid_row": null,
      "grid_template_areas": null,
      "grid_template_columns": null,
      "grid_template_rows": null,
      "height": null,
      "justify_content": null,
      "justify_items": null,
      "left": null,
      "margin": null,
      "max_height": null,
      "max_width": null,
      "min_height": null,
      "min_width": null,
      "object_fit": null,
      "object_position": null,
      "order": null,
      "overflow": null,
      "overflow_x": null,
      "overflow_y": null,
      "padding": null,
      "right": null,
      "top": null,
      "visibility": null,
      "width": null
     }
    },
    "63e3055a46e14d44b4e690966d3d242d": {
     "model_module": "@jupyter-widgets/base",
     "model_module_version": "1.2.0",
     "model_name": "LayoutModel",
     "state": {
      "_model_module": "@jupyter-widgets/base",
      "_model_module_version": "1.2.0",
      "_model_name": "LayoutModel",
      "_view_count": null,
      "_view_module": "@jupyter-widgets/base",
      "_view_module_version": "1.2.0",
      "_view_name": "LayoutView",
      "align_content": null,
      "align_items": null,
      "align_self": null,
      "border": null,
      "bottom": null,
      "display": null,
      "flex": null,
      "flex_flow": null,
      "grid_area": null,
      "grid_auto_columns": null,
      "grid_auto_flow": null,
      "grid_auto_rows": null,
      "grid_column": null,
      "grid_gap": null,
      "grid_row": null,
      "grid_template_areas": null,
      "grid_template_columns": null,
      "grid_template_rows": null,
      "height": null,
      "justify_content": null,
      "justify_items": null,
      "left": null,
      "margin": null,
      "max_height": null,
      "max_width": null,
      "min_height": null,
      "min_width": null,
      "object_fit": null,
      "object_position": null,
      "order": null,
      "overflow": null,
      "overflow_x": null,
      "overflow_y": null,
      "padding": null,
      "right": null,
      "top": null,
      "visibility": null,
      "width": null
     }
    },
    "6483c60a2ea7414db572ba55f8976dcb": {
     "model_module": "@jupyter-widgets/base",
     "model_module_version": "1.2.0",
     "model_name": "LayoutModel",
     "state": {
      "_model_module": "@jupyter-widgets/base",
      "_model_module_version": "1.2.0",
      "_model_name": "LayoutModel",
      "_view_count": null,
      "_view_module": "@jupyter-widgets/base",
      "_view_module_version": "1.2.0",
      "_view_name": "LayoutView",
      "align_content": null,
      "align_items": null,
      "align_self": null,
      "border": null,
      "bottom": null,
      "display": null,
      "flex": null,
      "flex_flow": null,
      "grid_area": null,
      "grid_auto_columns": null,
      "grid_auto_flow": null,
      "grid_auto_rows": null,
      "grid_column": null,
      "grid_gap": null,
      "grid_row": null,
      "grid_template_areas": null,
      "grid_template_columns": null,
      "grid_template_rows": null,
      "height": null,
      "justify_content": null,
      "justify_items": null,
      "left": null,
      "margin": null,
      "max_height": null,
      "max_width": null,
      "min_height": null,
      "min_width": null,
      "object_fit": null,
      "object_position": null,
      "order": null,
      "overflow": null,
      "overflow_x": null,
      "overflow_y": null,
      "padding": null,
      "right": null,
      "top": null,
      "visibility": null,
      "width": null
     }
    },
    "677161bbbae1413ab29f6ba3ac6667aa": {
     "model_module": "@jupyter-widgets/base",
     "model_module_version": "1.2.0",
     "model_name": "LayoutModel",
     "state": {
      "_model_module": "@jupyter-widgets/base",
      "_model_module_version": "1.2.0",
      "_model_name": "LayoutModel",
      "_view_count": null,
      "_view_module": "@jupyter-widgets/base",
      "_view_module_version": "1.2.0",
      "_view_name": "LayoutView",
      "align_content": null,
      "align_items": null,
      "align_self": null,
      "border": null,
      "bottom": null,
      "display": null,
      "flex": null,
      "flex_flow": null,
      "grid_area": null,
      "grid_auto_columns": null,
      "grid_auto_flow": null,
      "grid_auto_rows": null,
      "grid_column": null,
      "grid_gap": null,
      "grid_row": null,
      "grid_template_areas": null,
      "grid_template_columns": null,
      "grid_template_rows": null,
      "height": null,
      "justify_content": null,
      "justify_items": null,
      "left": null,
      "margin": null,
      "max_height": null,
      "max_width": null,
      "min_height": null,
      "min_width": null,
      "object_fit": null,
      "object_position": null,
      "order": null,
      "overflow": null,
      "overflow_x": null,
      "overflow_y": null,
      "padding": null,
      "right": null,
      "top": null,
      "visibility": null,
      "width": null
     }
    },
    "6fe03599528f4970b47e803afb0ac715": {
     "model_module": "@jupyter-widgets/controls",
     "model_module_version": "1.5.0",
     "model_name": "HBoxModel",
     "state": {
      "_dom_classes": [],
      "_model_module": "@jupyter-widgets/controls",
      "_model_module_version": "1.5.0",
      "_model_name": "HBoxModel",
      "_view_count": null,
      "_view_module": "@jupyter-widgets/controls",
      "_view_module_version": "1.5.0",
      "_view_name": "HBoxView",
      "box_style": "",
      "children": [
       "IPY_MODEL_e174b88e674745fb8476db51740d2572",
       "IPY_MODEL_a492ae6914ac40c0b6a948adcdfa0c22",
       "IPY_MODEL_88aae77459b8471bb054cf7d23fbb125"
      ],
      "layout": "IPY_MODEL_677161bbbae1413ab29f6ba3ac6667aa"
     }
    },
    "728f9a6185e1412d8f76702579eb758d": {
     "model_module": "@jupyter-widgets/controls",
     "model_module_version": "1.5.0",
     "model_name": "DescriptionStyleModel",
     "state": {
      "_model_module": "@jupyter-widgets/controls",
      "_model_module_version": "1.5.0",
      "_model_name": "DescriptionStyleModel",
      "_view_count": null,
      "_view_module": "@jupyter-widgets/base",
      "_view_module_version": "1.2.0",
      "_view_name": "StyleView",
      "description_width": ""
     }
    },
    "744ed61e75a3447390c80045c6d1a0e0": {
     "model_module": "@jupyter-widgets/base",
     "model_module_version": "1.2.0",
     "model_name": "LayoutModel",
     "state": {
      "_model_module": "@jupyter-widgets/base",
      "_model_module_version": "1.2.0",
      "_model_name": "LayoutModel",
      "_view_count": null,
      "_view_module": "@jupyter-widgets/base",
      "_view_module_version": "1.2.0",
      "_view_name": "LayoutView",
      "align_content": null,
      "align_items": null,
      "align_self": null,
      "border": null,
      "bottom": null,
      "display": null,
      "flex": null,
      "flex_flow": null,
      "grid_area": null,
      "grid_auto_columns": null,
      "grid_auto_flow": null,
      "grid_auto_rows": null,
      "grid_column": null,
      "grid_gap": null,
      "grid_row": null,
      "grid_template_areas": null,
      "grid_template_columns": null,
      "grid_template_rows": null,
      "height": null,
      "justify_content": null,
      "justify_items": null,
      "left": null,
      "margin": null,
      "max_height": null,
      "max_width": null,
      "min_height": null,
      "min_width": null,
      "object_fit": null,
      "object_position": null,
      "order": null,
      "overflow": null,
      "overflow_x": null,
      "overflow_y": null,
      "padding": null,
      "right": null,
      "top": null,
      "visibility": null,
      "width": null
     }
    },
    "788824047ab847f38940df3115deb900": {
     "model_module": "@jupyter-widgets/base",
     "model_module_version": "1.2.0",
     "model_name": "LayoutModel",
     "state": {
      "_model_module": "@jupyter-widgets/base",
      "_model_module_version": "1.2.0",
      "_model_name": "LayoutModel",
      "_view_count": null,
      "_view_module": "@jupyter-widgets/base",
      "_view_module_version": "1.2.0",
      "_view_name": "LayoutView",
      "align_content": null,
      "align_items": null,
      "align_self": null,
      "border": null,
      "bottom": null,
      "display": null,
      "flex": null,
      "flex_flow": null,
      "grid_area": null,
      "grid_auto_columns": null,
      "grid_auto_flow": null,
      "grid_auto_rows": null,
      "grid_column": null,
      "grid_gap": null,
      "grid_row": null,
      "grid_template_areas": null,
      "grid_template_columns": null,
      "grid_template_rows": null,
      "height": null,
      "justify_content": null,
      "justify_items": null,
      "left": null,
      "margin": null,
      "max_height": null,
      "max_width": null,
      "min_height": null,
      "min_width": null,
      "object_fit": null,
      "object_position": null,
      "order": null,
      "overflow": null,
      "overflow_x": null,
      "overflow_y": null,
      "padding": null,
      "right": null,
      "top": null,
      "visibility": null,
      "width": null
     }
    },
    "7a1c85b2c1b74bb88f95abb4dc7d8b88": {
     "model_module": "@jupyter-widgets/base",
     "model_module_version": "1.2.0",
     "model_name": "LayoutModel",
     "state": {
      "_model_module": "@jupyter-widgets/base",
      "_model_module_version": "1.2.0",
      "_model_name": "LayoutModel",
      "_view_count": null,
      "_view_module": "@jupyter-widgets/base",
      "_view_module_version": "1.2.0",
      "_view_name": "LayoutView",
      "align_content": null,
      "align_items": null,
      "align_self": null,
      "border": null,
      "bottom": null,
      "display": null,
      "flex": null,
      "flex_flow": null,
      "grid_area": null,
      "grid_auto_columns": null,
      "grid_auto_flow": null,
      "grid_auto_rows": null,
      "grid_column": null,
      "grid_gap": null,
      "grid_row": null,
      "grid_template_areas": null,
      "grid_template_columns": null,
      "grid_template_rows": null,
      "height": null,
      "justify_content": null,
      "justify_items": null,
      "left": null,
      "margin": null,
      "max_height": null,
      "max_width": null,
      "min_height": null,
      "min_width": null,
      "object_fit": null,
      "object_position": null,
      "order": null,
      "overflow": null,
      "overflow_x": null,
      "overflow_y": null,
      "padding": null,
      "right": null,
      "top": null,
      "visibility": null,
      "width": null
     }
    },
    "7b54e2759c7b464293c8f267099847e2": {
     "model_module": "@jupyter-widgets/controls",
     "model_module_version": "1.5.0",
     "model_name": "ProgressStyleModel",
     "state": {
      "_model_module": "@jupyter-widgets/controls",
      "_model_module_version": "1.5.0",
      "_model_name": "ProgressStyleModel",
      "_view_count": null,
      "_view_module": "@jupyter-widgets/base",
      "_view_module_version": "1.2.0",
      "_view_name": "StyleView",
      "bar_color": null,
      "description_width": ""
     }
    },
    "7d799f7846d44218833315d8ab822ed8": {
     "model_module": "@jupyter-widgets/base",
     "model_module_version": "1.2.0",
     "model_name": "LayoutModel",
     "state": {
      "_model_module": "@jupyter-widgets/base",
      "_model_module_version": "1.2.0",
      "_model_name": "LayoutModel",
      "_view_count": null,
      "_view_module": "@jupyter-widgets/base",
      "_view_module_version": "1.2.0",
      "_view_name": "LayoutView",
      "align_content": null,
      "align_items": null,
      "align_self": null,
      "border": null,
      "bottom": null,
      "display": null,
      "flex": null,
      "flex_flow": null,
      "grid_area": null,
      "grid_auto_columns": null,
      "grid_auto_flow": null,
      "grid_auto_rows": null,
      "grid_column": null,
      "grid_gap": null,
      "grid_row": null,
      "grid_template_areas": null,
      "grid_template_columns": null,
      "grid_template_rows": null,
      "height": null,
      "justify_content": null,
      "justify_items": null,
      "left": null,
      "margin": null,
      "max_height": null,
      "max_width": null,
      "min_height": null,
      "min_width": null,
      "object_fit": null,
      "object_position": null,
      "order": null,
      "overflow": null,
      "overflow_x": null,
      "overflow_y": null,
      "padding": null,
      "right": null,
      "top": null,
      "visibility": null,
      "width": null
     }
    },
    "7e8c94ee16144e04b7e2a7fd042e34d1": {
     "model_module": "@jupyter-widgets/controls",
     "model_module_version": "1.5.0",
     "model_name": "HTMLModel",
     "state": {
      "_dom_classes": [],
      "_model_module": "@jupyter-widgets/controls",
      "_model_module_version": "1.5.0",
      "_model_name": "HTMLModel",
      "_view_count": null,
      "_view_module": "@jupyter-widgets/controls",
      "_view_module_version": "1.5.0",
      "_view_name": "HTMLView",
      "description": "",
      "description_tooltip": null,
      "layout": "IPY_MODEL_788824047ab847f38940df3115deb900",
      "placeholder": "​",
      "style": "IPY_MODEL_809b3f24668c4d1098921f97597a11cc",
      "value": " 1/1 [00:00&lt;00:00, 17.33ba/s]"
     }
    },
    "7f780cff8fe4460682a5b3ba4c989481": {
     "model_module": "@jupyter-widgets/base",
     "model_module_version": "1.2.0",
     "model_name": "LayoutModel",
     "state": {
      "_model_module": "@jupyter-widgets/base",
      "_model_module_version": "1.2.0",
      "_model_name": "LayoutModel",
      "_view_count": null,
      "_view_module": "@jupyter-widgets/base",
      "_view_module_version": "1.2.0",
      "_view_name": "LayoutView",
      "align_content": null,
      "align_items": null,
      "align_self": null,
      "border": null,
      "bottom": null,
      "display": null,
      "flex": null,
      "flex_flow": null,
      "grid_area": null,
      "grid_auto_columns": null,
      "grid_auto_flow": null,
      "grid_auto_rows": null,
      "grid_column": null,
      "grid_gap": null,
      "grid_row": null,
      "grid_template_areas": null,
      "grid_template_columns": null,
      "grid_template_rows": null,
      "height": null,
      "justify_content": null,
      "justify_items": null,
      "left": null,
      "margin": null,
      "max_height": null,
      "max_width": null,
      "min_height": null,
      "min_width": null,
      "object_fit": null,
      "object_position": null,
      "order": null,
      "overflow": null,
      "overflow_x": null,
      "overflow_y": null,
      "padding": null,
      "right": null,
      "top": null,
      "visibility": null,
      "width": null
     }
    },
    "809b3f24668c4d1098921f97597a11cc": {
     "model_module": "@jupyter-widgets/controls",
     "model_module_version": "1.5.0",
     "model_name": "DescriptionStyleModel",
     "state": {
      "_model_module": "@jupyter-widgets/controls",
      "_model_module_version": "1.5.0",
      "_model_name": "DescriptionStyleModel",
      "_view_count": null,
      "_view_module": "@jupyter-widgets/base",
      "_view_module_version": "1.2.0",
      "_view_name": "StyleView",
      "description_width": ""
     }
    },
    "84fb53407bad47ad8de5b81c382071e0": {
     "model_module": "@jupyter-widgets/controls",
     "model_module_version": "1.5.0",
     "model_name": "HTMLModel",
     "state": {
      "_dom_classes": [],
      "_model_module": "@jupyter-widgets/controls",
      "_model_module_version": "1.5.0",
      "_model_name": "HTMLModel",
      "_view_count": null,
      "_view_module": "@jupyter-widgets/controls",
      "_view_module_version": "1.5.0",
      "_view_name": "HTMLView",
      "description": "",
      "description_tooltip": null,
      "layout": "IPY_MODEL_58f34bd372c74c48b765490e822c231b",
      "placeholder": "​",
      "style": "IPY_MODEL_9f2197de3be74ccc97e7ab26e0d91a61",
      "value": " 1/1 [00:00&lt;00:00, 12.16ba/s]"
     }
    },
    "85f8360fe4c8417b8047d21c417e285e": {
     "model_module": "@jupyter-widgets/base",
     "model_module_version": "1.2.0",
     "model_name": "LayoutModel",
     "state": {
      "_model_module": "@jupyter-widgets/base",
      "_model_module_version": "1.2.0",
      "_model_name": "LayoutModel",
      "_view_count": null,
      "_view_module": "@jupyter-widgets/base",
      "_view_module_version": "1.2.0",
      "_view_name": "LayoutView",
      "align_content": null,
      "align_items": null,
      "align_self": null,
      "border": null,
      "bottom": null,
      "display": null,
      "flex": null,
      "flex_flow": null,
      "grid_area": null,
      "grid_auto_columns": null,
      "grid_auto_flow": null,
      "grid_auto_rows": null,
      "grid_column": null,
      "grid_gap": null,
      "grid_row": null,
      "grid_template_areas": null,
      "grid_template_columns": null,
      "grid_template_rows": null,
      "height": null,
      "justify_content": null,
      "justify_items": null,
      "left": null,
      "margin": null,
      "max_height": null,
      "max_width": null,
      "min_height": null,
      "min_width": null,
      "object_fit": null,
      "object_position": null,
      "order": null,
      "overflow": null,
      "overflow_x": null,
      "overflow_y": null,
      "padding": null,
      "right": null,
      "top": null,
      "visibility": null,
      "width": null
     }
    },
    "862ecf78a3f3428890d356a73677db88": {
     "model_module": "@jupyter-widgets/controls",
     "model_module_version": "1.5.0",
     "model_name": "DescriptionStyleModel",
     "state": {
      "_model_module": "@jupyter-widgets/controls",
      "_model_module_version": "1.5.0",
      "_model_name": "DescriptionStyleModel",
      "_view_count": null,
      "_view_module": "@jupyter-widgets/base",
      "_view_module_version": "1.2.0",
      "_view_name": "StyleView",
      "description_width": ""
     }
    },
    "879389d715334d619f58432f2c1d982d": {
     "model_module": "@jupyter-widgets/base",
     "model_module_version": "1.2.0",
     "model_name": "LayoutModel",
     "state": {
      "_model_module": "@jupyter-widgets/base",
      "_model_module_version": "1.2.0",
      "_model_name": "LayoutModel",
      "_view_count": null,
      "_view_module": "@jupyter-widgets/base",
      "_view_module_version": "1.2.0",
      "_view_name": "LayoutView",
      "align_content": null,
      "align_items": null,
      "align_self": null,
      "border": null,
      "bottom": null,
      "display": null,
      "flex": null,
      "flex_flow": null,
      "grid_area": null,
      "grid_auto_columns": null,
      "grid_auto_flow": null,
      "grid_auto_rows": null,
      "grid_column": null,
      "grid_gap": null,
      "grid_row": null,
      "grid_template_areas": null,
      "grid_template_columns": null,
      "grid_template_rows": null,
      "height": null,
      "justify_content": null,
      "justify_items": null,
      "left": null,
      "margin": null,
      "max_height": null,
      "max_width": null,
      "min_height": null,
      "min_width": null,
      "object_fit": null,
      "object_position": null,
      "order": null,
      "overflow": null,
      "overflow_x": null,
      "overflow_y": null,
      "padding": null,
      "right": null,
      "top": null,
      "visibility": null,
      "width": null
     }
    },
    "88aae77459b8471bb054cf7d23fbb125": {
     "model_module": "@jupyter-widgets/controls",
     "model_module_version": "1.5.0",
     "model_name": "HTMLModel",
     "state": {
      "_dom_classes": [],
      "_model_module": "@jupyter-widgets/controls",
      "_model_module_version": "1.5.0",
      "_model_name": "HTMLModel",
      "_view_count": null,
      "_view_module": "@jupyter-widgets/controls",
      "_view_module_version": "1.5.0",
      "_view_name": "HTMLView",
      "description": "",
      "description_tooltip": null,
      "layout": "IPY_MODEL_1249f9b56060491ea697be2a93c9971e",
      "placeholder": "​",
      "style": "IPY_MODEL_0b16ed663c2e4bdbbdf92f61406492c7",
      "value": " 1/1 [00:00&lt;00:00, 12.47ba/s]"
     }
    },
    "8b7afaf79b8b4f5d9d3e66389f185b81": {
     "model_module": "@jupyter-widgets/controls",
     "model_module_version": "1.5.0",
     "model_name": "ProgressStyleModel",
     "state": {
      "_model_module": "@jupyter-widgets/controls",
      "_model_module_version": "1.5.0",
      "_model_name": "ProgressStyleModel",
      "_view_count": null,
      "_view_module": "@jupyter-widgets/base",
      "_view_module_version": "1.2.0",
      "_view_name": "StyleView",
      "bar_color": null,
      "description_width": ""
     }
    },
    "8ba6405daf7142ccbd5df41286adfe1d": {
     "model_module": "@jupyter-widgets/controls",
     "model_module_version": "1.5.0",
     "model_name": "FloatProgressModel",
     "state": {
      "_dom_classes": [],
      "_model_module": "@jupyter-widgets/controls",
      "_model_module_version": "1.5.0",
      "_model_name": "FloatProgressModel",
      "_view_count": null,
      "_view_module": "@jupyter-widgets/controls",
      "_view_module_version": "1.5.0",
      "_view_name": "ProgressView",
      "bar_style": "success",
      "description": "",
      "description_tooltip": null,
      "layout": "IPY_MODEL_48a7cb5a386b4559bb0be7cb9e5b899d",
      "max": 1,
      "min": 0,
      "orientation": "horizontal",
      "style": "IPY_MODEL_ec47ea1885554528bafe639a32dca38e",
      "value": 1
     }
    },
    "8c630da1c0fe4570abc24b97fd4fd756": {
     "model_module": "@jupyter-widgets/base",
     "model_module_version": "1.2.0",
     "model_name": "LayoutModel",
     "state": {
      "_model_module": "@jupyter-widgets/base",
      "_model_module_version": "1.2.0",
      "_model_name": "LayoutModel",
      "_view_count": null,
      "_view_module": "@jupyter-widgets/base",
      "_view_module_version": "1.2.0",
      "_view_name": "LayoutView",
      "align_content": null,
      "align_items": null,
      "align_self": null,
      "border": null,
      "bottom": null,
      "display": null,
      "flex": null,
      "flex_flow": null,
      "grid_area": null,
      "grid_auto_columns": null,
      "grid_auto_flow": null,
      "grid_auto_rows": null,
      "grid_column": null,
      "grid_gap": null,
      "grid_row": null,
      "grid_template_areas": null,
      "grid_template_columns": null,
      "grid_template_rows": null,
      "height": null,
      "justify_content": null,
      "justify_items": null,
      "left": null,
      "margin": null,
      "max_height": null,
      "max_width": null,
      "min_height": null,
      "min_width": null,
      "object_fit": null,
      "object_position": null,
      "order": null,
      "overflow": null,
      "overflow_x": null,
      "overflow_y": null,
      "padding": null,
      "right": null,
      "top": null,
      "visibility": null,
      "width": null
     }
    },
    "921980d741404de59e042d34626d9891": {
     "model_module": "@jupyter-widgets/controls",
     "model_module_version": "1.5.0",
     "model_name": "HTMLModel",
     "state": {
      "_dom_classes": [],
      "_model_module": "@jupyter-widgets/controls",
      "_model_module_version": "1.5.0",
      "_model_name": "HTMLModel",
      "_view_count": null,
      "_view_module": "@jupyter-widgets/controls",
      "_view_module_version": "1.5.0",
      "_view_name": "HTMLView",
      "description": "",
      "description_tooltip": null,
      "layout": "IPY_MODEL_09132399afa94abc8ad6aa120f59c74b",
      "placeholder": "​",
      "style": "IPY_MODEL_5007ef8389484cf892e485328a564a58",
      "value": "100%"
     }
    },
    "95df839e285d443abcfd9bb1f894ec4e": {
     "model_module": "@jupyter-widgets/controls",
     "model_module_version": "1.5.0",
     "model_name": "HTMLModel",
     "state": {
      "_dom_classes": [],
      "_model_module": "@jupyter-widgets/controls",
      "_model_module_version": "1.5.0",
      "_model_name": "HTMLModel",
      "_view_count": null,
      "_view_module": "@jupyter-widgets/controls",
      "_view_module_version": "1.5.0",
      "_view_name": "HTMLView",
      "description": "",
      "description_tooltip": null,
      "layout": "IPY_MODEL_2d393254e6554961bd08e8450f7698a4",
      "placeholder": "​",
      "style": "IPY_MODEL_afcedb766f0a4b9e8bbab4702e97fd18",
      "value": " 1/1 [00:00&lt;00:00, 10.57ba/s]"
     }
    },
    "99691720e9cb422f93046e00c224cf87": {
     "model_module": "@jupyter-widgets/controls",
     "model_module_version": "1.5.0",
     "model_name": "FloatProgressModel",
     "state": {
      "_dom_classes": [],
      "_model_module": "@jupyter-widgets/controls",
      "_model_module_version": "1.5.0",
      "_model_name": "FloatProgressModel",
      "_view_count": null,
      "_view_module": "@jupyter-widgets/controls",
      "_view_module_version": "1.5.0",
      "_view_name": "ProgressView",
      "bar_style": "success",
      "description": "",
      "description_tooltip": null,
      "layout": "IPY_MODEL_2cafc5676c6e419e870a495204208318",
      "max": 1,
      "min": 0,
      "orientation": "horizontal",
      "style": "IPY_MODEL_c5a5ddb1ac944f7091d865233f28c074",
      "value": 1
     }
    },
    "9ba05a4a689a4579963f41a75dfee9bb": {
     "model_module": "@jupyter-widgets/controls",
     "model_module_version": "1.5.0",
     "model_name": "HTMLModel",
     "state": {
      "_dom_classes": [],
      "_model_module": "@jupyter-widgets/controls",
      "_model_module_version": "1.5.0",
      "_model_name": "HTMLModel",
      "_view_count": null,
      "_view_module": "@jupyter-widgets/controls",
      "_view_module_version": "1.5.0",
      "_view_name": "HTMLView",
      "description": "",
      "description_tooltip": null,
      "layout": "IPY_MODEL_140ef4362d23448c99e8e2e1a2aac919",
      "placeholder": "​",
      "style": "IPY_MODEL_56752e42dc0a4871b7b057b9fd47ca5f",
      "value": "Casting the dataset: 100%"
     }
    },
    "9f2197de3be74ccc97e7ab26e0d91a61": {
     "model_module": "@jupyter-widgets/controls",
     "model_module_version": "1.5.0",
     "model_name": "DescriptionStyleModel",
     "state": {
      "_model_module": "@jupyter-widgets/controls",
      "_model_module_version": "1.5.0",
      "_model_name": "DescriptionStyleModel",
      "_view_count": null,
      "_view_module": "@jupyter-widgets/base",
      "_view_module_version": "1.2.0",
      "_view_name": "StyleView",
      "description_width": ""
     }
    },
    "a0a934bd85c74d25abc212e75b561dd8": {
     "model_module": "@jupyter-widgets/controls",
     "model_module_version": "1.5.0",
     "model_name": "HTMLModel",
     "state": {
      "_dom_classes": [],
      "_model_module": "@jupyter-widgets/controls",
      "_model_module_version": "1.5.0",
      "_model_name": "HTMLModel",
      "_view_count": null,
      "_view_module": "@jupyter-widgets/controls",
      "_view_module_version": "1.5.0",
      "_view_name": "HTMLView",
      "description": "",
      "description_tooltip": null,
      "layout": "IPY_MODEL_62693854b7444e58b4687d9be8c7f05f",
      "placeholder": "​",
      "style": "IPY_MODEL_386a0a4df54e43d690ed3fe241a8fc89",
      "value": "100%"
     }
    },
    "a3891a7441ce4deda7241931bcb305cb": {
     "model_module": "@jupyter-widgets/base",
     "model_module_version": "1.2.0",
     "model_name": "LayoutModel",
     "state": {
      "_model_module": "@jupyter-widgets/base",
      "_model_module_version": "1.2.0",
      "_model_name": "LayoutModel",
      "_view_count": null,
      "_view_module": "@jupyter-widgets/base",
      "_view_module_version": "1.2.0",
      "_view_name": "LayoutView",
      "align_content": null,
      "align_items": null,
      "align_self": null,
      "border": null,
      "bottom": null,
      "display": null,
      "flex": null,
      "flex_flow": null,
      "grid_area": null,
      "grid_auto_columns": null,
      "grid_auto_flow": null,
      "grid_auto_rows": null,
      "grid_column": null,
      "grid_gap": null,
      "grid_row": null,
      "grid_template_areas": null,
      "grid_template_columns": null,
      "grid_template_rows": null,
      "height": null,
      "justify_content": null,
      "justify_items": null,
      "left": null,
      "margin": null,
      "max_height": null,
      "max_width": null,
      "min_height": null,
      "min_width": null,
      "object_fit": null,
      "object_position": null,
      "order": null,
      "overflow": null,
      "overflow_x": null,
      "overflow_y": null,
      "padding": null,
      "right": null,
      "top": null,
      "visibility": null,
      "width": null
     }
    },
    "a492ae6914ac40c0b6a948adcdfa0c22": {
     "model_module": "@jupyter-widgets/controls",
     "model_module_version": "1.5.0",
     "model_name": "FloatProgressModel",
     "state": {
      "_dom_classes": [],
      "_model_module": "@jupyter-widgets/controls",
      "_model_module_version": "1.5.0",
      "_model_name": "FloatProgressModel",
      "_view_count": null,
      "_view_module": "@jupyter-widgets/controls",
      "_view_module_version": "1.5.0",
      "_view_name": "ProgressView",
      "bar_style": "success",
      "description": "",
      "description_tooltip": null,
      "layout": "IPY_MODEL_879389d715334d619f58432f2c1d982d",
      "max": 1,
      "min": 0,
      "orientation": "horizontal",
      "style": "IPY_MODEL_7b54e2759c7b464293c8f267099847e2",
      "value": 1
     }
    },
    "a79241cb74724313a48333dee7eeedef": {
     "model_module": "@jupyter-widgets/base",
     "model_module_version": "1.2.0",
     "model_name": "LayoutModel",
     "state": {
      "_model_module": "@jupyter-widgets/base",
      "_model_module_version": "1.2.0",
      "_model_name": "LayoutModel",
      "_view_count": null,
      "_view_module": "@jupyter-widgets/base",
      "_view_module_version": "1.2.0",
      "_view_name": "LayoutView",
      "align_content": null,
      "align_items": null,
      "align_self": null,
      "border": null,
      "bottom": null,
      "display": null,
      "flex": null,
      "flex_flow": null,
      "grid_area": null,
      "grid_auto_columns": null,
      "grid_auto_flow": null,
      "grid_auto_rows": null,
      "grid_column": null,
      "grid_gap": null,
      "grid_row": null,
      "grid_template_areas": null,
      "grid_template_columns": null,
      "grid_template_rows": null,
      "height": null,
      "justify_content": null,
      "justify_items": null,
      "left": null,
      "margin": null,
      "max_height": null,
      "max_width": null,
      "min_height": null,
      "min_width": null,
      "object_fit": null,
      "object_position": null,
      "order": null,
      "overflow": null,
      "overflow_x": null,
      "overflow_y": null,
      "padding": null,
      "right": null,
      "top": null,
      "visibility": null,
      "width": null
     }
    },
    "a82f6de4b12d4443964dff081165bbdb": {
     "model_module": "@jupyter-widgets/controls",
     "model_module_version": "1.5.0",
     "model_name": "FloatProgressModel",
     "state": {
      "_dom_classes": [],
      "_model_module": "@jupyter-widgets/controls",
      "_model_module_version": "1.5.0",
      "_model_name": "FloatProgressModel",
      "_view_count": null,
      "_view_module": "@jupyter-widgets/controls",
      "_view_module_version": "1.5.0",
      "_view_name": "ProgressView",
      "bar_style": "success",
      "description": "",
      "description_tooltip": null,
      "layout": "IPY_MODEL_c7702b0980a545c8938b7b4f3cc2894a",
      "max": 1,
      "min": 0,
      "orientation": "horizontal",
      "style": "IPY_MODEL_38ac2840facb4544b99356a7f1693b51",
      "value": 1
     }
    },
    "aab04bdec8f2490d9c28f7f5288c378d": {
     "model_module": "@jupyter-widgets/controls",
     "model_module_version": "1.5.0",
     "model_name": "HTMLModel",
     "state": {
      "_dom_classes": [],
      "_model_module": "@jupyter-widgets/controls",
      "_model_module_version": "1.5.0",
      "_model_name": "HTMLModel",
      "_view_count": null,
      "_view_module": "@jupyter-widgets/controls",
      "_view_module_version": "1.5.0",
      "_view_name": "HTMLView",
      "description": "",
      "description_tooltip": null,
      "layout": "IPY_MODEL_248d8b2b7fd04559b0a1a1e8d35fc317",
      "placeholder": "​",
      "style": "IPY_MODEL_29391cc498da4fafb165b1c015e94178",
      "value": " 1/1 [00:00&lt;00:00, 12.21ba/s]"
     }
    },
    "abc2ba48e695487da81a98b8f91912f9": {
     "model_module": "@jupyter-widgets/controls",
     "model_module_version": "1.5.0",
     "model_name": "ProgressStyleModel",
     "state": {
      "_model_module": "@jupyter-widgets/controls",
      "_model_module_version": "1.5.0",
      "_model_name": "ProgressStyleModel",
      "_view_count": null,
      "_view_module": "@jupyter-widgets/base",
      "_view_module_version": "1.2.0",
      "_view_name": "StyleView",
      "bar_color": null,
      "description_width": ""
     }
    },
    "afcedb766f0a4b9e8bbab4702e97fd18": {
     "model_module": "@jupyter-widgets/controls",
     "model_module_version": "1.5.0",
     "model_name": "DescriptionStyleModel",
     "state": {
      "_model_module": "@jupyter-widgets/controls",
      "_model_module_version": "1.5.0",
      "_model_name": "DescriptionStyleModel",
      "_view_count": null,
      "_view_module": "@jupyter-widgets/base",
      "_view_module_version": "1.2.0",
      "_view_name": "StyleView",
      "description_width": ""
     }
    },
    "b2cf2e62ee70449990350400e15895d8": {
     "model_module": "@jupyter-widgets/controls",
     "model_module_version": "1.5.0",
     "model_name": "HTMLModel",
     "state": {
      "_dom_classes": [],
      "_model_module": "@jupyter-widgets/controls",
      "_model_module_version": "1.5.0",
      "_model_name": "HTMLModel",
      "_view_count": null,
      "_view_module": "@jupyter-widgets/controls",
      "_view_module_version": "1.5.0",
      "_view_name": "HTMLView",
      "description": "",
      "description_tooltip": null,
      "layout": "IPY_MODEL_333fe2ad61d3433a89e4507f2aa2ca79",
      "placeholder": "​",
      "style": "IPY_MODEL_4ac5b761187844a9a371c464fee0f085",
      "value": " 1/1 [00:00&lt;00:00,  7.08ba/s]"
     }
    },
    "bad6b25df3b1452a8559a33809d41533": {
     "model_module": "@jupyter-widgets/base",
     "model_module_version": "1.2.0",
     "model_name": "LayoutModel",
     "state": {
      "_model_module": "@jupyter-widgets/base",
      "_model_module_version": "1.2.0",
      "_model_name": "LayoutModel",
      "_view_count": null,
      "_view_module": "@jupyter-widgets/base",
      "_view_module_version": "1.2.0",
      "_view_name": "LayoutView",
      "align_content": null,
      "align_items": null,
      "align_self": null,
      "border": null,
      "bottom": null,
      "display": null,
      "flex": null,
      "flex_flow": null,
      "grid_area": null,
      "grid_auto_columns": null,
      "grid_auto_flow": null,
      "grid_auto_rows": null,
      "grid_column": null,
      "grid_gap": null,
      "grid_row": null,
      "grid_template_areas": null,
      "grid_template_columns": null,
      "grid_template_rows": null,
      "height": null,
      "justify_content": null,
      "justify_items": null,
      "left": null,
      "margin": null,
      "max_height": null,
      "max_width": null,
      "min_height": null,
      "min_width": null,
      "object_fit": null,
      "object_position": null,
      "order": null,
      "overflow": null,
      "overflow_x": null,
      "overflow_y": null,
      "padding": null,
      "right": null,
      "top": null,
      "visibility": null,
      "width": null
     }
    },
    "bc96047979ca47bdba0dd1f48b26a7ee": {
     "model_module": "@jupyter-widgets/controls",
     "model_module_version": "1.5.0",
     "model_name": "DescriptionStyleModel",
     "state": {
      "_model_module": "@jupyter-widgets/controls",
      "_model_module_version": "1.5.0",
      "_model_name": "DescriptionStyleModel",
      "_view_count": null,
      "_view_module": "@jupyter-widgets/base",
      "_view_module_version": "1.2.0",
      "_view_name": "StyleView",
      "description_width": ""
     }
    },
    "bcf03542e70e417aa632cc5f93cdfc48": {
     "model_module": "@jupyter-widgets/controls",
     "model_module_version": "1.5.0",
     "model_name": "HTMLModel",
     "state": {
      "_dom_classes": [],
      "_model_module": "@jupyter-widgets/controls",
      "_model_module_version": "1.5.0",
      "_model_name": "HTMLModel",
      "_view_count": null,
      "_view_module": "@jupyter-widgets/controls",
      "_view_module_version": "1.5.0",
      "_view_name": "HTMLView",
      "description": "",
      "description_tooltip": null,
      "layout": "IPY_MODEL_63e3055a46e14d44b4e690966d3d242d",
      "placeholder": "​",
      "style": "IPY_MODEL_42be6419f1284390935d71f19c34f639",
      "value": "100%"
     }
    },
    "c10273802f974318a56831d1cf80e09a": {
     "model_module": "@jupyter-widgets/controls",
     "model_module_version": "1.5.0",
     "model_name": "HTMLModel",
     "state": {
      "_dom_classes": [],
      "_model_module": "@jupyter-widgets/controls",
      "_model_module_version": "1.5.0",
      "_model_name": "HTMLModel",
      "_view_count": null,
      "_view_module": "@jupyter-widgets/controls",
      "_view_module_version": "1.5.0",
      "_view_name": "HTMLView",
      "description": "",
      "description_tooltip": null,
      "layout": "IPY_MODEL_fb688cc4b8b44d24ac4030e75ef34b26",
      "placeholder": "​",
      "style": "IPY_MODEL_074b203b1e514844919c92362371d800",
      "value": " 1/1 [00:00&lt;00:00,  4.37ba/s]"
     }
    },
    "c3aea3f1886a4040893a261c9b5f2810": {
     "model_module": "@jupyter-widgets/base",
     "model_module_version": "1.2.0",
     "model_name": "LayoutModel",
     "state": {
      "_model_module": "@jupyter-widgets/base",
      "_model_module_version": "1.2.0",
      "_model_name": "LayoutModel",
      "_view_count": null,
      "_view_module": "@jupyter-widgets/base",
      "_view_module_version": "1.2.0",
      "_view_name": "LayoutView",
      "align_content": null,
      "align_items": null,
      "align_self": null,
      "border": null,
      "bottom": null,
      "display": null,
      "flex": null,
      "flex_flow": null,
      "grid_area": null,
      "grid_auto_columns": null,
      "grid_auto_flow": null,
      "grid_auto_rows": null,
      "grid_column": null,
      "grid_gap": null,
      "grid_row": null,
      "grid_template_areas": null,
      "grid_template_columns": null,
      "grid_template_rows": null,
      "height": null,
      "justify_content": null,
      "justify_items": null,
      "left": null,
      "margin": null,
      "max_height": null,
      "max_width": null,
      "min_height": null,
      "min_width": null,
      "object_fit": null,
      "object_position": null,
      "order": null,
      "overflow": null,
      "overflow_x": null,
      "overflow_y": null,
      "padding": null,
      "right": null,
      "top": null,
      "visibility": null,
      "width": null
     }
    },
    "c5a5ddb1ac944f7091d865233f28c074": {
     "model_module": "@jupyter-widgets/controls",
     "model_module_version": "1.5.0",
     "model_name": "ProgressStyleModel",
     "state": {
      "_model_module": "@jupyter-widgets/controls",
      "_model_module_version": "1.5.0",
      "_model_name": "ProgressStyleModel",
      "_view_count": null,
      "_view_module": "@jupyter-widgets/base",
      "_view_module_version": "1.2.0",
      "_view_name": "StyleView",
      "bar_color": null,
      "description_width": ""
     }
    },
    "c7702b0980a545c8938b7b4f3cc2894a": {
     "model_module": "@jupyter-widgets/base",
     "model_module_version": "1.2.0",
     "model_name": "LayoutModel",
     "state": {
      "_model_module": "@jupyter-widgets/base",
      "_model_module_version": "1.2.0",
      "_model_name": "LayoutModel",
      "_view_count": null,
      "_view_module": "@jupyter-widgets/base",
      "_view_module_version": "1.2.0",
      "_view_name": "LayoutView",
      "align_content": null,
      "align_items": null,
      "align_self": null,
      "border": null,
      "bottom": null,
      "display": null,
      "flex": null,
      "flex_flow": null,
      "grid_area": null,
      "grid_auto_columns": null,
      "grid_auto_flow": null,
      "grid_auto_rows": null,
      "grid_column": null,
      "grid_gap": null,
      "grid_row": null,
      "grid_template_areas": null,
      "grid_template_columns": null,
      "grid_template_rows": null,
      "height": null,
      "justify_content": null,
      "justify_items": null,
      "left": null,
      "margin": null,
      "max_height": null,
      "max_width": null,
      "min_height": null,
      "min_width": null,
      "object_fit": null,
      "object_position": null,
      "order": null,
      "overflow": null,
      "overflow_x": null,
      "overflow_y": null,
      "padding": null,
      "right": null,
      "top": null,
      "visibility": null,
      "width": null
     }
    },
    "c8f56ec733034e5093a55dfc4dafa902": {
     "model_module": "@jupyter-widgets/base",
     "model_module_version": "1.2.0",
     "model_name": "LayoutModel",
     "state": {
      "_model_module": "@jupyter-widgets/base",
      "_model_module_version": "1.2.0",
      "_model_name": "LayoutModel",
      "_view_count": null,
      "_view_module": "@jupyter-widgets/base",
      "_view_module_version": "1.2.0",
      "_view_name": "LayoutView",
      "align_content": null,
      "align_items": null,
      "align_self": null,
      "border": null,
      "bottom": null,
      "display": null,
      "flex": null,
      "flex_flow": null,
      "grid_area": null,
      "grid_auto_columns": null,
      "grid_auto_flow": null,
      "grid_auto_rows": null,
      "grid_column": null,
      "grid_gap": null,
      "grid_row": null,
      "grid_template_areas": null,
      "grid_template_columns": null,
      "grid_template_rows": null,
      "height": null,
      "justify_content": null,
      "justify_items": null,
      "left": null,
      "margin": null,
      "max_height": null,
      "max_width": null,
      "min_height": null,
      "min_width": null,
      "object_fit": null,
      "object_position": null,
      "order": null,
      "overflow": null,
      "overflow_x": null,
      "overflow_y": null,
      "padding": null,
      "right": null,
      "top": null,
      "visibility": null,
      "width": null
     }
    },
    "d1a8a6f68b0e47a691dd40389c1b0745": {
     "model_module": "@jupyter-widgets/controls",
     "model_module_version": "1.5.0",
     "model_name": "FloatProgressModel",
     "state": {
      "_dom_classes": [],
      "_model_module": "@jupyter-widgets/controls",
      "_model_module_version": "1.5.0",
      "_model_name": "FloatProgressModel",
      "_view_count": null,
      "_view_module": "@jupyter-widgets/controls",
      "_view_module_version": "1.5.0",
      "_view_name": "ProgressView",
      "bar_style": "success",
      "description": "",
      "description_tooltip": null,
      "layout": "IPY_MODEL_7d799f7846d44218833315d8ab822ed8",
      "max": 1,
      "min": 0,
      "orientation": "horizontal",
      "style": "IPY_MODEL_52cb770d33054244b81e20f1d3ff23a3",
      "value": 1
     }
    },
    "d1a933c1a52a462eacfd2eb4679bb525": {
     "model_module": "@jupyter-widgets/controls",
     "model_module_version": "1.5.0",
     "model_name": "DescriptionStyleModel",
     "state": {
      "_model_module": "@jupyter-widgets/controls",
      "_model_module_version": "1.5.0",
      "_model_name": "DescriptionStyleModel",
      "_view_count": null,
      "_view_module": "@jupyter-widgets/base",
      "_view_module_version": "1.2.0",
      "_view_name": "StyleView",
      "description_width": ""
     }
    },
    "d5e19923379e4161945050b7ae34615f": {
     "model_module": "@jupyter-widgets/controls",
     "model_module_version": "1.5.0",
     "model_name": "FloatProgressModel",
     "state": {
      "_dom_classes": [],
      "_model_module": "@jupyter-widgets/controls",
      "_model_module_version": "1.5.0",
      "_model_name": "FloatProgressModel",
      "_view_count": null,
      "_view_module": "@jupyter-widgets/controls",
      "_view_module_version": "1.5.0",
      "_view_name": "ProgressView",
      "bar_style": "success",
      "description": "",
      "description_tooltip": null,
      "layout": "IPY_MODEL_bad6b25df3b1452a8559a33809d41533",
      "max": 1,
      "min": 0,
      "orientation": "horizontal",
      "style": "IPY_MODEL_8b7afaf79b8b4f5d9d3e66389f185b81",
      "value": 1
     }
    },
    "d6a34897776444dcb56bbbbb63050a83": {
     "model_module": "@jupyter-widgets/controls",
     "model_module_version": "1.5.0",
     "model_name": "HBoxModel",
     "state": {
      "_dom_classes": [],
      "_model_module": "@jupyter-widgets/controls",
      "_model_module_version": "1.5.0",
      "_model_name": "HBoxModel",
      "_view_count": null,
      "_view_module": "@jupyter-widgets/controls",
      "_view_module_version": "1.5.0",
      "_view_name": "HBoxView",
      "box_style": "",
      "children": [
       "IPY_MODEL_fefd7fff1050446687cabb72f3e41e71",
       "IPY_MODEL_d5e19923379e4161945050b7ae34615f",
       "IPY_MODEL_b2cf2e62ee70449990350400e15895d8"
      ],
      "layout": "IPY_MODEL_a3891a7441ce4deda7241931bcb305cb"
     }
    },
    "d9348ef317c94f869604a9a7ed24f5b3": {
     "model_module": "@jupyter-widgets/controls",
     "model_module_version": "1.5.0",
     "model_name": "HTMLModel",
     "state": {
      "_dom_classes": [],
      "_model_module": "@jupyter-widgets/controls",
      "_model_module_version": "1.5.0",
      "_model_name": "HTMLModel",
      "_view_count": null,
      "_view_module": "@jupyter-widgets/controls",
      "_view_module_version": "1.5.0",
      "_view_name": "HTMLView",
      "description": "",
      "description_tooltip": null,
      "layout": "IPY_MODEL_c3aea3f1886a4040893a261c9b5f2810",
      "placeholder": "​",
      "style": "IPY_MODEL_61623e5ca8da45379a26c425cdb0d244",
      "value": "100%"
     }
    },
    "db4243ffa7f748d78f7e8ef36337f8b8": {
     "model_module": "@jupyter-widgets/base",
     "model_module_version": "1.2.0",
     "model_name": "LayoutModel",
     "state": {
      "_model_module": "@jupyter-widgets/base",
      "_model_module_version": "1.2.0",
      "_model_name": "LayoutModel",
      "_view_count": null,
      "_view_module": "@jupyter-widgets/base",
      "_view_module_version": "1.2.0",
      "_view_name": "LayoutView",
      "align_content": null,
      "align_items": null,
      "align_self": null,
      "border": null,
      "bottom": null,
      "display": null,
      "flex": null,
      "flex_flow": null,
      "grid_area": null,
      "grid_auto_columns": null,
      "grid_auto_flow": null,
      "grid_auto_rows": null,
      "grid_column": null,
      "grid_gap": null,
      "grid_row": null,
      "grid_template_areas": null,
      "grid_template_columns": null,
      "grid_template_rows": null,
      "height": null,
      "justify_content": null,
      "justify_items": null,
      "left": null,
      "margin": null,
      "max_height": null,
      "max_width": null,
      "min_height": null,
      "min_width": null,
      "object_fit": null,
      "object_position": null,
      "order": null,
      "overflow": null,
      "overflow_x": null,
      "overflow_y": null,
      "padding": null,
      "right": null,
      "top": null,
      "visibility": null,
      "width": null
     }
    },
    "de4a053fe6a24d508c1653ab45f84bdf": {
     "model_module": "@jupyter-widgets/controls",
     "model_module_version": "1.5.0",
     "model_name": "DescriptionStyleModel",
     "state": {
      "_model_module": "@jupyter-widgets/controls",
      "_model_module_version": "1.5.0",
      "_model_name": "DescriptionStyleModel",
      "_view_count": null,
      "_view_module": "@jupyter-widgets/base",
      "_view_module_version": "1.2.0",
      "_view_name": "StyleView",
      "description_width": ""
     }
    },
    "e174b88e674745fb8476db51740d2572": {
     "model_module": "@jupyter-widgets/controls",
     "model_module_version": "1.5.0",
     "model_name": "HTMLModel",
     "state": {
      "_dom_classes": [],
      "_model_module": "@jupyter-widgets/controls",
      "_model_module_version": "1.5.0",
      "_model_name": "HTMLModel",
      "_view_count": null,
      "_view_module": "@jupyter-widgets/controls",
      "_view_module_version": "1.5.0",
      "_view_name": "HTMLView",
      "description": "",
      "description_tooltip": null,
      "layout": "IPY_MODEL_edac2784fbd146198612676c34a5ee8b",
      "placeholder": "​",
      "style": "IPY_MODEL_728f9a6185e1412d8f76702579eb758d",
      "value": "100%"
     }
    },
    "e445eeda389c4c1fb29145af0d50c522": {
     "model_module": "@jupyter-widgets/controls",
     "model_module_version": "1.5.0",
     "model_name": "HBoxModel",
     "state": {
      "_dom_classes": [],
      "_model_module": "@jupyter-widgets/controls",
      "_model_module_version": "1.5.0",
      "_model_name": "HBoxModel",
      "_view_count": null,
      "_view_module": "@jupyter-widgets/controls",
      "_view_module_version": "1.5.0",
      "_view_name": "HBoxView",
      "box_style": "",
      "children": [
       "IPY_MODEL_a0a934bd85c74d25abc212e75b561dd8",
       "IPY_MODEL_99691720e9cb422f93046e00c224cf87",
       "IPY_MODEL_84fb53407bad47ad8de5b81c382071e0"
      ],
      "layout": "IPY_MODEL_37065efd08154058b5260737f2e0abd9"
     }
    },
    "ea9e68b3b9484da38aacceaf768b8ad9": {
     "model_module": "@jupyter-widgets/controls",
     "model_module_version": "1.5.0",
     "model_name": "HBoxModel",
     "state": {
      "_dom_classes": [],
      "_model_module": "@jupyter-widgets/controls",
      "_model_module_version": "1.5.0",
      "_model_name": "HBoxModel",
      "_view_count": null,
      "_view_module": "@jupyter-widgets/controls",
      "_view_module_version": "1.5.0",
      "_view_name": "HBoxView",
      "box_style": "",
      "children": [
       "IPY_MODEL_f2cd2750149a47cbaf98375c38d6193a",
       "IPY_MODEL_a82f6de4b12d4443964dff081165bbdb",
       "IPY_MODEL_ece9cfc398534cfdb8499947b0ca9fe6"
      ],
      "layout": "IPY_MODEL_1c982982be6546fe8c0e107d1cdd4e18"
     }
    },
    "ebfcbe0b6d0d40ba8448ac292d6ad423": {
     "model_module": "@jupyter-widgets/base",
     "model_module_version": "1.2.0",
     "model_name": "LayoutModel",
     "state": {
      "_model_module": "@jupyter-widgets/base",
      "_model_module_version": "1.2.0",
      "_model_name": "LayoutModel",
      "_view_count": null,
      "_view_module": "@jupyter-widgets/base",
      "_view_module_version": "1.2.0",
      "_view_name": "LayoutView",
      "align_content": null,
      "align_items": null,
      "align_self": null,
      "border": null,
      "bottom": null,
      "display": null,
      "flex": null,
      "flex_flow": null,
      "grid_area": null,
      "grid_auto_columns": null,
      "grid_auto_flow": null,
      "grid_auto_rows": null,
      "grid_column": null,
      "grid_gap": null,
      "grid_row": null,
      "grid_template_areas": null,
      "grid_template_columns": null,
      "grid_template_rows": null,
      "height": null,
      "justify_content": null,
      "justify_items": null,
      "left": null,
      "margin": null,
      "max_height": null,
      "max_width": null,
      "min_height": null,
      "min_width": null,
      "object_fit": null,
      "object_position": null,
      "order": null,
      "overflow": null,
      "overflow_x": null,
      "overflow_y": null,
      "padding": null,
      "right": null,
      "top": null,
      "visibility": null,
      "width": null
     }
    },
    "ec47ea1885554528bafe639a32dca38e": {
     "model_module": "@jupyter-widgets/controls",
     "model_module_version": "1.5.0",
     "model_name": "ProgressStyleModel",
     "state": {
      "_model_module": "@jupyter-widgets/controls",
      "_model_module_version": "1.5.0",
      "_model_name": "ProgressStyleModel",
      "_view_count": null,
      "_view_module": "@jupyter-widgets/base",
      "_view_module_version": "1.2.0",
      "_view_name": "StyleView",
      "bar_color": null,
      "description_width": ""
     }
    },
    "ece9cfc398534cfdb8499947b0ca9fe6": {
     "model_module": "@jupyter-widgets/controls",
     "model_module_version": "1.5.0",
     "model_name": "HTMLModel",
     "state": {
      "_dom_classes": [],
      "_model_module": "@jupyter-widgets/controls",
      "_model_module_version": "1.5.0",
      "_model_name": "HTMLModel",
      "_view_count": null,
      "_view_module": "@jupyter-widgets/controls",
      "_view_module_version": "1.5.0",
      "_view_name": "HTMLView",
      "description": "",
      "description_tooltip": null,
      "layout": "IPY_MODEL_fe266a1454e64882bf83a4018c2d5b68",
      "placeholder": "​",
      "style": "IPY_MODEL_de4a053fe6a24d508c1653ab45f84bdf",
      "value": " 1/1 [00:00&lt;00:00, 14.64ba/s]"
     }
    },
    "edac2784fbd146198612676c34a5ee8b": {
     "model_module": "@jupyter-widgets/base",
     "model_module_version": "1.2.0",
     "model_name": "LayoutModel",
     "state": {
      "_model_module": "@jupyter-widgets/base",
      "_model_module_version": "1.2.0",
      "_model_name": "LayoutModel",
      "_view_count": null,
      "_view_module": "@jupyter-widgets/base",
      "_view_module_version": "1.2.0",
      "_view_name": "LayoutView",
      "align_content": null,
      "align_items": null,
      "align_self": null,
      "border": null,
      "bottom": null,
      "display": null,
      "flex": null,
      "flex_flow": null,
      "grid_area": null,
      "grid_auto_columns": null,
      "grid_auto_flow": null,
      "grid_auto_rows": null,
      "grid_column": null,
      "grid_gap": null,
      "grid_row": null,
      "grid_template_areas": null,
      "grid_template_columns": null,
      "grid_template_rows": null,
      "height": null,
      "justify_content": null,
      "justify_items": null,
      "left": null,
      "margin": null,
      "max_height": null,
      "max_width": null,
      "min_height": null,
      "min_width": null,
      "object_fit": null,
      "object_position": null,
      "order": null,
      "overflow": null,
      "overflow_x": null,
      "overflow_y": null,
      "padding": null,
      "right": null,
      "top": null,
      "visibility": null,
      "width": null
     }
    },
    "f2cd2750149a47cbaf98375c38d6193a": {
     "model_module": "@jupyter-widgets/controls",
     "model_module_version": "1.5.0",
     "model_name": "HTMLModel",
     "state": {
      "_dom_classes": [],
      "_model_module": "@jupyter-widgets/controls",
      "_model_module_version": "1.5.0",
      "_model_name": "HTMLModel",
      "_view_count": null,
      "_view_module": "@jupyter-widgets/controls",
      "_view_module_version": "1.5.0",
      "_view_name": "HTMLView",
      "description": "",
      "description_tooltip": null,
      "layout": "IPY_MODEL_6483c60a2ea7414db572ba55f8976dcb",
      "placeholder": "​",
      "style": "IPY_MODEL_862ecf78a3f3428890d356a73677db88",
      "value": "100%"
     }
    },
    "f8b060ae36924efcae62ad3b33029469": {
     "model_module": "@jupyter-widgets/controls",
     "model_module_version": "1.5.0",
     "model_name": "ProgressStyleModel",
     "state": {
      "_model_module": "@jupyter-widgets/controls",
      "_model_module_version": "1.5.0",
      "_model_name": "ProgressStyleModel",
      "_view_count": null,
      "_view_module": "@jupyter-widgets/base",
      "_view_module_version": "1.2.0",
      "_view_name": "StyleView",
      "bar_color": null,
      "description_width": ""
     }
    },
    "fb688cc4b8b44d24ac4030e75ef34b26": {
     "model_module": "@jupyter-widgets/base",
     "model_module_version": "1.2.0",
     "model_name": "LayoutModel",
     "state": {
      "_model_module": "@jupyter-widgets/base",
      "_model_module_version": "1.2.0",
      "_model_name": "LayoutModel",
      "_view_count": null,
      "_view_module": "@jupyter-widgets/base",
      "_view_module_version": "1.2.0",
      "_view_name": "LayoutView",
      "align_content": null,
      "align_items": null,
      "align_self": null,
      "border": null,
      "bottom": null,
      "display": null,
      "flex": null,
      "flex_flow": null,
      "grid_area": null,
      "grid_auto_columns": null,
      "grid_auto_flow": null,
      "grid_auto_rows": null,
      "grid_column": null,
      "grid_gap": null,
      "grid_row": null,
      "grid_template_areas": null,
      "grid_template_columns": null,
      "grid_template_rows": null,
      "height": null,
      "justify_content": null,
      "justify_items": null,
      "left": null,
      "margin": null,
      "max_height": null,
      "max_width": null,
      "min_height": null,
      "min_width": null,
      "object_fit": null,
      "object_position": null,
      "order": null,
      "overflow": null,
      "overflow_x": null,
      "overflow_y": null,
      "padding": null,
      "right": null,
      "top": null,
      "visibility": null,
      "width": null
     }
    },
    "fdc33cd0ec574e5ca20995e7468aebd6": {
     "model_module": "@jupyter-widgets/controls",
     "model_module_version": "1.5.0",
     "model_name": "DescriptionStyleModel",
     "state": {
      "_model_module": "@jupyter-widgets/controls",
      "_model_module_version": "1.5.0",
      "_model_name": "DescriptionStyleModel",
      "_view_count": null,
      "_view_module": "@jupyter-widgets/base",
      "_view_module_version": "1.2.0",
      "_view_name": "StyleView",
      "description_width": ""
     }
    },
    "fe266a1454e64882bf83a4018c2d5b68": {
     "model_module": "@jupyter-widgets/base",
     "model_module_version": "1.2.0",
     "model_name": "LayoutModel",
     "state": {
      "_model_module": "@jupyter-widgets/base",
      "_model_module_version": "1.2.0",
      "_model_name": "LayoutModel",
      "_view_count": null,
      "_view_module": "@jupyter-widgets/base",
      "_view_module_version": "1.2.0",
      "_view_name": "LayoutView",
      "align_content": null,
      "align_items": null,
      "align_self": null,
      "border": null,
      "bottom": null,
      "display": null,
      "flex": null,
      "flex_flow": null,
      "grid_area": null,
      "grid_auto_columns": null,
      "grid_auto_flow": null,
      "grid_auto_rows": null,
      "grid_column": null,
      "grid_gap": null,
      "grid_row": null,
      "grid_template_areas": null,
      "grid_template_columns": null,
      "grid_template_rows": null,
      "height": null,
      "justify_content": null,
      "justify_items": null,
      "left": null,
      "margin": null,
      "max_height": null,
      "max_width": null,
      "min_height": null,
      "min_width": null,
      "object_fit": null,
      "object_position": null,
      "order": null,
      "overflow": null,
      "overflow_x": null,
      "overflow_y": null,
      "padding": null,
      "right": null,
      "top": null,
      "visibility": null,
      "width": null
     }
    },
    "fe68b7f5b9ff46979faf66fe1742b989": {
     "model_module": "@jupyter-widgets/controls",
     "model_module_version": "1.5.0",
     "model_name": "HBoxModel",
     "state": {
      "_dom_classes": [],
      "_model_module": "@jupyter-widgets/controls",
      "_model_module_version": "1.5.0",
      "_model_name": "HBoxModel",
      "_view_count": null,
      "_view_module": "@jupyter-widgets/controls",
      "_view_module_version": "1.5.0",
      "_view_name": "HBoxView",
      "box_style": "",
      "children": [
       "IPY_MODEL_38db3d9033294062928f27cea604c976",
       "IPY_MODEL_d1a8a6f68b0e47a691dd40389c1b0745",
       "IPY_MODEL_95df839e285d443abcfd9bb1f894ec4e"
      ],
      "layout": "IPY_MODEL_35d80e92d3b44432b98bfd484e2fb134"
     }
    },
    "fefd7fff1050446687cabb72f3e41e71": {
     "model_module": "@jupyter-widgets/controls",
     "model_module_version": "1.5.0",
     "model_name": "HTMLModel",
     "state": {
      "_dom_classes": [],
      "_model_module": "@jupyter-widgets/controls",
      "_model_module_version": "1.5.0",
      "_model_name": "HTMLModel",
      "_view_count": null,
      "_view_module": "@jupyter-widgets/controls",
      "_view_module_version": "1.5.0",
      "_view_name": "HTMLView",
      "description": "",
      "description_tooltip": null,
      "layout": "IPY_MODEL_7f780cff8fe4460682a5b3ba4c989481",
      "placeholder": "​",
      "style": "IPY_MODEL_26538d58defc4c01a3c59b0af83bbbed",
      "value": "100%"
     }
    }
   }
  }
 },
 "nbformat": 4,
 "nbformat_minor": 1
}