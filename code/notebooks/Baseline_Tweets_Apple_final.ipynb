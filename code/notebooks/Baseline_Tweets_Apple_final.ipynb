{
 "cells": [
  {
   "cell_type": "markdown",
   "id": "1d70623f",
   "metadata": {},
   "source": [
    "# News Sentiment Analysis – Natural Language Processing mit Transformern Baseline Modelle: Apple"
   ]
  },
  {
   "cell_type": "markdown",
   "id": "e62b1501",
   "metadata": {},
   "source": [
    "## Vorbereitung"
   ]
  },
  {
   "cell_type": "code",
   "execution_count": 1,
   "id": "ecacfc27",
   "metadata": {},
   "outputs": [],
   "source": [
    "#Laden der benötigten Bibliotheken\n",
    "import pandas as pd\n",
    "import numpy as np\n",
    "import nltk   #Natural Language ToolKit\n",
    "from nltk.sentiment.vader import SentimentIntensityAnalyzer"
   ]
  },
  {
   "cell_type": "code",
   "execution_count": 2,
   "id": "9d4fd935",
   "metadata": {},
   "outputs": [],
   "source": [
    "#Daten einlesen\n",
    "data = pd.read_csv(\"Apple.csv\")"
   ]
  },
  {
   "cell_type": "code",
   "execution_count": 4,
   "id": "3ddcc67a",
   "metadata": {},
   "outputs": [
    {
     "data": {
      "text/html": [
       "<div>\n",
       "<style scoped>\n",
       "    .dataframe tbody tr th:only-of-type {\n",
       "        vertical-align: middle;\n",
       "    }\n",
       "\n",
       "    .dataframe tbody tr th {\n",
       "        vertical-align: top;\n",
       "    }\n",
       "\n",
       "    .dataframe thead th {\n",
       "        text-align: right;\n",
       "    }\n",
       "</style>\n",
       "<table border=\"1\" class=\"dataframe\">\n",
       "  <thead>\n",
       "    <tr style=\"text-align: right;\">\n",
       "      <th></th>\n",
       "      <th>created_at</th>\n",
       "      <th>id</th>\n",
       "      <th>username</th>\n",
       "      <th>name</th>\n",
       "      <th>user_id</th>\n",
       "      <th>body</th>\n",
       "      <th>basic_sentiment</th>\n",
       "    </tr>\n",
       "  </thead>\n",
       "  <tbody>\n",
       "    <tr>\n",
       "      <th>0</th>\n",
       "      <td>2021-12-31 23:57:27+00:00</td>\n",
       "      <td>422497650</td>\n",
       "      <td>hoyasaxa1978</td>\n",
       "      <td>hoyasaxa1978</td>\n",
       "      <td>819540</td>\n",
       "      <td>$AAPL  🍏 In the “final second” of the Close, 8...</td>\n",
       "      <td>0.0</td>\n",
       "    </tr>\n",
       "    <tr>\n",
       "      <th>1</th>\n",
       "      <td>2021-12-31 23:51:08+00:00</td>\n",
       "      <td>422496711</td>\n",
       "      <td>InsiderFinance</td>\n",
       "      <td>InsiderFinance_io</td>\n",
       "      <td>4012623</td>\n",
       "      <td>Sweep Options Activity: $AAPL is the #1 ticker...</td>\n",
       "      <td>NaN</td>\n",
       "    </tr>\n",
       "    <tr>\n",
       "      <th>2</th>\n",
       "      <td>2021-12-31 23:48:33+00:00</td>\n",
       "      <td>422496310</td>\n",
       "      <td>OptionsQueenTrader</td>\n",
       "      <td>Malika</td>\n",
       "      <td>5498543</td>\n",
       "      <td>$SPY next year we will go low real low. Expect...</td>\n",
       "      <td>1.0</td>\n",
       "    </tr>\n",
       "    <tr>\n",
       "      <th>3</th>\n",
       "      <td>2021-12-31 23:47:55+00:00</td>\n",
       "      <td>422496202</td>\n",
       "      <td>BigdaddyRoy</td>\n",
       "      <td>Big Daddy</td>\n",
       "      <td>3830233</td>\n",
       "      <td>$AAPL someone told me Apple will announce Appl...</td>\n",
       "      <td>NaN</td>\n",
       "    </tr>\n",
       "    <tr>\n",
       "      <th>4</th>\n",
       "      <td>2021-12-31 23:44:31+00:00</td>\n",
       "      <td>422495691</td>\n",
       "      <td>hoangkc</td>\n",
       "      <td>Khanh Hoang</td>\n",
       "      <td>1553292</td>\n",
       "      <td>The weekly #rrgchart of $AAPL, $AMZN, and $GOOGL</td>\n",
       "      <td>NaN</td>\n",
       "    </tr>\n",
       "  </tbody>\n",
       "</table>\n",
       "</div>"
      ],
      "text/plain": [
       "                  created_at         id            username  \\\n",
       "0  2021-12-31 23:57:27+00:00  422497650        hoyasaxa1978   \n",
       "1  2021-12-31 23:51:08+00:00  422496711      InsiderFinance   \n",
       "2  2021-12-31 23:48:33+00:00  422496310  OptionsQueenTrader   \n",
       "3  2021-12-31 23:47:55+00:00  422496202         BigdaddyRoy   \n",
       "4  2021-12-31 23:44:31+00:00  422495691             hoangkc   \n",
       "\n",
       "                name  user_id  \\\n",
       "0       hoyasaxa1978   819540   \n",
       "1  InsiderFinance_io  4012623   \n",
       "2             Malika  5498543   \n",
       "3          Big Daddy  3830233   \n",
       "4        Khanh Hoang  1553292   \n",
       "\n",
       "                                                body  basic_sentiment  \n",
       "0  $AAPL  🍏 In the “final second” of the Close, 8...              0.0  \n",
       "1  Sweep Options Activity: $AAPL is the #1 ticker...              NaN  \n",
       "2  $SPY next year we will go low real low. Expect...              1.0  \n",
       "3  $AAPL someone told me Apple will announce Appl...              NaN  \n",
       "4   The weekly #rrgchart of $AAPL, $AMZN, and $GOOGL              NaN  "
      ]
     },
     "execution_count": 4,
     "metadata": {},
     "output_type": "execute_result"
    }
   ],
   "source": [
    "#Ersten Überblick über die Daten verschaffen\n",
    "data.head()"
   ]
  },
  {
   "cell_type": "code",
   "execution_count": 3,
   "id": "5172943e",
   "metadata": {},
   "outputs": [
    {
     "data": {
      "text/plain": [
       "0.0    17587\n",
       "1.0     7439\n",
       "Name: basic_sentiment, dtype: int64"
      ]
     },
     "execution_count": 3,
     "metadata": {},
     "output_type": "execute_result"
    }
   ],
   "source": [
    "data[\"basic_sentiment\"].value_counts()"
   ]
  },
  {
   "cell_type": "markdown",
   "id": "dc22c5bc",
   "metadata": {},
   "source": [
    "Verteilung positive/negative Tweets deutlich unbalanciert."
   ]
  },
  {
   "cell_type": "markdown",
   "id": "1eacbfe3",
   "metadata": {},
   "source": [
    "## Pre-Processing"
   ]
  },
  {
   "cell_type": "code",
   "execution_count": 6,
   "id": "22605516",
   "metadata": {},
   "outputs": [],
   "source": [
    "#html tags und urls entfernen\n",
    "from bs4 import BeautifulSoup\n",
    "data[\"tweets_preproc\"]=data[\"body\"].apply(lambda x: BeautifulSoup(x).get_text())\n",
    "import re\n",
    "data[\"tweets_preproc\"]=data[\"tweets_preproc\"].apply(lambda x: re.sub(r\"http\\S+\", \"\", x))"
   ]
  },
  {
   "cell_type": "code",
   "execution_count": 8,
   "id": "40eee6a5",
   "metadata": {},
   "outputs": [],
   "source": [
    "#Sonderzeichen etc. entfernen\n",
    "#Ressourcen downloaden\n",
    "nltk.download('punkt')\n",
    "data[\"tweets_preproc\"]=data[\"tweets_preproc\"].apply(lambda x: \" \".join([re.sub('[^A-Za-z]+','', x) for x in nltk.word_tokenize(x)]))"
   ]
  },
  {
   "cell_type": "code",
   "execution_count": 9,
   "id": "d181ad2e",
   "metadata": {},
   "outputs": [],
   "source": [
    "#Überschüssige Leerzeichen entfernen\n",
    "data[\"tweets_preproc\"]=data[\"tweets_preproc\"].apply(lambda x: re.sub(' +', ' ', x))"
   ]
  },
  {
   "cell_type": "markdown",
   "id": "0491831b",
   "metadata": {},
   "source": [
    "Weitere pre-processing Schritte (Lemmatization, Entfernen von Stopwords,...) wurden getestet, lieferten aber keine deutlichen Verbesserungen in der Modellgüte."
   ]
  },
  {
   "cell_type": "code",
   "execution_count": 12,
   "id": "873b065d",
   "metadata": {},
   "outputs": [],
   "source": [
    "#Datumsvariable erstellen - um spaeter Ergebnisse zu plotten\n",
    "data[\"created_at\"] = pd.to_datetime(data.created_at, format='%Y-%m-%d %H:%M:%S')\n",
    "data['date'] = data['created_at'].dt.strftime('%m/%d/%Y')"
   ]
  },
  {
   "cell_type": "code",
   "execution_count": 13,
   "id": "a180988e",
   "metadata": {},
   "outputs": [
    {
     "data": {
      "text/html": [
       "<div>\n",
       "<style scoped>\n",
       "    .dataframe tbody tr th:only-of-type {\n",
       "        vertical-align: middle;\n",
       "    }\n",
       "\n",
       "    .dataframe tbody tr th {\n",
       "        vertical-align: top;\n",
       "    }\n",
       "\n",
       "    .dataframe thead th {\n",
       "        text-align: right;\n",
       "    }\n",
       "</style>\n",
       "<table border=\"1\" class=\"dataframe\">\n",
       "  <thead>\n",
       "    <tr style=\"text-align: right;\">\n",
       "      <th></th>\n",
       "      <th>created_at</th>\n",
       "      <th>id</th>\n",
       "      <th>username</th>\n",
       "      <th>name</th>\n",
       "      <th>user_id</th>\n",
       "      <th>body</th>\n",
       "      <th>basic_sentiment</th>\n",
       "      <th>tweets_preproc</th>\n",
       "      <th>date</th>\n",
       "    </tr>\n",
       "  </thead>\n",
       "  <tbody>\n",
       "    <tr>\n",
       "      <th>0</th>\n",
       "      <td>2021-12-31 23:57:27+00:00</td>\n",
       "      <td>422497650</td>\n",
       "      <td>hoyasaxa1978</td>\n",
       "      <td>hoyasaxa1978</td>\n",
       "      <td>819540</td>\n",
       "      <td>$AAPL  🍏 In the “final second” of the Close, 8...</td>\n",
       "      <td>0.0</td>\n",
       "      <td>AAPL In the final second of the Close Million...</td>\n",
       "      <td>12/31/2021</td>\n",
       "    </tr>\n",
       "    <tr>\n",
       "      <th>1</th>\n",
       "      <td>2021-12-31 23:51:08+00:00</td>\n",
       "      <td>422496711</td>\n",
       "      <td>InsiderFinance</td>\n",
       "      <td>InsiderFinance_io</td>\n",
       "      <td>4012623</td>\n",
       "      <td>Sweep Options Activity: $AAPL is the #1 ticker...</td>\n",
       "      <td>NaN</td>\n",
       "      <td>Sweep Options Activity AAPL is the ticker with...</td>\n",
       "      <td>12/31/2021</td>\n",
       "    </tr>\n",
       "    <tr>\n",
       "      <th>2</th>\n",
       "      <td>2021-12-31 23:48:33+00:00</td>\n",
       "      <td>422496310</td>\n",
       "      <td>OptionsQueenTrader</td>\n",
       "      <td>Malika</td>\n",
       "      <td>5498543</td>\n",
       "      <td>$SPY next year we will go low real low. Expect...</td>\n",
       "      <td>1.0</td>\n",
       "      <td>SPY next year we will go low real low Expect ...</td>\n",
       "      <td>12/31/2021</td>\n",
       "    </tr>\n",
       "    <tr>\n",
       "      <th>3</th>\n",
       "      <td>2021-12-31 23:47:55+00:00</td>\n",
       "      <td>422496202</td>\n",
       "      <td>BigdaddyRoy</td>\n",
       "      <td>Big Daddy</td>\n",
       "      <td>3830233</td>\n",
       "      <td>$AAPL someone told me Apple will announce Appl...</td>\n",
       "      <td>NaN</td>\n",
       "      <td>AAPL someone told me Apple will announce Appl...</td>\n",
       "      <td>12/31/2021</td>\n",
       "    </tr>\n",
       "    <tr>\n",
       "      <th>4</th>\n",
       "      <td>2021-12-31 23:44:31+00:00</td>\n",
       "      <td>422495691</td>\n",
       "      <td>hoangkc</td>\n",
       "      <td>Khanh Hoang</td>\n",
       "      <td>1553292</td>\n",
       "      <td>The weekly #rrgchart of $AAPL, $AMZN, and $GOOGL</td>\n",
       "      <td>NaN</td>\n",
       "      <td>The weekly rrgchart of AAPL AMZN and GOOGL</td>\n",
       "      <td>12/31/2021</td>\n",
       "    </tr>\n",
       "  </tbody>\n",
       "</table>\n",
       "</div>"
      ],
      "text/plain": [
       "                 created_at         id            username               name  \\\n",
       "0 2021-12-31 23:57:27+00:00  422497650        hoyasaxa1978       hoyasaxa1978   \n",
       "1 2021-12-31 23:51:08+00:00  422496711      InsiderFinance  InsiderFinance_io   \n",
       "2 2021-12-31 23:48:33+00:00  422496310  OptionsQueenTrader             Malika   \n",
       "3 2021-12-31 23:47:55+00:00  422496202         BigdaddyRoy          Big Daddy   \n",
       "4 2021-12-31 23:44:31+00:00  422495691             hoangkc        Khanh Hoang   \n",
       "\n",
       "   user_id                                               body  \\\n",
       "0   819540  $AAPL  🍏 In the “final second” of the Close, 8...   \n",
       "1  4012623  Sweep Options Activity: $AAPL is the #1 ticker...   \n",
       "2  5498543  $SPY next year we will go low real low. Expect...   \n",
       "3  3830233  $AAPL someone told me Apple will announce Appl...   \n",
       "4  1553292   The weekly #rrgchart of $AAPL, $AMZN, and $GOOGL   \n",
       "\n",
       "   basic_sentiment                                     tweets_preproc  \\\n",
       "0              0.0   AAPL In the final second of the Close Million...   \n",
       "1              NaN  Sweep Options Activity AAPL is the ticker with...   \n",
       "2              1.0   SPY next year we will go low real low Expect ...   \n",
       "3              NaN   AAPL someone told me Apple will announce Appl...   \n",
       "4              NaN         The weekly rrgchart of AAPL AMZN and GOOGL   \n",
       "\n",
       "         date  \n",
       "0  12/31/2021  \n",
       "1  12/31/2021  \n",
       "2  12/31/2021  \n",
       "3  12/31/2021  \n",
       "4  12/31/2021  "
      ]
     },
     "execution_count": 13,
     "metadata": {},
     "output_type": "execute_result"
    }
   ],
   "source": [
    "#Prüfen, ob alles geklappt hat\n",
    "data.head()"
   ]
  },
  {
   "cell_type": "code",
   "execution_count": 14,
   "id": "afee8fcf",
   "metadata": {},
   "outputs": [],
   "source": [
    "#Datensatz nur mit gelabelten Tweets\n",
    "data_labeled = data.dropna(subset = [\"basic_sentiment\"])\n",
    "data_labeled = data_labeled.reset_index(drop=True)"
   ]
  },
  {
   "cell_type": "markdown",
   "id": "bbad887c",
   "metadata": {},
   "source": [
    "## Sentiment Analysis"
   ]
  },
  {
   "cell_type": "markdown",
   "id": "44ff259b",
   "metadata": {},
   "source": [
    "### 1 - VADER"
   ]
  },
  {
   "cell_type": "code",
   "execution_count": 16,
   "id": "870d4a77",
   "metadata": {
    "scrolled": true
   },
   "outputs": [],
   "source": [
    "#nltk.download('vader_lexicon')\n",
    "sid = SentimentIntensityAnalyzer()\n",
    "#model\n",
    "data_labeled[\"v_scores\"] = data_labeled[\"tweets_preproc\"].apply(lambda body: sid.polarity_scores(body))"
   ]
  },
  {
   "cell_type": "code",
   "execution_count": 17,
   "id": "02566060",
   "metadata": {},
   "outputs": [],
   "source": [
    "#eigene Spalte für scores erstellen\n",
    "data_labeled['compound']  = data_labeled['v_scores'].apply(lambda score_dict: score_dict['compound'])"
   ]
  },
  {
   "cell_type": "code",
   "execution_count": 18,
   "id": "c5d4a692",
   "metadata": {},
   "outputs": [],
   "source": [
    "#Predictions\n",
    "data_labeled['v_sentiment'] = (\n",
    "    np.where(\n",
    "        data_labeled['compound'] > 0.05,1,\n",
    "        np.where(data_labeled['compound'] < -0.05, 0, -99)))"
   ]
  },
  {
   "cell_type": "markdown",
   "id": "f7ce761c",
   "metadata": {},
   "source": [
    "Modellauswertung mittels Gütemaßen oder Confusion Matrix ist für VADER nicht sinnvoll, da VADER drei Klassen (positiv/neutral/negativ) hat, die Tweets im Datensatz aber nur zwei Klassen (positiv/negativ). Eine grafische Betrachtung folgt weiter unten."
   ]
  },
  {
   "cell_type": "markdown",
   "id": "de0711bb",
   "metadata": {},
   "source": [
    "### 2 - TF - IDF"
   ]
  },
  {
   "cell_type": "code",
   "execution_count": 21,
   "id": "64629cff",
   "metadata": {},
   "outputs": [
    {
     "name": "stdout",
     "output_type": "stream",
     "text": [
      "Training Set:  (22523, 12) Test Set:  (2503, 12)\n"
     ]
    }
   ],
   "source": [
    "#train / test split mit gleichen Anteilen der Klassen in Trainings- und Testdaten\n",
    "from sklearn.model_selection import train_test_split\n",
    "baseline_train,baseline_test = train_test_split(data_labeled,\n",
    "                                                  stratify = data_labeled[\"basic_sentiment\"],\n",
    "                                                  test_size=0.1, random_state=42)\n",
    "print(\"Training Set: \",baseline_train.shape, \"Test Set: \",baseline_test.shape)"
   ]
  },
  {
   "cell_type": "code",
   "execution_count": 23,
   "id": "2a12b049",
   "metadata": {},
   "outputs": [],
   "source": [
    "from sklearn.feature_extraction.text import TfidfVectorizer\n",
    "vectorizer = TfidfVectorizer(ngram_range=(1, 2), norm=\"l2\")\n",
    "vectorizer.fit(baseline_train[\"tweets_preproc\"])\n",
    "tf_x_train = vectorizer.transform(baseline_train[\"tweets_preproc\"])\n",
    "tf_x_test = vectorizer.transform(baseline_test[\"tweets_preproc\"])"
   ]
  },
  {
   "cell_type": "code",
   "execution_count": 27,
   "id": "89c6f78c",
   "metadata": {},
   "outputs": [],
   "source": [
    "#SVM classifier\n",
    "from sklearn import svm\n",
    "svm = svm.SVC(class_weight={1:96.3, 0:3.7})"
   ]
  },
  {
   "cell_type": "code",
   "execution_count": 32,
   "id": "ad7124be",
   "metadata": {},
   "outputs": [
    {
     "name": "stdout",
     "output_type": "stream",
     "text": [
      "Fitting 5 folds for each of 42 candidates, totalling 210 fits\n"
     ]
    },
    {
     "data": {
      "text/plain": [
       "GridSearchCV(estimator=SVC(class_weight={0: 3.7, 1: 96.3}), n_jobs=-1,\n",
       "             param_grid=[{'C': array([1.e-03, 1.e-02, 1.e-01, 1.e+00, 1.e+01, 1.e+02]),\n",
       "                          'kernel': ['linear']},\n",
       "                         {'C': array([1.e-03, 1.e-02, 1.e-01, 1.e+00, 1.e+01, 1.e+02]),\n",
       "                          'gamma': array([1.e-03, 1.e-02, 1.e-01, 1.e+00, 1.e+01, 1.e+02]),\n",
       "                          'kernel': ['rbf']}],\n",
       "             verbose=2)"
      ]
     },
     "execution_count": 32,
     "metadata": {},
     "output_type": "execute_result"
    }
   ],
   "source": [
    "#Grid Search\n",
    "from sklearn.model_selection import GridSearchCV\n",
    "param_grid = [\n",
    "  {'C': np.logspace(-3, 2, 6), 'kernel': ['linear']},\n",
    "  {'C': np.logspace(-3, 2, 6), 'gamma': np.logspace(-3, 2, 6), 'kernel': ['rbf']},\n",
    " ]\n",
    "\n",
    "grid_search = GridSearchCV(svm, param_grid, n_jobs = -1, verbose = 2)\n",
    "grid_search.fit(tf_x_train, baseline_train[\"basic_sentiment\"])"
   ]
  },
  {
   "cell_type": "code",
   "execution_count": 33,
   "id": "02bd30bf",
   "metadata": {},
   "outputs": [
    {
     "name": "stdout",
     "output_type": "stream",
     "text": [
      "{'C': 10.0, 'gamma': 1.0, 'kernel': 'rbf'}\n"
     ]
    }
   ],
   "source": [
    "print(grid_search.best_params_)"
   ]
  },
  {
   "cell_type": "code",
   "execution_count": 34,
   "id": "9dc86365",
   "metadata": {},
   "outputs": [],
   "source": [
    "#Bestes Modell auf Testdaten anwenden und fitted values speichern\n",
    "model_svm = grid_search.best_estimator_\n",
    "y_fit_svm = model_svm.predict(tf_x_test)\n",
    "baseline_test[\"sentiment_svm\"] = y_fit_svm"
   ]
  },
  {
   "cell_type": "code",
   "execution_count": 35,
   "id": "e24ada1e",
   "metadata": {},
   "outputs": [],
   "source": [
    "#ergebnisse /modellgüte\n",
    "svm_results=classification_report(baseline_test[\"basic_sentiment\"], y_fit_svm,output_dict=True)"
   ]
  },
  {
   "cell_type": "code",
   "execution_count": 36,
   "id": "5a7a2425",
   "metadata": {},
   "outputs": [],
   "source": [
    "#Confusion matrix\n",
    "cm_svm = confusion_matrix(baseline_test[\"basic_sentiment\"], y_fit_svm_base)"
   ]
  },
  {
   "cell_type": "code",
   "execution_count": 38,
   "id": "5ef6fd75",
   "metadata": {},
   "outputs": [
    {
     "data": {
      "text/plain": [
       "{'0.0': {'precision': 0.8380952380952381,\n",
       "  'recall': 0.8504832291074474,\n",
       "  'f1-score': 0.8442437923250565,\n",
       "  'support': 1759},\n",
       " '1.0': {'precision': 0.6337047353760445,\n",
       "  'recall': 0.6115591397849462,\n",
       "  'f1-score': 0.6224350205198358,\n",
       "  'support': 744},\n",
       " 'accuracy': 0.7794646424290851,\n",
       " 'macro avg': {'precision': 0.7358999867356413,\n",
       "  'recall': 0.7310211844461969,\n",
       "  'f1-score': 0.7333394064224461,\n",
       "  'support': 2503},\n",
       " 'weighted avg': {'precision': 0.777341528936996,\n",
       "  'recall': 0.7794646424290851,\n",
       "  'f1-score': 0.7783126192435207,\n",
       "  'support': 2503}}"
      ]
     },
     "execution_count": 38,
     "metadata": {},
     "output_type": "execute_result"
    }
   ],
   "source": [
    "svm_results"
   ]
  },
  {
   "cell_type": "code",
   "execution_count": 86,
   "id": "1189f90c",
   "metadata": {},
   "outputs": [
    {
     "data": {
      "text/plain": [
       "[Text(0, 0.5, 'positive'), Text(0, 1.5, 'negative')]"
      ]
     },
     "execution_count": 86,
     "metadata": {},
     "output_type": "execute_result"
    },
    {
     "data": {
      "image/png": "[encoded data removed]",
      "text/plain": [
       "<Figure size 432x288 with 2 Axes>"
      ]
     },
     "metadata": {
      "needs_background": "light"
     },
     "output_type": "display_data"
    }
   ],
   "source": [
    "ax = sns.heatmap(cm_svm, annot=True, cmap = 'Blues',fmt = '.1f')\n",
    "ax.set_title('Confusion matrix')\n",
    "ax.set_xlabel('Predicted values')\n",
    "ax.set_ylabel('Actual Values')\n",
    "ax.xaxis.set_ticklabels(['positive','negative'])\n",
    "ax.yaxis.set_ticklabels(['positive','negative'])"
   ]
  },
  {
   "cell_type": "markdown",
   "id": "daa1d768",
   "metadata": {},
   "source": [
    "Probleme beim Erkennen negativer Tweets erkennbar."
   ]
  },
  {
   "cell_type": "markdown",
   "id": "4b653354",
   "metadata": {},
   "source": [
    "## Ergebnisse plotten"
   ]
  },
  {
   "cell_type": "code",
   "execution_count": 62,
   "id": "607f7e0b",
   "metadata": {},
   "outputs": [],
   "source": [
    "baseline_test[\"basic_sentiment\"] = (np.where((baseline_test[\"basic_sentiment\"] == 0) ,0,1))"
   ]
  },
  {
   "cell_type": "code",
   "execution_count": 63,
   "id": "f83c4c06",
   "metadata": {},
   "outputs": [],
   "source": [
    "baseline_test[\"sentiment_svm\"] = (np.where((baseline_test[\"sentiment_svm_base\"] == 0),0,1))"
   ]
  },
  {
   "cell_type": "code",
   "execution_count": 64,
   "id": "708e7da3",
   "metadata": {},
   "outputs": [],
   "source": [
    "#Funktion, die Dummyvariablen erstellt und zum Dataframe hinzufügt\n",
    "def dummies(dataframe, columns):\n",
    "    dummy_df = pd.get_dummies(data = dataframe, columns = columns, dtype = np.float64)\n",
    "    return dummy_df"
   ]
  },
  {
   "cell_type": "code",
   "execution_count": 65,
   "id": "6a5f53a0",
   "metadata": {},
   "outputs": [],
   "source": [
    "dummy_vars = ['basic_sentiment','sentiment_svm','v_sentiment']\n",
    "baseline_test = dummies(baseline_test, dummy_vars)"
   ]
  },
  {
   "cell_type": "code",
   "execution_count": 66,
   "id": "28d44d6f",
   "metadata": {},
   "outputs": [],
   "source": [
    "#Aggregieren auf Tagesebene\n",
    "sentiment_scores_test = baseline_test.groupby(\"date\").agg({'basic_sentiment_1': sum,\n",
    "                                                           'basic_sentiment_0': sum,\n",
    "                                                           'sentiment_svm_1': sum,\n",
    "                                                           'sentiment_svm_0':sum,\n",
    "                                                          'v_sentiment_0':sum,\n",
    "                                                          'v_sentiment_1':sum,\n",
    "                                                          'v_sentiment_-99':sum})                                          \n",
    "                                                           "
   ]
  },
  {
   "cell_type": "code",
   "execution_count": 67,
   "id": "34395ef5",
   "metadata": {},
   "outputs": [],
   "source": [
    "#Sentiment Score berechnen\n",
    "def sentiment_score(pos,neg):\n",
    "    avg_score = (pos - neg) / (pos + neg)\n",
    "    return avg_score"
   ]
  },
  {
   "cell_type": "code",
   "execution_count": 68,
   "id": "fc7a23ba",
   "metadata": {},
   "outputs": [],
   "source": [
    "#Wie oben, nur für drei Klassen\n",
    "def sentiment_vader(pos,neg,neutr):\n",
    "    avg_score = (pos - neg) / (pos + neg + neutr)\n",
    "    return avg_score"
   ]
  },
  {
   "cell_type": "code",
   "execution_count": 69,
   "id": "a3f7fda2",
   "metadata": {},
   "outputs": [],
   "source": [
    "sentiment_scores_test[\"basic\"] = sentiment_score(sentiment_scores_test[\"basic_sentiment_0\"], sentiment_scores_test[\"basic_sentiment_1\"])\n",
    "sentiment_scores_test[\"predicted\"] = sentiment_score(sentiment_scores_test[\"sentiment_svm_0\"], sentiment_scores_test[\"sentiment_svm_1\"])\n",
    "sentiment_scores_test[\"vader\"] = sentiment_vader(sentiment_scores_test[\"v_sentiment_1\"], sentiment_scores_test[\"v_sentiment_0\"], sentiment_scores_test[\"v_sentiment_-99\"])"
   ]
  },
  {
   "cell_type": "code",
   "execution_count": 70,
   "id": "45d1269c",
   "metadata": {},
   "outputs": [],
   "source": [
    "#Datumsvariable aus Indexvariable erstellen\n",
    "sentiment_scores_test[\"date\"] = sentiment_scores_test.index"
   ]
  },
  {
   "cell_type": "code",
   "execution_count": 71,
   "id": "d5e53838",
   "metadata": {},
   "outputs": [],
   "source": [
    "sentiment_scores_test[\"date\"] = pd.to_datetime(sentiment_scores_test.date, format='%m/%d/%Y')"
   ]
  },
  {
   "cell_type": "code",
   "execution_count": 76,
   "id": "15d6172f",
   "metadata": {},
   "outputs": [],
   "source": [
    "#Plotten\n",
    "import matplotlib.pyplot as plt\n",
    "from matplotlib.dates import DateFormatter\n",
    "import matplotlib.ticker as ticker\n",
    "%matplotlib inline"
   ]
  },
  {
   "cell_type": "code",
   "execution_count": 83,
   "id": "63e455fb",
   "metadata": {},
   "outputs": [
    {
     "data": {
      "image/png": "[encoded data removed]",
      "text/plain": [
       "<Figure size 720x432 with 1 Axes>"
      ]
     },
     "metadata": {
      "needs_background": "light"
     },
     "output_type": "display_data"
    }
   ],
   "source": [
    "#Plot TF-IDF\n",
    "fig, ax = plt.subplots(figsize=(10, 6))\n",
    "ax.plot(sentiment_scores_test[\"date\"],sentiment_scores_test.basic, label = 'Basic Sentiment')\n",
    "ax.plot(sentiment_scores_test[\"date\"], sentiment_scores_test[\"predicted\"], label = 'Prediction')\n",
    "ax.set_xlabel('Date')\n",
    "ax.set_ylabel('Mean Sentiment Score')\n",
    "ax.set_title('Average Daily Sentiment Scores - Apple')\n",
    "ax.grid(True)\n",
    "ax.legend(loc='upper left');\n",
    "\n",
    "#format date axis\n",
    "date_form = DateFormatter(\"%m/%d\")\n",
    "ax.xaxis.set_major_formatter(date_form)\n",
    "#change interval \n",
    "ax.xaxis.set_major_locator(ticker.AutoLocator())"
   ]
  },
  {
   "cell_type": "markdown",
   "id": "8a7e18d5",
   "metadata": {},
   "source": [
    "Verlauf von Predictions und tatsächlichem Sentiment ähnlich. Predictions leicht positiver, da negative Tweets vom Modell nicht gut erkannt. Auffällig ist der stark abweichende Verlauf am 25.12. Grund hierfür könnte sein, dass für diesen Tag nur vier Tweets existieren"
   ]
  },
  {
   "cell_type": "code",
   "execution_count": 78,
   "id": "08272f59",
   "metadata": {},
   "outputs": [
    {
     "data": {
      "image/png": "[encoded data removed]",
      "text/plain": [
       "<Figure size 720x432 with 1 Axes>"
      ]
     },
     "metadata": {
      "needs_background": "light"
     },
     "output_type": "display_data"
    }
   ],
   "source": [
    "#Zum Vergleich VADER\n",
    "fig, ax = plt.subplots(figsize=(10, 6))\n",
    "ax.plot(sentiment_scores_test[\"date\"],sentiment_scores_test.basic, label = 'Basic Sentiment')\n",
    "ax.plot(sentiment_scores_test[\"date\"], sentiment_scores_test[\"vader\"], label = 'Vader')\n",
    "ax.set_xlabel('Date')\n",
    "ax.set_ylabel('Mean Sentiment Score')\n",
    "ax.set_title('Average Daily Sentiment Scores - Apple')\n",
    "ax.grid(True)\n",
    "ax.legend(loc='upper left');\n",
    "\n",
    "#format date axis\n",
    "date_form = DateFormatter(\"%m/%d\")\n",
    "ax.xaxis.set_major_formatter(date_form)\n",
    "#change interval \n",
    "ax.xaxis.set_major_locator(ticker.AutoLocator())"
   ]
  },
  {
   "cell_type": "markdown",
   "id": "d0c7737b",
   "metadata": {},
   "source": [
    "Auch mit VADER lässt sich der Verlauf des Sentiments recht gut vorhersagen. Die deutlichen Unterschiede im Mean Sentiment Score werden dadurch verursacht, dass VADER einen Großteil der Tweets als neutral klassifiziert und somit einer Klasse zuordnet, die in den gelabelten Daten nicht existiert. "
   ]
  }
 ],
 "metadata": {
  "kernelspec": {
   "display_name": "Python 3 (ipykernel)",
   "language": "python",
   "name": "python3"
  },
  "language_info": {
   "codemirror_mode": {
    "name": "ipython",
    "version": 3
   },
   "file_extension": ".py",
   "mimetype": "text/x-python",
   "name": "python",
   "nbconvert_exporter": "python",
   "pygments_lexer": "ipython3",
   "version": "3.9.7"
  }
 },
 "nbformat": 4,
 "nbformat_minor": 5
}
