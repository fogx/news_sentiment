{
 "cells": [
  {
   "cell_type": "markdown",
   "id": "1d70623f",
   "metadata": {},
   "source": [
    "# Baseline Modelle"
   ]
  },
  {
   "cell_type": "code",
   "execution_count": 36,
   "id": "ecacfc27",
   "metadata": {},
   "outputs": [],
   "source": [
    "#Laden der benötigten Bibliotheken\n",
    "import pandas as pd\n",
    "import numpy as np\n",
    "import nltk   #Natural Language ToolKit\n",
    "from nltk.sentiment.vader import SentimentIntensityAnalyzer"
   ]
  },
  {
   "cell_type": "markdown",
   "id": "c7502aa8",
   "metadata": {},
   "source": [
    "## Daten einlesen\n"
   ]
  },
  {
   "cell_type": "code",
   "execution_count": 37,
   "id": "9d4fd935",
   "metadata": {},
   "outputs": [],
   "source": [
    "data = pd.read_csv(\"D:/NLPCourse/df_wirtschaft_labeled.csv\")"
   ]
  },
  {
   "cell_type": "code",
   "execution_count": 38,
   "id": "3ddcc67a",
   "metadata": {},
   "outputs": [
    {
     "data": {
      "text/html": [
       "<div>\n",
       "<style scoped>\n",
       "    .dataframe tbody tr th:only-of-type {\n",
       "        vertical-align: middle;\n",
       "    }\n",
       "\n",
       "    .dataframe tbody tr th {\n",
       "        vertical-align: top;\n",
       "    }\n",
       "\n",
       "    .dataframe thead th {\n",
       "        text-align: right;\n",
       "    }\n",
       "</style>\n",
       "<table border=\"1\" class=\"dataframe\">\n",
       "  <thead>\n",
       "    <tr style=\"text-align: right;\">\n",
       "      <th></th>\n",
       "      <th>Unnamed: 0</th>\n",
       "      <th>title</th>\n",
       "      <th>label_title</th>\n",
       "      <th>body</th>\n",
       "      <th>label_body</th>\n",
       "      <th>body_512</th>\n",
       "    </tr>\n",
       "  </thead>\n",
       "  <tbody>\n",
       "    <tr>\n",
       "      <th>0</th>\n",
       "      <td>0</td>\n",
       "      <td>Corona-Gutscheine können bald eingelöst werden</td>\n",
       "      <td>1</td>\n",
       "      <td>Für abgesagte oder verschobene Konzerte und Re...</td>\n",
       "      <td>-1</td>\n",
       "      <td>Für abgesagte oder verschobene Konzerte und Re...</td>\n",
       "    </tr>\n",
       "    <tr>\n",
       "      <th>1</th>\n",
       "      <td>1</td>\n",
       "      <td>Strom und Gas: Grundversorger müssen Billiganb...</td>\n",
       "      <td>-1</td>\n",
       "      <td>Auf einen Schlag 20.000 neue Gaskunden: Weil B...</td>\n",
       "      <td>-1</td>\n",
       "      <td>Auf einen Schlag 20.000 neue Gaskunden: Weil B...</td>\n",
       "    </tr>\n",
       "    <tr>\n",
       "      <th>2</th>\n",
       "      <td>2</td>\n",
       "      <td>Atomenergie: Deutschland protestiert gegen EU-...</td>\n",
       "      <td>0</td>\n",
       "      <td>Nur in Deutschland, Österreich und Luxemburg h...</td>\n",
       "      <td>-1</td>\n",
       "      <td>Nur in Deutschland, Österreich und Luxemburg h...</td>\n",
       "    </tr>\n",
       "    <tr>\n",
       "      <th>3</th>\n",
       "      <td>3</td>\n",
       "      <td>Auf Firmen und Verbraucher kommt noch mehr Inf...</td>\n",
       "      <td>-1</td>\n",
       "      <td>In den gestressten Unternehmen stauen sich wei...</td>\n",
       "      <td>-1</td>\n",
       "      <td>In den gestressten Unternehmen stauen sich wei...</td>\n",
       "    </tr>\n",
       "    <tr>\n",
       "      <th>4</th>\n",
       "      <td>4</td>\n",
       "      <td>Rückruf von 850.000 Autos: Mercedes warnt vor ...</td>\n",
       "      <td>-1</td>\n",
       "      <td>Mercedes ruft Hunderttausende Diesel zurück in...</td>\n",
       "      <td>-1</td>\n",
       "      <td>Mercedes ruft Hunderttausende Diesel zurück in...</td>\n",
       "    </tr>\n",
       "  </tbody>\n",
       "</table>\n",
       "</div>"
      ],
      "text/plain": [
       "   Unnamed: 0                                              title  label_title  \\\n",
       "0           0     Corona-Gutscheine können bald eingelöst werden            1   \n",
       "1           1  Strom und Gas: Grundversorger müssen Billiganb...           -1   \n",
       "2           2  Atomenergie: Deutschland protestiert gegen EU-...            0   \n",
       "3           3  Auf Firmen und Verbraucher kommt noch mehr Inf...           -1   \n",
       "4           4  Rückruf von 850.000 Autos: Mercedes warnt vor ...           -1   \n",
       "\n",
       "                                                body  label_body  \\\n",
       "0  Für abgesagte oder verschobene Konzerte und Re...          -1   \n",
       "1  Auf einen Schlag 20.000 neue Gaskunden: Weil B...          -1   \n",
       "2  Nur in Deutschland, Österreich und Luxemburg h...          -1   \n",
       "3  In den gestressten Unternehmen stauen sich wei...          -1   \n",
       "4  Mercedes ruft Hunderttausende Diesel zurück in...          -1   \n",
       "\n",
       "                                            body_512  \n",
       "0  Für abgesagte oder verschobene Konzerte und Re...  \n",
       "1  Auf einen Schlag 20.000 neue Gaskunden: Weil B...  \n",
       "2  Nur in Deutschland, Österreich und Luxemburg h...  \n",
       "3  In den gestressten Unternehmen stauen sich wei...  \n",
       "4  Mercedes ruft Hunderttausende Diesel zurück in...  "
      ]
     },
     "execution_count": 38,
     "metadata": {},
     "output_type": "execute_result"
    }
   ],
   "source": [
    "data.head()"
   ]
  },
  {
   "cell_type": "code",
   "execution_count": 39,
   "id": "06282742",
   "metadata": {},
   "outputs": [],
   "source": [
    "data2 = pd.read_csv(\"D:/NLPCourse/df_wirtschaft.csv\")"
   ]
  },
  {
   "cell_type": "code",
   "execution_count": 40,
   "id": "194714ba",
   "metadata": {},
   "outputs": [],
   "source": [
    "date = data2[\"date_publish\"]"
   ]
  },
  {
   "cell_type": "code",
   "execution_count": 41,
   "id": "c2b78f29",
   "metadata": {},
   "outputs": [],
   "source": [
    "data[\"date\"] = date"
   ]
  },
  {
   "cell_type": "markdown",
   "id": "1eacbfe3",
   "metadata": {},
   "source": [
    "## Pre-Processing"
   ]
  },
  {
   "cell_type": "code",
   "execution_count": 42,
   "id": "e347b292",
   "metadata": {},
   "outputs": [],
   "source": [
    "#lower case\n",
    "data[\"preproc\"] = data[\"body\"].apply(lambda x: \" \".join(x.lower() for x in str(x).split()))"
   ]
  },
  {
   "cell_type": "code",
   "execution_count": 43,
   "id": "22605516",
   "metadata": {},
   "outputs": [],
   "source": [
    "#html tags und urls raus\n",
    "from bs4 import BeautifulSoup\n",
    "data[\"preproc\"]=data[\"preproc\"].apply(lambda x: BeautifulSoup(x).get_text())\n",
    "import re\n",
    "data[\"preproc\"]=data[\"preproc\"].apply(lambda x: re.sub(r\"http\\S+\", \"\", x))"
   ]
  },
  {
   "cell_type": "code",
   "execution_count": 44,
   "id": "81b7b865",
   "metadata": {},
   "outputs": [],
   "source": [
    "#kontrahieren: don't -> do not etc.\n",
    "#def contractions(s):\n",
    "# s = re.sub(r\"won’t\", \"will not\",s)\n",
    "# s = re.sub(r\"would’t\", \"would not\",s)\n",
    "# s = re.sub(r\"could’t\", \"could not\",s)\n",
    "# s = re.sub(r\"\\’d\", \" would\",s)\n",
    "# s = re.sub(r\"can\\’t\", \"can not\",s)\n",
    "# s = re.sub(r\"n\\’t\", \" not\", s)\n",
    "# s= re.sub(r\"\\’re\", \" are\", s)\n",
    "# s = re.sub(r\"\\’s\", \" is\", s)\n",
    "# s = re.sub(r\"\\’ll\", \" will\", s)\n",
    "# s = re.sub(r\"\\’t\", \" not\", s)\n",
    "# s = re.sub(r\"\\’ve\", \" have\", s)\n",
    "# s = re.sub(r\"\\’m\", \" am\", s)\n",
    "# return s\n",
    "#data[\"tweets_preproc\"]=data[\"tweets_preproc\"].apply(lambda x:contractions(x))"
   ]
  },
  {
   "cell_type": "code",
   "execution_count": 45,
   "id": "d181ad2e",
   "metadata": {},
   "outputs": [],
   "source": [
    "#überschüssige leerzeichen raus\n",
    "data[\"preproc\"]=data[\"preproc\"].apply(lambda x: re.sub(' +', ' ', x))"
   ]
  },
  {
   "cell_type": "code",
   "execution_count": 46,
   "id": "120cf944",
   "metadata": {},
   "outputs": [
    {
     "name": "stderr",
     "output_type": "stream",
     "text": [
      "[nltk_data] Downloading package stopwords to\n",
      "[nltk_data]     C:\\Users\\Jonas\\AppData\\Roaming\\nltk_data...\n",
      "[nltk_data]   Package stopwords is already up-to-date!\n"
     ]
    }
   ],
   "source": [
    "#fehlende Ressourcen downloaden\n",
    "nltk.download('stopwords')\n",
    "#stopwords raus\n",
    "from nltk.corpus import stopwords\n",
    "stop = stopwords.words('german')\n",
    "data[\"preproc\"]=data[\"preproc\"].apply(lambda x: \" \".join([x for x in x.split() if x not in stop]))"
   ]
  },
  {
   "cell_type": "code",
   "execution_count": 47,
   "id": "a1fc6fd5",
   "metadata": {},
   "outputs": [],
   "source": [
    "#stemming\n",
    "#nltk.download('wordnet')\n",
    "from nltk.stem import SnowballStemmer\n",
    "stemmer = SnowballStemmer(\"german\")\n",
    "#lemmatizer = WordNetLemmatizer()\n",
    "data[\"preproc\"]=data[\"preproc\"].apply(lambda x: \" \".join([stemmer.stem(w) for w in nltk.word_tokenize(x)]))"
   ]
  },
  {
   "cell_type": "code",
   "execution_count": 48,
   "id": "6af9378c",
   "metadata": {},
   "outputs": [],
   "source": [
    "data[\"preproc_vader\"] = data[\"preproc\"]"
   ]
  },
  {
   "cell_type": "code",
   "execution_count": 49,
   "id": "40eee6a5",
   "metadata": {},
   "outputs": [],
   "source": [
    "#sonderzeichen etc. raus\n",
    "#Ressourcen downloaden\n",
    "#nltk.download('punkt')\n",
    "#sonderzeichen etc. raus\n",
    "data[\"preproc\"]=data[\"preproc\"].apply(lambda x: \" \".join([re.sub('[^A-Za-z]+','', x) for x in nltk.word_tokenize(x)]))"
   ]
  },
  {
   "cell_type": "code",
   "execution_count": 50,
   "id": "873b065d",
   "metadata": {},
   "outputs": [],
   "source": [
    "#Datumsvariable erstellen - um ggf. spaeter Ergebnisse zu plotten\n",
    "data[\"date\"] = pd.to_datetime(data.date, format='%Y-%m-%d %H:%M:%S')\n",
    "data['date'] = data['date'].dt.strftime('%m/%d/%Y')"
   ]
  },
  {
   "cell_type": "code",
   "execution_count": 51,
   "id": "a180988e",
   "metadata": {},
   "outputs": [
    {
     "data": {
      "text/html": [
       "<div>\n",
       "<style scoped>\n",
       "    .dataframe tbody tr th:only-of-type {\n",
       "        vertical-align: middle;\n",
       "    }\n",
       "\n",
       "    .dataframe tbody tr th {\n",
       "        vertical-align: top;\n",
       "    }\n",
       "\n",
       "    .dataframe thead th {\n",
       "        text-align: right;\n",
       "    }\n",
       "</style>\n",
       "<table border=\"1\" class=\"dataframe\">\n",
       "  <thead>\n",
       "    <tr style=\"text-align: right;\">\n",
       "      <th></th>\n",
       "      <th>Unnamed: 0</th>\n",
       "      <th>title</th>\n",
       "      <th>label_title</th>\n",
       "      <th>body</th>\n",
       "      <th>label_body</th>\n",
       "      <th>body_512</th>\n",
       "      <th>date</th>\n",
       "      <th>preproc</th>\n",
       "      <th>preproc_vader</th>\n",
       "    </tr>\n",
       "  </thead>\n",
       "  <tbody>\n",
       "    <tr>\n",
       "      <th>0</th>\n",
       "      <td>0</td>\n",
       "      <td>Corona-Gutscheine können bald eingelöst werden</td>\n",
       "      <td>1</td>\n",
       "      <td>Für abgesagte oder verschobene Konzerte und Re...</td>\n",
       "      <td>-1</td>\n",
       "      <td>Für abgesagte oder verschobene Konzerte und Re...</td>\n",
       "      <td>12/20/2021</td>\n",
       "      <td>abgesagt verschob konzert reis gab gutschein c...</td>\n",
       "      <td>abgesagt verschob konzert reis gab gutschein c...</td>\n",
       "    </tr>\n",
       "    <tr>\n",
       "      <th>1</th>\n",
       "      <td>1</td>\n",
       "      <td>Strom und Gas: Grundversorger müssen Billiganb...</td>\n",
       "      <td>-1</td>\n",
       "      <td>Auf einen Schlag 20.000 neue Gaskunden: Weil B...</td>\n",
       "      <td>-1</td>\n",
       "      <td>Auf einen Schlag 20.000 neue Gaskunden: Weil B...</td>\n",
       "      <td>12/23/2021</td>\n",
       "      <td>schlag  neu gaskund  billiganbiet lief konn  m...</td>\n",
       "      <td>schlag 20.000 neu gaskund : billiganbiet lief ...</td>\n",
       "    </tr>\n",
       "    <tr>\n",
       "      <th>2</th>\n",
       "      <td>2</td>\n",
       "      <td>Atomenergie: Deutschland protestiert gegen EU-...</td>\n",
       "      <td>0</td>\n",
       "      <td>Nur in Deutschland, Österreich und Luxemburg h...</td>\n",
       "      <td>-1</td>\n",
       "      <td>Nur in Deutschland, Österreich und Luxemburg h...</td>\n",
       "      <td>01/03/2022</td>\n",
       "      <td>deutschland  osterreich luxemburg vorschlag eu...</td>\n",
       "      <td>deutschland , osterreich luxemburg vorschlag e...</td>\n",
       "    </tr>\n",
       "    <tr>\n",
       "      <th>3</th>\n",
       "      <td>3</td>\n",
       "      <td>Auf Firmen und Verbraucher kommt noch mehr Inf...</td>\n",
       "      <td>-1</td>\n",
       "      <td>In den gestressten Unternehmen stauen sich wei...</td>\n",
       "      <td>-1</td>\n",
       "      <td>In den gestressten Unternehmen stauen sich wei...</td>\n",
       "      <td>12/25/2021</td>\n",
       "      <td>gestresst unternehm stau weit preissteiger  ba...</td>\n",
       "      <td>gestresst unternehm stau weit preissteiger . b...</td>\n",
       "    </tr>\n",
       "    <tr>\n",
       "      <th>4</th>\n",
       "      <td>4</td>\n",
       "      <td>Rückruf von 850.000 Autos: Mercedes warnt vor ...</td>\n",
       "      <td>-1</td>\n",
       "      <td>Mercedes ruft Hunderttausende Diesel zurück in...</td>\n",
       "      <td>-1</td>\n",
       "      <td>Mercedes ruft Hunderttausende Diesel zurück in...</td>\n",
       "      <td>01/05/2022</td>\n",
       "      <td>merced ruft hunderttaus diesel zuruck werkstat...</td>\n",
       "      <td>merced ruft hunderttaus diesel zuruck werkstat...</td>\n",
       "    </tr>\n",
       "  </tbody>\n",
       "</table>\n",
       "</div>"
      ],
      "text/plain": [
       "   Unnamed: 0                                              title  label_title  \\\n",
       "0           0     Corona-Gutscheine können bald eingelöst werden            1   \n",
       "1           1  Strom und Gas: Grundversorger müssen Billiganb...           -1   \n",
       "2           2  Atomenergie: Deutschland protestiert gegen EU-...            0   \n",
       "3           3  Auf Firmen und Verbraucher kommt noch mehr Inf...           -1   \n",
       "4           4  Rückruf von 850.000 Autos: Mercedes warnt vor ...           -1   \n",
       "\n",
       "                                                body  label_body  \\\n",
       "0  Für abgesagte oder verschobene Konzerte und Re...          -1   \n",
       "1  Auf einen Schlag 20.000 neue Gaskunden: Weil B...          -1   \n",
       "2  Nur in Deutschland, Österreich und Luxemburg h...          -1   \n",
       "3  In den gestressten Unternehmen stauen sich wei...          -1   \n",
       "4  Mercedes ruft Hunderttausende Diesel zurück in...          -1   \n",
       "\n",
       "                                            body_512        date  \\\n",
       "0  Für abgesagte oder verschobene Konzerte und Re...  12/20/2021   \n",
       "1  Auf einen Schlag 20.000 neue Gaskunden: Weil B...  12/23/2021   \n",
       "2  Nur in Deutschland, Österreich und Luxemburg h...  01/03/2022   \n",
       "3  In den gestressten Unternehmen stauen sich wei...  12/25/2021   \n",
       "4  Mercedes ruft Hunderttausende Diesel zurück in...  01/05/2022   \n",
       "\n",
       "                                             preproc  \\\n",
       "0  abgesagt verschob konzert reis gab gutschein c...   \n",
       "1  schlag  neu gaskund  billiganbiet lief konn  m...   \n",
       "2  deutschland  osterreich luxemburg vorschlag eu...   \n",
       "3  gestresst unternehm stau weit preissteiger  ba...   \n",
       "4  merced ruft hunderttaus diesel zuruck werkstat...   \n",
       "\n",
       "                                       preproc_vader  \n",
       "0  abgesagt verschob konzert reis gab gutschein c...  \n",
       "1  schlag 20.000 neu gaskund : billiganbiet lief ...  \n",
       "2  deutschland , osterreich luxemburg vorschlag e...  \n",
       "3  gestresst unternehm stau weit preissteiger . b...  \n",
       "4  merced ruft hunderttaus diesel zuruck werkstat...  "
      ]
     },
     "execution_count": 51,
     "metadata": {},
     "output_type": "execute_result"
    }
   ],
   "source": [
    "#Prüfen, ob alles geklappt hat\n",
    "data.head()"
   ]
  },
  {
   "cell_type": "markdown",
   "id": "bbad887c",
   "metadata": {},
   "source": [
    "## Sentiment Analysis"
   ]
  },
  {
   "cell_type": "markdown",
   "id": "44ff259b",
   "metadata": {},
   "source": [
    "### 1 - VADER"
   ]
  },
  {
   "cell_type": "markdown",
   "id": "4fa85906",
   "metadata": {},
   "source": [
    "Vorteile:\n",
    "- Braucht kein Training\n",
    "- Funktioniert ohne gelabelte Daten\n",
    "- speziell für Social Media (unterscheidet z.B. TOLL - toll - toll!)\n",
    "\n",
    "Nachteile:\n",
    "- Liefert teilweise keine optimalen Ergebnisse\n",
    "- Hat drei Klassen (neg/neutr/pos), Tweets haben nur zwei"
   ]
  },
  {
   "cell_type": "code",
   "execution_count": 52,
   "id": "870d4a77",
   "metadata": {
    "scrolled": true
   },
   "outputs": [],
   "source": [
    "#download vader lexikon (scheint in nltk zu fehlen (vllt. auch Problem mit anderem vader?))\n",
    "#nltk.download('vader_lexicon')\n",
    "#nltk vader\n",
    "sid = SentimentIntensityAnalyzer()\n",
    "#model\n",
    "data[\"v_scores\"] = data[\"preproc_vader\"].apply(lambda body: sid.polarity_scores(body))"
   ]
  },
  {
   "cell_type": "code",
   "execution_count": 53,
   "id": "02566060",
   "metadata": {},
   "outputs": [],
   "source": [
    "#eigene Spalte für scores erstellen\n",
    "data['compound']  = data['v_scores'].apply(lambda score_dict: score_dict['compound'])"
   ]
  },
  {
   "cell_type": "code",
   "execution_count": 54,
   "id": "c5d4a692",
   "metadata": {},
   "outputs": [],
   "source": [
    "#Predictions\n",
    "data['v_sentiment'] = (\n",
    "    np.where(\n",
    "        data['compound'] >= 0.05,1,\n",
    "        np.where(data['compound'] <= -0.05, -1, 0)))"
   ]
  },
  {
   "cell_type": "code",
   "execution_count": 55,
   "id": "8046757c",
   "metadata": {},
   "outputs": [],
   "source": [
    "#confusion matrix\n",
    "from sklearn.metrics import confusion_matrix\n",
    "cm_vader = confusion_matrix(data[\"label_body\"], data[\"v_sentiment\"])"
   ]
  },
  {
   "cell_type": "code",
   "execution_count": 56,
   "id": "6eee0966",
   "metadata": {},
   "outputs": [
    {
     "data": {
      "text/plain": [
       "[Text(0, 0.5, 'positive'), Text(0, 1.5, 'neutral'), Text(0, 2.5, 'negative')]"
      ]
     },
     "execution_count": 56,
     "metadata": {},
     "output_type": "execute_result"
    },
    {
     "data": {
      "image/png": "[encoded data removed]",
      "text/plain": [
       "<Figure size 432x288 with 2 Axes>"
      ]
     },
     "metadata": {
      "needs_background": "light"
     },
     "output_type": "display_data"
    }
   ],
   "source": [
    "import seaborn as sns\n",
    "ax = sns.heatmap(cm_vader, annot=True, cmap = 'Blues')\n",
    "ax.set_title('Confusion matrix')\n",
    "ax.set_xlabel('Predicted values')\n",
    "ax.set_ylabel('Actual Values')\n",
    "ax.xaxis.set_ticklabels(['positive','neutral','negative'])\n",
    "ax.yaxis.set_ticklabels(['positive','neutral','negative'])"
   ]
  },
  {
   "cell_type": "markdown",
   "id": "de0711bb",
   "metadata": {},
   "source": [
    "### 2 - TF - IDF"
   ]
  },
  {
   "cell_type": "markdown",
   "id": "cefac46d",
   "metadata": {},
   "source": [
    "Term-frequency - inverse document-frequency: $tf-idf(t,d) = tf(t,d) * idf(t)$ </br>\n",
    "tf = Anzahl eines Wortes $t$ in einem Tweet/Dokument </br>\n",
    "$idf(t) = log\\frac{n}{1+df(t)}$ (sklearn weicht leicht von Standardformulierung ab)</br>\n",
    "mit $n$ = Anzahl aller Tweets im Datensatz, $df(t)$ = Anzahl aller Tweets, die Wort $t$ enthalten. </br>\n",
    "Tf-idf wird zusätzlich normalisiert: </br>\n",
    "$v_{norm} = \\frac{v}{||v||_{2}} = \\frac{v}{\\sqrt{v_{1}² + v_{2}² + ... + v_{n}²}}$ </br>"
   ]
  },
  {
   "cell_type": "code",
   "execution_count": 57,
   "id": "64629cff",
   "metadata": {},
   "outputs": [
    {
     "name": "stdout",
     "output_type": "stream",
     "text": [
      "Training Set:  (79, 12) Test Set:  (27, 12)\n"
     ]
    }
   ],
   "source": [
    "#train / test split mit gleichen Anteilen der Klassen in Trainings- und Testdaten\n",
    "from sklearn.model_selection import train_test_split\n",
    "baseline_train,baseline_test = train_test_split(data,\n",
    "                                                  stratify = data[\"label_body\"],\n",
    "                                                  test_size=0.25, random_state=42)\n",
    "print(\"Training Set: \",baseline_train.shape, \"Test Set: \",baseline_test.shape)"
   ]
  },
  {
   "cell_type": "code",
   "execution_count": 58,
   "id": "7d45a65c",
   "metadata": {},
   "outputs": [
    {
     "data": {
      "text/plain": [
       "-1    15\n",
       " 0     6\n",
       " 1     6\n",
       "Name: label_body, dtype: int64"
      ]
     },
     "execution_count": 58,
     "metadata": {},
     "output_type": "execute_result"
    }
   ],
   "source": [
    "baseline_test[\"label_body\"].value_counts()"
   ]
  },
  {
   "cell_type": "code",
   "execution_count": 59,
   "id": "2a12b049",
   "metadata": {},
   "outputs": [],
   "source": [
    "from sklearn.feature_extraction.text import TfidfVectorizer\n",
    "vectorizer = TfidfVectorizer(\n",
    "    analyzer=\"word\", max_df=0.3, min_df=10, ngram_range=(1, 2), norm=\"l2\"\n",
    ")\n",
    "vectorizer.fit(baseline_train[\"preproc\"])\n",
    "#Anwendung auf Training- und Testdaten\n",
    "tf_x_train = vectorizer.transform(baseline_train[\"preproc\"])\n",
    "tf_x_test = vectorizer.transform(baseline_test[\"preproc\"])"
   ]
  },
  {
   "cell_type": "code",
   "execution_count": 60,
   "id": "c97be2f9",
   "metadata": {},
   "outputs": [
    {
     "data": {
      "text/plain": [
       "<79x154 sparse matrix of type '<class 'numpy.float64'>'\n",
       "\twith 2115 stored elements in Compressed Sparse Row format>"
      ]
     },
     "execution_count": 60,
     "metadata": {},
     "output_type": "execute_result"
    }
   ],
   "source": [
    "tf_x_train"
   ]
  },
  {
   "cell_type": "code",
   "execution_count": 61,
   "id": "f71cce4f",
   "metadata": {},
   "outputs": [],
   "source": [
    "#pd.DataFrame.sparse.from_spmatrix(tf_x_train)"
   ]
  },
  {
   "cell_type": "code",
   "execution_count": 62,
   "id": "c3db06d6",
   "metadata": {},
   "outputs": [
    {
     "data": {
      "text/plain": [
       "<27x154 sparse matrix of type '<class 'numpy.float64'>'\n",
       "\twith 674 stored elements in Compressed Sparse Row format>"
      ]
     },
     "execution_count": 62,
     "metadata": {},
     "output_type": "execute_result"
    }
   ],
   "source": [
    "tf_x_test"
   ]
  },
  {
   "cell_type": "code",
   "execution_count": 63,
   "id": "89c6f78c",
   "metadata": {},
   "outputs": [],
   "source": [
    "#SVM classifier\n",
    "#ohne grid search\n",
    "from sklearn import svm\n",
    "svm = svm.SVC()"
   ]
  },
  {
   "cell_type": "code",
   "execution_count": 64,
   "id": "e72c1bc8",
   "metadata": {},
   "outputs": [
    {
     "data": {
      "text/plain": [
       "SVC()"
      ]
     },
     "execution_count": 64,
     "metadata": {},
     "output_type": "execute_result"
    }
   ],
   "source": [
    "#fitten\n",
    "svm.fit(tf_x_train, baseline_train[\"label_body\"])"
   ]
  },
  {
   "cell_type": "code",
   "execution_count": 65,
   "id": "b3f41d77",
   "metadata": {},
   "outputs": [],
   "source": [
    "#predictions\n",
    "y_fit_svm_base = svm.predict(tf_x_test)"
   ]
  },
  {
   "cell_type": "code",
   "execution_count": 66,
   "id": "736d213d",
   "metadata": {},
   "outputs": [
    {
     "name": "stderr",
     "output_type": "stream",
     "text": [
      "C:\\Anaconda3\\envs\\NLPCourse\\lib\\site-packages\\sklearn\\metrics\\_classification.py:1308: UndefinedMetricWarning: Precision and F-score are ill-defined and being set to 0.0 in labels with no predicted samples. Use `zero_division` parameter to control this behavior.\n",
      "  _warn_prf(average, modifier, msg_start, len(result))\n",
      "C:\\Anaconda3\\envs\\NLPCourse\\lib\\site-packages\\sklearn\\metrics\\_classification.py:1308: UndefinedMetricWarning: Precision and F-score are ill-defined and being set to 0.0 in labels with no predicted samples. Use `zero_division` parameter to control this behavior.\n",
      "  _warn_prf(average, modifier, msg_start, len(result))\n",
      "C:\\Anaconda3\\envs\\NLPCourse\\lib\\site-packages\\sklearn\\metrics\\_classification.py:1308: UndefinedMetricWarning: Precision and F-score are ill-defined and being set to 0.0 in labels with no predicted samples. Use `zero_division` parameter to control this behavior.\n",
      "  _warn_prf(average, modifier, msg_start, len(result))\n"
     ]
    }
   ],
   "source": [
    "#ergebnisse /modellgüte\n",
    "from sklearn.metrics import classification_report\n",
    "svm_results_base = classification_report(baseline_test[\"label_body\"], y_fit_svm_base, output_dict = True)"
   ]
  },
  {
   "cell_type": "code",
   "execution_count": 67,
   "id": "81707742",
   "metadata": {},
   "outputs": [
    {
     "data": {
      "text/plain": [
       "{'-1': {'precision': 0.5555555555555556,\n",
       "  'recall': 1.0,\n",
       "  'f1-score': 0.7142857142857143,\n",
       "  'support': 15},\n",
       " '0': {'precision': 0.0, 'recall': 0.0, 'f1-score': 0.0, 'support': 6},\n",
       " '1': {'precision': 0.0, 'recall': 0.0, 'f1-score': 0.0, 'support': 6},\n",
       " 'accuracy': 0.5555555555555556,\n",
       " 'macro avg': {'precision': 0.1851851851851852,\n",
       "  'recall': 0.3333333333333333,\n",
       "  'f1-score': 0.2380952380952381,\n",
       "  'support': 27},\n",
       " 'weighted avg': {'precision': 0.308641975308642,\n",
       "  'recall': 0.5555555555555556,\n",
       "  'f1-score': 0.39682539682539686,\n",
       "  'support': 27}}"
      ]
     },
     "execution_count": 67,
     "metadata": {},
     "output_type": "execute_result"
    }
   ],
   "source": [
    "svm_results_base"
   ]
  },
  {
   "cell_type": "code",
   "execution_count": 68,
   "id": "57e8818e",
   "metadata": {},
   "outputs": [],
   "source": [
    "#confusion matrix\n",
    "cm_svm = confusion_matrix(baseline_test[\"label_body\"], y_fit_svm_base)"
   ]
  },
  {
   "cell_type": "code",
   "execution_count": 69,
   "id": "7a09b666",
   "metadata": {},
   "outputs": [
    {
     "data": {
      "text/plain": [
       "[Text(0, 0.5, 'positive'), Text(0, 1.5, 'neutral'), Text(0, 2.5, 'negative')]"
      ]
     },
     "execution_count": 69,
     "metadata": {},
     "output_type": "execute_result"
    },
    {
     "data": {
      "image/png": "[encoded data removed]",
      "text/plain": [
       "<Figure size 432x288 with 2 Axes>"
      ]
     },
     "metadata": {
      "needs_background": "light"
     },
     "output_type": "display_data"
    }
   ],
   "source": [
    "ax = sns.heatmap(cm_svm, annot=True, cmap = 'Blues')\n",
    "ax.set_title('Confusion matrix')\n",
    "ax.set_xlabel('Predicted values')\n",
    "ax.set_ylabel('Actual Values')\n",
    "ax.xaxis.set_ticklabels(['positive','neutral','negative'])\n",
    "ax.yaxis.set_ticklabels(['positive','neutral','negative'])"
   ]
  },
  {
   "cell_type": "code",
   "execution_count": 70,
   "id": "ad7124be",
   "metadata": {},
   "outputs": [
    {
     "name": "stdout",
     "output_type": "stream",
     "text": [
      "Fitting 5 folds for each of 42 candidates, totalling 210 fits\n"
     ]
    },
    {
     "data": {
      "text/plain": [
       "GridSearchCV(estimator=SVC(), n_jobs=-1,\n",
       "             param_grid=[{'C': array([1.e-03, 1.e-02, 1.e-01, 1.e+00, 1.e+01, 1.e+02]),\n",
       "                          'kernel': ['linear']},\n",
       "                         {'C': array([1.e-03, 1.e-02, 1.e-01, 1.e+00, 1.e+01, 1.e+02]),\n",
       "                          'gamma': array([1.e-03, 1.e-02, 1.e-01, 1.e+00, 1.e+01, 1.e+02]),\n",
       "                          'kernel': ['rbf']}],\n",
       "             verbose=2)"
      ]
     },
     "execution_count": 70,
     "metadata": {},
     "output_type": "execute_result"
    }
   ],
   "source": [
    "#Grid Search\n",
    "from sklearn.model_selection import GridSearchCV\n",
    "param_grid = [\n",
    "  {'C': np.logspace(-3, 2, 6), 'kernel': ['linear']},\n",
    "  {'C': np.logspace(-3, 2, 6), 'gamma': np.logspace(-3, 2, 6), 'kernel': ['rbf']},\n",
    " ]\n",
    "\n",
    "grid_search = GridSearchCV(svm, param_grid, n_jobs = -1, verbose = 2)\n",
    "grid_search.fit(tf_x_train, baseline_train[\"label_body\"])"
   ]
  },
  {
   "cell_type": "code",
   "execution_count": 71,
   "id": "02bd30bf",
   "metadata": {},
   "outputs": [
    {
     "name": "stdout",
     "output_type": "stream",
     "text": [
      "{'C': 1.0, 'kernel': 'linear'}\n"
     ]
    }
   ],
   "source": [
    "print(grid_search.best_params_)"
   ]
  },
  {
   "cell_type": "code",
   "execution_count": 72,
   "id": "9dc86365",
   "metadata": {},
   "outputs": [],
   "source": [
    "#Bestes Modell auf Testdaten anwenden und fitted values speichern\n",
    "model_svm = grid_search.best_estimator_\n",
    "y_fit_svm = model_svm.predict(tf_x_test)\n",
    "baseline_test[\"sentiment_svm\"] = y_fit_svm"
   ]
  },
  {
   "cell_type": "code",
   "execution_count": 73,
   "id": "e24ada1e",
   "metadata": {},
   "outputs": [],
   "source": [
    "#ergebnisse /modellgüte\n",
    "svm_results=classification_report(baseline_test[\"label_body\"], y_fit_svm,output_dict=True)"
   ]
  },
  {
   "cell_type": "code",
   "execution_count": 74,
   "id": "5ef6fd75",
   "metadata": {},
   "outputs": [
    {
     "data": {
      "text/plain": [
       "{'-1': {'precision': 0.56,\n",
       "  'recall': 0.9333333333333333,\n",
       "  'f1-score': 0.7000000000000001,\n",
       "  'support': 15},\n",
       " '0': {'precision': 0.0, 'recall': 0.0, 'f1-score': 0.0, 'support': 6},\n",
       " '1': {'precision': 1.0,\n",
       "  'recall': 0.16666666666666666,\n",
       "  'f1-score': 0.2857142857142857,\n",
       "  'support': 6},\n",
       " 'accuracy': 0.5555555555555556,\n",
       " 'macro avg': {'precision': 0.52,\n",
       "  'recall': 0.3666666666666667,\n",
       "  'f1-score': 0.32857142857142857,\n",
       "  'support': 27},\n",
       " 'weighted avg': {'precision': 0.5333333333333333,\n",
       "  'recall': 0.5555555555555556,\n",
       "  'f1-score': 0.45238095238095244,\n",
       "  'support': 27}}"
      ]
     },
     "execution_count": 74,
     "metadata": {},
     "output_type": "execute_result"
    }
   ],
   "source": [
    "svm_results"
   ]
  },
  {
   "cell_type": "markdown",
   "id": "40f42326",
   "metadata": {},
   "source": [
    "   precision = tp / (tp + fp) </br>\n",
    "   recall / sensitivity = tp / (tp + fn) </br>\n",
    "   F1 = 2 * (precision * recall) / (precision + recall)"
   ]
  },
  {
   "cell_type": "code",
   "execution_count": 75,
   "id": "61403252",
   "metadata": {},
   "outputs": [],
   "source": [
    "#Random Forest\n",
    "from sklearn.ensemble import RandomForestClassifier\n",
    "#Base model\n",
    "rf = RandomForestClassifier(random_state = 42)"
   ]
  },
  {
   "cell_type": "code",
   "execution_count": 76,
   "id": "d6c4fd4e",
   "metadata": {},
   "outputs": [
    {
     "data": {
      "text/plain": [
       "RandomForestClassifier(random_state=42)"
      ]
     },
     "execution_count": 76,
     "metadata": {},
     "output_type": "execute_result"
    }
   ],
   "source": [
    "#fit base model\n",
    "rf.fit(tf_x_train, baseline_train[\"label_body\"])"
   ]
  },
  {
   "cell_type": "code",
   "execution_count": 77,
   "id": "4af484e8",
   "metadata": {},
   "outputs": [],
   "source": [
    "#predictions\n",
    "y_fit_rf_base = rf.predict(tf_x_test)\n",
    "baseline_test[\"sentiment_rf\"] = y_fit_rf_base"
   ]
  },
  {
   "cell_type": "code",
   "execution_count": 78,
   "id": "14b8e25c",
   "metadata": {},
   "outputs": [
    {
     "name": "stderr",
     "output_type": "stream",
     "text": [
      "C:\\Anaconda3\\envs\\NLPCourse\\lib\\site-packages\\sklearn\\metrics\\_classification.py:1308: UndefinedMetricWarning: Precision and F-score are ill-defined and being set to 0.0 in labels with no predicted samples. Use `zero_division` parameter to control this behavior.\n",
      "  _warn_prf(average, modifier, msg_start, len(result))\n",
      "C:\\Anaconda3\\envs\\NLPCourse\\lib\\site-packages\\sklearn\\metrics\\_classification.py:1308: UndefinedMetricWarning: Precision and F-score are ill-defined and being set to 0.0 in labels with no predicted samples. Use `zero_division` parameter to control this behavior.\n",
      "  _warn_prf(average, modifier, msg_start, len(result))\n",
      "C:\\Anaconda3\\envs\\NLPCourse\\lib\\site-packages\\sklearn\\metrics\\_classification.py:1308: UndefinedMetricWarning: Precision and F-score are ill-defined and being set to 0.0 in labels with no predicted samples. Use `zero_division` parameter to control this behavior.\n",
      "  _warn_prf(average, modifier, msg_start, len(result))\n"
     ]
    }
   ],
   "source": [
    "#ergebnisse /modellgüte\n",
    "rf_results=classification_report(baseline_test[\"label_body\"], y_fit_rf_base,output_dict=True)"
   ]
  },
  {
   "cell_type": "markdown",
   "id": "9572636a",
   "metadata": {},
   "source": [
    "Ansatz stößt aufgrund der Größe des Datensatzes an seine Grenzen. Ergebnisse nicht wirklich verwendbar."
   ]
  }
 ],
 "metadata": {
  "kernelspec": {
   "display_name": "Python 3 (ipykernel)",
   "language": "python",
   "name": "python3"
  },
  "language_info": {
   "codemirror_mode": {
    "name": "ipython",
    "version": 3
   },
   "file_extension": ".py",
   "mimetype": "text/x-python",
   "name": "python",
   "nbconvert_exporter": "python",
   "pygments_lexer": "ipython3",
   "version": "3.9.7"
  }
 },
 "nbformat": 4,
 "nbformat_minor": 5
}
