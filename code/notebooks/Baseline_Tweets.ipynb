{
 "cells": [
  {
   "cell_type": "markdown",
   "id": "1d70623f",
   "metadata": {},
   "source": [
    "# Baseline Modelle"
   ]
  },
  {
   "cell_type": "code",
   "execution_count": 1,
   "id": "ecacfc27",
   "metadata": {},
   "outputs": [],
   "source": [
    "#Laden der benötigten Bibliotheken\n",
    "import pandas as pd\n",
    "import numpy as np\n",
    "import nltk   #Natural Language ToolKit\n",
    "from nltk.sentiment.vader import SentimentIntensityAnalyzer"
   ]
  },
  {
   "cell_type": "markdown",
   "id": "c7502aa8",
   "metadata": {},
   "source": [
    "## Daten einlesen\n"
   ]
  },
  {
   "cell_type": "code",
   "execution_count": 2,
   "id": "9d4fd935",
   "metadata": {},
   "outputs": [],
   "source": [
    "data = pd.read_csv(\"\")"
   ]
  },
  {
   "cell_type": "code",
   "execution_count": 3,
   "id": "3ddcc67a",
   "metadata": {},
   "outputs": [
    {
     "data": {
      "text/html": [
       "<div>\n",
       "<style scoped>\n",
       "    .dataframe tbody tr th:only-of-type {\n",
       "        vertical-align: middle;\n",
       "    }\n",
       "\n",
       "    .dataframe tbody tr th {\n",
       "        vertical-align: top;\n",
       "    }\n",
       "\n",
       "    .dataframe thead th {\n",
       "        text-align: right;\n",
       "    }\n",
       "</style>\n",
       "<table border=\"1\" class=\"dataframe\">\n",
       "  <thead>\n",
       "    <tr style=\"text-align: right;\">\n",
       "      <th></th>\n",
       "      <th>id</th>\n",
       "      <th>created_at</th>\n",
       "      <th>username</th>\n",
       "      <th>name</th>\n",
       "      <th>user_id</th>\n",
       "      <th>body</th>\n",
       "      <th>basic_sentiment</th>\n",
       "      <th>symbol0</th>\n",
       "      <th>symbol1</th>\n",
       "      <th>symbol2</th>\n",
       "      <th>symbol3</th>\n",
       "      <th>symbol4</th>\n",
       "    </tr>\n",
       "  </thead>\n",
       "  <tbody>\n",
       "    <tr>\n",
       "      <th>0</th>\n",
       "      <td>410821194</td>\n",
       "      <td>2021-11-28 12:28:21+00:00</td>\n",
       "      <td>chuckygorman</td>\n",
       "      <td>Chuck Gorman</td>\n",
       "      <td>1068147</td>\n",
       "      <td>$AAPL $BA $DIS</td>\n",
       "      <td>0</td>\n",
       "      <td>AAPL</td>\n",
       "      <td>BA</td>\n",
       "      <td>DIS</td>\n",
       "      <td>NaN</td>\n",
       "      <td>NaN</td>\n",
       "    </tr>\n",
       "    <tr>\n",
       "      <th>1</th>\n",
       "      <td>410821004</td>\n",
       "      <td>2021-11-28 12:25:13+00:00</td>\n",
       "      <td>Renohawk</td>\n",
       "      <td>jessie livermore</td>\n",
       "      <td>162218</td>\n",
       "      <td>$SPY $TSLA $MRNA $AAPL $NVDA \\n\\nMy thoughts o...</td>\n",
       "      <td>0</td>\n",
       "      <td>AAPL</td>\n",
       "      <td>MRNA</td>\n",
       "      <td>NVDA</td>\n",
       "      <td>SPY</td>\n",
       "      <td>TSLA</td>\n",
       "    </tr>\n",
       "    <tr>\n",
       "      <th>2</th>\n",
       "      <td>410820720</td>\n",
       "      <td>2021-11-28 12:19:36+00:00</td>\n",
       "      <td>newtwo99</td>\n",
       "      <td>PS not a bot!</td>\n",
       "      <td>813188</td>\n",
       "      <td>$AAPL $BA $DIS $UNH</td>\n",
       "      <td>0</td>\n",
       "      <td>AAPL</td>\n",
       "      <td>BA</td>\n",
       "      <td>DIS</td>\n",
       "      <td>UNH</td>\n",
       "      <td>NaN</td>\n",
       "    </tr>\n",
       "    <tr>\n",
       "      <th>3</th>\n",
       "      <td>410819818</td>\n",
       "      <td>2021-11-28 12:02:00+00:00</td>\n",
       "      <td>ChartMill</td>\n",
       "      <td>ChartMill</td>\n",
       "      <td>47688</td>\n",
       "      <td>The industry average Profit Margin is 4.39%. $...</td>\n",
       "      <td>0</td>\n",
       "      <td>AAPL</td>\n",
       "      <td>NaN</td>\n",
       "      <td>NaN</td>\n",
       "      <td>NaN</td>\n",
       "      <td>NaN</td>\n",
       "    </tr>\n",
       "    <tr>\n",
       "      <th>4</th>\n",
       "      <td>410819568</td>\n",
       "      <td>2021-11-28 11:56:23+00:00</td>\n",
       "      <td>OptionsPlayers</td>\n",
       "      <td>Steve /OptionsDayTrader77</td>\n",
       "      <td>619769</td>\n",
       "      <td>$AAPL $BA $DIS On the new Covid variant -\\n\\n&amp;...</td>\n",
       "      <td>1</td>\n",
       "      <td>AAPL</td>\n",
       "      <td>BA</td>\n",
       "      <td>DIS</td>\n",
       "      <td>NaN</td>\n",
       "      <td>NaN</td>\n",
       "    </tr>\n",
       "  </tbody>\n",
       "</table>\n",
       "</div>"
      ],
      "text/plain": [
       "          id                 created_at        username  \\\n",
       "0  410821194  2021-11-28 12:28:21+00:00    chuckygorman   \n",
       "1  410821004  2021-11-28 12:25:13+00:00        Renohawk   \n",
       "2  410820720  2021-11-28 12:19:36+00:00        newtwo99   \n",
       "3  410819818  2021-11-28 12:02:00+00:00       ChartMill   \n",
       "4  410819568  2021-11-28 11:56:23+00:00  OptionsPlayers   \n",
       "\n",
       "                        name  user_id  \\\n",
       "0               Chuck Gorman  1068147   \n",
       "1           jessie livermore   162218   \n",
       "2              PS not a bot!   813188   \n",
       "3                  ChartMill    47688   \n",
       "4  Steve /OptionsDayTrader77   619769   \n",
       "\n",
       "                                                body  basic_sentiment symbol0  \\\n",
       "0                                     $AAPL $BA $DIS                0    AAPL   \n",
       "1  $SPY $TSLA $MRNA $AAPL $NVDA \\n\\nMy thoughts o...                0    AAPL   \n",
       "2                                $AAPL $BA $DIS $UNH                0    AAPL   \n",
       "3  The industry average Profit Margin is 4.39%. $...                0    AAPL   \n",
       "4  $AAPL $BA $DIS On the new Covid variant -\\n\\n&...                1    AAPL   \n",
       "\n",
       "  symbol1 symbol2 symbol3 symbol4  \n",
       "0      BA     DIS     NaN     NaN  \n",
       "1    MRNA    NVDA     SPY    TSLA  \n",
       "2      BA     DIS     UNH     NaN  \n",
       "3     NaN     NaN     NaN     NaN  \n",
       "4      BA     DIS     NaN     NaN  "
      ]
     },
     "execution_count": 3,
     "metadata": {},
     "output_type": "execute_result"
    }
   ],
   "source": [
    "data.head()"
   ]
  },
  {
   "cell_type": "markdown",
   "id": "1eacbfe3",
   "metadata": {},
   "source": [
    "## Pre-Processing"
   ]
  },
  {
   "cell_type": "code",
   "execution_count": 4,
   "id": "e347b292",
   "metadata": {},
   "outputs": [],
   "source": [
    "#lower case\n",
    "#data[\"tweets_preproc\"] = data[\"body\"].apply(lambda x: \" \".join(x.lower() for x in str(x).split()))"
   ]
  },
  {
   "cell_type": "code",
   "execution_count": 5,
   "id": "22605516",
   "metadata": {},
   "outputs": [],
   "source": [
    "#html tags und urls raus\n",
    "from bs4 import BeautifulSoup\n",
    "data[\"tweets_preproc\"]=data[\"body\"].apply(lambda x: BeautifulSoup(x).get_text())\n",
    "import re\n",
    "data[\"tweets_preproc\"]=data[\"tweets_preproc\"].apply(lambda x: re.sub(r\"http\\S+\", \"\", x))"
   ]
  },
  {
   "cell_type": "code",
   "execution_count": 6,
   "id": "81b7b865",
   "metadata": {},
   "outputs": [],
   "source": [
    "#kontrahieren: don't -> do not etc.\n",
    "#def contractions(s):\n",
    "# s = re.sub(r\"won’t\", \"will not\",s)\n",
    "# s = re.sub(r\"would’t\", \"would not\",s)\n",
    "# s = re.sub(r\"could’t\", \"could not\",s)\n",
    "# s = re.sub(r\"\\’d\", \" would\",s)\n",
    "# s = re.sub(r\"can\\’t\", \"can not\",s)\n",
    "# s = re.sub(r\"n\\’t\", \" not\", s)\n",
    "# s= re.sub(r\"\\’re\", \" are\", s)\n",
    "# s = re.sub(r\"\\’s\", \" is\", s)\n",
    "# s = re.sub(r\"\\’ll\", \" will\", s)\n",
    "# s = re.sub(r\"\\’t\", \" not\", s)\n",
    "# s = re.sub(r\"\\’ve\", \" have\", s)\n",
    "# s = re.sub(r\"\\’m\", \" am\", s)\n",
    "# return s\n",
    "#data[\"tweets_preproc\"]=data[\"tweets_preproc\"].apply(lambda x:contractions(x))"
   ]
  },
  {
   "cell_type": "code",
   "execution_count": 7,
   "id": "40eee6a5",
   "metadata": {},
   "outputs": [],
   "source": [
    "#sonderzeichen etc. raus\n",
    "#Ressourcen downloaden\n",
    "#nltk.download('punkt')\n",
    "#sonderzeichen etc. raus\n",
    "data[\"tweets_preproc\"]=data[\"tweets_preproc\"].apply(lambda x: \" \".join([re.sub('[^A-Za-z]+','', x) for x in nltk.word_tokenize(x)]))"
   ]
  },
  {
   "cell_type": "code",
   "execution_count": 8,
   "id": "d181ad2e",
   "metadata": {},
   "outputs": [],
   "source": [
    "#überschüssige leerzeichen raus\n",
    "data[\"tweets_preproc\"]=data[\"tweets_preproc\"].apply(lambda x: re.sub(' +', ' ', x))"
   ]
  },
  {
   "cell_type": "code",
   "execution_count": 9,
   "id": "120cf944",
   "metadata": {},
   "outputs": [],
   "source": [
    "#fehlende Ressourcen downloaden\n",
    "#nltk.download('stopwords')\n",
    "#stopwords raus\n",
    "#from nltk.corpus import stopwords\n",
    "#stop = stopwords.words('english')\n",
    "#data[\"tweets_preproc\"]=data[\"tweets_preproc\"].apply(lambda x: \" \".join([x for x in x.split() if x not in stop]))"
   ]
  },
  {
   "cell_type": "code",
   "execution_count": 10,
   "id": "a1fc6fd5",
   "metadata": {},
   "outputs": [],
   "source": [
    "#lemmatization\n",
    "#nltk.download('wordnet')\n",
    "#from nltk.stem import WordNetLemmatizer\n",
    "#lemmatizer = WordNetLemmatizer()\n",
    "#data[\"tweets_preproc\"]=data[\"tweets_preproc\"].apply(lambda x: \" \".join([lemmatizer.lemmatize(w) for w in nltk.word_tokenize(x)]))"
   ]
  },
  {
   "cell_type": "code",
   "execution_count": 11,
   "id": "873b065d",
   "metadata": {},
   "outputs": [],
   "source": [
    "#Datumsvariable erstellen - um ggf. spaeter Ergebnisse zu plotten\n",
    "data[\"created_at\"] = pd.to_datetime(data.created_at, format='%Y-%m-%d %H:%M:%S')\n",
    "data['date'] = data['created_at'].dt.strftime('%m/%d/%Y')"
   ]
  },
  {
   "cell_type": "code",
   "execution_count": 12,
   "id": "a180988e",
   "metadata": {},
   "outputs": [
    {
     "data": {
      "text/html": [
       "<div>\n",
       "<style scoped>\n",
       "    .dataframe tbody tr th:only-of-type {\n",
       "        vertical-align: middle;\n",
       "    }\n",
       "\n",
       "    .dataframe tbody tr th {\n",
       "        vertical-align: top;\n",
       "    }\n",
       "\n",
       "    .dataframe thead th {\n",
       "        text-align: right;\n",
       "    }\n",
       "</style>\n",
       "<table border=\"1\" class=\"dataframe\">\n",
       "  <thead>\n",
       "    <tr style=\"text-align: right;\">\n",
       "      <th></th>\n",
       "      <th>id</th>\n",
       "      <th>created_at</th>\n",
       "      <th>username</th>\n",
       "      <th>name</th>\n",
       "      <th>user_id</th>\n",
       "      <th>body</th>\n",
       "      <th>basic_sentiment</th>\n",
       "      <th>symbol0</th>\n",
       "      <th>symbol1</th>\n",
       "      <th>symbol2</th>\n",
       "      <th>symbol3</th>\n",
       "      <th>symbol4</th>\n",
       "      <th>tweets_preproc</th>\n",
       "      <th>date</th>\n",
       "    </tr>\n",
       "  </thead>\n",
       "  <tbody>\n",
       "    <tr>\n",
       "      <th>0</th>\n",
       "      <td>410821194</td>\n",
       "      <td>2021-11-28 12:28:21+00:00</td>\n",
       "      <td>chuckygorman</td>\n",
       "      <td>Chuck Gorman</td>\n",
       "      <td>1068147</td>\n",
       "      <td>$AAPL $BA $DIS</td>\n",
       "      <td>0</td>\n",
       "      <td>AAPL</td>\n",
       "      <td>BA</td>\n",
       "      <td>DIS</td>\n",
       "      <td>NaN</td>\n",
       "      <td>NaN</td>\n",
       "      <td>AAPL BA DIS</td>\n",
       "      <td>11/28/2021</td>\n",
       "    </tr>\n",
       "    <tr>\n",
       "      <th>1</th>\n",
       "      <td>410821004</td>\n",
       "      <td>2021-11-28 12:25:13+00:00</td>\n",
       "      <td>Renohawk</td>\n",
       "      <td>jessie livermore</td>\n",
       "      <td>162218</td>\n",
       "      <td>$SPY $TSLA $MRNA $AAPL $NVDA \\n\\nMy thoughts o...</td>\n",
       "      <td>0</td>\n",
       "      <td>AAPL</td>\n",
       "      <td>MRNA</td>\n",
       "      <td>NVDA</td>\n",
       "      <td>SPY</td>\n",
       "      <td>TSLA</td>\n",
       "      <td>SPY TSLA MRNA AAPL NVDA My thoughts on the st...</td>\n",
       "      <td>11/28/2021</td>\n",
       "    </tr>\n",
       "    <tr>\n",
       "      <th>2</th>\n",
       "      <td>410820720</td>\n",
       "      <td>2021-11-28 12:19:36+00:00</td>\n",
       "      <td>newtwo99</td>\n",
       "      <td>PS not a bot!</td>\n",
       "      <td>813188</td>\n",
       "      <td>$AAPL $BA $DIS $UNH</td>\n",
       "      <td>0</td>\n",
       "      <td>AAPL</td>\n",
       "      <td>BA</td>\n",
       "      <td>DIS</td>\n",
       "      <td>UNH</td>\n",
       "      <td>NaN</td>\n",
       "      <td>AAPL BA DIS UNH</td>\n",
       "      <td>11/28/2021</td>\n",
       "    </tr>\n",
       "    <tr>\n",
       "      <th>3</th>\n",
       "      <td>410819818</td>\n",
       "      <td>2021-11-28 12:02:00+00:00</td>\n",
       "      <td>ChartMill</td>\n",
       "      <td>ChartMill</td>\n",
       "      <td>47688</td>\n",
       "      <td>The industry average Profit Margin is 4.39%. $...</td>\n",
       "      <td>0</td>\n",
       "      <td>AAPL</td>\n",
       "      <td>NaN</td>\n",
       "      <td>NaN</td>\n",
       "      <td>NaN</td>\n",
       "      <td>NaN</td>\n",
       "      <td>The industry average Profit Margin is AAPL out...</td>\n",
       "      <td>11/28/2021</td>\n",
       "    </tr>\n",
       "    <tr>\n",
       "      <th>4</th>\n",
       "      <td>410819568</td>\n",
       "      <td>2021-11-28 11:56:23+00:00</td>\n",
       "      <td>OptionsPlayers</td>\n",
       "      <td>Steve /OptionsDayTrader77</td>\n",
       "      <td>619769</td>\n",
       "      <td>$AAPL $BA $DIS On the new Covid variant -\\n\\n&amp;...</td>\n",
       "      <td>1</td>\n",
       "      <td>AAPL</td>\n",
       "      <td>BA</td>\n",
       "      <td>DIS</td>\n",
       "      <td>NaN</td>\n",
       "      <td>NaN</td>\n",
       "      <td>AAPL BA DIS On the new Covid variant It prese...</td>\n",
       "      <td>11/28/2021</td>\n",
       "    </tr>\n",
       "  </tbody>\n",
       "</table>\n",
       "</div>"
      ],
      "text/plain": [
       "          id                created_at        username  \\\n",
       "0  410821194 2021-11-28 12:28:21+00:00    chuckygorman   \n",
       "1  410821004 2021-11-28 12:25:13+00:00        Renohawk   \n",
       "2  410820720 2021-11-28 12:19:36+00:00        newtwo99   \n",
       "3  410819818 2021-11-28 12:02:00+00:00       ChartMill   \n",
       "4  410819568 2021-11-28 11:56:23+00:00  OptionsPlayers   \n",
       "\n",
       "                        name  user_id  \\\n",
       "0               Chuck Gorman  1068147   \n",
       "1           jessie livermore   162218   \n",
       "2              PS not a bot!   813188   \n",
       "3                  ChartMill    47688   \n",
       "4  Steve /OptionsDayTrader77   619769   \n",
       "\n",
       "                                                body  basic_sentiment symbol0  \\\n",
       "0                                     $AAPL $BA $DIS                0    AAPL   \n",
       "1  $SPY $TSLA $MRNA $AAPL $NVDA \\n\\nMy thoughts o...                0    AAPL   \n",
       "2                                $AAPL $BA $DIS $UNH                0    AAPL   \n",
       "3  The industry average Profit Margin is 4.39%. $...                0    AAPL   \n",
       "4  $AAPL $BA $DIS On the new Covid variant -\\n\\n&...                1    AAPL   \n",
       "\n",
       "  symbol1 symbol2 symbol3 symbol4  \\\n",
       "0      BA     DIS     NaN     NaN   \n",
       "1    MRNA    NVDA     SPY    TSLA   \n",
       "2      BA     DIS     UNH     NaN   \n",
       "3     NaN     NaN     NaN     NaN   \n",
       "4      BA     DIS     NaN     NaN   \n",
       "\n",
       "                                      tweets_preproc        date  \n",
       "0                                        AAPL BA DIS  11/28/2021  \n",
       "1   SPY TSLA MRNA AAPL NVDA My thoughts on the st...  11/28/2021  \n",
       "2                                    AAPL BA DIS UNH  11/28/2021  \n",
       "3  The industry average Profit Margin is AAPL out...  11/28/2021  \n",
       "4   AAPL BA DIS On the new Covid variant It prese...  11/28/2021  "
      ]
     },
     "execution_count": 12,
     "metadata": {},
     "output_type": "execute_result"
    }
   ],
   "source": [
    "#Prüfen, ob alles geklappt hat\n",
    "data.head()"
   ]
  },
  {
   "cell_type": "code",
   "execution_count": 13,
   "id": "afee8fcf",
   "metadata": {},
   "outputs": [],
   "source": [
    "#Datensatz nur mit gelabelten Tweets\n",
    "data_labeled = data.drop(data[data.basic_sentiment == 0].index)\n",
    "#nicht gelabelte Tweets für spätere Anwendungen\n",
    "data_unlabeled = data.drop(data[data.basic_sentiment != 0].index)"
   ]
  },
  {
   "cell_type": "markdown",
   "id": "bbad887c",
   "metadata": {},
   "source": [
    "## Sentiment Analysis"
   ]
  },
  {
   "cell_type": "markdown",
   "id": "44ff259b",
   "metadata": {},
   "source": [
    "### 1 - VADER"
   ]
  },
  {
   "cell_type": "markdown",
   "id": "4fa85906",
   "metadata": {},
   "source": [
    "Vorteile: </br>\n",
    "- Braucht kein Training\n",
    "- Funktioniert ohne gelabelte Daten\n",
    "- speziell für Social Media (unterscheidet z.B. TOLL - toll - toll!)\n",
    "\n",
    "Nachteile: </br>\n",
    "- Liefert teilweise keine optimalen Ergebnisse\n",
    "- Hat drei Klassen (neg/neutr/pos), Tweets haben nur zwei"
   ]
  },
  {
   "cell_type": "code",
   "execution_count": 14,
   "id": "870d4a77",
   "metadata": {},
   "outputs": [],
   "source": [
    "#download vader lexikon (scheint in nltk zu fehlen (vllt. auch Problem mit anderem vader?))\n",
    "#nltk.download('vader_lexicon')\n",
    "#nltk vader\n",
    "sid = SentimentIntensityAnalyzer()\n",
    "#model\n",
    "data_labeled[\"v_scores\"] = data_labeled[\"tweets_preproc\"].apply(lambda body: sid.polarity_scores(body))"
   ]
  },
  {
   "cell_type": "code",
   "execution_count": 15,
   "id": "02566060",
   "metadata": {},
   "outputs": [],
   "source": [
    "#eigene Spalte für scores erstellen\n",
    "data_labeled['compound']  = data_labeled['v_scores'].apply(lambda score_dict: score_dict['compound'])"
   ]
  },
  {
   "cell_type": "code",
   "execution_count": 16,
   "id": "c5d4a692",
   "metadata": {},
   "outputs": [],
   "source": [
    "#Predictions\n",
    "data_labeled['v_sentiment'] = (\n",
    "    np.where(\n",
    "        data_labeled['compound'] > 0.05,1,\n",
    "        np.where(data_labeled['compound'] < -0.05, -1, 0)))"
   ]
  },
  {
   "cell_type": "code",
   "execution_count": 17,
   "id": "8046757c",
   "metadata": {},
   "outputs": [
    {
     "data": {
      "text/plain": [
       "array([[1355, 1999, 1340],\n",
       "       [   0,    0,    0],\n",
       "       [2715, 8743, 6748]], dtype=int64)"
      ]
     },
     "execution_count": 17,
     "metadata": {},
     "output_type": "execute_result"
    }
   ],
   "source": [
    "#confusion matrix\n",
    "from sklearn.metrics import confusion_matrix\n",
    "confusion_matrix(data_labeled[\"basic_sentiment\"], data_labeled[\"v_sentiment\"])"
   ]
  },
  {
   "cell_type": "code",
   "execution_count": 18,
   "id": "b4a84dac",
   "metadata": {},
   "outputs": [
    {
     "data": {
      "text/plain": [
       " 0    10742\n",
       " 1     8088\n",
       "-1     4070\n",
       "Name: v_sentiment, dtype: int64"
      ]
     },
     "execution_count": 18,
     "metadata": {},
     "output_type": "execute_result"
    }
   ],
   "source": [
    "data_labeled[\"v_sentiment\"].value_counts()"
   ]
  },
  {
   "cell_type": "markdown",
   "id": "de0711bb",
   "metadata": {},
   "source": [
    "### 2 - TF - IDF"
   ]
  },
  {
   "cell_type": "markdown",
   "id": "cefac46d",
   "metadata": {},
   "source": [
    "Term-frequency - inverse document-frequency: $tf-idf(t,d) = tf(t,d) * idf(t)$ </br>\n",
    "tf = Anzahl eines Wortes $t$ in einem Tweet/Dokument </br>\n",
    "$idf(t) = log\\frac{n}{1+df(t)}$ (sklearn weicht leicht von Standardformulierung ab)</br>\n",
    "mit $n$ = Anzahl aller Tweets im Datensatz, $df(t)$ = Anzahl aller Tweets, die Wort $t$ enthalten. </br>\n",
    "Tf-idf wird zusätzlich normalisiert: </br>\n",
    "$v_{norm} = \\frac{v}{||v||_{2}} = \\frac{v}{\\sqrt{v_{1}² + v_{2}² + ... + v_{n}²}}$ </br>"
   ]
  },
  {
   "cell_type": "code",
   "execution_count": 19,
   "id": "64629cff",
   "metadata": {},
   "outputs": [
    {
     "name": "stdout",
     "output_type": "stream",
     "text": [
      "Training Set:  (17175, 17) Test Set:  (5725, 17)\n"
     ]
    }
   ],
   "source": [
    "#train / test split mit gleichen Anteilen der Klassen in Trainings- und Testdaten\n",
    "from sklearn.model_selection import train_test_split\n",
    "baseline_train,baseline_test = train_test_split(data_labeled,\n",
    "                                                  stratify = data_labeled[\"basic_sentiment\"],\n",
    "                                                  test_size=0.25, random_state=42)\n",
    "print(\"Training Set: \",baseline_train.shape, \"Test Set: \",baseline_test.shape)"
   ]
  },
  {
   "cell_type": "code",
   "execution_count": 20,
   "id": "2a12b049",
   "metadata": {},
   "outputs": [],
   "source": [
    "from sklearn.feature_extraction.text import TfidfVectorizer\n",
    "vectorizer= TfidfVectorizer()\n",
    "#Anwendung auf Training- und Testdaten\n",
    "tf_x_train = vectorizer.fit_transform(baseline_train[\"tweets_preproc\"])\n",
    "tf_x_test = vectorizer.transform(baseline_test[\"tweets_preproc\"])"
   ]
  },
  {
   "cell_type": "code",
   "execution_count": 21,
   "id": "c97be2f9",
   "metadata": {},
   "outputs": [
    {
     "data": {
      "text/plain": [
       "<17175x13974 sparse matrix of type '<class 'numpy.float64'>'\n",
       "\twith 232550 stored elements in Compressed Sparse Row format>"
      ]
     },
     "execution_count": 21,
     "metadata": {},
     "output_type": "execute_result"
    }
   ],
   "source": [
    "tf_x_train"
   ]
  },
  {
   "cell_type": "code",
   "execution_count": 22,
   "id": "f71cce4f",
   "metadata": {},
   "outputs": [],
   "source": [
    "#pd.DataFrame.sparse.from_spmatrix(tf_x_train)"
   ]
  },
  {
   "cell_type": "code",
   "execution_count": 23,
   "id": "c3db06d6",
   "metadata": {},
   "outputs": [
    {
     "data": {
      "text/plain": [
       "<5725x13974 sparse matrix of type '<class 'numpy.float64'>'\n",
       "\twith 74767 stored elements in Compressed Sparse Row format>"
      ]
     },
     "execution_count": 23,
     "metadata": {},
     "output_type": "execute_result"
    }
   ],
   "source": [
    "tf_x_test"
   ]
  },
  {
   "cell_type": "code",
   "execution_count": 24,
   "id": "89c6f78c",
   "metadata": {},
   "outputs": [],
   "source": [
    "#SVM classifier\n",
    "#ohne grid search\n",
    "from sklearn import svm\n",
    "svm = svm.SVC(class_weight={1:20.5, -1:79.5})"
   ]
  },
  {
   "cell_type": "code",
   "execution_count": 25,
   "id": "e72c1bc8",
   "metadata": {},
   "outputs": [
    {
     "data": {
      "text/plain": [
       "SVC(class_weight={-1: 79.5, 1: 20.5})"
      ]
     },
     "execution_count": 25,
     "metadata": {},
     "output_type": "execute_result"
    }
   ],
   "source": [
    "#fitten\n",
    "svm.fit(tf_x_train, baseline_train[\"basic_sentiment\"])"
   ]
  },
  {
   "cell_type": "code",
   "execution_count": 26,
   "id": "b3f41d77",
   "metadata": {},
   "outputs": [],
   "source": [
    "#predictions\n",
    "y_fit_svm_base = svm.predict(tf_x_test)"
   ]
  },
  {
   "cell_type": "code",
   "execution_count": 28,
   "id": "736d213d",
   "metadata": {},
   "outputs": [],
   "source": [
    "#ergebnisse /modellgüte\n",
    "from sklearn.metrics import classification_report\n",
    "svm_results_base = classification_report(baseline_test[\"basic_sentiment\"], y_fit_svm_base, output_dict = True)"
   ]
  },
  {
   "cell_type": "code",
   "execution_count": 29,
   "id": "81707742",
   "metadata": {},
   "outputs": [
    {
     "data": {
      "text/plain": [
       "{'-1': {'precision': 0.6890756302521008,\n",
       "  'recall': 0.4194373401534527,\n",
       "  'f1-score': 0.521462639109698,\n",
       "  'support': 1173},\n",
       " '1': {'precision': 0.864098982239074,\n",
       "  'recall': 0.9512302284710018,\n",
       "  'f1-score': 0.9055735647809264,\n",
       "  'support': 4552},\n",
       " 'accuracy': 0.8422707423580786,\n",
       " 'macro avg': {'precision': 0.7765873062455875,\n",
       "  'recall': 0.6853337843122272,\n",
       "  'f1-score': 0.7135181019453123,\n",
       "  'support': 5725},\n",
       " 'weighted avg': {'precision': 0.8282383024345815,\n",
       "  'recall': 0.8422707423580786,\n",
       "  'f1-score': 0.8268727585254939,\n",
       "  'support': 5725}}"
      ]
     },
     "execution_count": 29,
     "metadata": {},
     "output_type": "execute_result"
    }
   ],
   "source": [
    "svm_results_base"
   ]
  },
  {
   "cell_type": "code",
   "execution_count": 30,
   "id": "ad7124be",
   "metadata": {},
   "outputs": [
    {
     "name": "stdout",
     "output_type": "stream",
     "text": [
      "Fitting 5 folds for each of 42 candidates, totalling 210 fits\n"
     ]
    },
    {
     "data": {
      "text/plain": [
       "GridSearchCV(estimator=SVC(class_weight={-1: 79.5, 1: 20.5}), n_jobs=-1,\n",
       "             param_grid=[{'C': array([1.e-03, 1.e-02, 1.e-01, 1.e+00, 1.e+01, 1.e+02]),\n",
       "                          'kernel': ['linear']},\n",
       "                         {'C': array([1.e-03, 1.e-02, 1.e-01, 1.e+00, 1.e+01, 1.e+02]),\n",
       "                          'gamma': array([1.e-03, 1.e-02, 1.e-01, 1.e+00, 1.e+01, 1.e+02]),\n",
       "                          'kernel': ['rbf']}],\n",
       "             verbose=2)"
      ]
     },
     "execution_count": 30,
     "metadata": {},
     "output_type": "execute_result"
    }
   ],
   "source": [
    "#Grid Search\n",
    "from sklearn.model_selection import GridSearchCV\n",
    "param_grid = [\n",
    "  {'C': np.logspace(-3, 2, 6), 'kernel': ['linear']},\n",
    "  {'C': np.logspace(-3, 2, 6), 'gamma': np.logspace(-3, 2, 6), 'kernel': ['rbf']},\n",
    " ]\n",
    "\n",
    "grid_search = GridSearchCV(svm, param_grid, n_jobs = -1, verbose = 2)\n",
    "grid_search.fit(tf_x_train, baseline_train[\"basic_sentiment\"])"
   ]
  },
  {
   "cell_type": "code",
   "execution_count": 31,
   "id": "02bd30bf",
   "metadata": {},
   "outputs": [
    {
     "name": "stdout",
     "output_type": "stream",
     "text": [
      "{'C': 0.1, 'gamma': 1.0, 'kernel': 'rbf'}\n"
     ]
    }
   ],
   "source": [
    "print(grid_search.best_params_)"
   ]
  },
  {
   "cell_type": "code",
   "execution_count": 32,
   "id": "9dc86365",
   "metadata": {},
   "outputs": [],
   "source": [
    "#Bestes Modell auf Testdaten anwenden und fitted values speichern\n",
    "model_svm = grid_search.best_estimator_\n",
    "y_fit_svm = model_svm.predict(tf_x_test)\n",
    "baseline_test[\"sentiment_svm\"] = y_fit_svm"
   ]
  },
  {
   "cell_type": "code",
   "execution_count": 33,
   "id": "e24ada1e",
   "metadata": {},
   "outputs": [],
   "source": [
    "#ergebnisse /modellgüte\n",
    "svm_results=classification_report(baseline_test[\"basic_sentiment\"], y_fit_svm,output_dict=True)"
   ]
  },
  {
   "cell_type": "code",
   "execution_count": 34,
   "id": "5ef6fd75",
   "metadata": {},
   "outputs": [
    {
     "data": {
      "text/plain": [
       "{'-1': {'precision': 0.6792452830188679,\n",
       "  'recall': 0.4296675191815857,\n",
       "  'f1-score': 0.5263707571801567,\n",
       "  'support': 1173},\n",
       " '1': {'precision': 0.8657435279951836,\n",
       "  'recall': 0.9477152899824253,\n",
       "  'f1-score': 0.9048767697954903,\n",
       "  'support': 4552},\n",
       " 'accuracy': 0.8415720524017467,\n",
       " 'macro avg': {'precision': 0.7724944055070257,\n",
       "  'recall': 0.6886914045820055,\n",
       "  'f1-score': 0.7156237634878235,\n",
       "  'support': 5725},\n",
       " 'weighted avg': {'precision': 0.8275317478454511,\n",
       "  'recall': 0.8415720524017467,\n",
       "  'f1-score': 0.8273243588264446,\n",
       "  'support': 5725}}"
      ]
     },
     "execution_count": 34,
     "metadata": {},
     "output_type": "execute_result"
    }
   ],
   "source": [
    "svm_results"
   ]
  },
  {
   "cell_type": "markdown",
   "id": "40f42326",
   "metadata": {},
   "source": [
    "   precision = tp / (tp + fp) </br>\n",
    "   recall / sensitivity = tp / (tp + fn) </br>\n",
    "   F1 = 2 * (precision * recall) / (precision + recall)"
   ]
  },
  {
   "cell_type": "code",
   "execution_count": 35,
   "id": "61403252",
   "metadata": {},
   "outputs": [],
   "source": [
    "#Random Forest\n",
    "from sklearn.ensemble import RandomForestClassifier\n",
    "#Base model\n",
    "rf = RandomForestClassifier(random_state = 42, class_weight={1:20.5, -1:79.5})"
   ]
  },
  {
   "cell_type": "code",
   "execution_count": 37,
   "id": "d6c4fd4e",
   "metadata": {},
   "outputs": [
    {
     "data": {
      "text/plain": [
       "RandomForestClassifier(class_weight={-1: 79.5, 1: 20.5}, random_state=42)"
      ]
     },
     "execution_count": 37,
     "metadata": {},
     "output_type": "execute_result"
    }
   ],
   "source": [
    "#fit base model\n",
    "rf.fit(tf_x_train, baseline_train[\"basic_sentiment\"])"
   ]
  },
  {
   "cell_type": "code",
   "execution_count": 38,
   "id": "4af484e8",
   "metadata": {},
   "outputs": [],
   "source": [
    "#predictions\n",
    "y_fit_rf_base = rf.predict(tf_x_test)\n",
    "baseline_test[\"sentiment_rf\"] = y_fit_rf"
   ]
  },
  {
   "cell_type": "code",
   "execution_count": 40,
   "id": "14b8e25c",
   "metadata": {},
   "outputs": [],
   "source": [
    "#ergebnisse /modellgüte\n",
    "rf_results=classification_report(baseline_test[\"basic_sentiment\"], y_fit_rf,output_dict=True)"
   ]
  },
  {
   "cell_type": "code",
   "execution_count": 41,
   "id": "93f98155",
   "metadata": {},
   "outputs": [
    {
     "data": {
      "text/plain": [
       "{'-1': {'precision': 0.735981308411215,\n",
       "  'recall': 0.26854219948849106,\n",
       "  'f1-score': 0.3935040599625234,\n",
       "  'support': 1173},\n",
       " '1': {'precision': 0.8380215216160091,\n",
       "  'recall': 0.9751757469244289,\n",
       "  'f1-score': 0.9014113107929739,\n",
       "  'support': 4552},\n",
       " 'accuracy': 0.8303930131004367,\n",
       " 'macro avg': {'precision': 0.787001415013612,\n",
       "  'recall': 0.62185897320646,\n",
       "  'f1-score': 0.6474576853777486,\n",
       "  'support': 5725},\n",
       " 'weighted avg': {'precision': 0.8171144176702931,\n",
       "  'recall': 0.8303930131004367,\n",
       "  'f1-score': 0.7973457727625601,\n",
       "  'support': 5725}}"
      ]
     },
     "execution_count": 41,
     "metadata": {},
     "output_type": "execute_result"
    }
   ],
   "source": [
    "rf_results"
   ]
  },
  {
   "cell_type": "code",
   "execution_count": null,
   "id": "f34b32cf",
   "metadata": {},
   "outputs": [],
   "source": [
    "#grid search\n",
    "n_estimators = [int(x) for x in np.linspace(start = 200, stop = 2000, num = 10)]\n",
    "max_features = ['auto', 'sqrt']\n",
    "max_depth = [int(x) for x in np.linspace(10, 110, num = 11)]\n",
    "max_depth.append(None)\n",
    "min_samples_split = [2, 5, 10]\n",
    "min_samples_leaf = [1, 2, 4]\n",
    "bootstrap = [True, False]\n",
    "param_grid_rf = {'n_estimators': n_estimators,\n",
    "               'max_features': max_features,\n",
    "               'max_depth': max_depth,\n",
    "               'min_samples_split': min_samples_split,\n",
    "               'min_samples_leaf': min_samples_leaf,\n",
    "               'bootstrap': bootstrap}\n",
    "grid_search_rf = GridSearchCV(rf, param_grid_rf, n_jobs = -1, verbose = 2)\n",
    "grid_search_rf.fit(tf_x_train, baseline_train[\"basic_sentiment\"])"
   ]
  },
  {
   "cell_type": "code",
   "execution_count": null,
   "id": "9c8cd748",
   "metadata": {},
   "outputs": [],
   "source": [
    "#Bestes Modell auf Testdaten anwenden und fitted values speichern\n",
    "model_rf = grid_search_rf.best_estimator_\n",
    "y_fit_rf = model_rf.predict(tf_x_test)\n",
    "baseline_test[\"sentiment_rf\"] = y_fit_rf"
   ]
  },
  {
   "cell_type": "markdown",
   "id": "5009fa3b",
   "metadata": {},
   "source": [
    "### Zusammenfassung:\n",
    "\n",
    "    VADER: funtkioniert nicht gut\n",
    "    TF_IDF: liefert für positive Tweets gute Ergebnisse; negative Tweets werden nicht gut erkannt\n",
    "\n",
    "ToDo: </br>\n",
    "pre-processing korrekt? </br>\n",
    "Ergebnisse schöner darstellen\n",
    "\n",
    "\n"
   ]
  },
  {
   "cell_type": "markdown",
   "id": "4b653354",
   "metadata": {},
   "source": [
    "## Ergebnisse plotten"
   ]
  },
  {
   "cell_type": "markdown",
   "id": "40aff15c",
   "metadata": {},
   "source": [
    "kurzer Versuch, die Predictions zu aggregieren, daraus einen Sentiment Score für einen Tag zu berechnen und diesen zu plotten"
   ]
  },
  {
   "cell_type": "code",
   "execution_count": 44,
   "id": "708e7da3",
   "metadata": {},
   "outputs": [],
   "source": [
    "#function to create dummy variables and add them to the dataframe\n",
    "def dummies(dataframe, columns):\n",
    "    dummy_df = pd.get_dummies(data = dataframe, columns = columns, dtype = np.float64)\n",
    "    return dummy_df"
   ]
  },
  {
   "cell_type": "code",
   "execution_count": 46,
   "id": "6a5f53a0",
   "metadata": {},
   "outputs": [],
   "source": [
    "baseline_train = dummies(baseline_train, ['basic_sentiment'])\n",
    "dummy_vars = ['basic_sentiment','sentiment_svm']\n",
    "baseline_test = dummies(baseline_test, dummy_vars)"
   ]
  },
  {
   "cell_type": "code",
   "execution_count": 49,
   "id": "c987b8c4",
   "metadata": {},
   "outputs": [],
   "source": [
    "#aggregation\n",
    "sentiment_scores_train = baseline_train.groupby(\"date\").agg({'basic_sentiment_-1': sum,\n",
    "                                                      'basic_sentiment_1': sum}) "
   ]
  },
  {
   "cell_type": "code",
   "execution_count": 51,
   "id": "28d44d6f",
   "metadata": {},
   "outputs": [],
   "source": [
    "#aggregation\n",
    "sentiment_scores_test = baseline_test.groupby(\"date\").agg({'basic_sentiment_-1': sum,\n",
    "                                                    'basic_sentiment_1': sum,\n",
    "                                                   'sentiment_svm_-1': sum,\n",
    "                                                   'sentiment_svm_1':sum}) "
   ]
  },
  {
   "cell_type": "code",
   "execution_count": 52,
   "id": "3932863d",
   "metadata": {},
   "outputs": [],
   "source": [
    "sentiment_scores_test[\"avg_svm\"] = (sentiment_scores_test[\"sentiment_svm_1\"] - sentiment_scores_test[\"sentiment_svm_-1\"])/((sentiment_scores_test[\"sentiment_svm_1\"] + sentiment_scores_test[\"sentiment_svm_-1\"]))"
   ]
  },
  {
   "cell_type": "code",
   "execution_count": 53,
   "id": "70bcd692",
   "metadata": {},
   "outputs": [],
   "source": [
    "sentiment_scores_test[\"avg_base\"] = (sentiment_scores_test[\"basic_sentiment_1\"] - sentiment_scores_test[\"basic_sentiment_-1\"])/((sentiment_scores_test[\"sentiment_svm_1\"] + sentiment_scores_test[\"sentiment_svm_-1\"]))"
   ]
  },
  {
   "cell_type": "code",
   "execution_count": 54,
   "id": "45d1269c",
   "metadata": {},
   "outputs": [],
   "source": [
    "#create date variable from index\n",
    "sentiment_scores_test[\"date\"] = sentiment_scores_test.index"
   ]
  },
  {
   "cell_type": "code",
   "execution_count": 80,
   "id": "d5e53838",
   "metadata": {},
   "outputs": [],
   "source": [
    "sentiment_scores_test[\"date\"] = pd.to_datetime(sentiment_scores_test.date, format='%m/%d/%Y')"
   ]
  },
  {
   "cell_type": "code",
   "execution_count": 56,
   "id": "ff2ccc56",
   "metadata": {},
   "outputs": [
    {
     "data": {
      "text/html": [
       "<div>\n",
       "<style scoped>\n",
       "    .dataframe tbody tr th:only-of-type {\n",
       "        vertical-align: middle;\n",
       "    }\n",
       "\n",
       "    .dataframe tbody tr th {\n",
       "        vertical-align: top;\n",
       "    }\n",
       "\n",
       "    .dataframe thead th {\n",
       "        text-align: right;\n",
       "    }\n",
       "</style>\n",
       "<table border=\"1\" class=\"dataframe\">\n",
       "  <thead>\n",
       "    <tr style=\"text-align: right;\">\n",
       "      <th></th>\n",
       "      <th>basic_sentiment_-1</th>\n",
       "      <th>basic_sentiment_1</th>\n",
       "      <th>sentiment_svm_-1</th>\n",
       "      <th>sentiment_svm_1</th>\n",
       "      <th>avg_svm</th>\n",
       "      <th>avg_base</th>\n",
       "      <th>date</th>\n",
       "    </tr>\n",
       "    <tr>\n",
       "      <th>date</th>\n",
       "      <th></th>\n",
       "      <th></th>\n",
       "      <th></th>\n",
       "      <th></th>\n",
       "      <th></th>\n",
       "      <th></th>\n",
       "      <th></th>\n",
       "    </tr>\n",
       "  </thead>\n",
       "  <tbody>\n",
       "    <tr>\n",
       "      <th>10/12/2021</th>\n",
       "      <td>56.0</td>\n",
       "      <td>85.0</td>\n",
       "      <td>27.0</td>\n",
       "      <td>114.0</td>\n",
       "      <td>0.617021</td>\n",
       "      <td>0.205674</td>\n",
       "      <td>10/12/2021</td>\n",
       "    </tr>\n",
       "    <tr>\n",
       "      <th>10/13/2021</th>\n",
       "      <td>56.0</td>\n",
       "      <td>136.0</td>\n",
       "      <td>39.0</td>\n",
       "      <td>153.0</td>\n",
       "      <td>0.593750</td>\n",
       "      <td>0.416667</td>\n",
       "      <td>10/13/2021</td>\n",
       "    </tr>\n",
       "    <tr>\n",
       "      <th>10/14/2021</th>\n",
       "      <td>32.0</td>\n",
       "      <td>120.0</td>\n",
       "      <td>26.0</td>\n",
       "      <td>126.0</td>\n",
       "      <td>0.657895</td>\n",
       "      <td>0.578947</td>\n",
       "      <td>10/14/2021</td>\n",
       "    </tr>\n",
       "    <tr>\n",
       "      <th>10/15/2021</th>\n",
       "      <td>17.0</td>\n",
       "      <td>84.0</td>\n",
       "      <td>12.0</td>\n",
       "      <td>89.0</td>\n",
       "      <td>0.762376</td>\n",
       "      <td>0.663366</td>\n",
       "      <td>10/15/2021</td>\n",
       "    </tr>\n",
       "    <tr>\n",
       "      <th>10/16/2021</th>\n",
       "      <td>2.0</td>\n",
       "      <td>14.0</td>\n",
       "      <td>3.0</td>\n",
       "      <td>13.0</td>\n",
       "      <td>0.625000</td>\n",
       "      <td>0.750000</td>\n",
       "      <td>10/16/2021</td>\n",
       "    </tr>\n",
       "  </tbody>\n",
       "</table>\n",
       "</div>"
      ],
      "text/plain": [
       "            basic_sentiment_-1  basic_sentiment_1  sentiment_svm_-1  \\\n",
       "date                                                                  \n",
       "10/12/2021                56.0               85.0              27.0   \n",
       "10/13/2021                56.0              136.0              39.0   \n",
       "10/14/2021                32.0              120.0              26.0   \n",
       "10/15/2021                17.0               84.0              12.0   \n",
       "10/16/2021                 2.0               14.0               3.0   \n",
       "\n",
       "            sentiment_svm_1   avg_svm  avg_base        date  \n",
       "date                                                         \n",
       "10/12/2021            114.0  0.617021  0.205674  10/12/2021  \n",
       "10/13/2021            153.0  0.593750  0.416667  10/13/2021  \n",
       "10/14/2021            126.0  0.657895  0.578947  10/14/2021  \n",
       "10/15/2021             89.0  0.762376  0.663366  10/15/2021  \n",
       "10/16/2021             13.0  0.625000  0.750000  10/16/2021  "
      ]
     },
     "execution_count": 56,
     "metadata": {},
     "output_type": "execute_result"
    }
   ],
   "source": [
    "sentiment_scores_test.head()"
   ]
  },
  {
   "cell_type": "code",
   "execution_count": 62,
   "id": "15d6172f",
   "metadata": {},
   "outputs": [],
   "source": [
    "#plotting\n",
    "import matplotlib.pyplot as plt\n",
    "from matplotlib.dates import DateFormatter\n",
    "import matplotlib.ticker as ticker\n",
    "%matplotlib inline"
   ]
  },
  {
   "cell_type": "code",
   "execution_count": 84,
   "id": "63e455fb",
   "metadata": {},
   "outputs": [
    {
     "data": {
      "image/png": "[encoded data removed]",
      "text/plain": [
       "<Figure size 720x432 with 1 Axes>"
      ]
     },
     "metadata": {
      "needs_background": "light"
     },
     "output_type": "display_data"
    }
   ],
   "source": [
    "fig, ax = plt.subplots(figsize=(10, 6))\n",
    "ax.plot(sentiment_scores_test[\"date\"],sentiment_scores_test.avg_base, label = 'Sentiment Scores')\n",
    "ax.plot(sentiment_scores_test[\"date\"], sentiment_scores_test[\"avg_svm\"], label = 'Prediction SVM')\n",
    "ax.set_xlabel('Date')\n",
    "ax.set_ylabel('Mean Sentiment Score')\n",
    "ax.set_title('Average Daily Sentiment Scores - Apple')\n",
    "ax.grid(True)\n",
    "ax.legend(loc='upper left');\n",
    "\n",
    "#format date axis\n",
    "date_form = DateFormatter(\"%m/%d\")\n",
    "ax.xaxis.set_major_formatter(date_form)\n",
    "#change interval \n",
    "ax.xaxis.set_major_locator(ticker.AutoLocator())"
   ]
  }
 ],
 "metadata": {
  "kernelspec": {
   "display_name": "Python 3 (ipykernel)",
   "language": "python",
   "name": "python3"
  },
  "language_info": {
   "codemirror_mode": {
    "name": "ipython",
    "version": 3
   },
   "file_extension": ".py",
   "mimetype": "text/x-python",
   "name": "python",
   "nbconvert_exporter": "python",
   "pygments_lexer": "ipython3",
   "version": "3.9.7"
  }
 },
 "nbformat": 4,
 "nbformat_minor": 5
}
