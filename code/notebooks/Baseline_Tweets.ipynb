{
 "cells": [
  {
   "cell_type": "markdown",
   "id": "1d70623f",
   "metadata": {},
   "source": [
    "# Baseline Modelle"
   ]
  },
  {
   "cell_type": "code",
   "execution_count": 1,
   "id": "ecacfc27",
   "metadata": {},
   "outputs": [],
   "source": [
    "#Laden der benötigten Bibliotheken\n",
    "import pandas as pd\n",
    "import numpy as np\n",
    "import nltk   #Natural Language ToolKit\n",
    "from nltk.sentiment.vader import SentimentIntensityAnalyzer"
   ]
  },
  {
   "cell_type": "markdown",
   "id": "c7502aa8",
   "metadata": {},
   "source": [
    "## Daten einlesen\n"
   ]
  },
  {
   "cell_type": "code",
   "execution_count": 2,
   "id": "9d4fd935",
   "metadata": {},
   "outputs": [],
   "source": [
    "data = pd.read_csv(\"\")"
   ]
  },
  {
   "cell_type": "code",
   "execution_count": 3,
   "id": "3ddcc67a",
   "metadata": {},
   "outputs": [
    {
     "data": {
      "text/html": [
       "<div>\n",
       "<style scoped>\n",
       "    .dataframe tbody tr th:only-of-type {\n",
       "        vertical-align: middle;\n",
       "    }\n",
       "\n",
       "    .dataframe tbody tr th {\n",
       "        vertical-align: top;\n",
       "    }\n",
       "\n",
       "    .dataframe thead th {\n",
       "        text-align: right;\n",
       "    }\n",
       "</style>\n",
       "<table border=\"1\" class=\"dataframe\">\n",
       "  <thead>\n",
       "    <tr style=\"text-align: right;\">\n",
       "      <th></th>\n",
       "      <th>id</th>\n",
       "      <th>created_at</th>\n",
       "      <th>username</th>\n",
       "      <th>name</th>\n",
       "      <th>user_id</th>\n",
       "      <th>body</th>\n",
       "      <th>basic_sentiment</th>\n",
       "      <th>symbol0</th>\n",
       "      <th>symbol1</th>\n",
       "      <th>symbol2</th>\n",
       "      <th>symbol3</th>\n",
       "      <th>symbol4</th>\n",
       "    </tr>\n",
       "  </thead>\n",
       "  <tbody>\n",
       "    <tr>\n",
       "      <th>0</th>\n",
       "      <td>410821194</td>\n",
       "      <td>2021-11-28 12:28:21+00:00</td>\n",
       "      <td>chuckygorman</td>\n",
       "      <td>Chuck Gorman</td>\n",
       "      <td>1068147</td>\n",
       "      <td>$AAPL $BA $DIS</td>\n",
       "      <td>0</td>\n",
       "      <td>AAPL</td>\n",
       "      <td>BA</td>\n",
       "      <td>DIS</td>\n",
       "      <td>NaN</td>\n",
       "      <td>NaN</td>\n",
       "    </tr>\n",
       "    <tr>\n",
       "      <th>1</th>\n",
       "      <td>410821004</td>\n",
       "      <td>2021-11-28 12:25:13+00:00</td>\n",
       "      <td>Renohawk</td>\n",
       "      <td>jessie livermore</td>\n",
       "      <td>162218</td>\n",
       "      <td>$SPY $TSLA $MRNA $AAPL $NVDA \\n\\nMy thoughts o...</td>\n",
       "      <td>0</td>\n",
       "      <td>AAPL</td>\n",
       "      <td>MRNA</td>\n",
       "      <td>NVDA</td>\n",
       "      <td>SPY</td>\n",
       "      <td>TSLA</td>\n",
       "    </tr>\n",
       "    <tr>\n",
       "      <th>2</th>\n",
       "      <td>410820720</td>\n",
       "      <td>2021-11-28 12:19:36+00:00</td>\n",
       "      <td>newtwo99</td>\n",
       "      <td>PS not a bot!</td>\n",
       "      <td>813188</td>\n",
       "      <td>$AAPL $BA $DIS $UNH</td>\n",
       "      <td>0</td>\n",
       "      <td>AAPL</td>\n",
       "      <td>BA</td>\n",
       "      <td>DIS</td>\n",
       "      <td>UNH</td>\n",
       "      <td>NaN</td>\n",
       "    </tr>\n",
       "    <tr>\n",
       "      <th>3</th>\n",
       "      <td>410819818</td>\n",
       "      <td>2021-11-28 12:02:00+00:00</td>\n",
       "      <td>ChartMill</td>\n",
       "      <td>ChartMill</td>\n",
       "      <td>47688</td>\n",
       "      <td>The industry average Profit Margin is 4.39%. $...</td>\n",
       "      <td>0</td>\n",
       "      <td>AAPL</td>\n",
       "      <td>NaN</td>\n",
       "      <td>NaN</td>\n",
       "      <td>NaN</td>\n",
       "      <td>NaN</td>\n",
       "    </tr>\n",
       "    <tr>\n",
       "      <th>4</th>\n",
       "      <td>410819568</td>\n",
       "      <td>2021-11-28 11:56:23+00:00</td>\n",
       "      <td>OptionsPlayers</td>\n",
       "      <td>Steve /OptionsDayTrader77</td>\n",
       "      <td>619769</td>\n",
       "      <td>$AAPL $BA $DIS On the new Covid variant -\\n\\n&amp;...</td>\n",
       "      <td>1</td>\n",
       "      <td>AAPL</td>\n",
       "      <td>BA</td>\n",
       "      <td>DIS</td>\n",
       "      <td>NaN</td>\n",
       "      <td>NaN</td>\n",
       "    </tr>\n",
       "  </tbody>\n",
       "</table>\n",
       "</div>"
      ],
      "text/plain": [
       "          id                 created_at        username  \\\n",
       "0  410821194  2021-11-28 12:28:21+00:00    chuckygorman   \n",
       "1  410821004  2021-11-28 12:25:13+00:00        Renohawk   \n",
       "2  410820720  2021-11-28 12:19:36+00:00        newtwo99   \n",
       "3  410819818  2021-11-28 12:02:00+00:00       ChartMill   \n",
       "4  410819568  2021-11-28 11:56:23+00:00  OptionsPlayers   \n",
       "\n",
       "                        name  user_id  \\\n",
       "0               Chuck Gorman  1068147   \n",
       "1           jessie livermore   162218   \n",
       "2              PS not a bot!   813188   \n",
       "3                  ChartMill    47688   \n",
       "4  Steve /OptionsDayTrader77   619769   \n",
       "\n",
       "                                                body  basic_sentiment symbol0  \\\n",
       "0                                     $AAPL $BA $DIS                0    AAPL   \n",
       "1  $SPY $TSLA $MRNA $AAPL $NVDA \\n\\nMy thoughts o...                0    AAPL   \n",
       "2                                $AAPL $BA $DIS $UNH                0    AAPL   \n",
       "3  The industry average Profit Margin is 4.39%. $...                0    AAPL   \n",
       "4  $AAPL $BA $DIS On the new Covid variant -\\n\\n&...                1    AAPL   \n",
       "\n",
       "  symbol1 symbol2 symbol3 symbol4  \n",
       "0      BA     DIS     NaN     NaN  \n",
       "1    MRNA    NVDA     SPY    TSLA  \n",
       "2      BA     DIS     UNH     NaN  \n",
       "3     NaN     NaN     NaN     NaN  \n",
       "4      BA     DIS     NaN     NaN  "
      ]
     },
     "execution_count": 3,
     "metadata": {},
     "output_type": "execute_result"
    }
   ],
   "source": [
    "data.head()"
   ]
  },
  {
   "cell_type": "markdown",
   "id": "1eacbfe3",
   "metadata": {},
   "source": [
    "## Pre-Processing"
   ]
  },
  {
   "cell_type": "markdown",
   "id": "161cc169",
   "metadata": {},
   "source": [
    "Da Vader kaum Pre-Processing benötigt und der sklearn TfidfVectorizer den Großteil des Pre-Processings auch erledigt, entfallen viele Pre-Processing Schritte."
   ]
  },
  {
   "cell_type": "code",
   "execution_count": 4,
   "id": "22605516",
   "metadata": {},
   "outputs": [],
   "source": [
    "#html tags und urls raus\n",
    "from bs4 import BeautifulSoup\n",
    "data[\"tweets_preproc\"]=data[\"body\"].apply(lambda x: BeautifulSoup(x).get_text())\n",
    "import re\n",
    "data[\"tweets_preproc\"]=data[\"tweets_preproc\"].apply(lambda x: re.sub(r\"http\\S+\", \"\", x))"
   ]
  },
  {
   "cell_type": "code",
   "execution_count": 5,
   "id": "40eee6a5",
   "metadata": {},
   "outputs": [],
   "source": [
    "#sonderzeichen etc. raus\n",
    "#Ressourcen downloaden\n",
    "#nltk.download('punkt')\n",
    "#sonderzeichen etc. raus\n",
    "data[\"tweets_preproc\"]=data[\"tweets_preproc\"].apply(lambda x: \" \".join([re.sub('[^A-Za-z]+','', x) for x in nltk.word_tokenize(x)]))"
   ]
  },
  {
   "cell_type": "code",
   "execution_count": 6,
   "id": "d181ad2e",
   "metadata": {},
   "outputs": [],
   "source": [
    "#überschüssige leerzeichen raus\n",
    "data[\"tweets_preproc\"]=data[\"tweets_preproc\"].apply(lambda x: re.sub(' +', ' ', x))"
   ]
  },
  {
   "cell_type": "code",
   "execution_count": 7,
   "id": "a180988e",
   "metadata": {},
   "outputs": [
    {
     "data": {
      "text/html": [
       "<div>\n",
       "<style scoped>\n",
       "    .dataframe tbody tr th:only-of-type {\n",
       "        vertical-align: middle;\n",
       "    }\n",
       "\n",
       "    .dataframe tbody tr th {\n",
       "        vertical-align: top;\n",
       "    }\n",
       "\n",
       "    .dataframe thead th {\n",
       "        text-align: right;\n",
       "    }\n",
       "</style>\n",
       "<table border=\"1\" class=\"dataframe\">\n",
       "  <thead>\n",
       "    <tr style=\"text-align: right;\">\n",
       "      <th></th>\n",
       "      <th>id</th>\n",
       "      <th>created_at</th>\n",
       "      <th>username</th>\n",
       "      <th>name</th>\n",
       "      <th>user_id</th>\n",
       "      <th>body</th>\n",
       "      <th>basic_sentiment</th>\n",
       "      <th>symbol0</th>\n",
       "      <th>symbol1</th>\n",
       "      <th>symbol2</th>\n",
       "      <th>symbol3</th>\n",
       "      <th>symbol4</th>\n",
       "      <th>tweets_preproc</th>\n",
       "    </tr>\n",
       "  </thead>\n",
       "  <tbody>\n",
       "    <tr>\n",
       "      <th>0</th>\n",
       "      <td>410821194</td>\n",
       "      <td>2021-11-28 12:28:21+00:00</td>\n",
       "      <td>chuckygorman</td>\n",
       "      <td>Chuck Gorman</td>\n",
       "      <td>1068147</td>\n",
       "      <td>$AAPL $BA $DIS</td>\n",
       "      <td>0</td>\n",
       "      <td>AAPL</td>\n",
       "      <td>BA</td>\n",
       "      <td>DIS</td>\n",
       "      <td>NaN</td>\n",
       "      <td>NaN</td>\n",
       "      <td>AAPL BA DIS</td>\n",
       "    </tr>\n",
       "    <tr>\n",
       "      <th>1</th>\n",
       "      <td>410821004</td>\n",
       "      <td>2021-11-28 12:25:13+00:00</td>\n",
       "      <td>Renohawk</td>\n",
       "      <td>jessie livermore</td>\n",
       "      <td>162218</td>\n",
       "      <td>$SPY $TSLA $MRNA $AAPL $NVDA \\n\\nMy thoughts o...</td>\n",
       "      <td>0</td>\n",
       "      <td>AAPL</td>\n",
       "      <td>MRNA</td>\n",
       "      <td>NVDA</td>\n",
       "      <td>SPY</td>\n",
       "      <td>TSLA</td>\n",
       "      <td>SPY TSLA MRNA AAPL NVDA My thoughts on the st...</td>\n",
       "    </tr>\n",
       "    <tr>\n",
       "      <th>2</th>\n",
       "      <td>410820720</td>\n",
       "      <td>2021-11-28 12:19:36+00:00</td>\n",
       "      <td>newtwo99</td>\n",
       "      <td>PS not a bot!</td>\n",
       "      <td>813188</td>\n",
       "      <td>$AAPL $BA $DIS $UNH</td>\n",
       "      <td>0</td>\n",
       "      <td>AAPL</td>\n",
       "      <td>BA</td>\n",
       "      <td>DIS</td>\n",
       "      <td>UNH</td>\n",
       "      <td>NaN</td>\n",
       "      <td>AAPL BA DIS UNH</td>\n",
       "    </tr>\n",
       "    <tr>\n",
       "      <th>3</th>\n",
       "      <td>410819818</td>\n",
       "      <td>2021-11-28 12:02:00+00:00</td>\n",
       "      <td>ChartMill</td>\n",
       "      <td>ChartMill</td>\n",
       "      <td>47688</td>\n",
       "      <td>The industry average Profit Margin is 4.39%. $...</td>\n",
       "      <td>0</td>\n",
       "      <td>AAPL</td>\n",
       "      <td>NaN</td>\n",
       "      <td>NaN</td>\n",
       "      <td>NaN</td>\n",
       "      <td>NaN</td>\n",
       "      <td>The industry average Profit Margin is AAPL out...</td>\n",
       "    </tr>\n",
       "    <tr>\n",
       "      <th>4</th>\n",
       "      <td>410819568</td>\n",
       "      <td>2021-11-28 11:56:23+00:00</td>\n",
       "      <td>OptionsPlayers</td>\n",
       "      <td>Steve /OptionsDayTrader77</td>\n",
       "      <td>619769</td>\n",
       "      <td>$AAPL $BA $DIS On the new Covid variant -\\n\\n&amp;...</td>\n",
       "      <td>1</td>\n",
       "      <td>AAPL</td>\n",
       "      <td>BA</td>\n",
       "      <td>DIS</td>\n",
       "      <td>NaN</td>\n",
       "      <td>NaN</td>\n",
       "      <td>AAPL BA DIS On the new Covid variant It prese...</td>\n",
       "    </tr>\n",
       "  </tbody>\n",
       "</table>\n",
       "</div>"
      ],
      "text/plain": [
       "          id                 created_at        username  \\\n",
       "0  410821194  2021-11-28 12:28:21+00:00    chuckygorman   \n",
       "1  410821004  2021-11-28 12:25:13+00:00        Renohawk   \n",
       "2  410820720  2021-11-28 12:19:36+00:00        newtwo99   \n",
       "3  410819818  2021-11-28 12:02:00+00:00       ChartMill   \n",
       "4  410819568  2021-11-28 11:56:23+00:00  OptionsPlayers   \n",
       "\n",
       "                        name  user_id  \\\n",
       "0               Chuck Gorman  1068147   \n",
       "1           jessie livermore   162218   \n",
       "2              PS not a bot!   813188   \n",
       "3                  ChartMill    47688   \n",
       "4  Steve /OptionsDayTrader77   619769   \n",
       "\n",
       "                                                body  basic_sentiment symbol0  \\\n",
       "0                                     $AAPL $BA $DIS                0    AAPL   \n",
       "1  $SPY $TSLA $MRNA $AAPL $NVDA \\n\\nMy thoughts o...                0    AAPL   \n",
       "2                                $AAPL $BA $DIS $UNH                0    AAPL   \n",
       "3  The industry average Profit Margin is 4.39%. $...                0    AAPL   \n",
       "4  $AAPL $BA $DIS On the new Covid variant -\\n\\n&...                1    AAPL   \n",
       "\n",
       "  symbol1 symbol2 symbol3 symbol4  \\\n",
       "0      BA     DIS     NaN     NaN   \n",
       "1    MRNA    NVDA     SPY    TSLA   \n",
       "2      BA     DIS     UNH     NaN   \n",
       "3     NaN     NaN     NaN     NaN   \n",
       "4      BA     DIS     NaN     NaN   \n",
       "\n",
       "                                      tweets_preproc  \n",
       "0                                        AAPL BA DIS  \n",
       "1   SPY TSLA MRNA AAPL NVDA My thoughts on the st...  \n",
       "2                                    AAPL BA DIS UNH  \n",
       "3  The industry average Profit Margin is AAPL out...  \n",
       "4   AAPL BA DIS On the new Covid variant It prese...  "
      ]
     },
     "execution_count": 7,
     "metadata": {},
     "output_type": "execute_result"
    }
   ],
   "source": [
    "#Prüfen, ob alles geklappt hat\n",
    "data.head()"
   ]
  },
  {
   "cell_type": "code",
   "execution_count": 9,
   "id": "afee8fcf",
   "metadata": {},
   "outputs": [],
   "source": [
    "#Datensatz nur mit gelabelten Tweets\n",
    "data_labeled = data.drop(data[data.basic_sentiment == 0].index)\n",
    "#nicht gelabelte Tweets für spätere Anwendungen\n",
    "data_unlabeled = data.drop(data[data.basic_sentiment != 0].index)"
   ]
  },
  {
   "cell_type": "markdown",
   "id": "bbad887c",
   "metadata": {},
   "source": [
    "## Sentiment Analysis"
   ]
  },
  {
   "cell_type": "markdown",
   "id": "44ff259b",
   "metadata": {},
   "source": [
    "### 1 - VADER"
   ]
  },
  {
   "cell_type": "markdown",
   "id": "4fa85906",
   "metadata": {},
   "source": [
    "Vorteile: </br>\n",
    "- Braucht kein Training\n",
    "- Funktioniert ohne gelabelte Daten\n",
    "- speziell für Social Media (unterscheidet z.B. TOLL - toll - toll!)\n",
    "\n",
    "Nachteile: </br>\n",
    "- Liefert teilweise keine optimalen Ergebnisse\n",
    "- Hat drei Klassen (neg/neutr/pos), Tweets haben nur zwei"
   ]
  },
  {
   "cell_type": "code",
   "execution_count": 10,
   "id": "870d4a77",
   "metadata": {},
   "outputs": [],
   "source": [
    "#download vader lexikon (scheint in nltk zu fehlen (vllt. auch Problem mit anderem vader?))\n",
    "#nltk.download('vader_lexicon')\n",
    "#nltk vader\n",
    "sid = SentimentIntensityAnalyzer()\n",
    "#model\n",
    "data_labeled[\"v_scores\"] = data_labeled[\"tweets_preproc\"].apply(lambda body: sid.polarity_scores(body))"
   ]
  },
  {
   "cell_type": "code",
   "execution_count": 11,
   "id": "02566060",
   "metadata": {},
   "outputs": [],
   "source": [
    "#eigene Spalte für scores erstellen\n",
    "data_labeled['compound']  = data_labeled['v_scores'].apply(lambda score_dict: score_dict['compound'])"
   ]
  },
  {
   "cell_type": "code",
   "execution_count": 12,
   "id": "c5d4a692",
   "metadata": {},
   "outputs": [],
   "source": [
    "#Predictions\n",
    "data_labeled['v_sentiment'] = (\n",
    "    np.where(\n",
    "        data_labeled['compound'] > 0.05,1,\n",
    "        np.where(data_labeled['compound'] < -0.05, -1, 0)))"
   ]
  },
  {
   "cell_type": "code",
   "execution_count": 14,
   "id": "ef3f0b5d",
   "metadata": {},
   "outputs": [
    {
     "data": {
      "text/plain": [
       "array([[1355, 1999, 1340],\n",
       "       [   0,    0,    0],\n",
       "       [2715, 8743, 6748]], dtype=int64)"
      ]
     },
     "execution_count": 14,
     "metadata": {},
     "output_type": "execute_result"
    }
   ],
   "source": [
    "#confusion matrix\n",
    "from sklearn.metrics import confusion_matrix\n",
    "confusion_matrix(data_labeled[\"basic_sentiment\"], data_labeled[\"v_sentiment\"])"
   ]
  },
  {
   "cell_type": "code",
   "execution_count": 13,
   "id": "b4a84dac",
   "metadata": {},
   "outputs": [
    {
     "data": {
      "text/plain": [
       " 0    10742\n",
       " 1     8088\n",
       "-1     4070\n",
       "Name: v_sentiment, dtype: int64"
      ]
     },
     "execution_count": 13,
     "metadata": {},
     "output_type": "execute_result"
    }
   ],
   "source": [
    "data_labeled[\"v_sentiment\"].value_counts()"
   ]
  },
  {
   "cell_type": "markdown",
   "id": "de0711bb",
   "metadata": {},
   "source": [
    "### 2 - TF - IDF"
   ]
  },
  {
   "cell_type": "markdown",
   "id": "cefac46d",
   "metadata": {},
   "source": [
    "Term-frequency - inverse document-frequency: $tf-idf(t,d) = tf(t,d) * idf(t)$ </br>\n",
    "tf = Anzahl eines Wortes $t$ in einem Tweet/Dokument </br>\n",
    "$idf(t) = log\\frac{n}{1+df(t)}$ (sklearn weicht leicht von Standardformulierung ab)</br>\n",
    "mit $n$ = Anzahl aller Tweets im Datensatz, $df(t)$ = Anzahl aller Tweets, die Wort $t$ enthalten. </br>\n",
    "Tf-idf wird zusätzlich normalisiert: </br>\n",
    "$v_{norm} = \\frac{v}{||v||_{2}} = \\frac{v}{\\sqrt{v_{1}² + v_{2}² + ... + v_{n}²}}$ </br>"
   ]
  },
  {
   "cell_type": "code",
   "execution_count": 19,
   "id": "64629cff",
   "metadata": {},
   "outputs": [
    {
     "name": "stdout",
     "output_type": "stream",
     "text": [
      "Training Set:  (17175,) (17175,) Test Set:  ((5725,), (5725,))\n"
     ]
    }
   ],
   "source": [
    "#train / test split mit gleichen Anteilen der Klassen in Trainings- und Testdaten\n",
    "from sklearn.model_selection import train_test_split\n",
    "X_train,X_test,Y_train, Y_test = train_test_split(data_labeled[\"tweets_preproc\"], data_labeled[\"basic_sentiment\"],\n",
    "                                                  stratify = data_labeled[\"basic_sentiment\"],\n",
    "                                                  test_size=0.25, random_state=42)\n",
    "print(\"Training Set: \",X_train.shape ,Y_train.shape, \"Test Set: \",(X_test.shape,Y_test.shape))"
   ]
  },
  {
   "cell_type": "code",
   "execution_count": 20,
   "id": "2a12b049",
   "metadata": {},
   "outputs": [],
   "source": [
    "from sklearn.feature_extraction.text import TfidfVectorizer\n",
    "vectorizer= TfidfVectorizer()\n",
    "#Anwendung auf Training- und Testdaten\n",
    "tf_x_train = vectorizer.fit_transform(X_train)\n",
    "tf_x_test = vectorizer.transform(X_test)"
   ]
  },
  {
   "cell_type": "code",
   "execution_count": 21,
   "id": "c97be2f9",
   "metadata": {},
   "outputs": [
    {
     "data": {
      "text/plain": [
       "<17175x13974 sparse matrix of type '<class 'numpy.float64'>'\n",
       "\twith 232550 stored elements in Compressed Sparse Row format>"
      ]
     },
     "execution_count": 21,
     "metadata": {},
     "output_type": "execute_result"
    }
   ],
   "source": [
    "tf_x_train"
   ]
  },
  {
   "cell_type": "code",
   "execution_count": 46,
   "id": "f71cce4f",
   "metadata": {},
   "outputs": [],
   "source": [
    "#pd.DataFrame.sparse.from_spmatrix(tf_x_train)"
   ]
  },
  {
   "cell_type": "code",
   "execution_count": 22,
   "id": "c3db06d6",
   "metadata": {},
   "outputs": [
    {
     "data": {
      "text/plain": [
       "<5725x13974 sparse matrix of type '<class 'numpy.float64'>'\n",
       "\twith 74767 stored elements in Compressed Sparse Row format>"
      ]
     },
     "execution_count": 22,
     "metadata": {},
     "output_type": "execute_result"
    }
   ],
   "source": [
    "tf_x_test"
   ]
  },
  {
   "cell_type": "code",
   "execution_count": 39,
   "id": "570b20bf",
   "metadata": {},
   "outputs": [],
   "source": [
    "#SVM classifier\n",
    "#ohne grid search\n",
    "from sklearn import svm\n",
    "svm = svm.SVC()"
   ]
  },
  {
   "cell_type": "code",
   "execution_count": 40,
   "id": "523cbae1",
   "metadata": {},
   "outputs": [
    {
     "data": {
      "text/plain": [
       "SVC()"
      ]
     },
     "execution_count": 40,
     "metadata": {},
     "output_type": "execute_result"
    }
   ],
   "source": [
    "#fitten\n",
    "svm.fit(tf_x_train, Y_train)"
   ]
  },
  {
   "cell_type": "code",
   "execution_count": 41,
   "id": "c3c349e0",
   "metadata": {},
   "outputs": [],
   "source": [
    "#predictions\n",
    "y_fit_svm_base = svm.predict(tf_x_test)"
   ]
  },
  {
   "cell_type": "code",
   "execution_count": 42,
   "id": "9ca18a58",
   "metadata": {},
   "outputs": [],
   "source": [
    "#ergebnisse /modellgüte\n",
    "from sklearn.metrics import classification_report\n",
    "svm_results_base = classification_report(Y_test, y_fit_svm_base, output_dict = True)"
   ]
  },
  {
   "cell_type": "code",
   "execution_count": 43,
   "id": "53155735",
   "metadata": {},
   "outputs": [
    {
     "data": {
      "text/plain": [
       "{'-1': {'precision': 0.7736318407960199,\n",
       "  'recall': 0.2651321398124467,\n",
       "  'f1-score': 0.39492063492063495,\n",
       "  'support': 1173},\n",
       " '1': {'precision': 0.8380612436595904,\n",
       "  'recall': 0.9800087873462214,\n",
       "  'f1-score': 0.9034936708860759,\n",
       "  'support': 4552},\n",
       " 'accuracy': 0.8335371179039301,\n",
       " 'macro avg': {'precision': 0.8058465422278052,\n",
       "  'recall': 0.6225704635793341,\n",
       "  'f1-score': 0.6492071529033554,\n",
       "  'support': 5725},\n",
       " 'weighted avg': {'precision': 0.8248602498501636,\n",
       "  'recall': 0.8335371179039301,\n",
       "  'f1-score': 0.7992917195869559,\n",
       "  'support': 5725}}"
      ]
     },
     "execution_count": 43,
     "metadata": {},
     "output_type": "execute_result"
    }
   ],
   "source": [
    "svm_results_base"
   ]
  },
  {
   "cell_type": "code",
   "execution_count": 34,
   "id": "ad7124be",
   "metadata": {},
   "outputs": [
    {
     "name": "stdout",
     "output_type": "stream",
     "text": [
      "Fitting 5 folds for each of 41 candidates, totalling 205 fits\n"
     ]
    },
    {
     "data": {
      "text/plain": [
       "GridSearchCV(estimator=SVC(), n_jobs=-1,\n",
       "             param_grid=[{'C': [0.1, 1, 10, 100, 1000], 'kernel': ['linear']},\n",
       "                         {'C': array([1.e-03, 1.e-02, 1.e-01, 1.e+00, 1.e+01, 1.e+02]),\n",
       "                          'gamma': array([1.e-03, 1.e-02, 1.e-01, 1.e+00, 1.e+01, 1.e+02]),\n",
       "                          'kernel': ['rbf']}],\n",
       "             verbose=2)"
      ]
     },
     "execution_count": 34,
     "metadata": {},
     "output_type": "execute_result"
    }
   ],
   "source": [
    "#Grid Search\n",
    "from sklearn.model_selection import GridSearchCV\n",
    "\n",
    "model_svm = svm.SVC()\n",
    "param_grid = [\n",
    "  {'C': [0.1, 1, 10, 100, 1000], 'kernel': ['linear']},\n",
    "  {'C': np.logspace(-3, 2, 6), 'gamma': np.logspace(-3, 2, 6), 'kernel': ['rbf']},\n",
    " ]\n",
    "\n",
    "grid_search = GridSearchCV(model_svm, param_grid, n_jobs = -1, verbose = 2)\n",
    "grid_search.fit(tf_x_train, Y_train)"
   ]
  },
  {
   "cell_type": "code",
   "execution_count": 35,
   "id": "02bd30bf",
   "metadata": {},
   "outputs": [
    {
     "name": "stdout",
     "output_type": "stream",
     "text": [
      "{'C': 10.0, 'gamma': 1.0, 'kernel': 'rbf'}\n"
     ]
    }
   ],
   "source": [
    "print(grid_search.best_params_)"
   ]
  },
  {
   "cell_type": "code",
   "execution_count": 36,
   "id": "9dc86365",
   "metadata": {},
   "outputs": [],
   "source": [
    "#Bestes Modell auf Testdaten anwenden und fitted values speichern\n",
    "model_svm = grid_search.best_estimator_\n",
    "y_fit_svm = model_svm.predict(tf_x_test)"
   ]
  },
  {
   "cell_type": "code",
   "execution_count": 37,
   "id": "e24ada1e",
   "metadata": {},
   "outputs": [],
   "source": [
    "#ergebnisse /modellgüte\n",
    "svm_results=classification_report(Y_test, y_fit_svm,output_dict=True)"
   ]
  },
  {
   "cell_type": "code",
   "execution_count": 38,
   "id": "5ef6fd75",
   "metadata": {},
   "outputs": [
    {
     "data": {
      "text/plain": [
       "{'-1': {'precision': 0.7271341463414634,\n",
       "  'recall': 0.40664961636828645,\n",
       "  'f1-score': 0.5215965008201203,\n",
       "  'support': 1173},\n",
       " '1': {'precision': 0.8626948115999211,\n",
       "  'recall': 0.960676625659051,\n",
       "  'f1-score': 0.9090531129820185,\n",
       "  'support': 4552},\n",
       " 'accuracy': 0.8471615720524017,\n",
       " 'macro avg': {'precision': 0.7949144789706923,\n",
       "  'recall': 0.6836631210136688,\n",
       "  'f1-score': 0.7153248069010694,\n",
       "  'support': 5725},\n",
       " 'weighted avg': {'precision': 0.8349196744212014,\n",
       "  'recall': 0.8471615720524017,\n",
       "  'f1-score': 0.8296668062456157,\n",
       "  'support': 5725}}"
      ]
     },
     "execution_count": 38,
     "metadata": {},
     "output_type": "execute_result"
    }
   ],
   "source": [
    "svm_results"
   ]
  },
  {
   "cell_type": "markdown",
   "id": "40f42326",
   "metadata": {},
   "source": [
    "   precision = tp / (tp + fp) </br>\n",
    "   recall / sensitivity = tp / (tp + fn) </br>\n",
    "   F1 = 2 * (precision * recall) / (precision + recall)"
   ]
  },
  {
   "cell_type": "code",
   "execution_count": 29,
   "id": "61403252",
   "metadata": {},
   "outputs": [],
   "source": [
    "#Random Forest\n",
    "from sklearn.ensemble import RandomForestClassifier\n",
    "#Base model\n",
    "rf = RandomForestClassifier(random_state = 42)"
   ]
  },
  {
   "cell_type": "code",
   "execution_count": 30,
   "id": "0d2e2dfa",
   "metadata": {},
   "outputs": [
    {
     "data": {
      "text/plain": [
       "RandomForestClassifier(random_state=42)"
      ]
     },
     "execution_count": 30,
     "metadata": {},
     "output_type": "execute_result"
    }
   ],
   "source": [
    "#fit base model\n",
    "rf.fit(tf_x_train, Y_train)"
   ]
  },
  {
   "cell_type": "code",
   "execution_count": 31,
   "id": "1ac36e8e",
   "metadata": {},
   "outputs": [],
   "source": [
    "#predictions\n",
    "y_fit_rf = rf.predict(tf_x_test)"
   ]
  },
  {
   "cell_type": "code",
   "execution_count": 32,
   "id": "6b20b8b6",
   "metadata": {},
   "outputs": [],
   "source": [
    "#ergebnisse /modellgüte\n",
    "rf_results=classification_report(Y_test, y_fit_rf,output_dict=True)"
   ]
  },
  {
   "cell_type": "code",
   "execution_count": 33,
   "id": "be843a81",
   "metadata": {},
   "outputs": [
    {
     "data": {
      "text/plain": [
       "{'-1': {'precision': 0.7417061611374408,\n",
       "  'recall': 0.2668371696504689,\n",
       "  'f1-score': 0.3924764890282132,\n",
       "  'support': 1173},\n",
       " '1': {'precision': 0.8378276447293984,\n",
       "  'recall': 0.9760544815465729,\n",
       "  'f1-score': 0.9016742770167427,\n",
       "  'support': 4552},\n",
       " 'accuracy': 0.8307423580786026,\n",
       " 'macro avg': {'precision': 0.7897669029334196,\n",
       "  'recall': 0.6214458255985209,\n",
       "  'f1-score': 0.647075383022478,\n",
       "  'support': 5725},\n",
       " 'weighted avg': {'precision': 0.8181332342047931,\n",
       "  'recall': 0.8307423580786026,\n",
       "  'f1-score': 0.797344319757259,\n",
       "  'support': 5725}}"
      ]
     },
     "execution_count": 33,
     "metadata": {},
     "output_type": "execute_result"
    }
   ],
   "source": [
    "rf_results"
   ]
  },
  {
   "cell_type": "markdown",
   "id": "5009fa3b",
   "metadata": {},
   "source": [
    "### Zusammenfassung:\n",
    "\n",
    "    VADER: funtkioniert nicht gut\n",
    "    TF_IDF: liefert für positive Tweets gute Ergebnisse; negative Tweets werden nicht gut erkannt\n",
    "\n",
    "ToDo: </br>\n",
    "pre-processing korrekt? </br>\n",
    "Ergebnisse schöner darstellen\n",
    "\n",
    "\n"
   ]
  }
 ],
 "metadata": {
  "kernelspec": {
   "display_name": "Python 3 (ipykernel)",
   "language": "python",
   "name": "python3"
  },
  "language_info": {
   "codemirror_mode": {
    "name": "ipython",
    "version": 3
   },
   "file_extension": ".py",
   "mimetype": "text/x-python",
   "name": "python",
   "nbconvert_exporter": "python",
   "pygments_lexer": "ipython3",
   "version": "3.9.7"
  }
 },
 "nbformat": 4,
 "nbformat_minor": 5
}
