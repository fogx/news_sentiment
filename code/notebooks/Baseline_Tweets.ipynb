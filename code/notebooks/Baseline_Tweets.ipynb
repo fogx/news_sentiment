{
 "cells": [
  {
   "cell_type": "markdown",
   "id": "1d70623f",
   "metadata": {},
   "source": [
    "# Baseline Modelle"
   ]
  },
  {
   "cell_type": "code",
   "execution_count": 1,
   "id": "ecacfc27",
   "metadata": {},
   "outputs": [],
   "source": [
    "#Laden der benötigten Bibliotheken\n",
    "import pandas as pd\n",
    "import numpy as np\n",
    "import nltk   #Natural Language ToolKit\n",
    "from nltk.sentiment.vader import SentimentIntensityAnalyzer"
   ]
  },
  {
   "cell_type": "markdown",
   "id": "c7502aa8",
   "metadata": {},
   "source": [
    "## Daten einlesen\n"
   ]
  },
  {
   "cell_type": "code",
   "execution_count": 7,
   "id": "9d4fd935",
   "metadata": {},
   "outputs": [],
   "source": [
    "data_apple = pd.read_csv(\"\")"
   ]
  },
  {
   "cell_type": "code",
   "execution_count": 9,
   "id": "6bb0ec4d",
   "metadata": {},
   "outputs": [],
   "source": [
    "data_apple[\"firm_id\"] = 1"
   ]
  },
  {
   "cell_type": "code",
   "execution_count": 11,
   "id": "c1fd5e7f",
   "metadata": {},
   "outputs": [],
   "source": [
    "data_biontech = pd.read_csv(\"\")"
   ]
  },
  {
   "cell_type": "code",
   "execution_count": 12,
   "id": "9d811c1f",
   "metadata": {},
   "outputs": [],
   "source": [
    "data_biontech[\"firm_id\"] = 2"
   ]
  },
  {
   "cell_type": "code",
   "execution_count": 139,
   "id": "5172943e",
   "metadata": {},
   "outputs": [
    {
     "data": {
      "text/plain": [
       "0.0    3833\n",
       "1.0     147\n",
       "Name: basic_sentiment, dtype: int64"
      ]
     },
     "execution_count": 139,
     "metadata": {},
     "output_type": "execute_result"
    }
   ],
   "source": [
    "data_biontech[\"basic_sentiment\"].value_counts()"
   ]
  },
  {
   "cell_type": "code",
   "execution_count": 13,
   "id": "de9335fa",
   "metadata": {},
   "outputs": [],
   "source": [
    "data = data_apple.append(data_biontech, ignore_index = True )"
   ]
  },
  {
   "cell_type": "code",
   "execution_count": 14,
   "id": "3ddcc67a",
   "metadata": {},
   "outputs": [
    {
     "data": {
      "text/html": [
       "<div>\n",
       "<style scoped>\n",
       "    .dataframe tbody tr th:only-of-type {\n",
       "        vertical-align: middle;\n",
       "    }\n",
       "\n",
       "    .dataframe tbody tr th {\n",
       "        vertical-align: top;\n",
       "    }\n",
       "\n",
       "    .dataframe thead th {\n",
       "        text-align: right;\n",
       "    }\n",
       "</style>\n",
       "<table border=\"1\" class=\"dataframe\">\n",
       "  <thead>\n",
       "    <tr style=\"text-align: right;\">\n",
       "      <th></th>\n",
       "      <th>created_at</th>\n",
       "      <th>id</th>\n",
       "      <th>username</th>\n",
       "      <th>name</th>\n",
       "      <th>user_id</th>\n",
       "      <th>body</th>\n",
       "      <th>basic_sentiment</th>\n",
       "      <th>firm_id</th>\n",
       "    </tr>\n",
       "  </thead>\n",
       "  <tbody>\n",
       "    <tr>\n",
       "      <th>0</th>\n",
       "      <td>2021-12-31 23:57:27+00:00</td>\n",
       "      <td>422497650</td>\n",
       "      <td>hoyasaxa1978</td>\n",
       "      <td>hoyasaxa1978</td>\n",
       "      <td>819540</td>\n",
       "      <td>$AAPL  🍏 In the “final second” of the Close, 8...</td>\n",
       "      <td>0.0</td>\n",
       "      <td>1</td>\n",
       "    </tr>\n",
       "    <tr>\n",
       "      <th>1</th>\n",
       "      <td>2021-12-31 23:51:08+00:00</td>\n",
       "      <td>422496711</td>\n",
       "      <td>InsiderFinance</td>\n",
       "      <td>InsiderFinance_io</td>\n",
       "      <td>4012623</td>\n",
       "      <td>Sweep Options Activity: $AAPL is the #1 ticker...</td>\n",
       "      <td>NaN</td>\n",
       "      <td>1</td>\n",
       "    </tr>\n",
       "    <tr>\n",
       "      <th>2</th>\n",
       "      <td>2021-12-31 23:48:33+00:00</td>\n",
       "      <td>422496310</td>\n",
       "      <td>OptionsQueenTrader</td>\n",
       "      <td>Malika</td>\n",
       "      <td>5498543</td>\n",
       "      <td>$SPY next year we will go low real low. Expect...</td>\n",
       "      <td>1.0</td>\n",
       "      <td>1</td>\n",
       "    </tr>\n",
       "    <tr>\n",
       "      <th>3</th>\n",
       "      <td>2021-12-31 23:47:55+00:00</td>\n",
       "      <td>422496202</td>\n",
       "      <td>BigdaddyRoy</td>\n",
       "      <td>Big Daddy</td>\n",
       "      <td>3830233</td>\n",
       "      <td>$AAPL someone told me Apple will announce Appl...</td>\n",
       "      <td>NaN</td>\n",
       "      <td>1</td>\n",
       "    </tr>\n",
       "    <tr>\n",
       "      <th>4</th>\n",
       "      <td>2021-12-31 23:44:31+00:00</td>\n",
       "      <td>422495691</td>\n",
       "      <td>hoangkc</td>\n",
       "      <td>Khanh Hoang</td>\n",
       "      <td>1553292</td>\n",
       "      <td>The weekly #rrgchart of $AAPL, $AMZN, and $GOOGL</td>\n",
       "      <td>NaN</td>\n",
       "      <td>1</td>\n",
       "    </tr>\n",
       "  </tbody>\n",
       "</table>\n",
       "</div>"
      ],
      "text/plain": [
       "                  created_at         id            username  \\\n",
       "0  2021-12-31 23:57:27+00:00  422497650        hoyasaxa1978   \n",
       "1  2021-12-31 23:51:08+00:00  422496711      InsiderFinance   \n",
       "2  2021-12-31 23:48:33+00:00  422496310  OptionsQueenTrader   \n",
       "3  2021-12-31 23:47:55+00:00  422496202         BigdaddyRoy   \n",
       "4  2021-12-31 23:44:31+00:00  422495691             hoangkc   \n",
       "\n",
       "                name  user_id  \\\n",
       "0       hoyasaxa1978   819540   \n",
       "1  InsiderFinance_io  4012623   \n",
       "2             Malika  5498543   \n",
       "3          Big Daddy  3830233   \n",
       "4        Khanh Hoang  1553292   \n",
       "\n",
       "                                                body  basic_sentiment  firm_id  \n",
       "0  $AAPL  🍏 In the “final second” of the Close, 8...              0.0        1  \n",
       "1  Sweep Options Activity: $AAPL is the #1 ticker...              NaN        1  \n",
       "2  $SPY next year we will go low real low. Expect...              1.0        1  \n",
       "3  $AAPL someone told me Apple will announce Appl...              NaN        1  \n",
       "4   The weekly #rrgchart of $AAPL, $AMZN, and $GOOGL              NaN        1  "
      ]
     },
     "execution_count": 14,
     "metadata": {},
     "output_type": "execute_result"
    }
   ],
   "source": [
    "data.head()"
   ]
  },
  {
   "cell_type": "markdown",
   "id": "1eacbfe3",
   "metadata": {},
   "source": [
    "## Pre-Processing"
   ]
  },
  {
   "cell_type": "code",
   "execution_count": 4,
   "id": "e347b292",
   "metadata": {},
   "outputs": [],
   "source": [
    "#lower case\n",
    "#data[\"tweets_preproc\"] = data[\"body\"].apply(lambda x: \" \".join(x.lower() for x in str(x).split()))"
   ]
  },
  {
   "cell_type": "code",
   "execution_count": 18,
   "id": "22605516",
   "metadata": {},
   "outputs": [],
   "source": [
    "#html tags und urls raus\n",
    "from bs4 import BeautifulSoup\n",
    "data[\"tweets_preproc\"]=data[\"body\"].apply(lambda x: BeautifulSoup(x).get_text())\n",
    "import re\n",
    "data[\"tweets_preproc\"]=data[\"tweets_preproc\"].apply(lambda x: re.sub(r\"http\\S+\", \"\", x))"
   ]
  },
  {
   "cell_type": "code",
   "execution_count": 6,
   "id": "81b7b865",
   "metadata": {},
   "outputs": [],
   "source": [
    "#kontrahieren: don't -> do not etc.\n",
    "#def contractions(s):\n",
    "# s = re.sub(r\"won’t\", \"will not\",s)\n",
    "# s = re.sub(r\"would’t\", \"would not\",s)\n",
    "# s = re.sub(r\"could’t\", \"could not\",s)\n",
    "# s = re.sub(r\"\\’d\", \" would\",s)\n",
    "# s = re.sub(r\"can\\’t\", \"can not\",s)\n",
    "# s = re.sub(r\"n\\’t\", \" not\", s)\n",
    "# s= re.sub(r\"\\’re\", \" are\", s)\n",
    "# s = re.sub(r\"\\’s\", \" is\", s)\n",
    "# s = re.sub(r\"\\’ll\", \" will\", s)\n",
    "# s = re.sub(r\"\\’t\", \" not\", s)\n",
    "# s = re.sub(r\"\\’ve\", \" have\", s)\n",
    "# s = re.sub(r\"\\’m\", \" am\", s)\n",
    "# return s\n",
    "#data[\"tweets_preproc\"]=data[\"tweets_preproc\"].apply(lambda x:contractions(x))"
   ]
  },
  {
   "cell_type": "code",
   "execution_count": 19,
   "id": "40eee6a5",
   "metadata": {},
   "outputs": [],
   "source": [
    "#sonderzeichen etc. raus\n",
    "#Ressourcen downloaden\n",
    "#nltk.download('punkt')\n",
    "#sonderzeichen etc. raus\n",
    "data[\"tweets_preproc\"]=data[\"tweets_preproc\"].apply(lambda x: \" \".join([re.sub('[^A-Za-z]+','', x) for x in nltk.word_tokenize(x)]))"
   ]
  },
  {
   "cell_type": "code",
   "execution_count": 20,
   "id": "d181ad2e",
   "metadata": {},
   "outputs": [],
   "source": [
    "#überschüssige leerzeichen raus\n",
    "data[\"tweets_preproc\"]=data[\"tweets_preproc\"].apply(lambda x: re.sub(' +', ' ', x))"
   ]
  },
  {
   "cell_type": "code",
   "execution_count": 9,
   "id": "120cf944",
   "metadata": {},
   "outputs": [],
   "source": [
    "#fehlende Ressourcen downloaden\n",
    "#nltk.download('stopwords')\n",
    "#stopwords raus\n",
    "#from nltk.corpus import stopwords\n",
    "#stop = stopwords.words('english')\n",
    "#data[\"tweets_preproc\"]=data[\"tweets_preproc\"].apply(lambda x: \" \".join([x for x in x.split() if x not in stop]))"
   ]
  },
  {
   "cell_type": "code",
   "execution_count": 10,
   "id": "a1fc6fd5",
   "metadata": {},
   "outputs": [],
   "source": [
    "#lemmatization\n",
    "#nltk.download('wordnet')\n",
    "#from nltk.stem import WordNetLemmatizer\n",
    "#lemmatizer = WordNetLemmatizer()\n",
    "#data[\"tweets_preproc\"]=data[\"tweets_preproc\"].apply(lambda x: \" \".join([lemmatizer.lemmatize(w) for w in nltk.word_tokenize(x)]))"
   ]
  },
  {
   "cell_type": "code",
   "execution_count": 21,
   "id": "873b065d",
   "metadata": {},
   "outputs": [],
   "source": [
    "#Datumsvariable erstellen - um ggf. spaeter Ergebnisse zu plotten\n",
    "data[\"created_at\"] = pd.to_datetime(data.created_at, format='%Y-%m-%d %H:%M:%S')\n",
    "data['date'] = data['created_at'].dt.strftime('%m/%d/%Y')"
   ]
  },
  {
   "cell_type": "code",
   "execution_count": 22,
   "id": "a180988e",
   "metadata": {},
   "outputs": [
    {
     "data": {
      "text/html": [
       "<div>\n",
       "<style scoped>\n",
       "    .dataframe tbody tr th:only-of-type {\n",
       "        vertical-align: middle;\n",
       "    }\n",
       "\n",
       "    .dataframe tbody tr th {\n",
       "        vertical-align: top;\n",
       "    }\n",
       "\n",
       "    .dataframe thead th {\n",
       "        text-align: right;\n",
       "    }\n",
       "</style>\n",
       "<table border=\"1\" class=\"dataframe\">\n",
       "  <thead>\n",
       "    <tr style=\"text-align: right;\">\n",
       "      <th></th>\n",
       "      <th>created_at</th>\n",
       "      <th>id</th>\n",
       "      <th>username</th>\n",
       "      <th>name</th>\n",
       "      <th>user_id</th>\n",
       "      <th>body</th>\n",
       "      <th>basic_sentiment</th>\n",
       "      <th>firm_id</th>\n",
       "      <th>tweets_preproc</th>\n",
       "      <th>date</th>\n",
       "    </tr>\n",
       "  </thead>\n",
       "  <tbody>\n",
       "    <tr>\n",
       "      <th>0</th>\n",
       "      <td>2021-12-31 23:57:27+00:00</td>\n",
       "      <td>422497650</td>\n",
       "      <td>hoyasaxa1978</td>\n",
       "      <td>hoyasaxa1978</td>\n",
       "      <td>819540</td>\n",
       "      <td>$AAPL  🍏 In the “final second” of the Close, 8...</td>\n",
       "      <td>0.0</td>\n",
       "      <td>1</td>\n",
       "      <td>AAPL In the final second of the Close Million...</td>\n",
       "      <td>12/31/2021</td>\n",
       "    </tr>\n",
       "    <tr>\n",
       "      <th>1</th>\n",
       "      <td>2021-12-31 23:51:08+00:00</td>\n",
       "      <td>422496711</td>\n",
       "      <td>InsiderFinance</td>\n",
       "      <td>InsiderFinance_io</td>\n",
       "      <td>4012623</td>\n",
       "      <td>Sweep Options Activity: $AAPL is the #1 ticker...</td>\n",
       "      <td>NaN</td>\n",
       "      <td>1</td>\n",
       "      <td>Sweep Options Activity AAPL is the ticker with...</td>\n",
       "      <td>12/31/2021</td>\n",
       "    </tr>\n",
       "    <tr>\n",
       "      <th>2</th>\n",
       "      <td>2021-12-31 23:48:33+00:00</td>\n",
       "      <td>422496310</td>\n",
       "      <td>OptionsQueenTrader</td>\n",
       "      <td>Malika</td>\n",
       "      <td>5498543</td>\n",
       "      <td>$SPY next year we will go low real low. Expect...</td>\n",
       "      <td>1.0</td>\n",
       "      <td>1</td>\n",
       "      <td>SPY next year we will go low real low Expect ...</td>\n",
       "      <td>12/31/2021</td>\n",
       "    </tr>\n",
       "    <tr>\n",
       "      <th>3</th>\n",
       "      <td>2021-12-31 23:47:55+00:00</td>\n",
       "      <td>422496202</td>\n",
       "      <td>BigdaddyRoy</td>\n",
       "      <td>Big Daddy</td>\n",
       "      <td>3830233</td>\n",
       "      <td>$AAPL someone told me Apple will announce Appl...</td>\n",
       "      <td>NaN</td>\n",
       "      <td>1</td>\n",
       "      <td>AAPL someone told me Apple will announce Appl...</td>\n",
       "      <td>12/31/2021</td>\n",
       "    </tr>\n",
       "    <tr>\n",
       "      <th>4</th>\n",
       "      <td>2021-12-31 23:44:31+00:00</td>\n",
       "      <td>422495691</td>\n",
       "      <td>hoangkc</td>\n",
       "      <td>Khanh Hoang</td>\n",
       "      <td>1553292</td>\n",
       "      <td>The weekly #rrgchart of $AAPL, $AMZN, and $GOOGL</td>\n",
       "      <td>NaN</td>\n",
       "      <td>1</td>\n",
       "      <td>The weekly rrgchart of AAPL AMZN and GOOGL</td>\n",
       "      <td>12/31/2021</td>\n",
       "    </tr>\n",
       "  </tbody>\n",
       "</table>\n",
       "</div>"
      ],
      "text/plain": [
       "                 created_at         id            username               name  \\\n",
       "0 2021-12-31 23:57:27+00:00  422497650        hoyasaxa1978       hoyasaxa1978   \n",
       "1 2021-12-31 23:51:08+00:00  422496711      InsiderFinance  InsiderFinance_io   \n",
       "2 2021-12-31 23:48:33+00:00  422496310  OptionsQueenTrader             Malika   \n",
       "3 2021-12-31 23:47:55+00:00  422496202         BigdaddyRoy          Big Daddy   \n",
       "4 2021-12-31 23:44:31+00:00  422495691             hoangkc        Khanh Hoang   \n",
       "\n",
       "   user_id                                               body  \\\n",
       "0   819540  $AAPL  🍏 In the “final second” of the Close, 8...   \n",
       "1  4012623  Sweep Options Activity: $AAPL is the #1 ticker...   \n",
       "2  5498543  $SPY next year we will go low real low. Expect...   \n",
       "3  3830233  $AAPL someone told me Apple will announce Appl...   \n",
       "4  1553292   The weekly #rrgchart of $AAPL, $AMZN, and $GOOGL   \n",
       "\n",
       "   basic_sentiment  firm_id  \\\n",
       "0              0.0        1   \n",
       "1              NaN        1   \n",
       "2              1.0        1   \n",
       "3              NaN        1   \n",
       "4              NaN        1   \n",
       "\n",
       "                                      tweets_preproc        date  \n",
       "0   AAPL In the final second of the Close Million...  12/31/2021  \n",
       "1  Sweep Options Activity AAPL is the ticker with...  12/31/2021  \n",
       "2   SPY next year we will go low real low Expect ...  12/31/2021  \n",
       "3   AAPL someone told me Apple will announce Appl...  12/31/2021  \n",
       "4         The weekly rrgchart of AAPL AMZN and GOOGL  12/31/2021  "
      ]
     },
     "execution_count": 22,
     "metadata": {},
     "output_type": "execute_result"
    }
   ],
   "source": [
    "#Prüfen, ob alles geklappt hat\n",
    "data.head()"
   ]
  },
  {
   "cell_type": "code",
   "execution_count": 26,
   "id": "afee8fcf",
   "metadata": {},
   "outputs": [],
   "source": [
    "#Datensatz nur mit gelabelten Tweets\n",
    "data_labeled = data.dropna(subset = [\"basic_sentiment\"])"
   ]
  },
  {
   "cell_type": "code",
   "execution_count": null,
   "id": "bbedae68",
   "metadata": {},
   "outputs": [],
   "source": [
    "df_all = df_all.dropna()\n",
    "df_all = df_all.reset_index(drop=True)"
   ]
  },
  {
   "cell_type": "code",
   "execution_count": 27,
   "id": "e6f79609",
   "metadata": {},
   "outputs": [],
   "source": [
    "#nicht gelabelte Tweets für spätere Anwendungen\n",
    "data_unlabeled = data[data[\"basic_sentiment\"].isnull()]"
   ]
  },
  {
   "cell_type": "markdown",
   "id": "bbad887c",
   "metadata": {},
   "source": [
    "## Sentiment Analysis"
   ]
  },
  {
   "cell_type": "markdown",
   "id": "44ff259b",
   "metadata": {},
   "source": [
    "### 1 - VADER"
   ]
  },
  {
   "cell_type": "markdown",
   "id": "4fa85906",
   "metadata": {},
   "source": [
    "Vorteile:\n",
    "- Braucht kein Training\n",
    "- Funktioniert ohne gelabelte Daten\n",
    "- speziell für Social Media (unterscheidet z.B. TOLL - toll - toll!)\n",
    "\n",
    "Nachteile:\n",
    "- Liefert teilweise keine optimalen Ergebnisse\n",
    "- Hat drei Klassen (neg/neutr/pos), Tweets haben nur zwei"
   ]
  },
  {
   "cell_type": "code",
   "execution_count": 69,
   "id": "870d4a77",
   "metadata": {
    "scrolled": true
   },
   "outputs": [
    {
     "name": "stderr",
     "output_type": "stream",
     "text": [
      "C:\\Anaconda3\\envs\\NLPCourse\\lib\\site-packages\\pandas\\core\\indexing.py:1773: SettingWithCopyWarning: \n",
      "A value is trying to be set on a copy of a slice from a DataFrame.\n",
      "Try using .loc[row_indexer,col_indexer] = value instead\n",
      "\n",
      "See the caveats in the documentation: https://pandas.pydata.org/pandas-docs/stable/user_guide/indexing.html#returning-a-view-versus-a-copy\n",
      "  self._setitem_single_column(ilocs[0], value, pi)\n"
     ]
    }
   ],
   "source": [
    "#download vader lexikon (scheint in nltk zu fehlen (vllt. auch Problem mit anderem vader?))\n",
    "#nltk.download('vader_lexicon')\n",
    "#nltk vader\n",
    "sid = SentimentIntensityAnalyzer()\n",
    "#model\n",
    "data_labeled.loc[:,\"v_scores\"] = data_labeled[\"tweets_preproc\"].apply(lambda body: sid.polarity_scores(body))"
   ]
  },
  {
   "cell_type": "code",
   "execution_count": 70,
   "id": "02566060",
   "metadata": {},
   "outputs": [],
   "source": [
    "#eigene Spalte für scores erstellen\n",
    "data_labeled.loc[:,'compound']  = data_labeled['v_scores'].apply(lambda score_dict: score_dict['compound'])"
   ]
  },
  {
   "cell_type": "code",
   "execution_count": 71,
   "id": "c5d4a692",
   "metadata": {},
   "outputs": [],
   "source": [
    "#Predictions\n",
    "data_labeled.loc[:,'v_sentiment'] = (\n",
    "    np.where(\n",
    "        data_labeled['compound'] > 0.05,0,\n",
    "        np.where(data_labeled['compound'] < -0.05, 1, -99)))"
   ]
  },
  {
   "cell_type": "code",
   "execution_count": 72,
   "id": "8046757c",
   "metadata": {},
   "outputs": [
    {
     "data": {
      "text/plain": [
       "array([[    0,     0,     0],\n",
       "       [18903,  2160,   357],\n",
       "       [ 6725,   734,   127]], dtype=int64)"
      ]
     },
     "execution_count": 72,
     "metadata": {},
     "output_type": "execute_result"
    }
   ],
   "source": [
    "#confusion matrix\n",
    "from sklearn.metrics import confusion_matrix\n",
    "confusion_matrix(data_labeled[\"basic_sentiment\"], data_labeled[\"v_sentiment\"])"
   ]
  },
  {
   "cell_type": "code",
   "execution_count": 73,
   "id": "b4a84dac",
   "metadata": {},
   "outputs": [
    {
     "data": {
      "text/plain": [
       "-99    25628\n",
       " 0      2894\n",
       " 1       484\n",
       "Name: v_sentiment, dtype: int64"
      ]
     },
     "execution_count": 73,
     "metadata": {},
     "output_type": "execute_result"
    }
   ],
   "source": [
    "data_labeled[\"v_sentiment\"].value_counts()"
   ]
  },
  {
   "cell_type": "markdown",
   "id": "de0711bb",
   "metadata": {},
   "source": [
    "### 2 - TF - IDF"
   ]
  },
  {
   "cell_type": "markdown",
   "id": "cefac46d",
   "metadata": {},
   "source": [
    "Term-frequency - inverse document-frequency: $tf-idf(t,d) = tf(t,d) * idf(t)$ </br>\n",
    "tf = Anzahl eines Wortes $t$ in einem Tweet/Dokument </br>\n",
    "$idf(t) = log\\frac{n}{1+df(t)}$ (sklearn weicht leicht von Standardformulierung ab)</br>\n",
    "mit $n$ = Anzahl aller Tweets im Datensatz, $df(t)$ = Anzahl aller Tweets, die Wort $t$ enthalten. </br>\n",
    "Tf-idf wird zusätzlich normalisiert: </br>\n",
    "$v_{norm} = \\frac{v}{||v||_{2}} = \\frac{v}{\\sqrt{v_{1}² + v_{2}² + ... + v_{n}²}}$ </br>"
   ]
  },
  {
   "cell_type": "code",
   "execution_count": 44,
   "id": "64629cff",
   "metadata": {},
   "outputs": [
    {
     "name": "stdout",
     "output_type": "stream",
     "text": [
      "Training Set:  (21754, 13) Test Set:  (7252, 13)\n"
     ]
    }
   ],
   "source": [
    "#train / test split mit gleichen Anteilen der Klassen in Trainings- und Testdaten\n",
    "from sklearn.model_selection import train_test_split\n",
    "baseline_train,baseline_test = train_test_split(data_labeled,\n",
    "                                                  stratify = data_labeled[\"basic_sentiment\"],\n",
    "                                                  test_size=0.25, random_state=42)\n",
    "print(\"Training Set: \",baseline_train.shape, \"Test Set: \",baseline_test.shape)"
   ]
  },
  {
   "cell_type": "code",
   "execution_count": 49,
   "id": "7d45a65c",
   "metadata": {},
   "outputs": [
    {
     "data": {
      "text/plain": [
       "0.0    16065\n",
       "1.0     5689\n",
       "Name: basic_sentiment, dtype: int64"
      ]
     },
     "execution_count": 49,
     "metadata": {},
     "output_type": "execute_result"
    }
   ],
   "source": [
    "baseline_train[\"basic_sentiment\"].value_counts()"
   ]
  },
  {
   "cell_type": "code",
   "execution_count": 45,
   "id": "2a12b049",
   "metadata": {},
   "outputs": [],
   "source": [
    "from sklearn.feature_extraction.text import TfidfVectorizer\n",
    "vectorizer= TfidfVectorizer()\n",
    "#Anwendung auf Training- und Testdaten\n",
    "tf_x_train = vectorizer.fit_transform(baseline_train[\"tweets_preproc\"])\n",
    "tf_x_test = vectorizer.transform(baseline_test[\"tweets_preproc\"])"
   ]
  },
  {
   "cell_type": "code",
   "execution_count": 46,
   "id": "c97be2f9",
   "metadata": {},
   "outputs": [
    {
     "data": {
      "text/plain": [
       "<21754x16775 sparse matrix of type '<class 'numpy.float64'>'\n",
       "\twith 307182 stored elements in Compressed Sparse Row format>"
      ]
     },
     "execution_count": 46,
     "metadata": {},
     "output_type": "execute_result"
    }
   ],
   "source": [
    "tf_x_train"
   ]
  },
  {
   "cell_type": "code",
   "execution_count": 22,
   "id": "f71cce4f",
   "metadata": {},
   "outputs": [],
   "source": [
    "#pd.DataFrame.sparse.from_spmatrix(tf_x_train)"
   ]
  },
  {
   "cell_type": "code",
   "execution_count": 47,
   "id": "c3db06d6",
   "metadata": {},
   "outputs": [
    {
     "data": {
      "text/plain": [
       "<7252x16775 sparse matrix of type '<class 'numpy.float64'>'\n",
       "\twith 100217 stored elements in Compressed Sparse Row format>"
      ]
     },
     "execution_count": 47,
     "metadata": {},
     "output_type": "execute_result"
    }
   ],
   "source": [
    "tf_x_test"
   ]
  },
  {
   "cell_type": "code",
   "execution_count": 50,
   "id": "89c6f78c",
   "metadata": {},
   "outputs": [],
   "source": [
    "#SVM classifier\n",
    "#ohne grid search\n",
    "from sklearn import svm\n",
    "svm = svm.SVC(class_weight={1:73.8, 0:26.2})"
   ]
  },
  {
   "cell_type": "code",
   "execution_count": 51,
   "id": "e72c1bc8",
   "metadata": {},
   "outputs": [
    {
     "data": {
      "text/plain": [
       "SVC(class_weight={0: 26.2, 1: 73.8})"
      ]
     },
     "execution_count": 51,
     "metadata": {},
     "output_type": "execute_result"
    }
   ],
   "source": [
    "#fitten\n",
    "svm.fit(tf_x_train, baseline_train[\"basic_sentiment\"])"
   ]
  },
  {
   "cell_type": "code",
   "execution_count": 52,
   "id": "b3f41d77",
   "metadata": {},
   "outputs": [],
   "source": [
    "#predictions\n",
    "y_fit_svm_base = svm.predict(tf_x_test)"
   ]
  },
  {
   "cell_type": "code",
   "execution_count": 53,
   "id": "736d213d",
   "metadata": {},
   "outputs": [],
   "source": [
    "#ergebnisse /modellgüte\n",
    "from sklearn.metrics import classification_report\n",
    "svm_results_base = classification_report(baseline_test[\"basic_sentiment\"], y_fit_svm_base, output_dict = True)"
   ]
  },
  {
   "cell_type": "code",
   "execution_count": 54,
   "id": "81707742",
   "metadata": {},
   "outputs": [
    {
     "data": {
      "text/plain": [
       "{'0.0': {'precision': 0.8564064801178203,\n",
       "  'recall': 0.8687208216619982,\n",
       "  'f1-score': 0.8625196996384535,\n",
       "  'support': 5355},\n",
       " '1.0': {'precision': 0.6137362637362638,\n",
       "  'recall': 0.5888244596731682,\n",
       "  'f1-score': 0.6010223298358892,\n",
       "  'support': 1897},\n",
       " 'accuracy': 0.7955046883618312,\n",
       " 'macro avg': {'precision': 0.7350713719270421,\n",
       "  'recall': 0.7287726406675832,\n",
       "  'f1-score': 0.7317710147371714,\n",
       "  'support': 7252},\n",
       " 'weighted avg': {'precision': 0.7929280740952317,\n",
       "  'recall': 0.7955046883618312,\n",
       "  'f1-score': 0.7941164301244623,\n",
       "  'support': 7252}}"
      ]
     },
     "execution_count": 54,
     "metadata": {},
     "output_type": "execute_result"
    }
   ],
   "source": [
    "svm_results_base"
   ]
  },
  {
   "cell_type": "code",
   "execution_count": 55,
   "id": "ad7124be",
   "metadata": {},
   "outputs": [
    {
     "name": "stdout",
     "output_type": "stream",
     "text": [
      "Fitting 5 folds for each of 42 candidates, totalling 210 fits\n"
     ]
    },
    {
     "data": {
      "text/plain": [
       "GridSearchCV(estimator=SVC(class_weight={0: 26.2, 1: 73.8}), n_jobs=-1,\n",
       "             param_grid=[{'C': array([1.e-03, 1.e-02, 1.e-01, 1.e+00, 1.e+01, 1.e+02]),\n",
       "                          'kernel': ['linear']},\n",
       "                         {'C': array([1.e-03, 1.e-02, 1.e-01, 1.e+00, 1.e+01, 1.e+02]),\n",
       "                          'gamma': array([1.e-03, 1.e-02, 1.e-01, 1.e+00, 1.e+01, 1.e+02]),\n",
       "                          'kernel': ['rbf']}],\n",
       "             verbose=2)"
      ]
     },
     "execution_count": 55,
     "metadata": {},
     "output_type": "execute_result"
    }
   ],
   "source": [
    "#Grid Search\n",
    "from sklearn.model_selection import GridSearchCV\n",
    "param_grid = [\n",
    "  {'C': np.logspace(-3, 2, 6), 'kernel': ['linear']},\n",
    "  {'C': np.logspace(-3, 2, 6), 'gamma': np.logspace(-3, 2, 6), 'kernel': ['rbf']},\n",
    " ]\n",
    "\n",
    "grid_search = GridSearchCV(svm, param_grid, n_jobs = -1, verbose = 2)\n",
    "grid_search.fit(tf_x_train, baseline_train[\"basic_sentiment\"])"
   ]
  },
  {
   "cell_type": "code",
   "execution_count": 56,
   "id": "02bd30bf",
   "metadata": {},
   "outputs": [
    {
     "name": "stdout",
     "output_type": "stream",
     "text": [
      "{'C': 0.1, 'gamma': 1.0, 'kernel': 'rbf'}\n"
     ]
    }
   ],
   "source": [
    "print(grid_search.best_params_)"
   ]
  },
  {
   "cell_type": "code",
   "execution_count": 57,
   "id": "9dc86365",
   "metadata": {},
   "outputs": [],
   "source": [
    "#Bestes Modell auf Testdaten anwenden und fitted values speichern\n",
    "model_svm = grid_search.best_estimator_\n",
    "y_fit_svm = model_svm.predict(tf_x_test)\n",
    "baseline_test[\"sentiment_svm\"] = y_fit_svm"
   ]
  },
  {
   "cell_type": "code",
   "execution_count": 58,
   "id": "e24ada1e",
   "metadata": {},
   "outputs": [],
   "source": [
    "#ergebnisse /modellgüte\n",
    "svm_results=classification_report(baseline_test[\"basic_sentiment\"], y_fit_svm,output_dict=True)"
   ]
  },
  {
   "cell_type": "code",
   "execution_count": 59,
   "id": "5ef6fd75",
   "metadata": {},
   "outputs": [
    {
     "data": {
      "text/plain": [
       "{'0.0': {'precision': 0.8585914454277286,\n",
       "  'recall': 0.8696545284780579,\n",
       "  'f1-score': 0.8640875776973745,\n",
       "  'support': 5355},\n",
       " '1.0': {'precision': 0.6181619256017505,\n",
       "  'recall': 0.595677385345282,\n",
       "  'f1-score': 0.6067114093959731,\n",
       "  'support': 1897},\n",
       " 'accuracy': 0.7979867622724766,\n",
       " 'macro avg': {'precision': 0.7383766855147396,\n",
       "  'recall': 0.73266595691167,\n",
       "  'f1-score': 0.7353994935466739,\n",
       "  'support': 7252},\n",
       " 'weighted avg': {'precision': 0.7956991675581918,\n",
       "  'recall': 0.7979867622724766,\n",
       "  'f1-score': 0.7967623444833979,\n",
       "  'support': 7252}}"
      ]
     },
     "execution_count": 59,
     "metadata": {},
     "output_type": "execute_result"
    }
   ],
   "source": [
    "svm_results"
   ]
  },
  {
   "cell_type": "markdown",
   "id": "40f42326",
   "metadata": {},
   "source": [
    "   precision = tp / (tp + fp) </br>\n",
    "   recall / sensitivity = tp / (tp + fn) </br>\n",
    "   F1 = 2 * (precision * recall) / (precision + recall)"
   ]
  },
  {
   "cell_type": "code",
   "execution_count": 62,
   "id": "61403252",
   "metadata": {},
   "outputs": [],
   "source": [
    "#Random Forest\n",
    "from sklearn.ensemble import RandomForestClassifier\n",
    "#Base model\n",
    "rf = RandomForestClassifier(random_state = 42, class_weight={1:73.8, 0:26.2})"
   ]
  },
  {
   "cell_type": "code",
   "execution_count": 63,
   "id": "d6c4fd4e",
   "metadata": {},
   "outputs": [
    {
     "data": {
      "text/plain": [
       "RandomForestClassifier(class_weight={0: 26.2, 1: 73.8}, random_state=42)"
      ]
     },
     "execution_count": 63,
     "metadata": {},
     "output_type": "execute_result"
    }
   ],
   "source": [
    "#fit base model\n",
    "rf.fit(tf_x_train, baseline_train[\"basic_sentiment\"])"
   ]
  },
  {
   "cell_type": "code",
   "execution_count": 65,
   "id": "4af484e8",
   "metadata": {},
   "outputs": [],
   "source": [
    "#predictions\n",
    "y_fit_rf_base = rf.predict(tf_x_test)\n",
    "baseline_test[\"sentiment_rf\"] = y_fit_rf_base"
   ]
  },
  {
   "cell_type": "code",
   "execution_count": 67,
   "id": "14b8e25c",
   "metadata": {},
   "outputs": [],
   "source": [
    "#ergebnisse /modellgüte\n",
    "rf_results=classification_report(baseline_test[\"basic_sentiment\"], y_fit_rf_base,output_dict=True)"
   ]
  },
  {
   "cell_type": "code",
   "execution_count": 68,
   "id": "93f98155",
   "metadata": {},
   "outputs": [
    {
     "data": {
      "text/plain": [
       "{'0.0': {'precision': 0.8203349687024192,\n",
       "  'recall': 0.9055088702147526,\n",
       "  'f1-score': 0.8608201668737795,\n",
       "  'support': 5355},\n",
       " '1.0': {'precision': 0.6226696495152871,\n",
       "  'recall': 0.4401686874011597,\n",
       "  'f1-score': 0.515750463248919,\n",
       "  'support': 1897},\n",
       " 'accuracy': 0.7837837837837838,\n",
       " 'macro avg': {'precision': 0.7215023091088532,\n",
       "  'recall': 0.6728387788079562,\n",
       "  'f1-score': 0.6882853150613493,\n",
       "  'support': 7252},\n",
       " 'weighted avg': {'precision': 0.7686290792239319,\n",
       "  'recall': 0.7837837837837838,\n",
       "  'f1-score': 0.7705557945935312,\n",
       "  'support': 7252}}"
      ]
     },
     "execution_count": 68,
     "metadata": {},
     "output_type": "execute_result"
    }
   ],
   "source": [
    "rf_results"
   ]
  },
  {
   "cell_type": "code",
   "execution_count": null,
   "id": "f34b32cf",
   "metadata": {},
   "outputs": [],
   "source": [
    "#grid search\n",
    "n_estimators = [int(x) for x in np.linspace(start = 200, stop = 2000, num = 10)]\n",
    "max_features = ['auto', 'sqrt']\n",
    "max_depth = [int(x) for x in np.linspace(10, 110, num = 11)]\n",
    "max_depth.append(None)\n",
    "min_samples_split = [2, 5, 10]\n",
    "min_samples_leaf = [1, 2, 4]\n",
    "bootstrap = [True, False]\n",
    "param_grid_rf = {'n_estimators': n_estimators,\n",
    "               'max_features': max_features,\n",
    "               'max_depth': max_depth,\n",
    "               'min_samples_split': min_samples_split,\n",
    "               'min_samples_leaf': min_samples_leaf,\n",
    "               'bootstrap': bootstrap}\n",
    "grid_search_rf = GridSearchCV(rf, param_grid_rf, n_jobs = -1, verbose = 2)\n",
    "grid_search_rf.fit(tf_x_train, baseline_train[\"basic_sentiment\"])"
   ]
  },
  {
   "cell_type": "code",
   "execution_count": null,
   "id": "9c8cd748",
   "metadata": {},
   "outputs": [],
   "source": [
    "#Bestes Modell auf Testdaten anwenden und fitted values speichern\n",
    "model_rf = grid_search_rf.best_estimator_\n",
    "y_fit_rf = model_rf.predict(tf_x_test)\n",
    "baseline_test[\"sentiment_rf\"] = y_fit_rf"
   ]
  },
  {
   "cell_type": "markdown",
   "id": "5009fa3b",
   "metadata": {},
   "source": [
    "### Zusammenfassung:\n",
    "\n",
    "    VADER: funtkioniert nicht gut\n",
    "    TF_IDF: liefert für positive Tweets gute Ergebnisse; negative Tweets werden nicht gut erkannt\n",
    "\n",
    "ToDo: </br>\n",
    "pre-processing korrekt? </br>\n",
    "Ergebnisse schöner darstellen\n",
    "\n",
    "\n"
   ]
  },
  {
   "cell_type": "markdown",
   "id": "4b653354",
   "metadata": {},
   "source": [
    "## Ergebnisse plotten"
   ]
  },
  {
   "cell_type": "markdown",
   "id": "40aff15c",
   "metadata": {},
   "source": [
    "kurzer Versuch, die Predictions zu aggregieren, daraus einen Sentiment Score für einen Tag zu berechnen und diesen zu plotten"
   ]
  },
  {
   "cell_type": "code",
   "execution_count": 95,
   "id": "607f7e0b",
   "metadata": {},
   "outputs": [],
   "source": [
    "baseline_test[\"basic_sentiment_apple\"] = (np.where((baseline_test[\"basic_sentiment\"] == 0) & (baseline_test[\"firm_id\"] == 1),0,\n",
    "                                                   np.where((baseline_test[\"basic_sentiment\"] == 1) & (baseline_test[\"firm_id\"] == 1),1,-99)))"
   ]
  },
  {
   "cell_type": "code",
   "execution_count": 97,
   "id": "8b7f20b7",
   "metadata": {},
   "outputs": [],
   "source": [
    "baseline_test[\"basic_sentiment_biontech\"] = (np.where((baseline_test[\"basic_sentiment\"] == 0) & (baseline_test[\"firm_id\"] == 2),0,\n",
    "                                                   np.where((baseline_test[\"basic_sentiment\"] == 1) & (baseline_test[\"firm_id\"] == 2),1,-99)))"
   ]
  },
  {
   "cell_type": "code",
   "execution_count": 98,
   "id": "7cd95984",
   "metadata": {},
   "outputs": [],
   "source": [
    "baseline_test[\"sentiment_svm_apple\"] = (np.where((baseline_test[\"sentiment_svm\"] == 0) & (baseline_test[\"firm_id\"] == 1),0,\n",
    "                                                   np.where((baseline_test[\"sentiment_svm\"] == 1) & (baseline_test[\"firm_id\"] == 1),1,-99)))"
   ]
  },
  {
   "cell_type": "code",
   "execution_count": 99,
   "id": "f83c4c06",
   "metadata": {},
   "outputs": [],
   "source": [
    "baseline_test[\"sentiment_svm_biontech\"] = (np.where((baseline_test[\"sentiment_svm\"] == 0) & (baseline_test[\"firm_id\"] == 2),0,\n",
    "                                                   np.where((baseline_test[\"sentiment_svm\"] == 1) & (baseline_test[\"firm_id\"] == 2),1,-99)))"
   ]
  },
  {
   "cell_type": "code",
   "execution_count": 100,
   "id": "708e7da3",
   "metadata": {},
   "outputs": [],
   "source": [
    "#function to create dummy variables and add them to the dataframe\n",
    "def dummies(dataframe, columns):\n",
    "    dummy_df = pd.get_dummies(data = dataframe, columns = columns, dtype = np.float64)\n",
    "    return dummy_df"
   ]
  },
  {
   "cell_type": "code",
   "execution_count": 101,
   "id": "6a5f53a0",
   "metadata": {},
   "outputs": [],
   "source": [
    "dummy_vars = ['basic_sentiment_apple','basic_sentiment_biontech','sentiment_svm_apple', \"sentiment_svm_biontech\"]\n",
    "baseline_test = dummies(baseline_test, dummy_vars)"
   ]
  },
  {
   "cell_type": "code",
   "execution_count": 49,
   "id": "c987b8c4",
   "metadata": {},
   "outputs": [],
   "source": [
    "#aggregation\n",
    "sentiment_scores_train = baseline_train.groupby(\"date\").agg({'basic_sentiment_-1': sum,\n",
    "                                                      'basic_sentiment_1': sum}) "
   ]
  },
  {
   "cell_type": "code",
   "execution_count": 134,
   "id": "28d44d6f",
   "metadata": {},
   "outputs": [],
   "source": [
    "#aggregation\n",
    "sentiment_scores_test = baseline_test.groupby(\"date\").agg({'basic_sentiment_apple_0': sum,\n",
    "                                                            'basic_sentiment_apple_1': sum,\n",
    "                                                           'basic_sentiment_biontech_0': sum,\n",
    "                                                            'basic_sentiment_biontech_1': sum,\n",
    "                                                            'sentiment_svm_apple_0': sum,\n",
    "                                                           'sentiment_svm_apple_1':sum,\n",
    "                                                           'sentiment_svm_biontech_0':sum,\n",
    "                                                           'sentiment_svm_biontech_1':sum}) "
   ]
  },
  {
   "cell_type": "code",
   "execution_count": 118,
   "id": "34395ef5",
   "metadata": {},
   "outputs": [],
   "source": [
    "def sentiment_score(pos,neg):\n",
    "    avg_score = (pos - neg) / (pos + neg)\n",
    "    return avg_score"
   ]
  },
  {
   "cell_type": "code",
   "execution_count": 135,
   "id": "a3f7fda2",
   "metadata": {},
   "outputs": [],
   "source": [
    "sentiment_scores_test[\"basic_apple\"] = sentiment_score(sentiment_scores_test[\"basic_sentiment_apple_0\"], sentiment_scores_test[\"basic_sentiment_apple_1\"])\n",
    "sentiment_scores_test[\"basic_biontech\"] = sentiment_score(sentiment_scores_test[\"basic_sentiment_biontech_0\"], sentiment_scores_test[\"basic_sentiment_biontech_1\"])\n",
    "sentiment_scores_test[\"svm_apple\"] = sentiment_score(sentiment_scores_test[\"sentiment_svm_apple_0\"], sentiment_scores_test[\"sentiment_svm_apple_1\"])\n",
    "sentiment_scores_test[\"svm_biontech\"] = sentiment_score(sentiment_scores_test[\"sentiment_svm_biontech_0\"], sentiment_scores_test[\"sentiment_svm_biontech_1\"])"
   ]
  },
  {
   "cell_type": "code",
   "execution_count": 136,
   "id": "45d1269c",
   "metadata": {},
   "outputs": [],
   "source": [
    "#create date variable from index\n",
    "sentiment_scores_test[\"date\"] = sentiment_scores_test.index"
   ]
  },
  {
   "cell_type": "code",
   "execution_count": 137,
   "id": "d5e53838",
   "metadata": {},
   "outputs": [],
   "source": [
    "sentiment_scores_test[\"date\"] = pd.to_datetime(sentiment_scores_test.date, format='%m/%d/%Y')"
   ]
  },
  {
   "cell_type": "code",
   "execution_count": 138,
   "id": "ff2ccc56",
   "metadata": {},
   "outputs": [
    {
     "data": {
      "text/html": [
       "<div>\n",
       "<style scoped>\n",
       "    .dataframe tbody tr th:only-of-type {\n",
       "        vertical-align: middle;\n",
       "    }\n",
       "\n",
       "    .dataframe tbody tr th {\n",
       "        vertical-align: top;\n",
       "    }\n",
       "\n",
       "    .dataframe thead th {\n",
       "        text-align: right;\n",
       "    }\n",
       "</style>\n",
       "<table border=\"1\" class=\"dataframe\">\n",
       "  <thead>\n",
       "    <tr style=\"text-align: right;\">\n",
       "      <th></th>\n",
       "      <th>basic_sentiment_apple_0</th>\n",
       "      <th>basic_sentiment_apple_1</th>\n",
       "      <th>basic_sentiment_biontech_0</th>\n",
       "      <th>basic_sentiment_biontech_1</th>\n",
       "      <th>sentiment_svm_apple_0</th>\n",
       "      <th>sentiment_svm_apple_1</th>\n",
       "      <th>sentiment_svm_biontech_0</th>\n",
       "      <th>sentiment_svm_biontech_1</th>\n",
       "      <th>basic_apple</th>\n",
       "      <th>basic_biontech</th>\n",
       "      <th>svm_apple</th>\n",
       "      <th>svm_biontech</th>\n",
       "      <th>date</th>\n",
       "    </tr>\n",
       "    <tr>\n",
       "      <th>date</th>\n",
       "      <th></th>\n",
       "      <th></th>\n",
       "      <th></th>\n",
       "      <th></th>\n",
       "      <th></th>\n",
       "      <th></th>\n",
       "      <th></th>\n",
       "      <th></th>\n",
       "      <th></th>\n",
       "      <th></th>\n",
       "      <th></th>\n",
       "      <th></th>\n",
       "      <th></th>\n",
       "    </tr>\n",
       "  </thead>\n",
       "  <tbody>\n",
       "    <tr>\n",
       "      <th>12/01/2021</th>\n",
       "      <td>310.0</td>\n",
       "      <td>101.0</td>\n",
       "      <td>53.0</td>\n",
       "      <td>1.0</td>\n",
       "      <td>293.0</td>\n",
       "      <td>118.0</td>\n",
       "      <td>54.0</td>\n",
       "      <td>0.0</td>\n",
       "      <td>0.508516</td>\n",
       "      <td>0.962963</td>\n",
       "      <td>0.425791</td>\n",
       "      <td>1.000000</td>\n",
       "      <td>2021-12-01</td>\n",
       "    </tr>\n",
       "    <tr>\n",
       "      <th>12/02/2021</th>\n",
       "      <td>256.0</td>\n",
       "      <td>111.0</td>\n",
       "      <td>55.0</td>\n",
       "      <td>2.0</td>\n",
       "      <td>270.0</td>\n",
       "      <td>97.0</td>\n",
       "      <td>57.0</td>\n",
       "      <td>0.0</td>\n",
       "      <td>0.395095</td>\n",
       "      <td>0.929825</td>\n",
       "      <td>0.471390</td>\n",
       "      <td>1.000000</td>\n",
       "      <td>2021-12-02</td>\n",
       "    </tr>\n",
       "    <tr>\n",
       "      <th>12/03/2021</th>\n",
       "      <td>101.0</td>\n",
       "      <td>43.0</td>\n",
       "      <td>57.0</td>\n",
       "      <td>5.0</td>\n",
       "      <td>102.0</td>\n",
       "      <td>42.0</td>\n",
       "      <td>62.0</td>\n",
       "      <td>0.0</td>\n",
       "      <td>0.402778</td>\n",
       "      <td>0.838710</td>\n",
       "      <td>0.416667</td>\n",
       "      <td>1.000000</td>\n",
       "      <td>2021-12-03</td>\n",
       "    </tr>\n",
       "    <tr>\n",
       "      <th>12/04/2021</th>\n",
       "      <td>11.0</td>\n",
       "      <td>6.0</td>\n",
       "      <td>10.0</td>\n",
       "      <td>0.0</td>\n",
       "      <td>11.0</td>\n",
       "      <td>6.0</td>\n",
       "      <td>10.0</td>\n",
       "      <td>0.0</td>\n",
       "      <td>0.294118</td>\n",
       "      <td>1.000000</td>\n",
       "      <td>0.294118</td>\n",
       "      <td>1.000000</td>\n",
       "      <td>2021-12-04</td>\n",
       "    </tr>\n",
       "    <tr>\n",
       "      <th>12/05/2021</th>\n",
       "      <td>7.0</td>\n",
       "      <td>4.0</td>\n",
       "      <td>10.0</td>\n",
       "      <td>0.0</td>\n",
       "      <td>9.0</td>\n",
       "      <td>2.0</td>\n",
       "      <td>10.0</td>\n",
       "      <td>0.0</td>\n",
       "      <td>0.272727</td>\n",
       "      <td>1.000000</td>\n",
       "      <td>0.636364</td>\n",
       "      <td>1.000000</td>\n",
       "      <td>2021-12-05</td>\n",
       "    </tr>\n",
       "    <tr>\n",
       "      <th>12/06/2021</th>\n",
       "      <td>123.0</td>\n",
       "      <td>36.0</td>\n",
       "      <td>61.0</td>\n",
       "      <td>3.0</td>\n",
       "      <td>124.0</td>\n",
       "      <td>35.0</td>\n",
       "      <td>64.0</td>\n",
       "      <td>0.0</td>\n",
       "      <td>0.547170</td>\n",
       "      <td>0.906250</td>\n",
       "      <td>0.559748</td>\n",
       "      <td>1.000000</td>\n",
       "      <td>2021-12-06</td>\n",
       "    </tr>\n",
       "    <tr>\n",
       "      <th>12/07/2021</th>\n",
       "      <td>290.0</td>\n",
       "      <td>56.0</td>\n",
       "      <td>56.0</td>\n",
       "      <td>5.0</td>\n",
       "      <td>260.0</td>\n",
       "      <td>86.0</td>\n",
       "      <td>61.0</td>\n",
       "      <td>0.0</td>\n",
       "      <td>0.676301</td>\n",
       "      <td>0.836066</td>\n",
       "      <td>0.502890</td>\n",
       "      <td>1.000000</td>\n",
       "      <td>2021-12-07</td>\n",
       "    </tr>\n",
       "    <tr>\n",
       "      <th>12/08/2021</th>\n",
       "      <td>366.0</td>\n",
       "      <td>150.0</td>\n",
       "      <td>76.0</td>\n",
       "      <td>1.0</td>\n",
       "      <td>360.0</td>\n",
       "      <td>156.0</td>\n",
       "      <td>77.0</td>\n",
       "      <td>0.0</td>\n",
       "      <td>0.418605</td>\n",
       "      <td>0.974026</td>\n",
       "      <td>0.395349</td>\n",
       "      <td>1.000000</td>\n",
       "      <td>2021-12-08</td>\n",
       "    </tr>\n",
       "    <tr>\n",
       "      <th>12/09/2021</th>\n",
       "      <td>245.0</td>\n",
       "      <td>171.0</td>\n",
       "      <td>34.0</td>\n",
       "      <td>1.0</td>\n",
       "      <td>273.0</td>\n",
       "      <td>143.0</td>\n",
       "      <td>35.0</td>\n",
       "      <td>0.0</td>\n",
       "      <td>0.177885</td>\n",
       "      <td>0.942857</td>\n",
       "      <td>0.312500</td>\n",
       "      <td>1.000000</td>\n",
       "      <td>2021-12-09</td>\n",
       "    </tr>\n",
       "    <tr>\n",
       "      <th>12/10/2021</th>\n",
       "      <td>359.0</td>\n",
       "      <td>186.0</td>\n",
       "      <td>70.0</td>\n",
       "      <td>2.0</td>\n",
       "      <td>371.0</td>\n",
       "      <td>174.0</td>\n",
       "      <td>72.0</td>\n",
       "      <td>0.0</td>\n",
       "      <td>0.317431</td>\n",
       "      <td>0.944444</td>\n",
       "      <td>0.361468</td>\n",
       "      <td>1.000000</td>\n",
       "      <td>2021-12-10</td>\n",
       "    </tr>\n",
       "    <tr>\n",
       "      <th>12/11/2021</th>\n",
       "      <td>71.0</td>\n",
       "      <td>57.0</td>\n",
       "      <td>14.0</td>\n",
       "      <td>0.0</td>\n",
       "      <td>87.0</td>\n",
       "      <td>41.0</td>\n",
       "      <td>13.0</td>\n",
       "      <td>1.0</td>\n",
       "      <td>0.109375</td>\n",
       "      <td>1.000000</td>\n",
       "      <td>0.359375</td>\n",
       "      <td>0.857143</td>\n",
       "      <td>2021-12-11</td>\n",
       "    </tr>\n",
       "    <tr>\n",
       "      <th>12/12/2021</th>\n",
       "      <td>21.0</td>\n",
       "      <td>18.0</td>\n",
       "      <td>23.0</td>\n",
       "      <td>1.0</td>\n",
       "      <td>26.0</td>\n",
       "      <td>13.0</td>\n",
       "      <td>23.0</td>\n",
       "      <td>1.0</td>\n",
       "      <td>0.076923</td>\n",
       "      <td>0.916667</td>\n",
       "      <td>0.333333</td>\n",
       "      <td>0.916667</td>\n",
       "      <td>2021-12-12</td>\n",
       "    </tr>\n",
       "    <tr>\n",
       "      <th>12/13/2021</th>\n",
       "      <td>277.0</td>\n",
       "      <td>304.0</td>\n",
       "      <td>46.0</td>\n",
       "      <td>0.0</td>\n",
       "      <td>338.0</td>\n",
       "      <td>243.0</td>\n",
       "      <td>46.0</td>\n",
       "      <td>0.0</td>\n",
       "      <td>-0.046472</td>\n",
       "      <td>1.000000</td>\n",
       "      <td>0.163511</td>\n",
       "      <td>1.000000</td>\n",
       "      <td>2021-12-13</td>\n",
       "    </tr>\n",
       "    <tr>\n",
       "      <th>12/14/2021</th>\n",
       "      <td>178.0</td>\n",
       "      <td>154.0</td>\n",
       "      <td>35.0</td>\n",
       "      <td>0.0</td>\n",
       "      <td>211.0</td>\n",
       "      <td>121.0</td>\n",
       "      <td>35.0</td>\n",
       "      <td>0.0</td>\n",
       "      <td>0.072289</td>\n",
       "      <td>1.000000</td>\n",
       "      <td>0.271084</td>\n",
       "      <td>1.000000</td>\n",
       "      <td>2021-12-14</td>\n",
       "    </tr>\n",
       "    <tr>\n",
       "      <th>12/15/2021</th>\n",
       "      <td>230.0</td>\n",
       "      <td>71.0</td>\n",
       "      <td>49.0</td>\n",
       "      <td>1.0</td>\n",
       "      <td>216.0</td>\n",
       "      <td>85.0</td>\n",
       "      <td>50.0</td>\n",
       "      <td>0.0</td>\n",
       "      <td>0.528239</td>\n",
       "      <td>0.960000</td>\n",
       "      <td>0.435216</td>\n",
       "      <td>1.000000</td>\n",
       "      <td>2021-12-15</td>\n",
       "    </tr>\n",
       "    <tr>\n",
       "      <th>12/16/2021</th>\n",
       "      <td>239.0</td>\n",
       "      <td>103.0</td>\n",
       "      <td>27.0</td>\n",
       "      <td>0.0</td>\n",
       "      <td>238.0</td>\n",
       "      <td>104.0</td>\n",
       "      <td>27.0</td>\n",
       "      <td>0.0</td>\n",
       "      <td>0.397661</td>\n",
       "      <td>1.000000</td>\n",
       "      <td>0.391813</td>\n",
       "      <td>1.000000</td>\n",
       "      <td>2021-12-16</td>\n",
       "    </tr>\n",
       "    <tr>\n",
       "      <th>12/17/2021</th>\n",
       "      <td>177.0</td>\n",
       "      <td>47.0</td>\n",
       "      <td>30.0</td>\n",
       "      <td>0.0</td>\n",
       "      <td>175.0</td>\n",
       "      <td>49.0</td>\n",
       "      <td>29.0</td>\n",
       "      <td>1.0</td>\n",
       "      <td>0.580357</td>\n",
       "      <td>1.000000</td>\n",
       "      <td>0.562500</td>\n",
       "      <td>0.933333</td>\n",
       "      <td>2021-12-17</td>\n",
       "    </tr>\n",
       "    <tr>\n",
       "      <th>12/18/2021</th>\n",
       "      <td>23.0</td>\n",
       "      <td>3.0</td>\n",
       "      <td>10.0</td>\n",
       "      <td>0.0</td>\n",
       "      <td>25.0</td>\n",
       "      <td>1.0</td>\n",
       "      <td>10.0</td>\n",
       "      <td>0.0</td>\n",
       "      <td>0.769231</td>\n",
       "      <td>1.000000</td>\n",
       "      <td>0.923077</td>\n",
       "      <td>1.000000</td>\n",
       "      <td>2021-12-18</td>\n",
       "    </tr>\n",
       "    <tr>\n",
       "      <th>12/19/2021</th>\n",
       "      <td>17.0</td>\n",
       "      <td>2.0</td>\n",
       "      <td>15.0</td>\n",
       "      <td>0.0</td>\n",
       "      <td>18.0</td>\n",
       "      <td>1.0</td>\n",
       "      <td>15.0</td>\n",
       "      <td>0.0</td>\n",
       "      <td>0.789474</td>\n",
       "      <td>1.000000</td>\n",
       "      <td>0.894737</td>\n",
       "      <td>1.000000</td>\n",
       "      <td>2021-12-19</td>\n",
       "    </tr>\n",
       "    <tr>\n",
       "      <th>12/20/2021</th>\n",
       "      <td>104.0</td>\n",
       "      <td>33.0</td>\n",
       "      <td>33.0</td>\n",
       "      <td>0.0</td>\n",
       "      <td>95.0</td>\n",
       "      <td>42.0</td>\n",
       "      <td>33.0</td>\n",
       "      <td>0.0</td>\n",
       "      <td>0.518248</td>\n",
       "      <td>1.000000</td>\n",
       "      <td>0.386861</td>\n",
       "      <td>1.000000</td>\n",
       "      <td>2021-12-20</td>\n",
       "    </tr>\n",
       "    <tr>\n",
       "      <th>12/21/2021</th>\n",
       "      <td>142.0</td>\n",
       "      <td>16.0</td>\n",
       "      <td>39.0</td>\n",
       "      <td>0.0</td>\n",
       "      <td>130.0</td>\n",
       "      <td>28.0</td>\n",
       "      <td>39.0</td>\n",
       "      <td>0.0</td>\n",
       "      <td>0.797468</td>\n",
       "      <td>1.000000</td>\n",
       "      <td>0.645570</td>\n",
       "      <td>1.000000</td>\n",
       "      <td>2021-12-21</td>\n",
       "    </tr>\n",
       "    <tr>\n",
       "      <th>12/22/2021</th>\n",
       "      <td>118.0</td>\n",
       "      <td>15.0</td>\n",
       "      <td>38.0</td>\n",
       "      <td>1.0</td>\n",
       "      <td>103.0</td>\n",
       "      <td>30.0</td>\n",
       "      <td>39.0</td>\n",
       "      <td>0.0</td>\n",
       "      <td>0.774436</td>\n",
       "      <td>0.948718</td>\n",
       "      <td>0.548872</td>\n",
       "      <td>1.000000</td>\n",
       "      <td>2021-12-22</td>\n",
       "    </tr>\n",
       "    <tr>\n",
       "      <th>12/23/2021</th>\n",
       "      <td>108.0</td>\n",
       "      <td>22.0</td>\n",
       "      <td>24.0</td>\n",
       "      <td>3.0</td>\n",
       "      <td>101.0</td>\n",
       "      <td>29.0</td>\n",
       "      <td>26.0</td>\n",
       "      <td>1.0</td>\n",
       "      <td>0.661538</td>\n",
       "      <td>0.777778</td>\n",
       "      <td>0.553846</td>\n",
       "      <td>0.925926</td>\n",
       "      <td>2021-12-23</td>\n",
       "    </tr>\n",
       "    <tr>\n",
       "      <th>12/24/2021</th>\n",
       "      <td>14.0</td>\n",
       "      <td>6.0</td>\n",
       "      <td>13.0</td>\n",
       "      <td>0.0</td>\n",
       "      <td>15.0</td>\n",
       "      <td>5.0</td>\n",
       "      <td>13.0</td>\n",
       "      <td>0.0</td>\n",
       "      <td>0.400000</td>\n",
       "      <td>1.000000</td>\n",
       "      <td>0.500000</td>\n",
       "      <td>1.000000</td>\n",
       "      <td>2021-12-24</td>\n",
       "    </tr>\n",
       "    <tr>\n",
       "      <th>12/25/2021</th>\n",
       "      <td>12.0</td>\n",
       "      <td>3.0</td>\n",
       "      <td>3.0</td>\n",
       "      <td>1.0</td>\n",
       "      <td>10.0</td>\n",
       "      <td>5.0</td>\n",
       "      <td>4.0</td>\n",
       "      <td>0.0</td>\n",
       "      <td>0.600000</td>\n",
       "      <td>0.500000</td>\n",
       "      <td>0.333333</td>\n",
       "      <td>1.000000</td>\n",
       "      <td>2021-12-25</td>\n",
       "    </tr>\n",
       "    <tr>\n",
       "      <th>12/26/2021</th>\n",
       "      <td>15.0</td>\n",
       "      <td>5.0</td>\n",
       "      <td>6.0</td>\n",
       "      <td>0.0</td>\n",
       "      <td>16.0</td>\n",
       "      <td>4.0</td>\n",
       "      <td>5.0</td>\n",
       "      <td>1.0</td>\n",
       "      <td>0.500000</td>\n",
       "      <td>1.000000</td>\n",
       "      <td>0.600000</td>\n",
       "      <td>0.666667</td>\n",
       "      <td>2021-12-26</td>\n",
       "    </tr>\n",
       "    <tr>\n",
       "      <th>12/27/2021</th>\n",
       "      <td>167.0</td>\n",
       "      <td>20.0</td>\n",
       "      <td>16.0</td>\n",
       "      <td>0.0</td>\n",
       "      <td>151.0</td>\n",
       "      <td>36.0</td>\n",
       "      <td>16.0</td>\n",
       "      <td>0.0</td>\n",
       "      <td>0.786096</td>\n",
       "      <td>1.000000</td>\n",
       "      <td>0.614973</td>\n",
       "      <td>1.000000</td>\n",
       "      <td>2021-12-27</td>\n",
       "    </tr>\n",
       "    <tr>\n",
       "      <th>12/28/2021</th>\n",
       "      <td>131.0</td>\n",
       "      <td>32.0</td>\n",
       "      <td>26.0</td>\n",
       "      <td>3.0</td>\n",
       "      <td>121.0</td>\n",
       "      <td>42.0</td>\n",
       "      <td>29.0</td>\n",
       "      <td>0.0</td>\n",
       "      <td>0.607362</td>\n",
       "      <td>0.793103</td>\n",
       "      <td>0.484663</td>\n",
       "      <td>1.000000</td>\n",
       "      <td>2021-12-28</td>\n",
       "    </tr>\n",
       "    <tr>\n",
       "      <th>12/29/2021</th>\n",
       "      <td>91.0</td>\n",
       "      <td>30.0</td>\n",
       "      <td>26.0</td>\n",
       "      <td>1.0</td>\n",
       "      <td>91.0</td>\n",
       "      <td>30.0</td>\n",
       "      <td>27.0</td>\n",
       "      <td>0.0</td>\n",
       "      <td>0.504132</td>\n",
       "      <td>0.925926</td>\n",
       "      <td>0.504132</td>\n",
       "      <td>1.000000</td>\n",
       "      <td>2021-12-29</td>\n",
       "    </tr>\n",
       "    <tr>\n",
       "      <th>12/30/2021</th>\n",
       "      <td>84.0</td>\n",
       "      <td>38.0</td>\n",
       "      <td>31.0</td>\n",
       "      <td>0.0</td>\n",
       "      <td>88.0</td>\n",
       "      <td>34.0</td>\n",
       "      <td>31.0</td>\n",
       "      <td>0.0</td>\n",
       "      <td>0.377049</td>\n",
       "      <td>1.000000</td>\n",
       "      <td>0.442623</td>\n",
       "      <td>1.000000</td>\n",
       "      <td>2021-12-30</td>\n",
       "    </tr>\n",
       "    <tr>\n",
       "      <th>12/31/2021</th>\n",
       "      <td>63.0</td>\n",
       "      <td>23.0</td>\n",
       "      <td>19.0</td>\n",
       "      <td>0.0</td>\n",
       "      <td>65.0</td>\n",
       "      <td>21.0</td>\n",
       "      <td>19.0</td>\n",
       "      <td>0.0</td>\n",
       "      <td>0.465116</td>\n",
       "      <td>1.000000</td>\n",
       "      <td>0.511628</td>\n",
       "      <td>1.000000</td>\n",
       "      <td>2021-12-31</td>\n",
       "    </tr>\n",
       "  </tbody>\n",
       "</table>\n",
       "</div>"
      ],
      "text/plain": [
       "            basic_sentiment_apple_0  basic_sentiment_apple_1  \\\n",
       "date                                                           \n",
       "12/01/2021                    310.0                    101.0   \n",
       "12/02/2021                    256.0                    111.0   \n",
       "12/03/2021                    101.0                     43.0   \n",
       "12/04/2021                     11.0                      6.0   \n",
       "12/05/2021                      7.0                      4.0   \n",
       "12/06/2021                    123.0                     36.0   \n",
       "12/07/2021                    290.0                     56.0   \n",
       "12/08/2021                    366.0                    150.0   \n",
       "12/09/2021                    245.0                    171.0   \n",
       "12/10/2021                    359.0                    186.0   \n",
       "12/11/2021                     71.0                     57.0   \n",
       "12/12/2021                     21.0                     18.0   \n",
       "12/13/2021                    277.0                    304.0   \n",
       "12/14/2021                    178.0                    154.0   \n",
       "12/15/2021                    230.0                     71.0   \n",
       "12/16/2021                    239.0                    103.0   \n",
       "12/17/2021                    177.0                     47.0   \n",
       "12/18/2021                     23.0                      3.0   \n",
       "12/19/2021                     17.0                      2.0   \n",
       "12/20/2021                    104.0                     33.0   \n",
       "12/21/2021                    142.0                     16.0   \n",
       "12/22/2021                    118.0                     15.0   \n",
       "12/23/2021                    108.0                     22.0   \n",
       "12/24/2021                     14.0                      6.0   \n",
       "12/25/2021                     12.0                      3.0   \n",
       "12/26/2021                     15.0                      5.0   \n",
       "12/27/2021                    167.0                     20.0   \n",
       "12/28/2021                    131.0                     32.0   \n",
       "12/29/2021                     91.0                     30.0   \n",
       "12/30/2021                     84.0                     38.0   \n",
       "12/31/2021                     63.0                     23.0   \n",
       "\n",
       "            basic_sentiment_biontech_0  basic_sentiment_biontech_1  \\\n",
       "date                                                                 \n",
       "12/01/2021                        53.0                         1.0   \n",
       "12/02/2021                        55.0                         2.0   \n",
       "12/03/2021                        57.0                         5.0   \n",
       "12/04/2021                        10.0                         0.0   \n",
       "12/05/2021                        10.0                         0.0   \n",
       "12/06/2021                        61.0                         3.0   \n",
       "12/07/2021                        56.0                         5.0   \n",
       "12/08/2021                        76.0                         1.0   \n",
       "12/09/2021                        34.0                         1.0   \n",
       "12/10/2021                        70.0                         2.0   \n",
       "12/11/2021                        14.0                         0.0   \n",
       "12/12/2021                        23.0                         1.0   \n",
       "12/13/2021                        46.0                         0.0   \n",
       "12/14/2021                        35.0                         0.0   \n",
       "12/15/2021                        49.0                         1.0   \n",
       "12/16/2021                        27.0                         0.0   \n",
       "12/17/2021                        30.0                         0.0   \n",
       "12/18/2021                        10.0                         0.0   \n",
       "12/19/2021                        15.0                         0.0   \n",
       "12/20/2021                        33.0                         0.0   \n",
       "12/21/2021                        39.0                         0.0   \n",
       "12/22/2021                        38.0                         1.0   \n",
       "12/23/2021                        24.0                         3.0   \n",
       "12/24/2021                        13.0                         0.0   \n",
       "12/25/2021                         3.0                         1.0   \n",
       "12/26/2021                         6.0                         0.0   \n",
       "12/27/2021                        16.0                         0.0   \n",
       "12/28/2021                        26.0                         3.0   \n",
       "12/29/2021                        26.0                         1.0   \n",
       "12/30/2021                        31.0                         0.0   \n",
       "12/31/2021                        19.0                         0.0   \n",
       "\n",
       "            sentiment_svm_apple_0  sentiment_svm_apple_1  \\\n",
       "date                                                       \n",
       "12/01/2021                  293.0                  118.0   \n",
       "12/02/2021                  270.0                   97.0   \n",
       "12/03/2021                  102.0                   42.0   \n",
       "12/04/2021                   11.0                    6.0   \n",
       "12/05/2021                    9.0                    2.0   \n",
       "12/06/2021                  124.0                   35.0   \n",
       "12/07/2021                  260.0                   86.0   \n",
       "12/08/2021                  360.0                  156.0   \n",
       "12/09/2021                  273.0                  143.0   \n",
       "12/10/2021                  371.0                  174.0   \n",
       "12/11/2021                   87.0                   41.0   \n",
       "12/12/2021                   26.0                   13.0   \n",
       "12/13/2021                  338.0                  243.0   \n",
       "12/14/2021                  211.0                  121.0   \n",
       "12/15/2021                  216.0                   85.0   \n",
       "12/16/2021                  238.0                  104.0   \n",
       "12/17/2021                  175.0                   49.0   \n",
       "12/18/2021                   25.0                    1.0   \n",
       "12/19/2021                   18.0                    1.0   \n",
       "12/20/2021                   95.0                   42.0   \n",
       "12/21/2021                  130.0                   28.0   \n",
       "12/22/2021                  103.0                   30.0   \n",
       "12/23/2021                  101.0                   29.0   \n",
       "12/24/2021                   15.0                    5.0   \n",
       "12/25/2021                   10.0                    5.0   \n",
       "12/26/2021                   16.0                    4.0   \n",
       "12/27/2021                  151.0                   36.0   \n",
       "12/28/2021                  121.0                   42.0   \n",
       "12/29/2021                   91.0                   30.0   \n",
       "12/30/2021                   88.0                   34.0   \n",
       "12/31/2021                   65.0                   21.0   \n",
       "\n",
       "            sentiment_svm_biontech_0  sentiment_svm_biontech_1  basic_apple  \\\n",
       "date                                                                          \n",
       "12/01/2021                      54.0                       0.0     0.508516   \n",
       "12/02/2021                      57.0                       0.0     0.395095   \n",
       "12/03/2021                      62.0                       0.0     0.402778   \n",
       "12/04/2021                      10.0                       0.0     0.294118   \n",
       "12/05/2021                      10.0                       0.0     0.272727   \n",
       "12/06/2021                      64.0                       0.0     0.547170   \n",
       "12/07/2021                      61.0                       0.0     0.676301   \n",
       "12/08/2021                      77.0                       0.0     0.418605   \n",
       "12/09/2021                      35.0                       0.0     0.177885   \n",
       "12/10/2021                      72.0                       0.0     0.317431   \n",
       "12/11/2021                      13.0                       1.0     0.109375   \n",
       "12/12/2021                      23.0                       1.0     0.076923   \n",
       "12/13/2021                      46.0                       0.0    -0.046472   \n",
       "12/14/2021                      35.0                       0.0     0.072289   \n",
       "12/15/2021                      50.0                       0.0     0.528239   \n",
       "12/16/2021                      27.0                       0.0     0.397661   \n",
       "12/17/2021                      29.0                       1.0     0.580357   \n",
       "12/18/2021                      10.0                       0.0     0.769231   \n",
       "12/19/2021                      15.0                       0.0     0.789474   \n",
       "12/20/2021                      33.0                       0.0     0.518248   \n",
       "12/21/2021                      39.0                       0.0     0.797468   \n",
       "12/22/2021                      39.0                       0.0     0.774436   \n",
       "12/23/2021                      26.0                       1.0     0.661538   \n",
       "12/24/2021                      13.0                       0.0     0.400000   \n",
       "12/25/2021                       4.0                       0.0     0.600000   \n",
       "12/26/2021                       5.0                       1.0     0.500000   \n",
       "12/27/2021                      16.0                       0.0     0.786096   \n",
       "12/28/2021                      29.0                       0.0     0.607362   \n",
       "12/29/2021                      27.0                       0.0     0.504132   \n",
       "12/30/2021                      31.0                       0.0     0.377049   \n",
       "12/31/2021                      19.0                       0.0     0.465116   \n",
       "\n",
       "            basic_biontech  svm_apple  svm_biontech       date  \n",
       "date                                                            \n",
       "12/01/2021        0.962963   0.425791      1.000000 2021-12-01  \n",
       "12/02/2021        0.929825   0.471390      1.000000 2021-12-02  \n",
       "12/03/2021        0.838710   0.416667      1.000000 2021-12-03  \n",
       "12/04/2021        1.000000   0.294118      1.000000 2021-12-04  \n",
       "12/05/2021        1.000000   0.636364      1.000000 2021-12-05  \n",
       "12/06/2021        0.906250   0.559748      1.000000 2021-12-06  \n",
       "12/07/2021        0.836066   0.502890      1.000000 2021-12-07  \n",
       "12/08/2021        0.974026   0.395349      1.000000 2021-12-08  \n",
       "12/09/2021        0.942857   0.312500      1.000000 2021-12-09  \n",
       "12/10/2021        0.944444   0.361468      1.000000 2021-12-10  \n",
       "12/11/2021        1.000000   0.359375      0.857143 2021-12-11  \n",
       "12/12/2021        0.916667   0.333333      0.916667 2021-12-12  \n",
       "12/13/2021        1.000000   0.163511      1.000000 2021-12-13  \n",
       "12/14/2021        1.000000   0.271084      1.000000 2021-12-14  \n",
       "12/15/2021        0.960000   0.435216      1.000000 2021-12-15  \n",
       "12/16/2021        1.000000   0.391813      1.000000 2021-12-16  \n",
       "12/17/2021        1.000000   0.562500      0.933333 2021-12-17  \n",
       "12/18/2021        1.000000   0.923077      1.000000 2021-12-18  \n",
       "12/19/2021        1.000000   0.894737      1.000000 2021-12-19  \n",
       "12/20/2021        1.000000   0.386861      1.000000 2021-12-20  \n",
       "12/21/2021        1.000000   0.645570      1.000000 2021-12-21  \n",
       "12/22/2021        0.948718   0.548872      1.000000 2021-12-22  \n",
       "12/23/2021        0.777778   0.553846      0.925926 2021-12-23  \n",
       "12/24/2021        1.000000   0.500000      1.000000 2021-12-24  \n",
       "12/25/2021        0.500000   0.333333      1.000000 2021-12-25  \n",
       "12/26/2021        1.000000   0.600000      0.666667 2021-12-26  \n",
       "12/27/2021        1.000000   0.614973      1.000000 2021-12-27  \n",
       "12/28/2021        0.793103   0.484663      1.000000 2021-12-28  \n",
       "12/29/2021        0.925926   0.504132      1.000000 2021-12-29  \n",
       "12/30/2021        1.000000   0.442623      1.000000 2021-12-30  \n",
       "12/31/2021        1.000000   0.511628      1.000000 2021-12-31  "
      ]
     },
     "execution_count": 138,
     "metadata": {},
     "output_type": "execute_result"
    }
   ],
   "source": [
    "sentiment_scores_test"
   ]
  },
  {
   "cell_type": "code",
   "execution_count": 123,
   "id": "15d6172f",
   "metadata": {},
   "outputs": [],
   "source": [
    "#plotting\n",
    "import matplotlib.pyplot as plt\n",
    "from matplotlib.dates import DateFormatter\n",
    "import matplotlib.ticker as ticker\n",
    "%matplotlib inline"
   ]
  },
  {
   "cell_type": "code",
   "execution_count": 124,
   "id": "63e455fb",
   "metadata": {},
   "outputs": [
    {
     "data": {
      "image/png": "[encoded data removed]",
      "text/plain": [
       "<Figure size 720x432 with 1 Axes>"
      ]
     },
     "metadata": {
      "needs_background": "light"
     },
     "output_type": "display_data"
    }
   ],
   "source": [
    "fig, ax = plt.subplots(figsize=(10, 6))\n",
    "ax.plot(sentiment_scores_test[\"date\"],sentiment_scores_test.basic_apple, label = 'Sentiment Scores')\n",
    "ax.plot(sentiment_scores_test[\"date\"], sentiment_scores_test[\"svm_apple\"], label = 'Prediction SVM')\n",
    "ax.set_xlabel('Date')\n",
    "ax.set_ylabel('Mean Sentiment Score')\n",
    "ax.set_title('Average Daily Sentiment Scores - Apple')\n",
    "ax.grid(True)\n",
    "ax.legend(loc='upper left');\n",
    "\n",
    "#format date axis\n",
    "date_form = DateFormatter(\"%m/%d\")\n",
    "ax.xaxis.set_major_formatter(date_form)\n",
    "#change interval \n",
    "ax.xaxis.set_major_locator(ticker.AutoLocator())"
   ]
  },
  {
   "cell_type": "code",
   "execution_count": 125,
   "id": "a6576ad6",
   "metadata": {},
   "outputs": [
    {
     "data": {
      "image/png": "[encoded data removed]",
      "text/plain": [
       "<Figure size 720x432 with 1 Axes>"
      ]
     },
     "metadata": {
      "needs_background": "light"
     },
     "output_type": "display_data"
    }
   ],
   "source": [
    "fig, ax = plt.subplots(figsize=(10, 6))\n",
    "ax.plot(sentiment_scores_test[\"date\"],sentiment_scores_test.basic_biontech, label = 'Sentiment Scores')\n",
    "ax.plot(sentiment_scores_test[\"date\"], sentiment_scores_test[\"svm_biontech\"], label = 'Prediction SVM')\n",
    "ax.set_xlabel('Date')\n",
    "ax.set_ylabel('Mean Sentiment Score')\n",
    "ax.set_title('Average Daily Sentiment Scores - Biontech')\n",
    "ax.grid(True)\n",
    "ax.legend(loc='upper left');\n",
    "\n",
    "#format date axis\n",
    "date_form = DateFormatter(\"%m/%d\")\n",
    "ax.xaxis.set_major_formatter(date_form)\n",
    "#change interval \n",
    "ax.xaxis.set_major_locator(ticker.AutoLocator())"
   ]
  }
 ],
 "metadata": {
  "kernelspec": {
   "display_name": "Python 3 (ipykernel)",
   "language": "python",
   "name": "python3"
  },
  "language_info": {
   "codemirror_mode": {
    "name": "ipython",
    "version": 3
   },
   "file_extension": ".py",
   "mimetype": "text/x-python",
   "name": "python",
   "nbconvert_exporter": "python",
   "pygments_lexer": "ipython3",
   "version": "3.9.7"
  }
 },
 "nbformat": 4,
 "nbformat_minor": 5
}
