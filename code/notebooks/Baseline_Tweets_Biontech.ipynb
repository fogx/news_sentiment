{
 "cells": [
  {
   "cell_type": "markdown",
   "id": "1d70623f",
   "metadata": {},
   "source": [
    "# Baseline Modelle"
   ]
  },
  {
   "cell_type": "code",
   "execution_count": 1,
   "id": "ecacfc27",
   "metadata": {},
   "outputs": [],
   "source": [
    "#Laden der benötigten Bibliotheken\n",
    "import pandas as pd\n",
    "import numpy as np\n",
    "import nltk   #Natural Language ToolKit\n",
    "from nltk.sentiment.vader import SentimentIntensityAnalyzer"
   ]
  },
  {
   "cell_type": "markdown",
   "id": "c7502aa8",
   "metadata": {},
   "source": [
    "## Daten einlesen\n"
   ]
  },
  {
   "cell_type": "code",
   "execution_count": 2,
   "id": "9d4fd935",
   "metadata": {},
   "outputs": [],
   "source": [
    "data = pd.read_csv(\"Biontech.csv\")"
   ]
  },
  {
   "cell_type": "code",
   "execution_count": 4,
   "id": "3ddcc67a",
   "metadata": {},
   "outputs": [
    {
     "data": {
      "text/html": [
       "<div>\n",
       "<style scoped>\n",
       "    .dataframe tbody tr th:only-of-type {\n",
       "        vertical-align: middle;\n",
       "    }\n",
       "\n",
       "    .dataframe tbody tr th {\n",
       "        vertical-align: top;\n",
       "    }\n",
       "\n",
       "    .dataframe thead th {\n",
       "        text-align: right;\n",
       "    }\n",
       "</style>\n",
       "<table border=\"1\" class=\"dataframe\">\n",
       "  <thead>\n",
       "    <tr style=\"text-align: right;\">\n",
       "      <th></th>\n",
       "      <th>created_at</th>\n",
       "      <th>id</th>\n",
       "      <th>username</th>\n",
       "      <th>name</th>\n",
       "      <th>user_id</th>\n",
       "      <th>body</th>\n",
       "      <th>basic_sentiment</th>\n",
       "    </tr>\n",
       "  </thead>\n",
       "  <tbody>\n",
       "    <tr>\n",
       "      <th>0</th>\n",
       "      <td>2021-12-31 23:32:20+00:00</td>\n",
       "      <td>422493745</td>\n",
       "      <td>Witstock</td>\n",
       "      <td>Colin Robinson</td>\n",
       "      <td>3315545</td>\n",
       "      <td>$MRNA $bntx RIP Betty…$spy $qqq $pfe</td>\n",
       "      <td>0.0</td>\n",
       "    </tr>\n",
       "    <tr>\n",
       "      <th>1</th>\n",
       "      <td>2021-12-31 23:26:39+00:00</td>\n",
       "      <td>422492859</td>\n",
       "      <td>15HY</td>\n",
       "      <td>ARN</td>\n",
       "      <td>5380284</td>\n",
       "      <td>$BNTX $PFE https://ig.ft.com/coronavirus-vacci...</td>\n",
       "      <td>0.0</td>\n",
       "    </tr>\n",
       "    <tr>\n",
       "      <th>2</th>\n",
       "      <td>2021-12-31 23:00:54+00:00</td>\n",
       "      <td>422488662</td>\n",
       "      <td>academyofstocks</td>\n",
       "      <td>Academy of Stocks</td>\n",
       "      <td>546853</td>\n",
       "      <td>Oversold stocks to buy in 2022 using DCF \\n\\n$...</td>\n",
       "      <td>NaN</td>\n",
       "    </tr>\n",
       "    <tr>\n",
       "      <th>3</th>\n",
       "      <td>2021-12-31 21:48:45+00:00</td>\n",
       "      <td>422473776</td>\n",
       "      <td>BiotechMike141</td>\n",
       "      <td>Michael Stewart</td>\n",
       "      <td>5453342</td>\n",
       "      <td>$BNTX Happy new year longs!!</td>\n",
       "      <td>0.0</td>\n",
       "    </tr>\n",
       "    <tr>\n",
       "      <th>4</th>\n",
       "      <td>2021-12-31 21:38:43+00:00</td>\n",
       "      <td>422471365</td>\n",
       "      <td>Witstock</td>\n",
       "      <td>Colin Robinson</td>\n",
       "      <td>3315545</td>\n",
       "      <td>@Poundsand07 another ancient aliens quack you ...</td>\n",
       "      <td>0.0</td>\n",
       "    </tr>\n",
       "  </tbody>\n",
       "</table>\n",
       "</div>"
      ],
      "text/plain": [
       "                  created_at         id         username               name  \\\n",
       "0  2021-12-31 23:32:20+00:00  422493745         Witstock     Colin Robinson   \n",
       "1  2021-12-31 23:26:39+00:00  422492859             15HY                ARN   \n",
       "2  2021-12-31 23:00:54+00:00  422488662  academyofstocks  Academy of Stocks   \n",
       "3  2021-12-31 21:48:45+00:00  422473776   BiotechMike141    Michael Stewart   \n",
       "4  2021-12-31 21:38:43+00:00  422471365         Witstock     Colin Robinson   \n",
       "\n",
       "   user_id                                               body  basic_sentiment  \n",
       "0  3315545               $MRNA $bntx RIP Betty…$spy $qqq $pfe              0.0  \n",
       "1  5380284  $BNTX $PFE https://ig.ft.com/coronavirus-vacci...              0.0  \n",
       "2   546853  Oversold stocks to buy in 2022 using DCF \\n\\n$...              NaN  \n",
       "3  5453342                       $BNTX Happy new year longs!!              0.0  \n",
       "4  3315545  @Poundsand07 another ancient aliens quack you ...              0.0  "
      ]
     },
     "execution_count": 4,
     "metadata": {},
     "output_type": "execute_result"
    }
   ],
   "source": [
    "data.head()"
   ]
  },
  {
   "cell_type": "markdown",
   "id": "1eacbfe3",
   "metadata": {},
   "source": [
    "## Pre-Processing"
   ]
  },
  {
   "cell_type": "code",
   "execution_count": 5,
   "id": "e347b292",
   "metadata": {},
   "outputs": [],
   "source": [
    "#lower case\n",
    "#data[\"tweets_preproc\"] = data[\"body\"].apply(lambda x: \" \".join(x.lower() for x in str(x).split()))"
   ]
  },
  {
   "cell_type": "code",
   "execution_count": 6,
   "id": "22605516",
   "metadata": {},
   "outputs": [],
   "source": [
    "#html tags und urls raus\n",
    "from bs4 import BeautifulSoup\n",
    "data[\"tweets_preproc\"]=data[\"body\"].apply(lambda x: BeautifulSoup(x).get_text())\n",
    "import re\n",
    "data[\"tweets_preproc\"]=data[\"tweets_preproc\"].apply(lambda x: re.sub(r\"http\\S+\", \"\", x))"
   ]
  },
  {
   "cell_type": "code",
   "execution_count": 8,
   "id": "40eee6a5",
   "metadata": {},
   "outputs": [],
   "source": [
    "#sonderzeichen etc. raus\n",
    "#Ressourcen downloaden\n",
    "#nltk.download('punkt')\n",
    "#sonderzeichen etc. raus\n",
    "data[\"tweets_preproc\"]=data[\"tweets_preproc\"].apply(lambda x: \" \".join([re.sub('[^A-Za-z]+','', x) for x in nltk.word_tokenize(x)]))"
   ]
  },
  {
   "cell_type": "code",
   "execution_count": 9,
   "id": "d181ad2e",
   "metadata": {},
   "outputs": [],
   "source": [
    "#überschüssige leerzeichen raus\n",
    "data[\"tweets_preproc\"]=data[\"tweets_preproc\"].apply(lambda x: re.sub(' +', ' ', x))"
   ]
  },
  {
   "cell_type": "code",
   "execution_count": 12,
   "id": "873b065d",
   "metadata": {},
   "outputs": [],
   "source": [
    "#Datumsvariable erstellen - um ggf. spaeter Ergebnisse zu plotten\n",
    "data[\"created_at\"] = pd.to_datetime(data.created_at, format='%Y-%m-%d %H:%M:%S')\n",
    "data['date'] = data['created_at'].dt.strftime('%m/%d/%Y')"
   ]
  },
  {
   "cell_type": "code",
   "execution_count": 13,
   "id": "a180988e",
   "metadata": {},
   "outputs": [
    {
     "data": {
      "text/html": [
       "<div>\n",
       "<style scoped>\n",
       "    .dataframe tbody tr th:only-of-type {\n",
       "        vertical-align: middle;\n",
       "    }\n",
       "\n",
       "    .dataframe tbody tr th {\n",
       "        vertical-align: top;\n",
       "    }\n",
       "\n",
       "    .dataframe thead th {\n",
       "        text-align: right;\n",
       "    }\n",
       "</style>\n",
       "<table border=\"1\" class=\"dataframe\">\n",
       "  <thead>\n",
       "    <tr style=\"text-align: right;\">\n",
       "      <th></th>\n",
       "      <th>created_at</th>\n",
       "      <th>id</th>\n",
       "      <th>username</th>\n",
       "      <th>name</th>\n",
       "      <th>user_id</th>\n",
       "      <th>body</th>\n",
       "      <th>basic_sentiment</th>\n",
       "      <th>tweets_preproc</th>\n",
       "      <th>date</th>\n",
       "    </tr>\n",
       "  </thead>\n",
       "  <tbody>\n",
       "    <tr>\n",
       "      <th>0</th>\n",
       "      <td>2021-12-31 23:32:20+00:00</td>\n",
       "      <td>422493745</td>\n",
       "      <td>Witstock</td>\n",
       "      <td>Colin Robinson</td>\n",
       "      <td>3315545</td>\n",
       "      <td>$MRNA $bntx RIP Betty…$spy $qqq $pfe</td>\n",
       "      <td>0.0</td>\n",
       "      <td>MRNA bntx RIP Betty spy qqq pfe</td>\n",
       "      <td>12/31/2021</td>\n",
       "    </tr>\n",
       "    <tr>\n",
       "      <th>1</th>\n",
       "      <td>2021-12-31 23:26:39+00:00</td>\n",
       "      <td>422492859</td>\n",
       "      <td>15HY</td>\n",
       "      <td>ARN</td>\n",
       "      <td>5380284</td>\n",
       "      <td>$BNTX $PFE https://ig.ft.com/coronavirus-vacci...</td>\n",
       "      <td>0.0</td>\n",
       "      <td>BNTX PFE</td>\n",
       "      <td>12/31/2021</td>\n",
       "    </tr>\n",
       "    <tr>\n",
       "      <th>2</th>\n",
       "      <td>2021-12-31 23:00:54+00:00</td>\n",
       "      <td>422488662</td>\n",
       "      <td>academyofstocks</td>\n",
       "      <td>Academy of Stocks</td>\n",
       "      <td>546853</td>\n",
       "      <td>Oversold stocks to buy in 2022 using DCF \\n\\n$...</td>\n",
       "      <td>NaN</td>\n",
       "      <td>Oversold stocks to buy in using DCF BABA BNTX ...</td>\n",
       "      <td>12/31/2021</td>\n",
       "    </tr>\n",
       "    <tr>\n",
       "      <th>3</th>\n",
       "      <td>2021-12-31 21:48:45+00:00</td>\n",
       "      <td>422473776</td>\n",
       "      <td>BiotechMike141</td>\n",
       "      <td>Michael Stewart</td>\n",
       "      <td>5453342</td>\n",
       "      <td>$BNTX Happy new year longs!!</td>\n",
       "      <td>0.0</td>\n",
       "      <td>BNTX Happy new year longs</td>\n",
       "      <td>12/31/2021</td>\n",
       "    </tr>\n",
       "    <tr>\n",
       "      <th>4</th>\n",
       "      <td>2021-12-31 21:38:43+00:00</td>\n",
       "      <td>422471365</td>\n",
       "      <td>Witstock</td>\n",
       "      <td>Colin Robinson</td>\n",
       "      <td>3315545</td>\n",
       "      <td>@Poundsand07 another ancient aliens quack you ...</td>\n",
       "      <td>0.0</td>\n",
       "      <td>Poundsand another ancient aliens quack you gu...</td>\n",
       "      <td>12/31/2021</td>\n",
       "    </tr>\n",
       "  </tbody>\n",
       "</table>\n",
       "</div>"
      ],
      "text/plain": [
       "                 created_at         id         username               name  \\\n",
       "0 2021-12-31 23:32:20+00:00  422493745         Witstock     Colin Robinson   \n",
       "1 2021-12-31 23:26:39+00:00  422492859             15HY                ARN   \n",
       "2 2021-12-31 23:00:54+00:00  422488662  academyofstocks  Academy of Stocks   \n",
       "3 2021-12-31 21:48:45+00:00  422473776   BiotechMike141    Michael Stewart   \n",
       "4 2021-12-31 21:38:43+00:00  422471365         Witstock     Colin Robinson   \n",
       "\n",
       "   user_id                                               body  \\\n",
       "0  3315545               $MRNA $bntx RIP Betty…$spy $qqq $pfe   \n",
       "1  5380284  $BNTX $PFE https://ig.ft.com/coronavirus-vacci...   \n",
       "2   546853  Oversold stocks to buy in 2022 using DCF \\n\\n$...   \n",
       "3  5453342                       $BNTX Happy new year longs!!   \n",
       "4  3315545  @Poundsand07 another ancient aliens quack you ...   \n",
       "\n",
       "   basic_sentiment                                     tweets_preproc  \\\n",
       "0              0.0                    MRNA bntx RIP Betty spy qqq pfe   \n",
       "1              0.0                                           BNTX PFE   \n",
       "2              NaN  Oversold stocks to buy in using DCF BABA BNTX ...   \n",
       "3              0.0                         BNTX Happy new year longs    \n",
       "4              0.0   Poundsand another ancient aliens quack you gu...   \n",
       "\n",
       "         date  \n",
       "0  12/31/2021  \n",
       "1  12/31/2021  \n",
       "2  12/31/2021  \n",
       "3  12/31/2021  \n",
       "4  12/31/2021  "
      ]
     },
     "execution_count": 13,
     "metadata": {},
     "output_type": "execute_result"
    }
   ],
   "source": [
    "#Prüfen, ob alles geklappt hat\n",
    "data.head()"
   ]
  },
  {
   "cell_type": "code",
   "execution_count": 14,
   "id": "afee8fcf",
   "metadata": {},
   "outputs": [],
   "source": [
    "#Datensatz nur mit gelabelten Tweets\n",
    "data_labeled = data.dropna(subset = [\"basic_sentiment\"])\n",
    "data_labeled = data_labeled.reset_index(drop=True)"
   ]
  },
  {
   "cell_type": "code",
   "execution_count": 15,
   "id": "e6f79609",
   "metadata": {},
   "outputs": [],
   "source": [
    "#nicht gelabelte Tweets für spätere Anwendungen\n",
    "data_unlabeled = data[data[\"basic_sentiment\"].isnull()]"
   ]
  },
  {
   "cell_type": "markdown",
   "id": "bbad887c",
   "metadata": {},
   "source": [
    "## Sentiment Analysis"
   ]
  },
  {
   "cell_type": "markdown",
   "id": "44ff259b",
   "metadata": {},
   "source": [
    "### 1 - VADER"
   ]
  },
  {
   "cell_type": "markdown",
   "id": "4fa85906",
   "metadata": {},
   "source": [
    "Vorteile:\n",
    "- Braucht kein Training\n",
    "- Funktioniert ohne gelabelte Daten\n",
    "- speziell für Social Media (unterscheidet z.B. TOLL - toll - toll!)\n",
    "\n",
    "Nachteile:\n",
    "- Liefert teilweise keine optimalen Ergebnisse\n",
    "- Hat drei Klassen (neg/neutr/pos), Tweets haben nur zwei"
   ]
  },
  {
   "cell_type": "code",
   "execution_count": 16,
   "id": "870d4a77",
   "metadata": {
    "scrolled": true
   },
   "outputs": [],
   "source": [
    "#download vader lexikon (scheint in nltk zu fehlen (vllt. auch Problem mit anderem vader?))\n",
    "#nltk.download('vader_lexicon')\n",
    "#nltk vader\n",
    "sid = SentimentIntensityAnalyzer()\n",
    "#model\n",
    "data_labeled[\"v_scores\"] = data_labeled[\"tweets_preproc\"].apply(lambda body: sid.polarity_scores(body))"
   ]
  },
  {
   "cell_type": "code",
   "execution_count": 17,
   "id": "02566060",
   "metadata": {},
   "outputs": [],
   "source": [
    "#eigene Spalte für scores erstellen\n",
    "data_labeled['compound']  = data_labeled['v_scores'].apply(lambda score_dict: score_dict['compound'])"
   ]
  },
  {
   "cell_type": "code",
   "execution_count": 18,
   "id": "c5d4a692",
   "metadata": {},
   "outputs": [],
   "source": [
    "#Predictions\n",
    "data_labeled['v_sentiment'] = (\n",
    "    np.where(\n",
    "        data_labeled['compound'] > 0.05,0,\n",
    "        np.where(data_labeled['compound'] < -0.05, 1, -99)))"
   ]
  },
  {
   "cell_type": "code",
   "execution_count": 19,
   "id": "8046757c",
   "metadata": {},
   "outputs": [],
   "source": [
    "#confusion matrix\n",
    "from sklearn.metrics import confusion_matrix\n",
    "cm_vader = confusion_matrix(data_labeled[\"basic_sentiment\"], data_labeled[\"v_sentiment\"])"
   ]
  },
  {
   "cell_type": "code",
   "execution_count": 20,
   "id": "b4a84dac",
   "metadata": {},
   "outputs": [
    {
     "data": {
      "text/plain": [
       "[Text(0, 0.5, 'neutral'), Text(0, 1.5, 'positive'), Text(0, 2.5, 'negative')]"
      ]
     },
     "execution_count": 20,
     "metadata": {},
     "output_type": "execute_result"
    },
    {
     "data": {
      "image/png": "[encoded data removed]",
      "text/plain": [
       "<Figure size 432x288 with 2 Axes>"
      ]
     },
     "metadata": {
      "needs_background": "light"
     },
     "output_type": "display_data"
    }
   ],
   "source": [
    "import seaborn as sns\n",
    "ax = sns.heatmap(cm_vader, annot=True, cmap = 'Blues')\n",
    "ax.set_title('Confusion matrix')\n",
    "ax.set_xlabel('Predicted values')\n",
    "ax.set_ylabel('Actual Values')\n",
    "ax.xaxis.set_ticklabels(['neutral','positive','negative'])\n",
    "ax.yaxis.set_ticklabels(['neutral','positive','negative'])"
   ]
  },
  {
   "cell_type": "markdown",
   "id": "de0711bb",
   "metadata": {},
   "source": [
    "### 2 - TF - IDF"
   ]
  },
  {
   "cell_type": "markdown",
   "id": "cefac46d",
   "metadata": {},
   "source": [
    "Term-frequency - inverse document-frequency: $tf-idf(t,d) = tf(t,d) * idf(t)$ </br>\n",
    "tf = Anzahl eines Wortes $t$ in einem Tweet/Dokument </br>\n",
    "$idf(t) = log\\frac{n}{1+df(t)}$ (sklearn weicht leicht von Standardformulierung ab)</br>\n",
    "mit $n$ = Anzahl aller Tweets im Datensatz, $df(t)$ = Anzahl aller Tweets, die Wort $t$ enthalten. </br>\n",
    "Tf-idf wird zusätzlich normalisiert: </br>\n",
    "$v_{norm} = \\frac{v}{||v||_{2}} = \\frac{v}{\\sqrt{v_{1}² + v_{2}² + ... + v_{n}²}}$ </br>"
   ]
  },
  {
   "cell_type": "code",
   "execution_count": 21,
   "id": "64629cff",
   "metadata": {},
   "outputs": [
    {
     "name": "stdout",
     "output_type": "stream",
     "text": [
      "Training Set:  (3582, 12) Test Set:  (398, 12)\n"
     ]
    }
   ],
   "source": [
    "#train / test split mit gleichen Anteilen der Klassen in Trainings- und Testdaten\n",
    "from sklearn.model_selection import train_test_split\n",
    "baseline_train,baseline_test = train_test_split(data_labeled,\n",
    "                                                  stratify = data_labeled[\"basic_sentiment\"],\n",
    "                                                  test_size=0.1, random_state=42)\n",
    "print(\"Training Set: \",baseline_train.shape, \"Test Set: \",baseline_test.shape)"
   ]
  },
  {
   "cell_type": "code",
   "execution_count": 22,
   "id": "7d45a65c",
   "metadata": {},
   "outputs": [
    {
     "data": {
      "text/plain": [
       "0.0    3450\n",
       "1.0     132\n",
       "Name: basic_sentiment, dtype: int64"
      ]
     },
     "execution_count": 22,
     "metadata": {},
     "output_type": "execute_result"
    }
   ],
   "source": [
    "baseline_train[\"basic_sentiment\"].value_counts()"
   ]
  },
  {
   "cell_type": "code",
   "execution_count": 23,
   "id": "2a12b049",
   "metadata": {},
   "outputs": [],
   "source": [
    "from sklearn.feature_extraction.text import TfidfVectorizer\n",
    "vectorizer = TfidfVectorizer(ngram_range=(1, 2), norm=\"l2\")\n",
    "vectorizer.fit(baseline_train[\"tweets_preproc\"])\n",
    "tf_x_train = vectorizer.transform(baseline_train[\"tweets_preproc\"])\n",
    "tf_x_test = vectorizer.transform(baseline_test[\"tweets_preproc\"])"
   ]
  },
  {
   "cell_type": "code",
   "execution_count": 24,
   "id": "f71cce4f",
   "metadata": {},
   "outputs": [],
   "source": [
    "#pd.DataFrame.sparse.from_spmatrix(tf_x_train)"
   ]
  },
  {
   "cell_type": "code",
   "execution_count": 25,
   "id": "c3db06d6",
   "metadata": {},
   "outputs": [
    {
     "data": {
      "text/plain": [
       "<398x62478 sparse matrix of type '<class 'numpy.float64'>'\n",
       "\twith 13748 stored elements in Compressed Sparse Row format>"
      ]
     },
     "execution_count": 25,
     "metadata": {},
     "output_type": "execute_result"
    }
   ],
   "source": [
    "tf_x_test"
   ]
  },
  {
   "cell_type": "code",
   "execution_count": 26,
   "id": "89c6f78c",
   "metadata": {},
   "outputs": [],
   "source": [
    "#SVM classifier\n",
    "#ohne grid search\n",
    "from sklearn import svm\n",
    "svm = svm.SVC(class_weight={1:96.3, 0:3.7})"
   ]
  },
  {
   "cell_type": "code",
   "execution_count": 27,
   "id": "e72c1bc8",
   "metadata": {},
   "outputs": [
    {
     "data": {
      "text/plain": [
       "SVC(class_weight={0: 3.7, 1: 96.3})"
      ]
     },
     "execution_count": 27,
     "metadata": {},
     "output_type": "execute_result"
    }
   ],
   "source": [
    "#fitten\n",
    "svm.fit(tf_x_train, baseline_train[\"basic_sentiment\"])"
   ]
  },
  {
   "cell_type": "code",
   "execution_count": 28,
   "id": "b3f41d77",
   "metadata": {},
   "outputs": [],
   "source": [
    "#predictions\n",
    "y_fit_svm_base = svm.predict(tf_x_test)\n",
    "baseline_test[\"sentiment_svm_base\"] = y_fit_svm_base"
   ]
  },
  {
   "cell_type": "code",
   "execution_count": 29,
   "id": "736d213d",
   "metadata": {},
   "outputs": [],
   "source": [
    "#ergebnisse /modellgüte\n",
    "from sklearn.metrics import classification_report\n",
    "svm_results_base = classification_report(baseline_test[\"basic_sentiment\"], y_fit_svm_base, output_dict = True)"
   ]
  },
  {
   "cell_type": "code",
   "execution_count": 30,
   "id": "81707742",
   "metadata": {},
   "outputs": [
    {
     "data": {
      "text/plain": [
       "{'0.0': {'precision': 0.96875,\n",
       "  'recall': 0.9712793733681462,\n",
       "  'f1-score': 0.9700130378096479,\n",
       "  'support': 383},\n",
       " '1.0': {'precision': 0.21428571428571427,\n",
       "  'recall': 0.2,\n",
       "  'f1-score': 0.20689655172413796,\n",
       "  'support': 15},\n",
       " 'accuracy': 0.9422110552763819,\n",
       " 'macro avg': {'precision': 0.5915178571428571,\n",
       "  'recall': 0.5856396866840731,\n",
       "  'f1-score': 0.5884547947668929,\n",
       "  'support': 398},\n",
       " 'weighted avg': {'precision': 0.9403154163675521,\n",
       "  'recall': 0.9422110552763819,\n",
       "  'f1-score': 0.9412523662235106,\n",
       "  'support': 398}}"
      ]
     },
     "execution_count": 30,
     "metadata": {},
     "output_type": "execute_result"
    }
   ],
   "source": [
    "svm_results_base"
   ]
  },
  {
   "cell_type": "code",
   "execution_count": 31,
   "id": "ad7124be",
   "metadata": {},
   "outputs": [
    {
     "name": "stdout",
     "output_type": "stream",
     "text": [
      "Fitting 5 folds for each of 42 candidates, totalling 210 fits\n"
     ]
    },
    {
     "data": {
      "text/plain": [
       "GridSearchCV(estimator=SVC(class_weight={0: 3.7, 1: 96.3}), n_jobs=-1,\n",
       "             param_grid=[{'C': array([1.e-03, 1.e-02, 1.e-01, 1.e+00, 1.e+01, 1.e+02]),\n",
       "                          'kernel': ['linear']},\n",
       "                         {'C': array([1.e-03, 1.e-02, 1.e-01, 1.e+00, 1.e+01, 1.e+02]),\n",
       "                          'gamma': array([1.e-03, 1.e-02, 1.e-01, 1.e+00, 1.e+01, 1.e+02]),\n",
       "                          'kernel': ['rbf']}],\n",
       "             verbose=2)"
      ]
     },
     "execution_count": 31,
     "metadata": {},
     "output_type": "execute_result"
    }
   ],
   "source": [
    "#Grid Search\n",
    "from sklearn.model_selection import GridSearchCV\n",
    "param_grid = [\n",
    "  {'C': np.logspace(-3, 2, 6), 'kernel': ['linear']},\n",
    "  {'C': np.logspace(-3, 2, 6), 'gamma': np.logspace(-3, 2, 6), 'kernel': ['rbf']},\n",
    " ]\n",
    "\n",
    "grid_search = GridSearchCV(svm, param_grid, n_jobs = -1, verbose = 2)\n",
    "grid_search.fit(tf_x_train, baseline_train[\"basic_sentiment\"])"
   ]
  },
  {
   "cell_type": "code",
   "execution_count": 32,
   "id": "02bd30bf",
   "metadata": {},
   "outputs": [
    {
     "name": "stdout",
     "output_type": "stream",
     "text": [
      "{'C': 0.001, 'gamma': 0.001, 'kernel': 'rbf'}\n"
     ]
    }
   ],
   "source": [
    "print(grid_search.best_params_)"
   ]
  },
  {
   "cell_type": "code",
   "execution_count": 33,
   "id": "9dc86365",
   "metadata": {},
   "outputs": [],
   "source": [
    "#Bestes Modell auf Testdaten anwenden und fitted values speichern\n",
    "model_svm = grid_search.best_estimator_\n",
    "y_fit_svm = model_svm.predict(tf_x_test)\n",
    "baseline_test[\"sentiment_svm\"] = y_fit_svm"
   ]
  },
  {
   "cell_type": "code",
   "execution_count": null,
   "id": "25ff5203",
   "metadata": {},
   "outputs": [],
   "source": [
    "#ergebnisse /modellgüte\n",
    "svm_results=classification_report(baseline_test[\"basic_sentiment\"], y_fit_svm,output_dict=True)"
   ]
  },
  {
   "cell_type": "code",
   "execution_count": 35,
   "id": "5a7a2425",
   "metadata": {},
   "outputs": [],
   "source": [
    "cm_svm = confusion_matrix(baseline_test[\"basic_sentiment\"], y_fit_svm)"
   ]
  },
  {
   "cell_type": "code",
   "execution_count": 36,
   "id": "1189f90c",
   "metadata": {},
   "outputs": [
    {
     "data": {
      "text/plain": [
       "[Text(0, 0.5, 'positive'), Text(0, 1.5, 'negative')]"
      ]
     },
     "execution_count": 36,
     "metadata": {},
     "output_type": "execute_result"
    },
    {
     "data": {
      "image/png": "[encoded data removed]",
      "text/plain": [
       "<Figure size 432x288 with 2 Axes>"
      ]
     },
     "metadata": {
      "needs_background": "light"
     },
     "output_type": "display_data"
    }
   ],
   "source": [
    "ax = sns.heatmap(cm_svm, annot=True, cmap = 'Blues')\n",
    "ax.set_title('Confusion matrix')\n",
    "ax.set_xlabel('Predicted values')\n",
    "ax.set_ylabel('Actual Values')\n",
    "ax.xaxis.set_ticklabels(['positive','negative'])\n",
    "ax.yaxis.set_ticklabels(['positive','negative'])"
   ]
  },
  {
   "cell_type": "code",
   "execution_count": 37,
   "id": "5ef6fd75",
   "metadata": {},
   "outputs": [
    {
     "data": {
      "text/plain": [
       "{'0.0': {'precision': 0.9623115577889447,\n",
       "  'recall': 1.0,\n",
       "  'f1-score': 0.9807938540332907,\n",
       "  'support': 383},\n",
       " '1.0': {'precision': 0.0, 'recall': 0.0, 'f1-score': 0.0, 'support': 15},\n",
       " 'accuracy': 0.9623115577889447,\n",
       " 'macro avg': {'precision': 0.48115577889447236,\n",
       "  'recall': 0.5,\n",
       "  'f1-score': 0.49039692701664533,\n",
       "  'support': 398},\n",
       " 'weighted avg': {'precision': 0.9260435342541855,\n",
       "  'recall': 0.9623115577889447,\n",
       "  'f1-score': 0.9438292615445988,\n",
       "  'support': 398}}"
      ]
     },
     "execution_count": 37,
     "metadata": {},
     "output_type": "execute_result"
    }
   ],
   "source": [
    "svm_results"
   ]
  },
  {
   "cell_type": "markdown",
   "id": "40f42326",
   "metadata": {},
   "source": [
    "   precision = tp / (tp + fp) </br>\n",
    "   recall / sensitivity = tp / (tp + fn) </br>\n",
    "   F1 = 2 * (precision * recall) / (precision + recall)"
   ]
  },
  {
   "cell_type": "code",
   "execution_count": 38,
   "id": "61403252",
   "metadata": {},
   "outputs": [],
   "source": [
    "#Random Forest\n",
    "from sklearn.ensemble import RandomForestClassifier\n",
    "#Base model\n",
    "rf = RandomForestClassifier(random_state = 42, class_weight={1:96.3, 0:3.7})"
   ]
  },
  {
   "cell_type": "code",
   "execution_count": 39,
   "id": "d6c4fd4e",
   "metadata": {},
   "outputs": [
    {
     "data": {
      "text/plain": [
       "RandomForestClassifier(class_weight={0: 3.7, 1: 96.3}, random_state=42)"
      ]
     },
     "execution_count": 39,
     "metadata": {},
     "output_type": "execute_result"
    }
   ],
   "source": [
    "#fit base model\n",
    "rf.fit(tf_x_train, baseline_train[\"basic_sentiment\"])"
   ]
  },
  {
   "cell_type": "code",
   "execution_count": 40,
   "id": "4af484e8",
   "metadata": {},
   "outputs": [],
   "source": [
    "#predictions\n",
    "y_fit_rf_base = rf.predict(tf_x_test)\n",
    "baseline_test[\"sentiment_rf\"] = y_fit_rf_base"
   ]
  },
  {
   "cell_type": "code",
   "execution_count": 41,
   "id": "14b8e25c",
   "metadata": {},
   "outputs": [],
   "source": [
    "#ergebnisse /modellgüte\n",
    "rf_results=classification_report(baseline_test[\"basic_sentiment\"], y_fit_rf_base,output_dict=True)"
   ]
  },
  {
   "cell_type": "code",
   "execution_count": 42,
   "id": "93f98155",
   "metadata": {},
   "outputs": [
    {
     "data": {
      "text/plain": [
       "{'0.0': {'precision': 0.96875,\n",
       "  'recall': 0.9712793733681462,\n",
       "  'f1-score': 0.9700130378096479,\n",
       "  'support': 383},\n",
       " '1.0': {'precision': 0.21428571428571427,\n",
       "  'recall': 0.2,\n",
       "  'f1-score': 0.20689655172413796,\n",
       "  'support': 15},\n",
       " 'accuracy': 0.9422110552763819,\n",
       " 'macro avg': {'precision': 0.5915178571428571,\n",
       "  'recall': 0.5856396866840731,\n",
       "  'f1-score': 0.5884547947668929,\n",
       "  'support': 398},\n",
       " 'weighted avg': {'precision': 0.9403154163675521,\n",
       "  'recall': 0.9422110552763819,\n",
       "  'f1-score': 0.9412523662235106,\n",
       "  'support': 398}}"
      ]
     },
     "execution_count": 42,
     "metadata": {},
     "output_type": "execute_result"
    }
   ],
   "source": [
    "rf_results"
   ]
  },
  {
   "cell_type": "markdown",
   "id": "4b653354",
   "metadata": {},
   "source": [
    "## Ergebnisse plotten"
   ]
  },
  {
   "cell_type": "markdown",
   "id": "40aff15c",
   "metadata": {},
   "source": [
    "kurzer Versuch, die Predictions zu aggregieren, daraus einen Sentiment Score für einen Tag zu berechnen und diesen zu plotten"
   ]
  },
  {
   "cell_type": "code",
   "execution_count": 43,
   "id": "ca6a9f7e",
   "metadata": {},
   "outputs": [],
   "source": [
    "baseline_test2 = baseline_test"
   ]
  },
  {
   "cell_type": "code",
   "execution_count": 44,
   "id": "607f7e0b",
   "metadata": {},
   "outputs": [],
   "source": [
    "baseline_test[\"basic_sentiment\"] = (np.where((baseline_test[\"basic_sentiment\"] == 0) ,0,1))"
   ]
  },
  {
   "cell_type": "code",
   "execution_count": 45,
   "id": "f83c4c06",
   "metadata": {},
   "outputs": [],
   "source": [
    "baseline_test[\"sentiment_svm\"] = (np.where((baseline_test[\"sentiment_svm_base\"] == 0),0,1))"
   ]
  },
  {
   "cell_type": "code",
   "execution_count": 46,
   "id": "708e7da3",
   "metadata": {},
   "outputs": [],
   "source": [
    "#function to create dummy variables and add them to the dataframe\n",
    "def dummies(dataframe, columns):\n",
    "    dummy_df = pd.get_dummies(data = dataframe, columns = columns, dtype = np.float64)\n",
    "    return dummy_df"
   ]
  },
  {
   "cell_type": "code",
   "execution_count": 47,
   "id": "6a5f53a0",
   "metadata": {},
   "outputs": [],
   "source": [
    "dummy_vars = ['basic_sentiment','sentiment_svm','v_sentiment']\n",
    "baseline_test = dummies(baseline_test, dummy_vars)"
   ]
  },
  {
   "cell_type": "code",
   "execution_count": 48,
   "id": "28d44d6f",
   "metadata": {},
   "outputs": [],
   "source": [
    "#aggregation\n",
    "sentiment_scores_test = baseline_test.groupby(\"date\").agg({'basic_sentiment_1': sum,\n",
    "                                                           'basic_sentiment_0': sum,\n",
    "                                                           'sentiment_svm_1': sum,\n",
    "                                                           'sentiment_svm_0':sum,\n",
    "                                                          'v_sentiment_0':sum,\n",
    "                                                          'v_sentiment_1':sum,\n",
    "                                                          'v_sentiment_-99':sum})                                          \n",
    "                                                           "
   ]
  },
  {
   "cell_type": "code",
   "execution_count": 49,
   "id": "34395ef5",
   "metadata": {},
   "outputs": [],
   "source": [
    "def sentiment_score(pos,neg):\n",
    "    avg_score = (pos - neg) / (pos + neg)\n",
    "    return avg_score"
   ]
  },
  {
   "cell_type": "code",
   "execution_count": 50,
   "id": "fc7a23ba",
   "metadata": {},
   "outputs": [],
   "source": [
    "def sentiment_vader(pos,neg,neutr):\n",
    "    avg_score = (pos - neg) / (pos + neg + neutr)\n",
    "    return avg_score"
   ]
  },
  {
   "cell_type": "code",
   "execution_count": 51,
   "id": "a3f7fda2",
   "metadata": {},
   "outputs": [],
   "source": [
    "sentiment_scores_test[\"basic\"] = sentiment_score(sentiment_scores_test[\"basic_sentiment_0\"], sentiment_scores_test[\"basic_sentiment_1\"])\n",
    "sentiment_scores_test[\"predicted\"] = sentiment_score(sentiment_scores_test[\"sentiment_svm_0\"], sentiment_scores_test[\"sentiment_svm_1\"])\n",
    "sentiment_scores_test[\"vader\"] = sentiment_vader(sentiment_scores_test[\"v_sentiment_0\"], sentiment_scores_test[\"v_sentiment_1\"], sentiment_scores_test[\"v_sentiment_-99\"])"
   ]
  },
  {
   "cell_type": "code",
   "execution_count": 52,
   "id": "45d1269c",
   "metadata": {},
   "outputs": [],
   "source": [
    "#create date variable from index\n",
    "sentiment_scores_test[\"date\"] = sentiment_scores_test.index"
   ]
  },
  {
   "cell_type": "code",
   "execution_count": 53,
   "id": "d5e53838",
   "metadata": {},
   "outputs": [],
   "source": [
    "sentiment_scores_test[\"date\"] = pd.to_datetime(sentiment_scores_test.date, format='%m/%d/%Y')"
   ]
  },
  {
   "cell_type": "code",
   "execution_count": 56,
   "id": "422ecb22",
   "metadata": {},
   "outputs": [],
   "source": [
    "#biontech aktienkurs\n",
    "from pandas_datareader.data import get_data_yahoo\n",
    "from datetime import datetime\n",
    "enddate = datetime(2021,12,31)\n",
    "startdate = datetime(2021,12,1)\n",
    "stock_data = get_data_yahoo('BNTX',startdate,enddate)"
   ]
  },
  {
   "cell_type": "code",
   "execution_count": 88,
   "id": "62b9e239",
   "metadata": {},
   "outputs": [],
   "source": [
    "stock_data[\"Date\"] = pd.to_datetime(stock_data.Date, format='%Y-%m-%d')"
   ]
  },
  {
   "cell_type": "code",
   "execution_count": 99,
   "id": "d244b517",
   "metadata": {},
   "outputs": [],
   "source": [
    "#skalieren, sodass Daten Werte zw. -1 und 1 annehmen (wie Sentinent Score)\n",
    "from sklearn.preprocessing import MaxAbsScaler\n",
    "scaler = MaxAbsScaler()\n",
    "stock_data[\"close_scaled\"] = scaler.fit_transform(stock_data[[\"Close\"]])\n",
    "stock_data[\"volume_scaled\"] = scaler.fit_transform(stock_data[[\"Volume\"]])"
   ]
  },
  {
   "cell_type": "code",
   "execution_count": 66,
   "id": "15d6172f",
   "metadata": {},
   "outputs": [],
   "source": [
    "#plotting\n",
    "import matplotlib.pyplot as plt\n",
    "from matplotlib.dates import DateFormatter\n",
    "import matplotlib.ticker as ticker\n",
    "%matplotlib inline"
   ]
  },
  {
   "cell_type": "code",
   "execution_count": 105,
   "id": "d4e9f9fd",
   "metadata": {},
   "outputs": [
    {
     "data": {
      "image/png": "[encoded data removed]",
      "text/plain": [
       "<Figure size 720x432 with 1 Axes>"
      ]
     },
     "metadata": {
      "needs_background": "light"
     },
     "output_type": "display_data"
    }
   ],
   "source": [
    "fig, ax = plt.subplots(figsize=(10, 6))\n",
    "ax.plot(stock_data[\"Date\"],stock_data[\"Close\"], label = 'Closing Price Biontech')\n",
    "ax.set_xlabel('Date')\n",
    "ax.set_ylabel('Volume')\n",
    "ax.set_title('Average Daily Sentiment Scores - Biontech')\n",
    "ax.grid(True)\n",
    "ax.legend(loc='upper left');\n",
    "\n",
    "#format date axis\n",
    "date_form = DateFormatter(\"%m/%d\")\n",
    "ax.xaxis.set_major_formatter(date_form)\n",
    "#change interval \n",
    "ax.xaxis.set_major_locator(ticker.AutoLocator())"
   ]
  },
  {
   "cell_type": "code",
   "execution_count": 106,
   "id": "63e455fb",
   "metadata": {},
   "outputs": [
    {
     "data": {
      "image/png": "[encoded data removed]",
      "text/plain": [
       "<Figure size 720x432 with 1 Axes>"
      ]
     },
     "metadata": {
      "needs_background": "light"
     },
     "output_type": "display_data"
    }
   ],
   "source": [
    "fig, ax = plt.subplots(figsize=(10, 6))\n",
    "ax.plot(sentiment_scores_test[\"date\"],sentiment_scores_test.basic, label = 'Basic Sentiment')\n",
    "ax.plot(sentiment_scores_test[\"date\"], sentiment_scores_test[\"predicted\"], label = 'Prediction')\n",
    "ax.set_xlabel('Date')\n",
    "ax.set_ylabel('Mean Sentiment Score')\n",
    "ax.set_title('Average Daily Sentiment Scores - Biontech')\n",
    "ax.grid(True)\n",
    "ax.legend(loc='lower left');\n",
    "\n",
    "#format date axis\n",
    "date_form = DateFormatter(\"%m/%d\")\n",
    "ax.xaxis.set_major_formatter(date_form)\n",
    "#change interval \n",
    "ax.xaxis.set_major_locator(ticker.AutoLocator())"
   ]
  },
  {
   "cell_type": "code",
   "execution_count": 107,
   "id": "08272f59",
   "metadata": {},
   "outputs": [
    {
     "data": {
      "image/png": "[encoded data removed]",
      "text/plain": [
       "<Figure size 720x432 with 1 Axes>"
      ]
     },
     "metadata": {
      "needs_background": "light"
     },
     "output_type": "display_data"
    }
   ],
   "source": [
    "#Zum Vergleich VADER\n",
    "fig, ax = plt.subplots(figsize=(10, 6))\n",
    "ax.plot(sentiment_scores_test[\"date\"],sentiment_scores_test.basic, label = 'Basic Sentiment')\n",
    "ax.plot(sentiment_scores_test[\"date\"], sentiment_scores_test[\"vader\"], label = 'Vader')\n",
    "ax.set_xlabel('Date')\n",
    "ax.set_ylabel('Mean Sentiment Score')\n",
    "ax.set_title('Average Daily Sentiment Scores - Biontech')\n",
    "ax.grid(True)\n",
    "ax.legend(loc='upper left');\n",
    "\n",
    "#format date axis\n",
    "date_form = DateFormatter(\"%m/%d\")\n",
    "ax.xaxis.set_major_formatter(date_form)\n",
    "#change interval \n",
    "ax.xaxis.set_major_locator(ticker.AutoLocator())"
   ]
  }
 ],
 "metadata": {
  "kernelspec": {
   "display_name": "Python 3 (ipykernel)",
   "language": "python",
   "name": "python3"
  },
  "language_info": {
   "codemirror_mode": {
    "name": "ipython",
    "version": 3
   },
   "file_extension": ".py",
   "mimetype": "text/x-python",
   "name": "python",
   "nbconvert_exporter": "python",
   "pygments_lexer": "ipython3",
   "version": "3.9.7"
  }
 },
 "nbformat": 4,
 "nbformat_minor": 5
}
